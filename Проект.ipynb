{
  "nbformat": 4,
  "nbformat_minor": 0,
  "metadata": {
    "colab": {
      "provenance": [],
      "collapsed_sections": [
        "C_RydZX-woSG"
      ]
    },
    "kernelspec": {
      "name": "python3",
      "display_name": "Python 3"
    },
    "language_info": {
      "name": "python"
    },
    "gpuClass": "standard",
    "widgets": {
      "application/vnd.jupyter.widget-state+json": {
        "8eb9955b02c14fb0ab49ae327a1da633": {
          "model_module": "@jupyter-widgets/controls",
          "model_name": "HBoxModel",
          "model_module_version": "1.5.0",
          "state": {
            "_dom_classes": [],
            "_model_module": "@jupyter-widgets/controls",
            "_model_module_version": "1.5.0",
            "_model_name": "HBoxModel",
            "_view_count": null,
            "_view_module": "@jupyter-widgets/controls",
            "_view_module_version": "1.5.0",
            "_view_name": "HBoxView",
            "box_style": "",
            "children": [
              "IPY_MODEL_a7d0fbed423d418d98b0878306975631",
              "IPY_MODEL_56b03a3b38f8481f8206f5db1977903e",
              "IPY_MODEL_49109922a9b04ef69cdaaea4504320fe"
            ],
            "layout": "IPY_MODEL_848c5d90545646eeaedb5f32cceda8b1"
          }
        },
        "a7d0fbed423d418d98b0878306975631": {
          "model_module": "@jupyter-widgets/controls",
          "model_name": "HTMLModel",
          "model_module_version": "1.5.0",
          "state": {
            "_dom_classes": [],
            "_model_module": "@jupyter-widgets/controls",
            "_model_module_version": "1.5.0",
            "_model_name": "HTMLModel",
            "_view_count": null,
            "_view_module": "@jupyter-widgets/controls",
            "_view_module_version": "1.5.0",
            "_view_name": "HTMLView",
            "description": "",
            "description_tooltip": null,
            "layout": "IPY_MODEL_6922996a454b4a61971f22a068a4960a",
            "placeholder": "​",
            "style": "IPY_MODEL_cfc3ac3b7fbe45b8ab55bef30e7e5bb7",
            "value": "Downloading https://raw.githubusercontent.com/stanfordnlp/stanza-resources/main/resources_1.4.1.json: "
          }
        },
        "56b03a3b38f8481f8206f5db1977903e": {
          "model_module": "@jupyter-widgets/controls",
          "model_name": "FloatProgressModel",
          "model_module_version": "1.5.0",
          "state": {
            "_dom_classes": [],
            "_model_module": "@jupyter-widgets/controls",
            "_model_module_version": "1.5.0",
            "_model_name": "FloatProgressModel",
            "_view_count": null,
            "_view_module": "@jupyter-widgets/controls",
            "_view_module_version": "1.5.0",
            "_view_name": "ProgressView",
            "bar_style": "success",
            "description": "",
            "description_tooltip": null,
            "layout": "IPY_MODEL_61de4c56845143ee89242a5510789b17",
            "max": 28918,
            "min": 0,
            "orientation": "horizontal",
            "style": "IPY_MODEL_1393e494c24a46ef82b99c3eafe58368",
            "value": 28918
          }
        },
        "49109922a9b04ef69cdaaea4504320fe": {
          "model_module": "@jupyter-widgets/controls",
          "model_name": "HTMLModel",
          "model_module_version": "1.5.0",
          "state": {
            "_dom_classes": [],
            "_model_module": "@jupyter-widgets/controls",
            "_model_module_version": "1.5.0",
            "_model_name": "HTMLModel",
            "_view_count": null,
            "_view_module": "@jupyter-widgets/controls",
            "_view_module_version": "1.5.0",
            "_view_name": "HTMLView",
            "description": "",
            "description_tooltip": null,
            "layout": "IPY_MODEL_f52817b9bcf44045a694f5bbda88fba2",
            "placeholder": "​",
            "style": "IPY_MODEL_e807341a3dcb4696b6e95784728f4a70",
            "value": " 193k/? [00:00&lt;00:00, 3.48MB/s]"
          }
        },
        "848c5d90545646eeaedb5f32cceda8b1": {
          "model_module": "@jupyter-widgets/base",
          "model_name": "LayoutModel",
          "model_module_version": "1.2.0",
          "state": {
            "_model_module": "@jupyter-widgets/base",
            "_model_module_version": "1.2.0",
            "_model_name": "LayoutModel",
            "_view_count": null,
            "_view_module": "@jupyter-widgets/base",
            "_view_module_version": "1.2.0",
            "_view_name": "LayoutView",
            "align_content": null,
            "align_items": null,
            "align_self": null,
            "border": null,
            "bottom": null,
            "display": null,
            "flex": null,
            "flex_flow": null,
            "grid_area": null,
            "grid_auto_columns": null,
            "grid_auto_flow": null,
            "grid_auto_rows": null,
            "grid_column": null,
            "grid_gap": null,
            "grid_row": null,
            "grid_template_areas": null,
            "grid_template_columns": null,
            "grid_template_rows": null,
            "height": null,
            "justify_content": null,
            "justify_items": null,
            "left": null,
            "margin": null,
            "max_height": null,
            "max_width": null,
            "min_height": null,
            "min_width": null,
            "object_fit": null,
            "object_position": null,
            "order": null,
            "overflow": null,
            "overflow_x": null,
            "overflow_y": null,
            "padding": null,
            "right": null,
            "top": null,
            "visibility": null,
            "width": null
          }
        },
        "6922996a454b4a61971f22a068a4960a": {
          "model_module": "@jupyter-widgets/base",
          "model_name": "LayoutModel",
          "model_module_version": "1.2.0",
          "state": {
            "_model_module": "@jupyter-widgets/base",
            "_model_module_version": "1.2.0",
            "_model_name": "LayoutModel",
            "_view_count": null,
            "_view_module": "@jupyter-widgets/base",
            "_view_module_version": "1.2.0",
            "_view_name": "LayoutView",
            "align_content": null,
            "align_items": null,
            "align_self": null,
            "border": null,
            "bottom": null,
            "display": null,
            "flex": null,
            "flex_flow": null,
            "grid_area": null,
            "grid_auto_columns": null,
            "grid_auto_flow": null,
            "grid_auto_rows": null,
            "grid_column": null,
            "grid_gap": null,
            "grid_row": null,
            "grid_template_areas": null,
            "grid_template_columns": null,
            "grid_template_rows": null,
            "height": null,
            "justify_content": null,
            "justify_items": null,
            "left": null,
            "margin": null,
            "max_height": null,
            "max_width": null,
            "min_height": null,
            "min_width": null,
            "object_fit": null,
            "object_position": null,
            "order": null,
            "overflow": null,
            "overflow_x": null,
            "overflow_y": null,
            "padding": null,
            "right": null,
            "top": null,
            "visibility": null,
            "width": null
          }
        },
        "cfc3ac3b7fbe45b8ab55bef30e7e5bb7": {
          "model_module": "@jupyter-widgets/controls",
          "model_name": "DescriptionStyleModel",
          "model_module_version": "1.5.0",
          "state": {
            "_model_module": "@jupyter-widgets/controls",
            "_model_module_version": "1.5.0",
            "_model_name": "DescriptionStyleModel",
            "_view_count": null,
            "_view_module": "@jupyter-widgets/base",
            "_view_module_version": "1.2.0",
            "_view_name": "StyleView",
            "description_width": ""
          }
        },
        "61de4c56845143ee89242a5510789b17": {
          "model_module": "@jupyter-widgets/base",
          "model_name": "LayoutModel",
          "model_module_version": "1.2.0",
          "state": {
            "_model_module": "@jupyter-widgets/base",
            "_model_module_version": "1.2.0",
            "_model_name": "LayoutModel",
            "_view_count": null,
            "_view_module": "@jupyter-widgets/base",
            "_view_module_version": "1.2.0",
            "_view_name": "LayoutView",
            "align_content": null,
            "align_items": null,
            "align_self": null,
            "border": null,
            "bottom": null,
            "display": null,
            "flex": null,
            "flex_flow": null,
            "grid_area": null,
            "grid_auto_columns": null,
            "grid_auto_flow": null,
            "grid_auto_rows": null,
            "grid_column": null,
            "grid_gap": null,
            "grid_row": null,
            "grid_template_areas": null,
            "grid_template_columns": null,
            "grid_template_rows": null,
            "height": null,
            "justify_content": null,
            "justify_items": null,
            "left": null,
            "margin": null,
            "max_height": null,
            "max_width": null,
            "min_height": null,
            "min_width": null,
            "object_fit": null,
            "object_position": null,
            "order": null,
            "overflow": null,
            "overflow_x": null,
            "overflow_y": null,
            "padding": null,
            "right": null,
            "top": null,
            "visibility": null,
            "width": null
          }
        },
        "1393e494c24a46ef82b99c3eafe58368": {
          "model_module": "@jupyter-widgets/controls",
          "model_name": "ProgressStyleModel",
          "model_module_version": "1.5.0",
          "state": {
            "_model_module": "@jupyter-widgets/controls",
            "_model_module_version": "1.5.0",
            "_model_name": "ProgressStyleModel",
            "_view_count": null,
            "_view_module": "@jupyter-widgets/base",
            "_view_module_version": "1.2.0",
            "_view_name": "StyleView",
            "bar_color": null,
            "description_width": ""
          }
        },
        "f52817b9bcf44045a694f5bbda88fba2": {
          "model_module": "@jupyter-widgets/base",
          "model_name": "LayoutModel",
          "model_module_version": "1.2.0",
          "state": {
            "_model_module": "@jupyter-widgets/base",
            "_model_module_version": "1.2.0",
            "_model_name": "LayoutModel",
            "_view_count": null,
            "_view_module": "@jupyter-widgets/base",
            "_view_module_version": "1.2.0",
            "_view_name": "LayoutView",
            "align_content": null,
            "align_items": null,
            "align_self": null,
            "border": null,
            "bottom": null,
            "display": null,
            "flex": null,
            "flex_flow": null,
            "grid_area": null,
            "grid_auto_columns": null,
            "grid_auto_flow": null,
            "grid_auto_rows": null,
            "grid_column": null,
            "grid_gap": null,
            "grid_row": null,
            "grid_template_areas": null,
            "grid_template_columns": null,
            "grid_template_rows": null,
            "height": null,
            "justify_content": null,
            "justify_items": null,
            "left": null,
            "margin": null,
            "max_height": null,
            "max_width": null,
            "min_height": null,
            "min_width": null,
            "object_fit": null,
            "object_position": null,
            "order": null,
            "overflow": null,
            "overflow_x": null,
            "overflow_y": null,
            "padding": null,
            "right": null,
            "top": null,
            "visibility": null,
            "width": null
          }
        },
        "e807341a3dcb4696b6e95784728f4a70": {
          "model_module": "@jupyter-widgets/controls",
          "model_name": "DescriptionStyleModel",
          "model_module_version": "1.5.0",
          "state": {
            "_model_module": "@jupyter-widgets/controls",
            "_model_module_version": "1.5.0",
            "_model_name": "DescriptionStyleModel",
            "_view_count": null,
            "_view_module": "@jupyter-widgets/base",
            "_view_module_version": "1.2.0",
            "_view_name": "StyleView",
            "description_width": ""
          }
        },
        "6f393b37894c4d4ebb30a8df07314cf3": {
          "model_module": "@jupyter-widgets/controls",
          "model_name": "HBoxModel",
          "model_module_version": "1.5.0",
          "state": {
            "_dom_classes": [],
            "_model_module": "@jupyter-widgets/controls",
            "_model_module_version": "1.5.0",
            "_model_name": "HBoxModel",
            "_view_count": null,
            "_view_module": "@jupyter-widgets/controls",
            "_view_module_version": "1.5.0",
            "_view_name": "HBoxView",
            "box_style": "",
            "children": [
              "IPY_MODEL_09f5914140124e56a4ab89661fa9a35a",
              "IPY_MODEL_fa076292c61c4c8a93f4bf861d5cac8c",
              "IPY_MODEL_85002ed7c32946b68936bea6f811baf4"
            ],
            "layout": "IPY_MODEL_bc92e76149424f089c49c55a26dc3198"
          }
        },
        "09f5914140124e56a4ab89661fa9a35a": {
          "model_module": "@jupyter-widgets/controls",
          "model_name": "HTMLModel",
          "model_module_version": "1.5.0",
          "state": {
            "_dom_classes": [],
            "_model_module": "@jupyter-widgets/controls",
            "_model_module_version": "1.5.0",
            "_model_name": "HTMLModel",
            "_view_count": null,
            "_view_module": "@jupyter-widgets/controls",
            "_view_module_version": "1.5.0",
            "_view_name": "HTMLView",
            "description": "",
            "description_tooltip": null,
            "layout": "IPY_MODEL_9d6974045c66495690d428573ab28e2e",
            "placeholder": "​",
            "style": "IPY_MODEL_b5a602340cff45509ffab6f7db6910b7",
            "value": "Downloading https://huggingface.co/stanfordnlp/stanza-ru/resolve/v1.4.1/models/default.zip: 100%"
          }
        },
        "fa076292c61c4c8a93f4bf861d5cac8c": {
          "model_module": "@jupyter-widgets/controls",
          "model_name": "FloatProgressModel",
          "model_module_version": "1.5.0",
          "state": {
            "_dom_classes": [],
            "_model_module": "@jupyter-widgets/controls",
            "_model_module_version": "1.5.0",
            "_model_name": "FloatProgressModel",
            "_view_count": null,
            "_view_module": "@jupyter-widgets/controls",
            "_view_module_version": "1.5.0",
            "_view_name": "ProgressView",
            "bar_style": "success",
            "description": "",
            "description_tooltip": null,
            "layout": "IPY_MODEL_2d1432c6d46a46a9ac3c4acdd11e6022",
            "max": 597217093,
            "min": 0,
            "orientation": "horizontal",
            "style": "IPY_MODEL_1ec072883cea4c498147ae6ca42e8cc0",
            "value": 597217093
          }
        },
        "85002ed7c32946b68936bea6f811baf4": {
          "model_module": "@jupyter-widgets/controls",
          "model_name": "HTMLModel",
          "model_module_version": "1.5.0",
          "state": {
            "_dom_classes": [],
            "_model_module": "@jupyter-widgets/controls",
            "_model_module_version": "1.5.0",
            "_model_name": "HTMLModel",
            "_view_count": null,
            "_view_module": "@jupyter-widgets/controls",
            "_view_module_version": "1.5.0",
            "_view_name": "HTMLView",
            "description": "",
            "description_tooltip": null,
            "layout": "IPY_MODEL_4bbddaa32f664fceb3a3874a8aefbab8",
            "placeholder": "​",
            "style": "IPY_MODEL_8d74c26152184d83a680c993f4751b88",
            "value": " 597M/597M [00:10&lt;00:00, 50.0MB/s]"
          }
        },
        "bc92e76149424f089c49c55a26dc3198": {
          "model_module": "@jupyter-widgets/base",
          "model_name": "LayoutModel",
          "model_module_version": "1.2.0",
          "state": {
            "_model_module": "@jupyter-widgets/base",
            "_model_module_version": "1.2.0",
            "_model_name": "LayoutModel",
            "_view_count": null,
            "_view_module": "@jupyter-widgets/base",
            "_view_module_version": "1.2.0",
            "_view_name": "LayoutView",
            "align_content": null,
            "align_items": null,
            "align_self": null,
            "border": null,
            "bottom": null,
            "display": null,
            "flex": null,
            "flex_flow": null,
            "grid_area": null,
            "grid_auto_columns": null,
            "grid_auto_flow": null,
            "grid_auto_rows": null,
            "grid_column": null,
            "grid_gap": null,
            "grid_row": null,
            "grid_template_areas": null,
            "grid_template_columns": null,
            "grid_template_rows": null,
            "height": null,
            "justify_content": null,
            "justify_items": null,
            "left": null,
            "margin": null,
            "max_height": null,
            "max_width": null,
            "min_height": null,
            "min_width": null,
            "object_fit": null,
            "object_position": null,
            "order": null,
            "overflow": null,
            "overflow_x": null,
            "overflow_y": null,
            "padding": null,
            "right": null,
            "top": null,
            "visibility": null,
            "width": null
          }
        },
        "9d6974045c66495690d428573ab28e2e": {
          "model_module": "@jupyter-widgets/base",
          "model_name": "LayoutModel",
          "model_module_version": "1.2.0",
          "state": {
            "_model_module": "@jupyter-widgets/base",
            "_model_module_version": "1.2.0",
            "_model_name": "LayoutModel",
            "_view_count": null,
            "_view_module": "@jupyter-widgets/base",
            "_view_module_version": "1.2.0",
            "_view_name": "LayoutView",
            "align_content": null,
            "align_items": null,
            "align_self": null,
            "border": null,
            "bottom": null,
            "display": null,
            "flex": null,
            "flex_flow": null,
            "grid_area": null,
            "grid_auto_columns": null,
            "grid_auto_flow": null,
            "grid_auto_rows": null,
            "grid_column": null,
            "grid_gap": null,
            "grid_row": null,
            "grid_template_areas": null,
            "grid_template_columns": null,
            "grid_template_rows": null,
            "height": null,
            "justify_content": null,
            "justify_items": null,
            "left": null,
            "margin": null,
            "max_height": null,
            "max_width": null,
            "min_height": null,
            "min_width": null,
            "object_fit": null,
            "object_position": null,
            "order": null,
            "overflow": null,
            "overflow_x": null,
            "overflow_y": null,
            "padding": null,
            "right": null,
            "top": null,
            "visibility": null,
            "width": null
          }
        },
        "b5a602340cff45509ffab6f7db6910b7": {
          "model_module": "@jupyter-widgets/controls",
          "model_name": "DescriptionStyleModel",
          "model_module_version": "1.5.0",
          "state": {
            "_model_module": "@jupyter-widgets/controls",
            "_model_module_version": "1.5.0",
            "_model_name": "DescriptionStyleModel",
            "_view_count": null,
            "_view_module": "@jupyter-widgets/base",
            "_view_module_version": "1.2.0",
            "_view_name": "StyleView",
            "description_width": ""
          }
        },
        "2d1432c6d46a46a9ac3c4acdd11e6022": {
          "model_module": "@jupyter-widgets/base",
          "model_name": "LayoutModel",
          "model_module_version": "1.2.0",
          "state": {
            "_model_module": "@jupyter-widgets/base",
            "_model_module_version": "1.2.0",
            "_model_name": "LayoutModel",
            "_view_count": null,
            "_view_module": "@jupyter-widgets/base",
            "_view_module_version": "1.2.0",
            "_view_name": "LayoutView",
            "align_content": null,
            "align_items": null,
            "align_self": null,
            "border": null,
            "bottom": null,
            "display": null,
            "flex": null,
            "flex_flow": null,
            "grid_area": null,
            "grid_auto_columns": null,
            "grid_auto_flow": null,
            "grid_auto_rows": null,
            "grid_column": null,
            "grid_gap": null,
            "grid_row": null,
            "grid_template_areas": null,
            "grid_template_columns": null,
            "grid_template_rows": null,
            "height": null,
            "justify_content": null,
            "justify_items": null,
            "left": null,
            "margin": null,
            "max_height": null,
            "max_width": null,
            "min_height": null,
            "min_width": null,
            "object_fit": null,
            "object_position": null,
            "order": null,
            "overflow": null,
            "overflow_x": null,
            "overflow_y": null,
            "padding": null,
            "right": null,
            "top": null,
            "visibility": null,
            "width": null
          }
        },
        "1ec072883cea4c498147ae6ca42e8cc0": {
          "model_module": "@jupyter-widgets/controls",
          "model_name": "ProgressStyleModel",
          "model_module_version": "1.5.0",
          "state": {
            "_model_module": "@jupyter-widgets/controls",
            "_model_module_version": "1.5.0",
            "_model_name": "ProgressStyleModel",
            "_view_count": null,
            "_view_module": "@jupyter-widgets/base",
            "_view_module_version": "1.2.0",
            "_view_name": "StyleView",
            "bar_color": null,
            "description_width": ""
          }
        },
        "4bbddaa32f664fceb3a3874a8aefbab8": {
          "model_module": "@jupyter-widgets/base",
          "model_name": "LayoutModel",
          "model_module_version": "1.2.0",
          "state": {
            "_model_module": "@jupyter-widgets/base",
            "_model_module_version": "1.2.0",
            "_model_name": "LayoutModel",
            "_view_count": null,
            "_view_module": "@jupyter-widgets/base",
            "_view_module_version": "1.2.0",
            "_view_name": "LayoutView",
            "align_content": null,
            "align_items": null,
            "align_self": null,
            "border": null,
            "bottom": null,
            "display": null,
            "flex": null,
            "flex_flow": null,
            "grid_area": null,
            "grid_auto_columns": null,
            "grid_auto_flow": null,
            "grid_auto_rows": null,
            "grid_column": null,
            "grid_gap": null,
            "grid_row": null,
            "grid_template_areas": null,
            "grid_template_columns": null,
            "grid_template_rows": null,
            "height": null,
            "justify_content": null,
            "justify_items": null,
            "left": null,
            "margin": null,
            "max_height": null,
            "max_width": null,
            "min_height": null,
            "min_width": null,
            "object_fit": null,
            "object_position": null,
            "order": null,
            "overflow": null,
            "overflow_x": null,
            "overflow_y": null,
            "padding": null,
            "right": null,
            "top": null,
            "visibility": null,
            "width": null
          }
        },
        "8d74c26152184d83a680c993f4751b88": {
          "model_module": "@jupyter-widgets/controls",
          "model_name": "DescriptionStyleModel",
          "model_module_version": "1.5.0",
          "state": {
            "_model_module": "@jupyter-widgets/controls",
            "_model_module_version": "1.5.0",
            "_model_name": "DescriptionStyleModel",
            "_view_count": null,
            "_view_module": "@jupyter-widgets/base",
            "_view_module_version": "1.2.0",
            "_view_name": "StyleView",
            "description_width": ""
          }
        },
        "d93b4f2a3bbc41c886dcceb31925ddf4": {
          "model_module": "@jupyter-widgets/controls",
          "model_name": "HBoxModel",
          "model_module_version": "1.5.0",
          "state": {
            "_dom_classes": [],
            "_model_module": "@jupyter-widgets/controls",
            "_model_module_version": "1.5.0",
            "_model_name": "HBoxModel",
            "_view_count": null,
            "_view_module": "@jupyter-widgets/controls",
            "_view_module_version": "1.5.0",
            "_view_name": "HBoxView",
            "box_style": "",
            "children": [
              "IPY_MODEL_110941280ead41e280900b8ba3a6e14b",
              "IPY_MODEL_aee6b8b95d014e9b9d107862cb546ee3",
              "IPY_MODEL_19468be06dd3450e97991d584ad3205f"
            ],
            "layout": "IPY_MODEL_0c19f392d6cd48a4a8f0addaaa2ecb07"
          }
        },
        "110941280ead41e280900b8ba3a6e14b": {
          "model_module": "@jupyter-widgets/controls",
          "model_name": "HTMLModel",
          "model_module_version": "1.5.0",
          "state": {
            "_dom_classes": [],
            "_model_module": "@jupyter-widgets/controls",
            "_model_module_version": "1.5.0",
            "_model_name": "HTMLModel",
            "_view_count": null,
            "_view_module": "@jupyter-widgets/controls",
            "_view_module_version": "1.5.0",
            "_view_name": "HTMLView",
            "description": "",
            "description_tooltip": null,
            "layout": "IPY_MODEL_437fcc640895421ab175aa14f5fdb755",
            "placeholder": "​",
            "style": "IPY_MODEL_d54a98ad0d6541d4a1da397b2c063032",
            "value": "Downloading https://raw.githubusercontent.com/stanfordnlp/stanza-resources/main/resources_1.4.1.json: "
          }
        },
        "aee6b8b95d014e9b9d107862cb546ee3": {
          "model_module": "@jupyter-widgets/controls",
          "model_name": "FloatProgressModel",
          "model_module_version": "1.5.0",
          "state": {
            "_dom_classes": [],
            "_model_module": "@jupyter-widgets/controls",
            "_model_module_version": "1.5.0",
            "_model_name": "FloatProgressModel",
            "_view_count": null,
            "_view_module": "@jupyter-widgets/controls",
            "_view_module_version": "1.5.0",
            "_view_name": "ProgressView",
            "bar_style": "success",
            "description": "",
            "description_tooltip": null,
            "layout": "IPY_MODEL_e649162288954eeda275de6ee62a5bc7",
            "max": 28918,
            "min": 0,
            "orientation": "horizontal",
            "style": "IPY_MODEL_5b9b8b5934f44fd29736272cd80df6af",
            "value": 28918
          }
        },
        "19468be06dd3450e97991d584ad3205f": {
          "model_module": "@jupyter-widgets/controls",
          "model_name": "HTMLModel",
          "model_module_version": "1.5.0",
          "state": {
            "_dom_classes": [],
            "_model_module": "@jupyter-widgets/controls",
            "_model_module_version": "1.5.0",
            "_model_name": "HTMLModel",
            "_view_count": null,
            "_view_module": "@jupyter-widgets/controls",
            "_view_module_version": "1.5.0",
            "_view_name": "HTMLView",
            "description": "",
            "description_tooltip": null,
            "layout": "IPY_MODEL_f214f58439c54dedadf2f6d7b9085348",
            "placeholder": "​",
            "style": "IPY_MODEL_a16e4d067eed4271a1054558c0e05153",
            "value": " 193k/? [00:00&lt;00:00, 7.56MB/s]"
          }
        },
        "0c19f392d6cd48a4a8f0addaaa2ecb07": {
          "model_module": "@jupyter-widgets/base",
          "model_name": "LayoutModel",
          "model_module_version": "1.2.0",
          "state": {
            "_model_module": "@jupyter-widgets/base",
            "_model_module_version": "1.2.0",
            "_model_name": "LayoutModel",
            "_view_count": null,
            "_view_module": "@jupyter-widgets/base",
            "_view_module_version": "1.2.0",
            "_view_name": "LayoutView",
            "align_content": null,
            "align_items": null,
            "align_self": null,
            "border": null,
            "bottom": null,
            "display": null,
            "flex": null,
            "flex_flow": null,
            "grid_area": null,
            "grid_auto_columns": null,
            "grid_auto_flow": null,
            "grid_auto_rows": null,
            "grid_column": null,
            "grid_gap": null,
            "grid_row": null,
            "grid_template_areas": null,
            "grid_template_columns": null,
            "grid_template_rows": null,
            "height": null,
            "justify_content": null,
            "justify_items": null,
            "left": null,
            "margin": null,
            "max_height": null,
            "max_width": null,
            "min_height": null,
            "min_width": null,
            "object_fit": null,
            "object_position": null,
            "order": null,
            "overflow": null,
            "overflow_x": null,
            "overflow_y": null,
            "padding": null,
            "right": null,
            "top": null,
            "visibility": null,
            "width": null
          }
        },
        "437fcc640895421ab175aa14f5fdb755": {
          "model_module": "@jupyter-widgets/base",
          "model_name": "LayoutModel",
          "model_module_version": "1.2.0",
          "state": {
            "_model_module": "@jupyter-widgets/base",
            "_model_module_version": "1.2.0",
            "_model_name": "LayoutModel",
            "_view_count": null,
            "_view_module": "@jupyter-widgets/base",
            "_view_module_version": "1.2.0",
            "_view_name": "LayoutView",
            "align_content": null,
            "align_items": null,
            "align_self": null,
            "border": null,
            "bottom": null,
            "display": null,
            "flex": null,
            "flex_flow": null,
            "grid_area": null,
            "grid_auto_columns": null,
            "grid_auto_flow": null,
            "grid_auto_rows": null,
            "grid_column": null,
            "grid_gap": null,
            "grid_row": null,
            "grid_template_areas": null,
            "grid_template_columns": null,
            "grid_template_rows": null,
            "height": null,
            "justify_content": null,
            "justify_items": null,
            "left": null,
            "margin": null,
            "max_height": null,
            "max_width": null,
            "min_height": null,
            "min_width": null,
            "object_fit": null,
            "object_position": null,
            "order": null,
            "overflow": null,
            "overflow_x": null,
            "overflow_y": null,
            "padding": null,
            "right": null,
            "top": null,
            "visibility": null,
            "width": null
          }
        },
        "d54a98ad0d6541d4a1da397b2c063032": {
          "model_module": "@jupyter-widgets/controls",
          "model_name": "DescriptionStyleModel",
          "model_module_version": "1.5.0",
          "state": {
            "_model_module": "@jupyter-widgets/controls",
            "_model_module_version": "1.5.0",
            "_model_name": "DescriptionStyleModel",
            "_view_count": null,
            "_view_module": "@jupyter-widgets/base",
            "_view_module_version": "1.2.0",
            "_view_name": "StyleView",
            "description_width": ""
          }
        },
        "e649162288954eeda275de6ee62a5bc7": {
          "model_module": "@jupyter-widgets/base",
          "model_name": "LayoutModel",
          "model_module_version": "1.2.0",
          "state": {
            "_model_module": "@jupyter-widgets/base",
            "_model_module_version": "1.2.0",
            "_model_name": "LayoutModel",
            "_view_count": null,
            "_view_module": "@jupyter-widgets/base",
            "_view_module_version": "1.2.0",
            "_view_name": "LayoutView",
            "align_content": null,
            "align_items": null,
            "align_self": null,
            "border": null,
            "bottom": null,
            "display": null,
            "flex": null,
            "flex_flow": null,
            "grid_area": null,
            "grid_auto_columns": null,
            "grid_auto_flow": null,
            "grid_auto_rows": null,
            "grid_column": null,
            "grid_gap": null,
            "grid_row": null,
            "grid_template_areas": null,
            "grid_template_columns": null,
            "grid_template_rows": null,
            "height": null,
            "justify_content": null,
            "justify_items": null,
            "left": null,
            "margin": null,
            "max_height": null,
            "max_width": null,
            "min_height": null,
            "min_width": null,
            "object_fit": null,
            "object_position": null,
            "order": null,
            "overflow": null,
            "overflow_x": null,
            "overflow_y": null,
            "padding": null,
            "right": null,
            "top": null,
            "visibility": null,
            "width": null
          }
        },
        "5b9b8b5934f44fd29736272cd80df6af": {
          "model_module": "@jupyter-widgets/controls",
          "model_name": "ProgressStyleModel",
          "model_module_version": "1.5.0",
          "state": {
            "_model_module": "@jupyter-widgets/controls",
            "_model_module_version": "1.5.0",
            "_model_name": "ProgressStyleModel",
            "_view_count": null,
            "_view_module": "@jupyter-widgets/base",
            "_view_module_version": "1.2.0",
            "_view_name": "StyleView",
            "bar_color": null,
            "description_width": ""
          }
        },
        "f214f58439c54dedadf2f6d7b9085348": {
          "model_module": "@jupyter-widgets/base",
          "model_name": "LayoutModel",
          "model_module_version": "1.2.0",
          "state": {
            "_model_module": "@jupyter-widgets/base",
            "_model_module_version": "1.2.0",
            "_model_name": "LayoutModel",
            "_view_count": null,
            "_view_module": "@jupyter-widgets/base",
            "_view_module_version": "1.2.0",
            "_view_name": "LayoutView",
            "align_content": null,
            "align_items": null,
            "align_self": null,
            "border": null,
            "bottom": null,
            "display": null,
            "flex": null,
            "flex_flow": null,
            "grid_area": null,
            "grid_auto_columns": null,
            "grid_auto_flow": null,
            "grid_auto_rows": null,
            "grid_column": null,
            "grid_gap": null,
            "grid_row": null,
            "grid_template_areas": null,
            "grid_template_columns": null,
            "grid_template_rows": null,
            "height": null,
            "justify_content": null,
            "justify_items": null,
            "left": null,
            "margin": null,
            "max_height": null,
            "max_width": null,
            "min_height": null,
            "min_width": null,
            "object_fit": null,
            "object_position": null,
            "order": null,
            "overflow": null,
            "overflow_x": null,
            "overflow_y": null,
            "padding": null,
            "right": null,
            "top": null,
            "visibility": null,
            "width": null
          }
        },
        "a16e4d067eed4271a1054558c0e05153": {
          "model_module": "@jupyter-widgets/controls",
          "model_name": "DescriptionStyleModel",
          "model_module_version": "1.5.0",
          "state": {
            "_model_module": "@jupyter-widgets/controls",
            "_model_module_version": "1.5.0",
            "_model_name": "DescriptionStyleModel",
            "_view_count": null,
            "_view_module": "@jupyter-widgets/base",
            "_view_module_version": "1.2.0",
            "_view_name": "StyleView",
            "description_width": ""
          }
        },
        "fefd1645975444edaa8af2e52fcfcc6f": {
          "model_module": "@jupyter-widgets/controls",
          "model_name": "HBoxModel",
          "model_module_version": "1.5.0",
          "state": {
            "_dom_classes": [],
            "_model_module": "@jupyter-widgets/controls",
            "_model_module_version": "1.5.0",
            "_model_name": "HBoxModel",
            "_view_count": null,
            "_view_module": "@jupyter-widgets/controls",
            "_view_module_version": "1.5.0",
            "_view_name": "HBoxView",
            "box_style": "",
            "children": [
              "IPY_MODEL_ace4d11a9be84c6f8d43e10dcfb143ae",
              "IPY_MODEL_99a4ac3f4dd84a7e95b2c1a14d0d61bc",
              "IPY_MODEL_01e6d7bae6a244e093f4ae5621d4b3f0"
            ],
            "layout": "IPY_MODEL_d9c1595477d24288bb5576125f1544c0"
          }
        },
        "ace4d11a9be84c6f8d43e10dcfb143ae": {
          "model_module": "@jupyter-widgets/controls",
          "model_name": "HTMLModel",
          "model_module_version": "1.5.0",
          "state": {
            "_dom_classes": [],
            "_model_module": "@jupyter-widgets/controls",
            "_model_module_version": "1.5.0",
            "_model_name": "HTMLModel",
            "_view_count": null,
            "_view_module": "@jupyter-widgets/controls",
            "_view_module_version": "1.5.0",
            "_view_name": "HTMLView",
            "description": "",
            "description_tooltip": null,
            "layout": "IPY_MODEL_461c540203b1441e98bd03d794975c67",
            "placeholder": "​",
            "style": "IPY_MODEL_9b8d1c6bf36e4deda8f9a4f3c9cb2aaf",
            "value": "100%"
          }
        },
        "99a4ac3f4dd84a7e95b2c1a14d0d61bc": {
          "model_module": "@jupyter-widgets/controls",
          "model_name": "FloatProgressModel",
          "model_module_version": "1.5.0",
          "state": {
            "_dom_classes": [],
            "_model_module": "@jupyter-widgets/controls",
            "_model_module_version": "1.5.0",
            "_model_name": "FloatProgressModel",
            "_view_count": null,
            "_view_module": "@jupyter-widgets/controls",
            "_view_module_version": "1.5.0",
            "_view_name": "ProgressView",
            "bar_style": "success",
            "description": "",
            "description_tooltip": null,
            "layout": "IPY_MODEL_4f6eb615b3e24192aa0f8e226b295872",
            "max": 213,
            "min": 0,
            "orientation": "horizontal",
            "style": "IPY_MODEL_40e280b8fb5e42e3a69f719ee78348af",
            "value": 213
          }
        },
        "01e6d7bae6a244e093f4ae5621d4b3f0": {
          "model_module": "@jupyter-widgets/controls",
          "model_name": "HTMLModel",
          "model_module_version": "1.5.0",
          "state": {
            "_dom_classes": [],
            "_model_module": "@jupyter-widgets/controls",
            "_model_module_version": "1.5.0",
            "_model_name": "HTMLModel",
            "_view_count": null,
            "_view_module": "@jupyter-widgets/controls",
            "_view_module_version": "1.5.0",
            "_view_name": "HTMLView",
            "description": "",
            "description_tooltip": null,
            "layout": "IPY_MODEL_26eef545c7244419bdc1829f3e5f41d4",
            "placeholder": "​",
            "style": "IPY_MODEL_1405ac0b400f4acba44b64d13c15cf5d",
            "value": " 213/213 [01:17&lt;00:00,  3.40it/s]"
          }
        },
        "d9c1595477d24288bb5576125f1544c0": {
          "model_module": "@jupyter-widgets/base",
          "model_name": "LayoutModel",
          "model_module_version": "1.2.0",
          "state": {
            "_model_module": "@jupyter-widgets/base",
            "_model_module_version": "1.2.0",
            "_model_name": "LayoutModel",
            "_view_count": null,
            "_view_module": "@jupyter-widgets/base",
            "_view_module_version": "1.2.0",
            "_view_name": "LayoutView",
            "align_content": null,
            "align_items": null,
            "align_self": null,
            "border": null,
            "bottom": null,
            "display": null,
            "flex": null,
            "flex_flow": null,
            "grid_area": null,
            "grid_auto_columns": null,
            "grid_auto_flow": null,
            "grid_auto_rows": null,
            "grid_column": null,
            "grid_gap": null,
            "grid_row": null,
            "grid_template_areas": null,
            "grid_template_columns": null,
            "grid_template_rows": null,
            "height": null,
            "justify_content": null,
            "justify_items": null,
            "left": null,
            "margin": null,
            "max_height": null,
            "max_width": null,
            "min_height": null,
            "min_width": null,
            "object_fit": null,
            "object_position": null,
            "order": null,
            "overflow": null,
            "overflow_x": null,
            "overflow_y": null,
            "padding": null,
            "right": null,
            "top": null,
            "visibility": null,
            "width": null
          }
        },
        "461c540203b1441e98bd03d794975c67": {
          "model_module": "@jupyter-widgets/base",
          "model_name": "LayoutModel",
          "model_module_version": "1.2.0",
          "state": {
            "_model_module": "@jupyter-widgets/base",
            "_model_module_version": "1.2.0",
            "_model_name": "LayoutModel",
            "_view_count": null,
            "_view_module": "@jupyter-widgets/base",
            "_view_module_version": "1.2.0",
            "_view_name": "LayoutView",
            "align_content": null,
            "align_items": null,
            "align_self": null,
            "border": null,
            "bottom": null,
            "display": null,
            "flex": null,
            "flex_flow": null,
            "grid_area": null,
            "grid_auto_columns": null,
            "grid_auto_flow": null,
            "grid_auto_rows": null,
            "grid_column": null,
            "grid_gap": null,
            "grid_row": null,
            "grid_template_areas": null,
            "grid_template_columns": null,
            "grid_template_rows": null,
            "height": null,
            "justify_content": null,
            "justify_items": null,
            "left": null,
            "margin": null,
            "max_height": null,
            "max_width": null,
            "min_height": null,
            "min_width": null,
            "object_fit": null,
            "object_position": null,
            "order": null,
            "overflow": null,
            "overflow_x": null,
            "overflow_y": null,
            "padding": null,
            "right": null,
            "top": null,
            "visibility": null,
            "width": null
          }
        },
        "9b8d1c6bf36e4deda8f9a4f3c9cb2aaf": {
          "model_module": "@jupyter-widgets/controls",
          "model_name": "DescriptionStyleModel",
          "model_module_version": "1.5.0",
          "state": {
            "_model_module": "@jupyter-widgets/controls",
            "_model_module_version": "1.5.0",
            "_model_name": "DescriptionStyleModel",
            "_view_count": null,
            "_view_module": "@jupyter-widgets/base",
            "_view_module_version": "1.2.0",
            "_view_name": "StyleView",
            "description_width": ""
          }
        },
        "4f6eb615b3e24192aa0f8e226b295872": {
          "model_module": "@jupyter-widgets/base",
          "model_name": "LayoutModel",
          "model_module_version": "1.2.0",
          "state": {
            "_model_module": "@jupyter-widgets/base",
            "_model_module_version": "1.2.0",
            "_model_name": "LayoutModel",
            "_view_count": null,
            "_view_module": "@jupyter-widgets/base",
            "_view_module_version": "1.2.0",
            "_view_name": "LayoutView",
            "align_content": null,
            "align_items": null,
            "align_self": null,
            "border": null,
            "bottom": null,
            "display": null,
            "flex": null,
            "flex_flow": null,
            "grid_area": null,
            "grid_auto_columns": null,
            "grid_auto_flow": null,
            "grid_auto_rows": null,
            "grid_column": null,
            "grid_gap": null,
            "grid_row": null,
            "grid_template_areas": null,
            "grid_template_columns": null,
            "grid_template_rows": null,
            "height": null,
            "justify_content": null,
            "justify_items": null,
            "left": null,
            "margin": null,
            "max_height": null,
            "max_width": null,
            "min_height": null,
            "min_width": null,
            "object_fit": null,
            "object_position": null,
            "order": null,
            "overflow": null,
            "overflow_x": null,
            "overflow_y": null,
            "padding": null,
            "right": null,
            "top": null,
            "visibility": null,
            "width": null
          }
        },
        "40e280b8fb5e42e3a69f719ee78348af": {
          "model_module": "@jupyter-widgets/controls",
          "model_name": "ProgressStyleModel",
          "model_module_version": "1.5.0",
          "state": {
            "_model_module": "@jupyter-widgets/controls",
            "_model_module_version": "1.5.0",
            "_model_name": "ProgressStyleModel",
            "_view_count": null,
            "_view_module": "@jupyter-widgets/base",
            "_view_module_version": "1.2.0",
            "_view_name": "StyleView",
            "bar_color": null,
            "description_width": ""
          }
        },
        "26eef545c7244419bdc1829f3e5f41d4": {
          "model_module": "@jupyter-widgets/base",
          "model_name": "LayoutModel",
          "model_module_version": "1.2.0",
          "state": {
            "_model_module": "@jupyter-widgets/base",
            "_model_module_version": "1.2.0",
            "_model_name": "LayoutModel",
            "_view_count": null,
            "_view_module": "@jupyter-widgets/base",
            "_view_module_version": "1.2.0",
            "_view_name": "LayoutView",
            "align_content": null,
            "align_items": null,
            "align_self": null,
            "border": null,
            "bottom": null,
            "display": null,
            "flex": null,
            "flex_flow": null,
            "grid_area": null,
            "grid_auto_columns": null,
            "grid_auto_flow": null,
            "grid_auto_rows": null,
            "grid_column": null,
            "grid_gap": null,
            "grid_row": null,
            "grid_template_areas": null,
            "grid_template_columns": null,
            "grid_template_rows": null,
            "height": null,
            "justify_content": null,
            "justify_items": null,
            "left": null,
            "margin": null,
            "max_height": null,
            "max_width": null,
            "min_height": null,
            "min_width": null,
            "object_fit": null,
            "object_position": null,
            "order": null,
            "overflow": null,
            "overflow_x": null,
            "overflow_y": null,
            "padding": null,
            "right": null,
            "top": null,
            "visibility": null,
            "width": null
          }
        },
        "1405ac0b400f4acba44b64d13c15cf5d": {
          "model_module": "@jupyter-widgets/controls",
          "model_name": "DescriptionStyleModel",
          "model_module_version": "1.5.0",
          "state": {
            "_model_module": "@jupyter-widgets/controls",
            "_model_module_version": "1.5.0",
            "_model_name": "DescriptionStyleModel",
            "_view_count": null,
            "_view_module": "@jupyter-widgets/base",
            "_view_module_version": "1.2.0",
            "_view_name": "StyleView",
            "description_width": ""
          }
        }
      }
    }
  },
  "cells": [
    {
      "cell_type": "markdown",
      "source": [
        "#Импорты"
      ],
      "metadata": {
        "id": "sxtt5iu9Kd4G"
      }
    },
    {
      "cell_type": "code",
      "source": [
        "!pip install pymorphy2\n",
        "!pip install -U 'scikit-learn<0.24'\n",
        "!pip install stanza\n",
        "!pip install sklearn-crfsuite"
      ],
      "metadata": {
        "id": "5tGiIembBZ-E"
      },
      "execution_count": null,
      "outputs": []
    },
    {
      "cell_type": "code",
      "source": [
        "import pandas as pd\n",
        "from tqdm.autonotebook import tqdm\n",
        "from sklearn.model_selection import train_test_split\n",
        "import sklearn_crfsuite\n",
        "from sklearn_crfsuite import scorers\n",
        "from sklearn_crfsuite import metrics\n",
        "from collections import defaultdict\n",
        "import stanza\n",
        "import pickle\n",
        "from pymorphy2 import MorphAnalyzer\n",
        "stanza.download('ru')\n",
        "morph = MorphAnalyzer()"
      ],
      "metadata": {
        "colab": {
          "base_uri": "https://localhost:8080/",
          "height": 170,
          "referenced_widgets": [
            "8eb9955b02c14fb0ab49ae327a1da633",
            "a7d0fbed423d418d98b0878306975631",
            "56b03a3b38f8481f8206f5db1977903e",
            "49109922a9b04ef69cdaaea4504320fe",
            "848c5d90545646eeaedb5f32cceda8b1",
            "6922996a454b4a61971f22a068a4960a",
            "cfc3ac3b7fbe45b8ab55bef30e7e5bb7",
            "61de4c56845143ee89242a5510789b17",
            "1393e494c24a46ef82b99c3eafe58368",
            "f52817b9bcf44045a694f5bbda88fba2",
            "e807341a3dcb4696b6e95784728f4a70",
            "6f393b37894c4d4ebb30a8df07314cf3",
            "09f5914140124e56a4ab89661fa9a35a",
            "fa076292c61c4c8a93f4bf861d5cac8c",
            "85002ed7c32946b68936bea6f811baf4",
            "bc92e76149424f089c49c55a26dc3198",
            "9d6974045c66495690d428573ab28e2e",
            "b5a602340cff45509ffab6f7db6910b7",
            "2d1432c6d46a46a9ac3c4acdd11e6022",
            "1ec072883cea4c498147ae6ca42e8cc0",
            "4bbddaa32f664fceb3a3874a8aefbab8",
            "8d74c26152184d83a680c993f4751b88"
          ]
        },
        "id": "tIJVf1EzOtTq",
        "outputId": "aa70fc4f-64ce-4983-f09c-5e8fe0f75f05"
      },
      "execution_count": 2,
      "outputs": [
        {
          "output_type": "stream",
          "name": "stderr",
          "text": [
            "<ipython-input-2-9b0a19d70465>:2: TqdmExperimentalWarning: Using `tqdm.autonotebook.tqdm` in notebook mode. Use `tqdm.tqdm` instead to force console mode (e.g. in jupyter console)\n",
            "  from tqdm.autonotebook import tqdm\n"
          ]
        },
        {
          "output_type": "display_data",
          "data": {
            "text/plain": [
              "Downloading https://raw.githubusercontent.com/stanfordnlp/stanza-resources/main/resources_1.4.1.json:   0%|   …"
            ],
            "application/vnd.jupyter.widget-view+json": {
              "version_major": 2,
              "version_minor": 0,
              "model_id": "8eb9955b02c14fb0ab49ae327a1da633"
            }
          },
          "metadata": {}
        },
        {
          "output_type": "stream",
          "name": "stderr",
          "text": [
            "INFO:stanza:Downloading default packages for language: ru (Russian) ...\n"
          ]
        },
        {
          "output_type": "display_data",
          "data": {
            "text/plain": [
              "Downloading https://huggingface.co/stanfordnlp/stanza-ru/resolve/v1.4.1/models/default.zip:   0%|          | 0…"
            ],
            "application/vnd.jupyter.widget-view+json": {
              "version_major": 2,
              "version_minor": 0,
              "model_id": "6f393b37894c4d4ebb30a8df07314cf3"
            }
          },
          "metadata": {}
        },
        {
          "output_type": "stream",
          "name": "stderr",
          "text": [
            "INFO:stanza:Finished downloading models and saved to /root/stanza_resources.\n"
          ]
        }
      ]
    },
    {
      "cell_type": "markdown",
      "source": [
        "#1 Выделение аспектов"
      ],
      "metadata": {
        "id": "VMoluDvoQQ-J"
      }
    },
    {
      "cell_type": "markdown",
      "source": [
        "##Загрузка трейна и приведение данных в формат IOB"
      ],
      "metadata": {
        "id": "Y09jfFMzK39m"
      }
    },
    {
      "cell_type": "code",
      "source": [
        "!wget https://github.com/named-entity/hse-nlp/raw/master/4th_year/Project/train_split_aspects.txt\n",
        "!wget https://github.com/named-entity/hse-nlp/raw/master/4th_year/Project/train_split_reviews.txt"
      ],
      "metadata": {
        "colab": {
          "base_uri": "https://localhost:8080/"
        },
        "id": "89BSPsMXQrRM",
        "outputId": "bb95b276-a7b7-422d-c8d6-5e0d13c7b80f"
      },
      "execution_count": 3,
      "outputs": [
        {
          "output_type": "stream",
          "name": "stdout",
          "text": [
            "--2023-02-09 12:43:00--  https://github.com/named-entity/hse-nlp/raw/master/4th_year/Project/train_split_aspects.txt\n",
            "Resolving github.com (github.com)... 140.82.113.3\n",
            "Connecting to github.com (github.com)|140.82.113.3|:443... connected.\n",
            "HTTP request sent, awaiting response... 302 Found\n",
            "Location: https://raw.githubusercontent.com/named-entity/hse-nlp/master/4th_year/Project/train_split_aspects.txt [following]\n",
            "--2023-02-09 12:43:00--  https://raw.githubusercontent.com/named-entity/hse-nlp/master/4th_year/Project/train_split_aspects.txt\n",
            "Resolving raw.githubusercontent.com (raw.githubusercontent.com)... 185.199.108.133, 185.199.109.133, 185.199.110.133, ...\n",
            "Connecting to raw.githubusercontent.com (raw.githubusercontent.com)|185.199.108.133|:443... connected.\n",
            "HTTP request sent, awaiting response... 200 OK\n",
            "Length: 170883 (167K) [text/plain]\n",
            "Saving to: ‘train_split_aspects.txt’\n",
            "\n",
            "train_split_aspects 100%[===================>] 166.88K  --.-KB/s    in 0.002s  \n",
            "\n",
            "2023-02-09 12:43:00 (68.2 MB/s) - ‘train_split_aspects.txt’ saved [170883/170883]\n",
            "\n",
            "--2023-02-09 12:43:01--  https://github.com/named-entity/hse-nlp/raw/master/4th_year/Project/train_split_reviews.txt\n",
            "Resolving github.com (github.com)... 140.82.113.4\n",
            "Connecting to github.com (github.com)|140.82.113.4|:443... connected.\n",
            "HTTP request sent, awaiting response... 302 Found\n",
            "Location: https://raw.githubusercontent.com/named-entity/hse-nlp/master/4th_year/Project/train_split_reviews.txt [following]\n",
            "--2023-02-09 12:43:01--  https://raw.githubusercontent.com/named-entity/hse-nlp/master/4th_year/Project/train_split_reviews.txt\n",
            "Resolving raw.githubusercontent.com (raw.githubusercontent.com)... 185.199.108.133, 185.199.109.133, 185.199.110.133, ...\n",
            "Connecting to raw.githubusercontent.com (raw.githubusercontent.com)|185.199.108.133|:443... connected.\n",
            "HTTP request sent, awaiting response... 200 OK\n",
            "Length: 335603 (328K) [text/plain]\n",
            "Saving to: ‘train_split_reviews.txt’\n",
            "\n",
            "train_split_reviews 100%[===================>] 327.74K  --.-KB/s    in 0.005s  \n",
            "\n",
            "2023-02-09 12:43:01 (59.5 MB/s) - ‘train_split_reviews.txt’ saved [335603/335603]\n",
            "\n"
          ]
        }
      ]
    },
    {
      "cell_type": "code",
      "source": [
        "reviews = {}\n",
        "with open('train_split_reviews.txt') as f:\n",
        "  for line in f:\n",
        "    line = line.rstrip('\\r\\n').split('\\t')\n",
        "    reviews[line[0]] = line[1]\n",
        "     \n",
        "\n",
        "aspects = defaultdict(list)\n",
        "with open('train_split_aspects.txt') as f:\n",
        "  for line in f:\n",
        "    line = line.rstrip('\\r\\n').split('\\t')\n",
        "    keys = ('category', 'mention', 'start', 'end', 'sentiment')\n",
        "    aspects[line[0]].append(dict(zip(keys, line[1:])))"
      ],
      "metadata": {
        "id": "8Lbuu8xYKuNa"
      },
      "execution_count": 4,
      "outputs": []
    },
    {
      "cell_type": "code",
      "source": [
        "nlp = stanza.Pipeline('ru', processors='tokenize')"
      ],
      "metadata": {
        "colab": {
          "base_uri": "https://localhost:8080/",
          "height": 260,
          "referenced_widgets": [
            "d93b4f2a3bbc41c886dcceb31925ddf4",
            "110941280ead41e280900b8ba3a6e14b",
            "aee6b8b95d014e9b9d107862cb546ee3",
            "19468be06dd3450e97991d584ad3205f",
            "0c19f392d6cd48a4a8f0addaaa2ecb07",
            "437fcc640895421ab175aa14f5fdb755",
            "d54a98ad0d6541d4a1da397b2c063032",
            "e649162288954eeda275de6ee62a5bc7",
            "5b9b8b5934f44fd29736272cd80df6af",
            "f214f58439c54dedadf2f6d7b9085348",
            "a16e4d067eed4271a1054558c0e05153"
          ]
        },
        "id": "3fYpA06NQTiS",
        "outputId": "2dce5012-43c2-4069-d157-ef41a2c286ec"
      },
      "execution_count": 5,
      "outputs": [
        {
          "output_type": "stream",
          "name": "stderr",
          "text": [
            "INFO:stanza:Checking for updates to resources.json in case models have been updated.  Note: this behavior can be turned off with download_method=None or download_method=DownloadMethod.REUSE_RESOURCES\n"
          ]
        },
        {
          "output_type": "display_data",
          "data": {
            "text/plain": [
              "Downloading https://raw.githubusercontent.com/stanfordnlp/stanza-resources/main/resources_1.4.1.json:   0%|   …"
            ],
            "application/vnd.jupyter.widget-view+json": {
              "version_major": 2,
              "version_minor": 0,
              "model_id": "d93b4f2a3bbc41c886dcceb31925ddf4"
            }
          },
          "metadata": {}
        },
        {
          "output_type": "stream",
          "name": "stderr",
          "text": [
            "INFO:stanza:Loading these models for language: ru (Russian):\n",
            "=========================\n",
            "| Processor | Package   |\n",
            "-------------------------\n",
            "| tokenize  | syntagrus |\n",
            "=========================\n",
            "\n",
            "INFO:stanza:Use device: cpu\n",
            "INFO:stanza:Loading: tokenize\n",
            "INFO:stanza:Done loading processors!\n"
          ]
        }
      ]
    },
    {
      "cell_type": "code",
      "source": [
        "def get_IOB(texts):\n",
        "  iob = []\n",
        "  with tqdm(total=len(texts)) as pbar:\n",
        "    for text_id, text in texts.items():\n",
        "      iob_text = []\n",
        "      processed = nlp(text)\n",
        "      for token in processed.iter_tokens():\n",
        "        add = False\n",
        "        parsed = morph.parse(token.text)[0]\n",
        "        postag = parsed.tag.POS\n",
        "        if postag is None:\n",
        "          if token.text.isnumeric():\n",
        "            postag = 'NUMB'\n",
        "          else:\n",
        "            postag = 'PUNKT'\n",
        "        for mention in aspects[text_id]:\n",
        "          if token.start_char == int(mention['start']) and token.end_char <= int(mention['end']):\n",
        "            iob_text.append({'text':token.text, 'pos': postag, 'tag':'B-'+mention['category'],\n",
        "                          'text_id': text_id, 'start': token.start_char, 'end': token.end_char})\n",
        "            add = True\n",
        "          elif token.start_char > int(mention['start']) and token.end_char <= int(mention['end']):\n",
        "            iob_text.append({'text':token.text, 'pos': postag, 'tag':'I-'+mention['category'],\n",
        "                          'text_id': text_id, 'start': token.start_char, 'end': token.end_char})\n",
        "            add = True\n",
        "        if not add:\n",
        "          iob_text.append({'text':token.text, 'pos': postag, 'tag':'O', \n",
        "                        'text_id': text_id, 'start': token.start_char, \n",
        "                        'end': token.end_char})\n",
        "      iob.append(iob_text)\n",
        "      pbar.update(1)\n",
        "\n",
        "  return iob\n",
        "        "
      ],
      "metadata": {
        "id": "s5PdeU2xbBPY"
      },
      "execution_count": 6,
      "outputs": []
    },
    {
      "cell_type": "code",
      "source": [
        "IOB = get_IOB(reviews)"
      ],
      "metadata": {
        "colab": {
          "base_uri": "https://localhost:8080/",
          "height": 49,
          "referenced_widgets": [
            "fefd1645975444edaa8af2e52fcfcc6f",
            "ace4d11a9be84c6f8d43e10dcfb143ae",
            "99a4ac3f4dd84a7e95b2c1a14d0d61bc",
            "01e6d7bae6a244e093f4ae5621d4b3f0",
            "d9c1595477d24288bb5576125f1544c0",
            "461c540203b1441e98bd03d794975c67",
            "9b8d1c6bf36e4deda8f9a4f3c9cb2aaf",
            "4f6eb615b3e24192aa0f8e226b295872",
            "40e280b8fb5e42e3a69f719ee78348af",
            "26eef545c7244419bdc1829f3e5f41d4",
            "1405ac0b400f4acba44b64d13c15cf5d"
          ]
        },
        "id": "pFI1MyMUhMVB",
        "outputId": "d5a3057d-6670-491c-9278-3e9ee2c90891"
      },
      "execution_count": 7,
      "outputs": [
        {
          "output_type": "display_data",
          "data": {
            "text/plain": [
              "  0%|          | 0/213 [00:00<?, ?it/s]"
            ],
            "application/vnd.jupyter.widget-view+json": {
              "version_major": 2,
              "version_minor": 0,
              "model_id": "fefd1645975444edaa8af2e52fcfcc6f"
            }
          },
          "metadata": {}
        }
      ]
    },
    {
      "cell_type": "markdown",
      "source": [
        "##CRF. Обучение модели"
      ],
      "metadata": {
        "id": "6_qEpEy-D-mR"
      }
    },
    {
      "cell_type": "code",
      "source": [
        "!wget https://github.com/named-entity/hse-nlp/raw/master/4th_year/Project/dev_reviews.txt\n",
        "!wget https://github.com/named-entity/hse-nlp/raw/master/4th_year/Project/dev_aspects.txt"
      ],
      "metadata": {
        "colab": {
          "base_uri": "https://localhost:8080/"
        },
        "id": "5_doKzsjdlBn",
        "outputId": "e4f66169-a6d8-4d27-fc5f-35974451453b"
      },
      "execution_count": 8,
      "outputs": [
        {
          "output_type": "stream",
          "name": "stdout",
          "text": [
            "--2023-02-09 12:44:18--  https://github.com/named-entity/hse-nlp/raw/master/4th_year/Project/dev_reviews.txt\n",
            "Resolving github.com (github.com)... 140.82.114.4\n",
            "Connecting to github.com (github.com)|140.82.114.4|:443... connected.\n",
            "HTTP request sent, awaiting response... 302 Found\n",
            "Location: https://raw.githubusercontent.com/named-entity/hse-nlp/master/4th_year/Project/dev_reviews.txt [following]\n",
            "--2023-02-09 12:44:19--  https://raw.githubusercontent.com/named-entity/hse-nlp/master/4th_year/Project/dev_reviews.txt\n",
            "Resolving raw.githubusercontent.com (raw.githubusercontent.com)... 185.199.108.133, 185.199.109.133, 185.199.110.133, ...\n",
            "Connecting to raw.githubusercontent.com (raw.githubusercontent.com)|185.199.108.133|:443... connected.\n",
            "HTTP request sent, awaiting response... 200 OK\n",
            "Length: 110515 (108K) [text/plain]\n",
            "Saving to: ‘dev_reviews.txt’\n",
            "\n",
            "dev_reviews.txt     100%[===================>] 107.92K  --.-KB/s    in 0.002s  \n",
            "\n",
            "2023-02-09 12:44:19 (42.9 MB/s) - ‘dev_reviews.txt’ saved [110515/110515]\n",
            "\n",
            "--2023-02-09 12:44:19--  https://github.com/named-entity/hse-nlp/raw/master/4th_year/Project/dev_aspects.txt\n",
            "Resolving github.com (github.com)... 140.82.113.3\n",
            "Connecting to github.com (github.com)|140.82.113.3|:443... connected.\n",
            "HTTP request sent, awaiting response... 302 Found\n",
            "Location: https://raw.githubusercontent.com/named-entity/hse-nlp/master/4th_year/Project/dev_aspects.txt [following]\n",
            "--2023-02-09 12:44:19--  https://raw.githubusercontent.com/named-entity/hse-nlp/master/4th_year/Project/dev_aspects.txt\n",
            "Resolving raw.githubusercontent.com (raw.githubusercontent.com)... 185.199.108.133, 185.199.109.133, 185.199.110.133, ...\n",
            "Connecting to raw.githubusercontent.com (raw.githubusercontent.com)|185.199.108.133|:443... connected.\n",
            "HTTP request sent, awaiting response... 200 OK\n",
            "Length: 57508 (56K) [text/plain]\n",
            "Saving to: ‘dev_aspects.txt’\n",
            "\n",
            "dev_aspects.txt     100%[===================>]  56.16K  --.-KB/s    in 0.001s  \n",
            "\n",
            "2023-02-09 12:44:19 (56.7 MB/s) - ‘dev_aspects.txt’ saved [57508/57508]\n",
            "\n"
          ]
        }
      ]
    },
    {
      "cell_type": "code",
      "source": [
        "dev_reviews = {}\n",
        "with open('dev_reviews.txt') as f:\n",
        "  for line in f:\n",
        "    line = line.rstrip('\\r\\n').split('\\t')\n",
        "    dev_reviews[line[0]] = line[1]\n",
        "     \n",
        "\n",
        "dev_aspects = defaultdict(list)\n",
        "with open('dev_aspects.txt') as f:\n",
        "  for line in f:\n",
        "    line = line.rstrip('\\r\\n').split('\\t')\n",
        "    keys = ('category', 'mention', 'start', 'end', 'sentiment')\n",
        "    dev_aspects[line[0]].append(dict(zip(keys, line[1:])))"
      ],
      "metadata": {
        "id": "iM8j0-3Ugr2T"
      },
      "execution_count": 9,
      "outputs": []
    },
    {
      "cell_type": "code",
      "source": [
        "def word2features(sent, i):\n",
        "    word = sent[i]['text']\n",
        "    postag = sent[i]['pos']\n",
        "    text_id = sent[i]['text_id']\n",
        "    start = sent[i]['start']\n",
        "    end = sent[i]['end']\n",
        "\n",
        "    features = {\n",
        "        'text_id': text_id, \n",
        "        'word': word,\n",
        "        'word.lower()': word.lower(),\n",
        "        'word[-3:]': word[-3:],\n",
        "        'word[-2:]': word[-2:],\n",
        "        'word.isupper()': word.isupper(),\n",
        "        'word.istitle()': word.istitle(),\n",
        "        'word.isdigit()': word.isdigit(),\n",
        "        'postag': postag,\n",
        "        'start': start,\n",
        "        'end': end\n",
        "    }\n",
        "    if i > 0:\n",
        "        word1 = sent[i-1]['text']\n",
        "        postag1 = sent[i-1]['pos']\n",
        "        features.update({\n",
        "            '-1:word.lower()': word1.lower(),\n",
        "            '-1:word.istitle()': word1.istitle(),\n",
        "            '-1:word.isupper()': word1.isupper(),\n",
        "            '-1:postag': postag1,\n",
        "        })\n",
        "    else:\n",
        "        features['BOS'] = True\n",
        "        \n",
        "    if i < len(sent)-1:\n",
        "        word1 = sent[i+1]['text']\n",
        "        postag1 = sent[i+1]['pos']\n",
        "        features.update({\n",
        "            '+1:word.lower()': word1.lower(),\n",
        "            '+1:word.istitle()': word1.istitle(),\n",
        "            '+1:word.isupper()': word1.isupper(),\n",
        "            '+1:postag': postag1,\n",
        "            '+1:postag[:2]': postag1[:2],\n",
        "        })\n",
        "    else:\n",
        "        features['EOS'] = True\n",
        "                \n",
        "    return features\n",
        "\n",
        "def sent2features(sent):\n",
        "    return [word2features(sent, i) for i in range(len(sent))]\n",
        "\n",
        "def sent2labels(sent):\n",
        "    return [word['tag'] for word in sent]"
      ],
      "metadata": {
        "id": "-KtRoRFED0uN"
      },
      "execution_count": 10,
      "outputs": []
    },
    {
      "cell_type": "code",
      "source": [
        "def text_to_dict(texts):\n",
        "  rev_dicts = []\n",
        "  for text_id, text in texts.items():\n",
        "    tokens = []\n",
        "    processed = nlp(text)\n",
        "    for token in processed.iter_tokens():\n",
        "      parsed = morph.parse(token.text)[0]\n",
        "      postag = parsed.tag.POS\n",
        "      if postag is None:\n",
        "        if token.text.isnumeric():\n",
        "          postag = 'NUMB'\n",
        "        else:\n",
        "          postag = 'PUNKT'\n",
        "      tokens.append({'text':token.text, 'pos':postag, 'text_id':text_id,\n",
        "                     'start':token.start_char, 'end':token.end_char})\n",
        "    rev_dicts.append(tokens)\n",
        "      \n",
        "  return rev_dicts"
      ],
      "metadata": {
        "id": "BkPsLLoBfkFj"
      },
      "execution_count": 11,
      "outputs": []
    },
    {
      "cell_type": "code",
      "source": [
        "def get_predicted(y_predicted, X_test):\n",
        "  data = {'text_id': [], 'tag': [], 'text': [], 'start': [], 'end': []}\n",
        "  for i, tags in enumerate(y_pred):\n",
        "    for j, tag in enumerate(tags):\n",
        "      if tag!='O':\n",
        "        if tags[j].startswith('B'):\n",
        "          if len(tags) > j+1:\n",
        "            if tags[j+1].startswith('I'):\n",
        "              tokens = []\n",
        "              tokens.append(X_test[i][j]['word'])\n",
        "              start = X_test[i][j]['start']\n",
        "              k = j + 1\n",
        "              while tags[k].startswith('I'):\n",
        "                tokens.append(X_test[i][k]['word'])\n",
        "                k += 1\n",
        "              end = X_test[i][k-1]['end']\n",
        "\n",
        "              data['text_id'].append(X_test[i][j]['text_id'])\n",
        "              data['tag'].append(tag.split('-')[1])\n",
        "              data['text'].append(' '.join(tokens))\n",
        "              data['start'].append(start)\n",
        "              data['end'].append(end)\n",
        "            elif tags[j].startswith('B') and not tags[j+1].startswith('I'):\n",
        "              start = X_test[i][j]['start']\n",
        "              end = X_test[i][j]['end']\n",
        "\n",
        "              data['text_id'].append(X_test[i][j]['text_id'])\n",
        "              data['tag'].append(tag.split('-')[1])\n",
        "              data['text'].append(X_test[i][j]['word'])\n",
        "              data['start'].append(start)\n",
        "              data['end'].append(end)\n",
        "          else:\n",
        "            start = X_test[i][j]['start']\n",
        "            end = X_test[i][j]['end']\n",
        "\n",
        "            data['text_id'].append(X_test[i][j]['text_id'])\n",
        "            data['tag'].append(tag.split('-')[1])\n",
        "            data['text'].append(X_test[i][j]['word'])\n",
        "            data['start'].append(start)\n",
        "            data['end'].append(end)\n",
        "\n",
        "\n",
        "  df = pd.DataFrame(data)\n",
        "  return df"
      ],
      "metadata": {
        "id": "h1__M_L9TGYb"
      },
      "execution_count": 12,
      "outputs": []
    },
    {
      "cell_type": "code",
      "source": [
        "X_test = [sent2features(s) for s in text_to_dict(dev_reviews)]\n",
        "\n",
        "X_train = [sent2features(s) for s in IOB]\n",
        "y_train = [sent2labels(s) for s in IOB]"
      ],
      "metadata": {
        "id": "fT6xlewPif_o"
      },
      "execution_count": 13,
      "outputs": []
    },
    {
      "cell_type": "code",
      "source": [
        "crf = sklearn_crfsuite.CRF(\n",
        "    algorithm='lbfgs', \n",
        "    c1=0.1, \n",
        "    c2=0.1, \n",
        "    max_iterations=100, \n",
        "    all_possible_transitions=True\n",
        ")\n",
        "crf.fit(X_train, y_train)"
      ],
      "metadata": {
        "colab": {
          "base_uri": "https://localhost:8080/"
        },
        "id": "54aSwzqsrNo2",
        "outputId": "54f518d6-e5d7-4436-a758-b33bc9167797"
      },
      "execution_count": 14,
      "outputs": [
        {
          "output_type": "stream",
          "name": "stderr",
          "text": [
            "/usr/local/lib/python3.8/dist-packages/sklearn/base.py:209: FutureWarning: From version 0.24, get_params will raise an AttributeError if a parameter cannot be retrieved as an instance attribute. Previously it would return None.\n",
            "  warnings.warn('From version 0.24, get_params will raise an '\n"
          ]
        },
        {
          "output_type": "execute_result",
          "data": {
            "text/plain": [
              "CRF(algorithm='lbfgs', all_possible_transitions=True, c1=0.1, c2=0.1,\n",
              "    keep_tempfiles=None, max_iterations=100)"
            ]
          },
          "metadata": {},
          "execution_count": 14
        }
      ]
    },
    {
      "cell_type": "code",
      "source": [
        "y_pred = crf.predict(X_test)"
      ],
      "metadata": {
        "id": "YI7kiY4lrl_r"
      },
      "execution_count": 15,
      "outputs": []
    },
    {
      "cell_type": "code",
      "source": [
        "pred = get_predicted(y_pred, X_test)\n",
        "with open('dev_pred_asp_no_sent.txt', 'w') as f:\n",
        "  for text_id, tag, text, start, end in zip(pred['text_id'], pred['tag'], pred['text'], pred['start'], pred['end']):\n",
        "      print(text_id, tag, text, start, end, sep=\"\\t\", file=f)"
      ],
      "metadata": {
        "id": "2pSkx87NA0xa"
      },
      "execution_count": 339,
      "outputs": []
    },
    {
      "cell_type": "code",
      "source": [
        "filename = 'crf_model.sav'\n",
        "pickle.dump(crf, open(filename, 'wb'))"
      ],
      "metadata": {
        "id": "e3qVhLSB-rHs"
      },
      "execution_count": 17,
      "outputs": []
    },
    {
      "cell_type": "markdown",
      "source": [
        "#2 Оценка"
      ],
      "metadata": {
        "id": "0AmZg0t4QZHi"
      }
    },
    {
      "cell_type": "code",
      "source": [
        "!pip install dostoevsky\n",
        "!python -m dostoevsky download fasttext-social-network-model\n",
        "from dostoevsky.tokenization import RegexTokenizer\n",
        "from dostoevsky.models import FastTextSocialNetworkModel"
      ],
      "metadata": {
        "id": "pICdzJQ8epc_"
      },
      "execution_count": null,
      "outputs": []
    },
    {
      "cell_type": "code",
      "source": [
        "print(aspects)\n",
        "#reviews\n",
        "dev_aspects\n",
        "dev_reviews"
      ],
      "metadata": {
        "id": "se2zWSYofIFg",
        "colab": {
          "base_uri": "https://localhost:8080/"
        },
        "outputId": "b8dc7dc2-cb57-47c0-d4eb-2c7b9654419d"
      },
      "execution_count": 73,
      "outputs": [
        {
          "output_type": "stream",
          "name": "stdout",
          "text": [
            "defaultdict(<class 'list'>, {'30808': [{'category': 'Whole', 'mention': 'ресторане', 'start': '16', 'end': '25', 'sentiment': 'neutral'}, {'category': 'Interior', 'mention': 'первом этаже', 'start': '43', 'end': '55', 'sentiment': 'neutral'}, {'category': 'Whole', 'mention': 'руководству ресторана', 'start': '124', 'end': '145', 'sentiment': 'positive'}, {'category': 'Service', 'mention': 'обслуживающему персоналу', 'start': '147', 'end': '171', 'sentiment': 'positive'}, {'category': 'Service', 'mention': 'сотрудникам', 'start': '189', 'end': '200', 'sentiment': 'positive'}, {'category': 'Food', 'mention': 'блюда', 'start': '254', 'end': '259', 'sentiment': 'positive'}, {'category': 'Interior', 'mention': 'интерьер', 'start': '310', 'end': '318', 'sentiment': 'positive'}, {'category': 'Food', 'mention': 'Стол', 'start': '337', 'end': '341', 'sentiment': 'positive'}, {'category': 'Service', 'mention': 'обслуживал', 'start': '360', 'end': '370', 'sentiment': 'positive'}, {'category': 'Service', 'mention': 'официант', 'start': '371', 'end': '379', 'sentiment': 'positive'}, {'category': 'Whole', 'mention': 'ресторана', 'start': '424', 'end': '433', 'sentiment': 'positive'}, {'category': 'Price', 'mention': 'цены', 'start': '448', 'end': '452', 'sentiment': 'positive'}], '14031': [{'category': 'Whole', 'mention': 'ресторана \"Крапива\"', 'start': '48', 'end': '67', 'sentiment': 'neutral'}, {'category': 'Whole', 'mention': 'рестораном', 'start': '134', 'end': '144', 'sentiment': 'positive'}, {'category': 'Interior', 'mention': 'интерьер', 'start': '183', 'end': '191', 'sentiment': 'positive'}, {'category': 'Service', 'mention': 'администратор', 'start': '215', 'end': '228', 'sentiment': 'positive'}, {'category': 'Food', 'mention': 'меню', 'start': '265', 'end': '269', 'sentiment': 'neutral'}, {'category': 'Service', 'mention': 'обслуживании', 'start': '275', 'end': '287', 'sentiment': 'positive'}, {'category': 'Service', 'mention': 'официанты', 'start': '296', 'end': '305', 'sentiment': 'positive'}, {'category': 'Service', 'mention': 'смотрели за столом', 'start': '318', 'end': '336', 'sentiment': 'positive'}, {'category': 'Service', 'mention': 'молодой человек', 'start': '469', 'end': '484', 'sentiment': 'positive'}, {'category': 'Whole', 'mention': 'ресторан', 'start': '540', 'end': '548', 'sentiment': 'positive'}, {'category': 'Interior', 'mention': 'атмосфера', 'start': '550', 'end': '559', 'sentiment': 'positive'}, {'category': 'Whole', 'mention': 'заведение', 'start': '630', 'end': '639', 'sentiment': 'positive'}, {'category': 'Whole', 'mention': '\"Крапивы\"', 'start': '687', 'end': '696', 'sentiment': 'positive'}], '38835': [{'category': 'Whole', 'mention': 'заведении', 'start': '51', 'end': '60', 'sentiment': 'neutral'}, {'category': 'Service', 'mention': 'сервисом', 'start': '98', 'end': '106', 'sentiment': 'positive'}, {'category': 'Service', 'mention': 'Встретила', 'start': '108', 'end': '117', 'sentiment': 'positive'}, {'category': 'Service', 'mention': 'девушка', 'start': '136', 'end': '143', 'sentiment': 'positive'}, {'category': 'Service', 'mention': 'персонал', 'start': '179', 'end': '187', 'sentiment': 'positive'}, {'category': 'Service', 'mention': 'официант', 'start': '230', 'end': '238', 'sentiment': 'positive'}, {'category': 'Food', 'mention': 'утку по-пекински', 'start': '343', 'end': '359', 'sentiment': 'neutral'}, {'category': 'Food', 'mention': 'салата', 'start': '363', 'end': '369', 'sentiment': 'neutral'}, {'category': 'Food', 'mention': 'свинину в кисло-сладком соусе', 'start': '371', 'end': '400', 'sentiment': 'neutral'}, {'category': 'Food', 'mention': 'свинину', 'start': '415', 'end': '422', 'sentiment': 'neutral'}, {'category': 'Food', 'mention': 'кальян', 'start': '424', 'end': '430', 'sentiment': 'neutral'}, {'category': 'Food', 'mention': 'вина', 'start': '440', 'end': '444', 'sentiment': 'neutral'}, {'category': 'Food', 'mention': 'десерт', 'start': '452', 'end': '458', 'sentiment': 'neutral'}, {'category': 'Food', 'mention': 'Утка', 'start': '488', 'end': '492', 'sentiment': 'negative'}, {'category': 'Food', 'mention': 'объедятся', 'start': '560', 'end': '569', 'sentiment': 'positive'}, {'category': 'Food', 'mention': 'Свинина', 'start': '633', 'end': '640', 'sentiment': 'negative'}, {'category': 'Whole', 'mention': 'ресторанах', 'start': '677', 'end': '687', 'sentiment': 'positive'}, {'category': 'Whole', 'mention': 'ресторан', 'start': '725', 'end': '733', 'sentiment': 'negative'}, {'category': 'Price', 'mention': 'цены', 'start': '749', 'end': '753', 'sentiment': 'negative'}, {'category': 'Food', 'mention': 'меню', 'start': '772', 'end': '776', 'sentiment': 'negative'}, {'category': 'Food', 'mention': 'порции', 'start': '779', 'end': '785', 'sentiment': 'negative'}, {'category': 'Whole', 'mention': 'впечатление', 'start': '836', 'end': '847', 'sentiment': 'both'}, {'category': 'Service', 'mention': 'обслуживание', 'start': '917', 'end': '929', 'sentiment': 'positive'}, {'category': 'Food', 'mention': 'еды', 'start': '953', 'end': '956', 'sentiment': 'positive'}], '1368': [{'category': 'Whole', 'mention': 'пабе', 'start': '24', 'end': '28', 'sentiment': 'positive'}, {'category': 'Whole', 'mention': 'место', 'start': '84', 'end': '89', 'sentiment': 'positive'}, {'category': 'Interior', 'mention': 'интерьер', 'start': '108', 'end': '116', 'sentiment': 'positive'}, {'category': 'Interior', 'mention': 'Атмосфера', 'start': '175', 'end': '184', 'sentiment': 'positive'}, {'category': 'Service', 'mention': 'обслуживания', 'start': '253', 'end': '265', 'sentiment': 'positive'}, {'category': 'Service', 'mention': 'официант', 'start': '395', 'end': '403', 'sentiment': 'neutral'}, {'category': 'Service', 'mention': 'принес меню', 'start': '404', 'end': '415', 'sentiment': 'neutral'}, {'category': 'Food', 'mention': 'выбор пива', 'start': '435', 'end': '445', 'sentiment': 'positive'}, {'category': 'Food', 'mention': 'алкоголя', 'start': '455', 'end': '463', 'sentiment': 'positive'}, {'category': 'Food', 'mention': 'закусок', 'start': '473', 'end': '480', 'sentiment': 'positive'}, {'category': 'Food', 'mention': 'блюд', 'start': '493', 'end': '497', 'sentiment': 'positive'}, {'category': 'Food', 'mention': 'меню', 'start': '542', 'end': '546', 'sentiment': 'positive'}, {'category': 'Whole', 'mention': 'пабе', 'start': '549', 'end': '553', 'sentiment': 'neutral'}, {'category': 'Service', 'mention': 'официантки', 'start': '658', 'end': '668', 'sentiment': 'negative'}, {'category': 'Service', 'mention': 'обслуживанием', 'start': '773', 'end': '786', 'sentiment': 'positive'}, {'category': 'Food', 'mention': 'пиво', 'start': '815', 'end': '819', 'sentiment': 'positive'}, {'category': 'Food', 'mention': 'Коктейли', 'start': '837', 'end': '845', 'sentiment': 'positive'}, {'category': 'Food', 'mention': 'гренкам', 'start': '873', 'end': '880', 'sentiment': 'positive'}, {'category': 'Food', 'mention': 'стейку', 'start': '883', 'end': '889', 'sentiment': 'positive'}, {'category': 'Food', 'mention': 'цезаре', 'start': '907', 'end': '913', 'sentiment': 'negative'}, {'category': 'Food', 'mention': 'приправ', 'start': '914', 'end': '921', 'sentiment': 'negative'}, {'category': 'Food', 'mention': 'суши', 'start': '939', 'end': '943', 'sentiment': 'negative'}, {'category': 'Food', 'mention': 'блюдо', 'start': '983', 'end': '988', 'sentiment': 'neutral'}, {'category': 'Service', 'mention': 'ждать счет', 'start': '1022', 'end': '1032', 'sentiment': 'negative'}, {'category': 'Service', 'mention': 'сдачу ждали', 'start': '1046', 'end': '1057', 'sentiment': 'negative'}, {'category': 'Price', 'mention': 'ценам', 'start': '1129', 'end': '1134', 'sentiment': 'positive'}, {'category': 'Whole', 'mention': 'заведений', 'start': '1186', 'end': '1195', 'sentiment': 'neutral'}], '7890': [{'category': 'Food', 'mention': 'меню', 'start': '93', 'end': '97', 'sentiment': 'neutral'}, {'category': 'Food', 'mention': 'салат с рыбой', 'start': '110', 'end': '123', 'sentiment': 'positive'}, {'category': 'Food', 'mention': 'холодные закуски', 'start': '157', 'end': '173', 'sentiment': 'positive'}, {'category': 'Food', 'mention': 'горЯчее', 'start': '176', 'end': '183', 'sentiment': 'positive'}, {'category': 'Food', 'mention': 'кухня', 'start': '240', 'end': '245', 'sentiment': 'positive'}, {'category': 'Interior', 'mention': 'интерьер', 'start': '266', 'end': '274', 'sentiment': 'positive'}, {'category': 'Interior', 'mention': 'музыка', 'start': '276', 'end': '282', 'sentiment': 'positive'}, {'category': 'Service', 'mention': 'Персонал', 'start': '307', 'end': '315', 'sentiment': 'positive'}, {'category': 'Service', 'mention': 'администратор', 'start': '343', 'end': '356', 'sentiment': 'positive'}, {'category': 'Service', 'mention': 'официанты', 'start': '359', 'end': '368', 'sentiment': 'positive'}, {'category': 'Service', 'mention': 'сервис', 'start': '370', 'end': '376', 'sentiment': 'positive'}], '6668': [{'category': 'Whole', 'mention': 'ресторанчик', 'start': '31', 'end': '42', 'sentiment': 'positive'}, {'category': 'Whole', 'mention': '\"Квартиру №55\"', 'start': '262', 'end': '276', 'sentiment': 'positive'}, {'category': 'Food', 'mention': 'Накормили', 'start': '393', 'end': '402', 'sentiment': 'positive'}, {'category': 'Food', 'mention': 'напоили', 'start': '405', 'end': '412', 'sentiment': 'positive'}, {'category': 'Service', 'mention': 'сервис', 'start': '487', 'end': '493', 'sentiment': 'neutral'}, {'category': 'Service', 'mention': 'обслуживание', 'start': '495', 'end': '507', 'sentiment': 'neutral'}, {'category': 'Service', 'mention': 'не \"обслуживали\"', 'start': '518', 'end': '534', 'sentiment': 'negative'}, {'category': 'Service', 'mention': 'встречали', 'start': '546', 'end': '555', 'sentiment': 'positive'}, {'category': 'Service', 'mention': 'Помогли с заказом', 'start': '577', 'end': '594', 'sentiment': 'positive'}, {'category': 'Service', 'mention': 'посоветовали', 'start': '596', 'end': '608', 'sentiment': 'positive'}, {'category': 'Food', 'mention': 'вино', 'start': '629', 'end': '633', 'sentiment': 'positive'}, {'category': 'Whole', 'mention': 'ресторане', 'start': '686', 'end': '695', 'sentiment': 'neutral'}, {'category': 'Food', 'mention': 'пили', 'start': '753', 'end': '757', 'sentiment': 'neutral'}, {'category': 'Food', 'mention': 'чай', 'start': '758', 'end': '761', 'sentiment': 'neutral'}, {'category': 'Food', 'mention': 'Салаты', 'start': '763', 'end': '769', 'sentiment': 'neutral'}, {'category': 'Food', 'mention': 'горячее', 'start': '805', 'end': '812', 'sentiment': 'neutral'}, {'category': 'Food', 'mention': 'вина', 'start': '847', 'end': '851', 'sentiment': 'neutral'}, {'category': 'Food', 'mention': 'пожарские котлеты', 'start': '878', 'end': '895', 'sentiment': 'positive'}, {'category': 'Food', 'mention': 'тушеная телятина', 'start': '898', 'end': '914', 'sentiment': 'positive'}, {'category': 'Food', 'mention': 'буженину на гриле', 'start': '924', 'end': '941', 'sentiment': 'positive'}, {'category': 'Food', 'mention': 'Салаты', 'start': '957', 'end': '963', 'sentiment': 'neutral'}, {'category': 'Food', 'mention': 'Порции', 'start': '1022', 'end': '1028', 'sentiment': 'neutral'}, {'category': 'Food', 'mention': 'десерту', 'start': '1099', 'end': '1106', 'sentiment': 'neutral'}, {'category': 'Service', 'mention': 'официант', 'start': '1113', 'end': '1121', 'sentiment': 'neutral'}, {'category': 'Food', 'mention': 'десерты', 'start': '1150', 'end': '1157', 'sentiment': 'positive'}, {'category': 'Whole', 'mention': 'квартиру', 'start': '1194', 'end': '1202', 'sentiment': 'positive'}, {'category': 'Service', 'mention': 'персоналу', 'start': '1250', 'end': '1259', 'sentiment': 'positive'}, {'category': 'Whole', 'mention': 'ресторана', 'start': '1261', 'end': '1270', 'sentiment': 'positive'}, {'category': 'Food', 'mention': 'ужин', 'start': '1299', 'end': '1303', 'sentiment': 'positive'}], '9662': [{'category': 'Whole', 'mention': 'Суп-вино', 'start': '34', 'end': '42', 'sentiment': 'neutral'}, {'category': 'Service', 'mention': 'Столик бронировали', 'start': '45', 'end': '63', 'sentiment': 'neutral'}, {'category': 'Whole', 'mention': 'ресторанах', 'start': '123', 'end': '133', 'sentiment': 'neutral'}, {'category': 'Interior', 'mention': 'Интерьер', 'start': '184', 'end': '192', 'sentiment': 'positive'}, {'category': 'Interior', 'mention': 'столики', 'start': '243', 'end': '250', 'sentiment': 'positive'}, {'category': 'Interior', 'mention': 'музыка', 'start': '259', 'end': '265', 'sentiment': 'positive'}, {'category': 'Food', 'mention': 'Меню', 'start': '293', 'end': '297', 'sentiment': 'positive'}, {'category': 'Price', 'mention': 'цене', 'start': '341', 'end': '345', 'sentiment': 'positive'}, {'category': 'Service', 'mention': 'обслуживание', 'start': '403', 'end': '415', 'sentiment': 'negative'}, {'category': 'Service', 'mention': 'обслуживал', 'start': '446', 'end': '456', 'sentiment': 'positive'}, {'category': 'Service', 'mention': 'молодой человек', 'start': '472', 'end': '487', 'sentiment': 'positive'}, {'category': 'Food', 'mention': 'Блюда', 'start': '519', 'end': '524', 'sentiment': 'neutral'}, {'category': 'Food', 'mention': 'напитки', 'start': '545', 'end': '552', 'sentiment': 'neutral'}], '18430': [{'category': 'Whole', 'mention': 'заведение', 'start': '42', 'end': '51', 'sentiment': 'neutral'}, {'category': 'Service', 'mention': 'официант', 'start': '196', 'end': '204', 'sentiment': 'positive'}, {'category': 'Whole', 'mention': 'заведение', 'start': '244', 'end': '253', 'sentiment': 'positive'}, {'category': 'Interior', 'mention': 'обстановка', 'start': '269', 'end': '279', 'sentiment': 'positive'}, {'category': 'Interior', 'mention': 'интерьер', 'start': '283', 'end': '291', 'sentiment': 'positive'}, {'category': 'Food', 'mention': 'меню', 'start': '295', 'end': '299', 'sentiment': 'positive'}, {'category': 'Service', 'mention': 'обслуживание', 'start': '330', 'end': '342', 'sentiment': 'positive'}, {'category': 'Interior', 'mention': 'атмосфера', 'start': '390', 'end': '399', 'sentiment': 'positive'}, {'category': 'Food', 'mention': 'еды', 'start': '452', 'end': '455', 'sentiment': 'positive'}, {'category': 'Food', 'mention': 'алкогольных напитков', 'start': '458', 'end': '478', 'sentiment': 'positive'}, {'category': 'Food', 'mention': 'алкоголя', 'start': '506', 'end': '514', 'sentiment': 'neutral'}, {'category': 'Food', 'mention': 'выпито', 'start': '520', 'end': '526', 'sentiment': 'neutral'}, {'category': 'Interior', 'mention': 'музыка', 'start': '583', 'end': '589', 'sentiment': 'negative'}, {'category': 'Whole', 'mention': 'заведении', 'start': '779', 'end': '788', 'sentiment': 'negative'}, {'category': 'Price', 'mention': 'депозит 5 тыс', 'start': '907', 'end': '920', 'sentiment': 'positive'}, {'category': 'Whole', 'mention': 'заведением', 'start': '1060', 'end': '1070', 'sentiment': 'positive'}, {'category': 'Service', 'mention': 'официанта', 'start': '1144', 'end': '1153', 'sentiment': 'positive'}], '14190': [{'category': 'Whole', 'mention': 'места', 'start': '58', 'end': '63', 'sentiment': 'neutral'}, {'category': 'Whole', 'mention': 'рестораны', 'start': '72', 'end': '81', 'sentiment': 'neutral'}, {'category': 'Whole', 'mention': 'ресторан', 'start': '143', 'end': '151', 'sentiment': 'neutral'}, {'category': 'Interior', 'mention': 'Интерьер', 'start': '251', 'end': '259', 'sentiment': 'positive'}, {'category': 'Food', 'mention': 'пиццу', 'start': '307', 'end': '312', 'sentiment': 'neutral'}, {'category': 'Food', 'mention': 'пицца', 'start': '479', 'end': '484', 'sentiment': 'positive'}, {'category': 'Whole', 'mention': 'ресторанах', 'start': '552', 'end': '562', 'sentiment': 'neutral'}, {'category': 'Food', 'mention': 'тирамису', 'start': '568', 'end': '576', 'sentiment': 'neutral'}, {'category': 'Food', 'mention': 'хлебную козинку', 'start': '578', 'end': '593', 'sentiment': 'neutral'}, {'category': 'Interior', 'mention': 'туалет', 'start': '608', 'end': '614', 'sentiment': 'neutral'}, {'category': 'Whole', 'mention': 'заведению', 'start': '646', 'end': '655', 'sentiment': 'neutral'}, {'category': 'Food', 'mention': 'Хлеб', 'start': '657', 'end': '661', 'sentiment': 'positive'}, {'category': 'Food', 'mention': 'тираму', 'start': '682', 'end': '688', 'sentiment': 'positive'}, {'category': 'Food', 'mention': 'десерт', 'start': '756', 'end': '762', 'sentiment': 'positive'}, {'category': 'Service', 'mention': 'Официантка', 'start': '829', 'end': '839', 'sentiment': 'positive'}, {'category': 'Food', 'mention': 'Напитки', 'start': '856', 'end': '863', 'sentiment': 'neutral'}, {'category': 'Food', 'mention': 'еду', 'start': '887', 'end': '890', 'sentiment': 'neutral'}, {'category': 'Interior', 'mention': 'атмосферу', 'start': '944', 'end': '953', 'sentiment': 'positive'}, {'category': 'Food', 'mention': 'угощения', 'start': '956', 'end': '964', 'sentiment': 'positive'}], '3705': [{'category': 'Whole', 'mention': 'Макарену', 'start': '100', 'end': '108', 'sentiment': 'positive'}, {'category': 'Food', 'mention': 'Меню', 'start': '135', 'end': '139', 'sentiment': 'positive'}, {'category': 'Food', 'mention': 'блюда', 'start': '217', 'end': '222', 'sentiment': 'positive'}, {'category': 'Food', 'mention': 'Коктейли', 'start': '224', 'end': '232', 'sentiment': 'positive'}, {'category': 'Food', 'mention': 'салаты из языка и морепродуктов', 'start': '293', 'end': '324', 'sentiment': 'neutral'}, {'category': 'Food', 'mention': 'паэлью с курицей и кроликом', 'start': '327', 'end': '354', 'sentiment': 'neutral'}, {'category': 'Food', 'mention': 'порции', 'start': '382', 'end': '388', 'sentiment': 'positive'}, {'category': 'Food', 'mention': 'кальян', 'start': '417', 'end': '423', 'sentiment': 'positive'}, {'category': 'Service', 'mention': 'кальянщик', 'start': '472', 'end': '481', 'sentiment': 'positive'}, {'category': 'Interior', 'mention': 'интерьер', 'start': '549', 'end': '557', 'sentiment': 'positive'}, {'category': 'Interior', 'mention': 'Музыка', 'start': '588', 'end': '594', 'sentiment': 'positive'}, {'category': 'Interior', 'mention': 'атмосферу', 'start': '683', 'end': '692', 'sentiment': 'positive'}, {'category': 'Service', 'mention': 'Персонал', 'start': '694', 'end': '702', 'sentiment': 'positive'}, {'category': 'Service', 'mention': 'накопительную скидку', 'start': '788', 'end': '808', 'sentiment': 'positive'}, {'category': 'Whole', 'mention': 'вечер', 'start': '865', 'end': '870', 'sentiment': 'positive'}], '3385': [{'category': 'Food', 'mention': 'закуски', 'start': '81', 'end': '88', 'sentiment': 'positive'}, {'category': 'Service', 'mention': 'Официантка', 'start': '141', 'end': '151', 'sentiment': 'positive'}, {'category': 'Service', 'mention': 'убирались', 'start': '214', 'end': '223', 'sentiment': 'positive'}, {'category': 'Food', 'mention': 'Второе', 'start': '225', 'end': '231', 'sentiment': 'neutral'}, {'category': 'Service', 'mention': 'официантка', 'start': '332', 'end': '342', 'sentiment': 'neutral'}, {'category': 'Food', 'mention': 'горячее', 'start': '408', 'end': '415', 'sentiment': 'neutral'}, {'category': 'Food', 'mention': 'закуски', 'start': '512', 'end': '519', 'sentiment': 'positive'}, {'category': 'Food', 'mention': 'блюда', 'start': '664', 'end': '669', 'sentiment': 'negative'}, {'category': 'Service', 'mention': 'администратор', 'start': '772', 'end': '785', 'sentiment': 'neutral'}, {'category': 'Service', 'mention': 'заказ', 'start': '961', 'end': '966', 'sentiment': 'positive'}, {'category': 'Food', 'mention': 'Торт', 'start': '1031', 'end': '1035', 'sentiment': 'negative'}, {'category': 'Service', 'mention': 'заказанный заранее', 'start': '1037', 'end': '1055', 'sentiment': 'neutral'}, {'category': 'Food', 'mention': 'наполеон', 'start': '1057', 'end': '1065', 'sentiment': 'negative'}, {'category': 'Interior', 'mention': 'интерьера', 'start': '1145', 'end': '1154', 'sentiment': 'positive'}, {'category': 'Interior', 'mention': 'интерьерах', 'start': '1225', 'end': '1235', 'sentiment': 'positive'}, {'category': 'Food', 'mention': 'кухню', 'start': '1274', 'end': '1279', 'sentiment': 'neutral'}], '33520': [{'category': 'Whole', 'mention': 'ресторане', 'start': '34', 'end': '43', 'sentiment': 'neutral'}, {'category': 'Service', 'mention': 'заказали столик', 'start': '82', 'end': '97', 'sentiment': 'neutral'}, {'category': 'Whole', 'mention': 'провели время', 'start': '107', 'end': '120', 'sentiment': 'positive'}, {'category': 'Food', 'mention': 'кухня', 'start': '130', 'end': '135', 'sentiment': 'positive'}, {'category': 'Service', 'mention': 'обслуживание', 'start': '138', 'end': '150', 'sentiment': 'positive'}, {'category': 'Interior', 'mention': 'атмосфера', 'start': '161', 'end': '170', 'sentiment': 'positive'}, {'category': 'Service', 'mention': 'подарок от шеф-повара', 'start': '188', 'end': '209', 'sentiment': 'positive'}, {'category': 'Price', 'mention': 'цены', 'start': '271', 'end': '275', 'sentiment': 'positive'}], '12366': [{'category': 'Food', 'mention': 'суп', 'start': '88', 'end': '91', 'sentiment': 'positive'}, {'category': 'Food', 'mention': 'кухню', 'start': '124', 'end': '129', 'sentiment': 'positive'}, {'category': 'Food', 'mention': 'спагетти', 'start': '213', 'end': '221', 'sentiment': 'positive'}, {'category': 'Food', 'mention': 'пол порции', 'start': '237', 'end': '247', 'sentiment': 'neutral'}, {'category': 'Whole', 'mention': 'ресторан', 'start': '279', 'end': '287', 'sentiment': 'neutral'}, {'category': 'Interior', 'mention': 'интерьер', 'start': '305', 'end': '313', 'sentiment': 'positive'}], '29321': [{'category': 'Whole', 'mention': 'ресторане', 'start': '24', 'end': '33', 'sentiment': 'neutral'}, {'category': 'Whole', 'mention': 'ресторан', 'start': '90', 'end': '98', 'sentiment': 'neutral'}, {'category': 'Service', 'mention': 'проводили', 'start': '104', 'end': '113', 'sentiment': 'positive'}, {'category': 'Service', 'mention': 'заказала столик', 'start': '135', 'end': '150', 'sentiment': 'neutral'}, {'category': 'Interior', 'mention': 'Второй этаж', 'start': '152', 'end': '163', 'sentiment': 'positive'}, {'category': 'Interior', 'mention': 'интерьер', 'start': '201', 'end': '209', 'sentiment': 'positive'}, {'category': 'Food', 'mention': 'меню', 'start': '273', 'end': '277', 'sentiment': 'positive'}, {'category': 'Food', 'mention': 'рыбе', 'start': '362', 'end': '366', 'sentiment': 'positive'}, {'category': 'Food', 'mention': 'пиццу', 'start': '420', 'end': '425', 'sentiment': 'neutral'}, {'category': 'Food', 'mention': 'покушать', 'start': '426', 'end': '434', 'sentiment': 'neutral'}, {'category': 'Whole', 'mention': 'местах', 'start': '475', 'end': '481', 'sentiment': 'neutral'}, {'category': 'Food', 'mention': 'паста', 'start': '483', 'end': '488', 'sentiment': 'neutral'}, {'category': 'Food', 'mention': 'суп', 'start': '515', 'end': '518', 'sentiment': 'neutral'}, {'category': 'Price', 'mention': 'Цены на вино', 'start': '539', 'end': '551', 'sentiment': 'negative'}, {'category': 'Whole', 'mention': 'ресторана', 'start': '592', 'end': '601', 'sentiment': 'neutral'}, {'category': 'Food', 'mention': 'едой', 'start': '642', 'end': '646', 'sentiment': 'neutral'}, {'category': 'Food', 'mention': 'кухня', 'start': '686', 'end': '691', 'sentiment': 'both'}, {'category': 'Service', 'mention': 'обслуживания', 'start': '794', 'end': '806', 'sentiment': 'negative'}, {'category': 'Service', 'mention': 'тарелки убирались', 'start': '872', 'end': '889', 'sentiment': 'positive'}, {'category': 'Service', 'mention': 'девушек', 'start': '937', 'end': '944', 'sentiment': 'negative'}, {'category': 'Service', 'mention': 'обслуживания', 'start': '1172', 'end': '1184', 'sentiment': 'negative'}, {'category': 'Service', 'mention': 'приема', 'start': '1187', 'end': '1193', 'sentiment': 'negative'}, {'category': 'Service', 'mention': 'подано', 'start': '1237', 'end': '1243', 'sentiment': 'positive'}, {'category': 'Service', 'mention': 'обслуживание', 'start': '1259', 'end': '1271', 'sentiment': 'negative'}], '22970': [{'category': 'Interior', 'mention': 'интерьер', 'start': '26', 'end': '34', 'sentiment': 'positive'}, {'category': 'Interior', 'mention': 'вид из окна', 'start': '77', 'end': '88', 'sentiment': 'positive'}, {'category': 'Food', 'mention': 'кофе', 'start': '147', 'end': '151', 'sentiment': 'neutral'}, {'category': 'Food', 'mention': 'кухню', 'start': '187', 'end': '192', 'sentiment': 'neutral'}, {'category': 'Food', 'mention': 'съела', 'start': '231', 'end': '236', 'sentiment': 'neutral'}, {'category': 'Food', 'mention': 'тыквенный суп', 'start': '244', 'end': '257', 'sentiment': 'positive'}, {'category': 'Food', 'mention': 'булочки', 'start': '274', 'end': '281', 'sentiment': 'positive'}, {'category': 'Food', 'mention': 'кофе', 'start': '320', 'end': '324', 'sentiment': 'neutral'}, {'category': 'Food', 'mention': 'пиво', 'start': '362', 'end': '366', 'sentiment': 'positive'}, {'category': 'Service', 'mention': 'официантам', 'start': '396', 'end': '406', 'sentiment': 'positive'}, {'category': 'Service', 'mention': 'обслуживанием', 'start': '518', 'end': '531', 'sentiment': 'neutral'}, {'category': 'Service', 'mention': 'обслужили', 'start': '537', 'end': '546', 'sentiment': 'positive'}], '35867': [{'category': 'Whole', 'mention': 'ресторане \"Фаворит\"', 'start': '52', 'end': '71', 'sentiment': 'neutral'}, {'category': 'Whole', 'mention': 'места', 'start': '122', 'end': '127', 'sentiment': 'neutral'}, {'category': 'Food', 'mention': 'меню', 'start': '140', 'end': '144', 'sentiment': 'positive'}, {'category': 'Food', 'mention': 'выпечка', 'start': '173', 'end': '180', 'sentiment': 'positive'}, {'category': 'Service', 'mention': 'сервис', 'start': '194', 'end': '200', 'sentiment': 'positive'}, {'category': 'Interior', 'mention': 'интерьер', 'start': '247', 'end': '255', 'sentiment': 'positive'}, {'category': 'Interior', 'mention': 'атмосферу', 'start': '300', 'end': '309', 'sentiment': 'positive'}, {'category': 'Price', 'mention': 'цена', 'start': '322', 'end': '326', 'sentiment': 'positive'}, {'category': 'Service', 'mention': 'персоналу', 'start': '390', 'end': '399', 'sentiment': 'positive'}, {'category': 'Service', 'mention': 'менеджера', 'start': '440', 'end': '449', 'sentiment': 'positive'}, {'category': 'Food', 'mention': 'кухне', 'start': '527', 'end': '532', 'sentiment': 'neutral'}, {'category': 'Whole', 'mention': 'ресторане', 'start': '541', 'end': '550', 'sentiment': 'neutral'}, {'category': 'Food', 'mention': 'блюд', 'start': '570', 'end': '574', 'sentiment': 'neutral'}, {'category': 'Food', 'mention': 'напитков', 'start': '576', 'end': '584', 'sentiment': 'neutral'}, {'category': 'Food', 'mention': 'выпечки', 'start': '586', 'end': '593', 'sentiment': 'neutral'}, {'category': 'Interior', 'mention': 'украшением зала', 'start': '596', 'end': '611', 'sentiment': 'positive'}, {'category': 'Service', 'mention': 'организовала', 'start': '678', 'end': '690', 'sentiment': 'positive'}], '1200': [{'category': 'Whole', 'mention': 'место', 'start': '57', 'end': '62', 'sentiment': 'positive'}, {'category': 'Interior', 'mention': 'интерьер', 'start': '97', 'end': '105', 'sentiment': 'positive'}, {'category': 'Interior', 'mention': 'первый зал', 'start': '107', 'end': '117', 'sentiment': 'positive'}, {'category': 'Food', 'mention': 'еду', 'start': '128', 'end': '131', 'sentiment': 'positive'}, {'category': 'Service', 'mention': 'персонал', 'start': '141', 'end': '149', 'sentiment': 'positive'}, {'category': 'Price', 'mention': 'цены', 'start': '175', 'end': '179', 'sentiment': 'positive'}, {'category': 'Price', 'mention': 'скидка', 'start': '190', 'end': '196', 'sentiment': 'positive'}, {'category': 'Whole', 'mention': 'Ресторан', 'start': '277', 'end': '285', 'sentiment': 'neutral'}, {'category': 'Service', 'mention': 'официант', 'start': '339', 'end': '347', 'sentiment': 'positive'}, {'category': 'Whole', 'mention': 'заведение', 'start': '460', 'end': '469', 'sentiment': 'positive'}, {'category': 'Food', 'mention': 'Вино', 'start': '520', 'end': '524', 'sentiment': 'positive'}, {'category': 'Price', 'mention': 'Счет', 'start': '678', 'end': '682', 'sentiment': 'neutral'}, {'category': 'Price', 'mention': 'цены', 'start': '700', 'end': '704', 'sentiment': 'positive'}, {'category': 'Price', 'mention': 'счет', 'start': '753', 'end': '757', 'sentiment': 'positive'}, {'category': 'Food', 'mention': 'горячее', 'start': '826', 'end': '833', 'sentiment': 'neutral'}, {'category': 'Food', 'mention': 'вина', 'start': '845', 'end': '849', 'sentiment': 'neutral'}, {'category': 'Food', 'mention': 'салаты', 'start': '851', 'end': '857', 'sentiment': 'neutral'}, {'category': 'Price', 'mention': 'счет', 'start': '859', 'end': '863', 'sentiment': 'positive'}, {'category': 'Price', 'mention': 'счет', 'start': '919', 'end': '923', 'sentiment': 'negative'}, {'category': 'Service', 'mention': 'обслуживание', 'start': '959', 'end': '971', 'sentiment': 'neutral'}, {'category': 'Price', 'mention': 'итоговая сумма', 'start': '1006', 'end': '1020', 'sentiment': 'negative'}, {'category': 'Service', 'mention': 'официантке', 'start': '1054', 'end': '1064', 'sentiment': 'neutral'}, {'category': 'Price', 'mention': 'счет', 'start': '1108', 'end': '1112', 'sentiment': 'neutral'}, {'category': 'Service', 'mention': 'обслуживание', 'start': '1154', 'end': '1166', 'sentiment': 'neutral'}, {'category': 'Service', 'mention': 'чаевых', 'start': '1297', 'end': '1303', 'sentiment': 'negative'}], '15159': [{'category': 'Whole', 'mention': 'ресторане', 'start': '25', 'end': '34', 'sentiment': 'neutral'}, {'category': 'Food', 'mention': 'еда', 'start': '82', 'end': '85', 'sentiment': 'positive'}, {'category': 'Food', 'mention': 'порции', 'start': '96', 'end': '102', 'sentiment': 'positive'}, {'category': 'Price', 'mention': 'цены', 'start': '114', 'end': '118', 'sentiment': 'positive'}, {'category': 'Interior', 'mention': 'втором этаже', 'start': '130', 'end': '142', 'sentiment': 'neutral'}, {'category': 'Interior', 'mention': 'Зал', 'start': '144', 'end': '147', 'sentiment': 'positive'}, {'category': 'Service', 'mention': 'обслуживание', 'start': '161', 'end': '173', 'sentiment': 'both'}, {'category': 'Whole', 'mention': 'Впечатление осталось', 'start': '209', 'end': '229', 'sentiment': 'positive'}, {'category': 'Food', 'mention': 'еда', 'start': '368', 'end': '371', 'sentiment': 'positive'}, {'category': 'Price', 'mention': 'цены', 'start': '381', 'end': '385', 'sentiment': 'positive'}, {'category': 'Food', 'mention': 'Меню', 'start': '397', 'end': '401', 'sentiment': 'positive'}, {'category': 'Interior', 'mention': 'первом этаже', 'start': '444', 'end': '456', 'sentiment': 'neutral'}, {'category': 'Interior', 'mention': 'Интерьер', 'start': '458', 'end': '466', 'sentiment': 'positive'}], '18220': [{'category': 'Whole', 'mention': 'заведению', 'start': '40', 'end': '49', 'sentiment': 'neutral'}, {'category': 'Food', 'mention': 'выпить', 'start': '130', 'end': '136', 'sentiment': 'neutral'}, {'category': 'Food', 'mention': 'перекусить', 'start': '149', 'end': '159', 'sentiment': 'neutral'}, {'category': 'Food', 'mention': 'поужинать', 'start': '218', 'end': '227', 'sentiment': 'neutral'}, {'category': 'Whole', 'mention': 'впечатления', 'start': '244', 'end': '255', 'sentiment': 'positive'}, {'category': 'Service', 'mention': 'Встретили', 'start': '341', 'end': '350', 'sentiment': 'positive'}, {'category': 'Interior', 'mention': 'свечи', 'start': '507', 'end': '512', 'sentiment': 'positive'}, {'category': 'Whole', 'mention': 'заведение', 'start': '627', 'end': '636', 'sentiment': 'positive'}, {'category': 'Whole', 'mention': 'кафе', 'start': '668', 'end': '672', 'sentiment': 'positive'}, {'category': 'Interior', 'mention': 'музыка', 'start': '711', 'end': '717', 'sentiment': 'positive'}, {'category': 'Service', 'mention': 'персонал', 'start': '738', 'end': '746', 'sentiment': 'positive'}, {'category': 'Food', 'mention': 'кухню', 'start': '801', 'end': '806', 'sentiment': 'positive'}, {'category': 'Food', 'mention': '\"Капрезе\"', 'start': '846', 'end': '855', 'sentiment': 'both'}, {'category': 'Food', 'mention': 'медальоны', 'start': '857', 'end': '866', 'sentiment': 'both'}, {'category': 'Food', 'mention': '\" Цезарь\"', 'start': '867', 'end': '876', 'sentiment': 'both'}, {'category': 'Food', 'mention': 'ролл', 'start': '888', 'end': '892', 'sentiment': 'neutral'}, {'category': 'Interior', 'mention': 'атмосфера', 'start': '972', 'end': '981', 'sentiment': 'positive'}, {'category': 'Whole', 'mention': 'заведение', 'start': '1131', 'end': '1140', 'sentiment': 'positive'}, {'category': 'Service', 'mention': 'обслуживание', 'start': '1197', 'end': '1209', 'sentiment': 'positive'}], '36359': [{'category': 'Whole', 'mention': '\"дали\"', 'start': '48', 'end': '54', 'sentiment': 'both'}, {'category': 'Food', 'mention': 'Кухня', 'start': '127', 'end': '132', 'sentiment': 'negative'}, {'category': 'Service', 'mention': 'персонал', 'start': '159', 'end': '167', 'sentiment': 'negative'}, {'category': 'Service', 'mention': 'обслуживание', 'start': '187', 'end': '199', 'sentiment': 'negative'}, {'category': 'Interior', 'mention': 'дизайн', 'start': '242', 'end': '248', 'sentiment': 'positive'}, {'category': 'Whole', 'mention': 'кафе', 'start': '249', 'end': '253', 'sentiment': 'positive'}, {'category': 'Whole', 'mention': 'Кафе', 'start': '326', 'end': '330', 'sentiment': 'neutral'}, {'category': 'Interior', 'mention': 'дизайну', 'start': '372', 'end': '379', 'sentiment': 'neutral'}, {'category': 'Food', 'mention': 'салат', 'start': '420', 'end': '425', 'sentiment': 'positive'}, {'category': 'Food', 'mention': 'съесть', 'start': '454', 'end': '460', 'sentiment': 'neutral'}, {'category': 'Service', 'mention': 'обслуживание', 'start': '579', 'end': '591', 'sentiment': 'positive'}, {'category': 'Interior', 'mention': 'атмосферу', 'start': '623', 'end': '632', 'sentiment': 'positive'}], '1105': [{'category': 'Whole', 'mention': 'ресторанов', 'start': '21', 'end': '31', 'sentiment': 'positive'}, {'category': 'Service', 'mention': 'дисконтную карту', 'start': '113', 'end': '129', 'sentiment': 'positive'}, {'category': 'Food', 'mention': 'борщ с копченостями', 'start': '219', 'end': '238', 'sentiment': 'positive'}, {'category': 'Food', 'mention': 'роллы на гриле', 'start': '240', 'end': '254', 'sentiment': 'positive'}, {'category': 'Food', 'mention': 'филадельфия', 'start': '267', 'end': '278', 'sentiment': 'positive'}, {'category': 'Food', 'mention': 'рибай', 'start': '372', 'end': '377', 'sentiment': 'positive'}, {'category': 'Whole', 'mention': 'стейк-хаусах', 'start': '439', 'end': '451', 'sentiment': 'negative'}, {'category': 'Food', 'mention': 'салат цезарь с креветками', 'start': '461', 'end': '486', 'sentiment': 'positive'}, {'category': 'Food', 'mention': 'Порции', 'start': '503', 'end': '509', 'sentiment': 'positive'}, {'category': 'Interior', 'mention': 'тарелки', 'start': '528', 'end': '535', 'sentiment': 'positive'}, {'category': 'Service', 'mention': 'обслуживание', 'start': '545', 'end': '557', 'sentiment': 'positive'}, {'category': 'Service', 'mention': 'обслуживание', 'start': '562', 'end': '574', 'sentiment': 'positive'}, {'category': 'Service', 'mention': 'официанты', 'start': '590', 'end': '599', 'sentiment': 'positive'}, {'category': 'Service', 'mention': 'Шеф-повар', 'start': '675', 'end': '684', 'sentiment': 'positive'}, {'category': 'Food', 'mention': 'бизнес-ланч', 'start': '714', 'end': '725', 'sentiment': 'positive'}, {'category': 'Food', 'mention': 'десертам', 'start': '738', 'end': '746', 'sentiment': 'neutral'}, {'category': 'Interior', 'mention': 'Интерьер', 'start': '784', 'end': '792', 'sentiment': 'positive'}, {'category': 'Whole', 'mention': 'кафе', 'start': '886', 'end': '890', 'sentiment': 'negative'}, {'category': 'Whole', 'mention': 'заведении', 'start': '923', 'end': '932', 'sentiment': 'positive'}, {'category': 'Whole', 'mention': 'заведения', 'start': '1005', 'end': '1014', 'sentiment': 'neutral'}, {'category': 'Whole', 'mention': 'заведению', 'start': '1082', 'end': '1091', 'sentiment': 'neutral'}], '32856': [{'category': 'Whole', 'mention': 'ресторан Марчеллис', 'start': '32', 'end': '50', 'sentiment': 'neutral'}, {'category': 'Food', 'mention': 'кухня', 'start': '85', 'end': '90', 'sentiment': 'positive'}, {'category': 'Service', 'mention': 'обслуживание', 'start': '93', 'end': '105', 'sentiment': 'positive'}, {'category': 'Food', 'mention': 'покушать', 'start': '204', 'end': '212', 'sentiment': 'neutral'}, {'category': 'Service', 'mention': 'заказывали', 'start': '256', 'end': '266', 'sentiment': 'neutral'}, {'category': 'Service', 'mention': 'Девушка-администратор', 'start': '376', 'end': '397', 'sentiment': 'positive'}, {'category': 'Interior', 'mention': 'диванах', 'start': '508', 'end': '515', 'sentiment': 'positive'}, {'category': 'Service', 'mention': 'приняла заказ', 'start': '531', 'end': '544', 'sentiment': 'positive'}, {'category': 'Interior', 'mention': 'Обстановка в ресторане', 'start': '546', 'end': '568', 'sentiment': 'positive'}, {'category': 'Service', 'mention': 'персонал', 'start': '653', 'end': '661', 'sentiment': 'positive'}, {'category': 'Service', 'mention': 'ребята', 'start': '683', 'end': '689', 'sentiment': 'positive'}, {'category': 'Food', 'mention': 'кухне', 'start': '694', 'end': '699', 'sentiment': 'positive'}, {'category': 'Food', 'mention': 'палтус со шпинатом', 'start': '718', 'end': '736', 'sentiment': 'positive'}, {'category': 'Food', 'mention': 'палтуса', 'start': '753', 'end': '760', 'sentiment': 'positive'}, {'category': 'Food', 'mention': 'салат из запеченых овощей', 'start': '794', 'end': '819', 'sentiment': 'positive'}, {'category': 'Food', 'mention': 'десерты', 'start': '903', 'end': '910', 'sentiment': 'neutral'}, {'category': 'Food', 'mention': 'ужин', 'start': '922', 'end': '926', 'sentiment': 'positive'}, {'category': 'Food', 'mention': 'панакота', 'start': '1040', 'end': '1048', 'sentiment': 'positive'}, {'category': 'Whole', 'mention': 'заведении', 'start': '1081', 'end': '1090', 'sentiment': 'positive'}, {'category': 'Whole', 'mention': 'Марчеллисе', 'start': '1132', 'end': '1142', 'sentiment': 'positive'}, {'category': 'Service', 'mention': 'отношения к детям', 'start': '1220', 'end': '1237', 'sentiment': 'positive'}, {'category': 'Whole', 'mention': 'ресторане', 'start': '1245', 'end': '1254', 'sentiment': 'positive'}], '32367': [{'category': 'Food', 'mention': 'китайскую кухню', 'start': '83', 'end': '98', 'sentiment': 'positive'}, {'category': 'Whole', 'mention': 'китайским ресторанчикам', 'start': '134', 'end': '157', 'sentiment': 'neutral'}, {'category': 'Food', 'mention': 'деликатесов', 'start': '213', 'end': '224', 'sentiment': 'neutral'}, {'category': 'Food', 'mention': 'блюда', 'start': '236', 'end': '241', 'sentiment': 'negative'}, {'category': 'Whole', 'mention': 'Дачу', 'start': '334', 'end': '338', 'sentiment': 'neutral'}, {'category': 'Food', 'mention': 'еда', 'start': '371', 'end': '374', 'sentiment': 'positive'}, {'category': 'Interior', 'mention': 'зал', 'start': '397', 'end': '400', 'sentiment': 'positive'}, {'category': 'Service', 'mention': 'официант', 'start': '433', 'end': '441', 'sentiment': 'positive'}, {'category': 'Service', 'mention': 'Заказ', 'start': '563', 'end': '568', 'sentiment': 'positive'}, {'category': 'Whole', 'mention': 'вечер прошел', 'start': '611', 'end': '623', 'sentiment': 'positive'}], '6155': [{'category': 'Whole', 'mention': 'заведение', 'start': '9', 'end': '18', 'sentiment': 'positive'}, {'category': 'Whole', 'mention': 'место', 'start': '32', 'end': '37', 'sentiment': 'positive'}, {'category': 'Service', 'mention': 'ребята', 'start': '83', 'end': '89', 'sentiment': 'positive'}, {'category': 'Food', 'mention': 'поужинать', 'start': '268', 'end': '277', 'sentiment': 'neutral'}, {'category': 'Food', 'mention': 'меню', 'start': '282', 'end': '286', 'sentiment': 'neutral'}, {'category': 'Food', 'mention': 'мисо суп', 'start': '327', 'end': '335', 'sentiment': 'positive'}, {'category': 'Food', 'mention': 'порция', 'start': '356', 'end': '362', 'sentiment': 'positive'}, {'category': 'Food', 'mention': 'Суши', 'start': '381', 'end': '385', 'sentiment': 'positive'}, {'category': 'Food', 'mention': 'рыбы', 'start': '403', 'end': '407', 'sentiment': 'positive'}, {'category': 'Food', 'mention': 'роллы', 'start': '409', 'end': '414', 'sentiment': 'positive'}, {'category': 'Food', 'mention': 'Салаты', 'start': '440', 'end': '446', 'sentiment': 'positive'}, {'category': 'Food', 'mention': 'порции', 'start': '467', 'end': '473', 'sentiment': 'positive'}, {'category': 'Food', 'mention': 'горячего', 'start': '491', 'end': '499', 'sentiment': 'neutral'}, {'category': 'Food', 'mention': 'утиную грудку гриль с фруктами', 'start': '512', 'end': '542', 'sentiment': 'positive'}, {'category': 'Food', 'mention': 'стейк из тунца', 'start': '545', 'end': '559', 'sentiment': 'positive'}, {'category': 'Food', 'mention': 'лосося со шпинатом', 'start': '574', 'end': '592', 'sentiment': 'positive'}, {'category': 'Food', 'mention': 'блюдо', 'start': '603', 'end': '608', 'sentiment': 'positive'}, {'category': 'Food', 'mention': 'Медальоны из телятины с овощами', 'start': '623', 'end': '654', 'sentiment': 'positive'}, {'category': 'Whole', 'mention': 'рестораны', 'start': '697', 'end': '706', 'sentiment': 'neutral'}, {'category': 'Food', 'mention': 'поесть', 'start': '721', 'end': '727', 'sentiment': 'positive'}, {'category': 'Whole', 'mention': 'место', 'start': '749', 'end': '754', 'sentiment': 'positive'}, {'category': 'Whole', 'mention': 'место', 'start': '811', 'end': '816', 'sentiment': 'positive'}, {'category': 'Service', 'mention': 'персоналу', 'start': '828', 'end': '837', 'sentiment': 'positive'}], '37975': [{'category': 'Whole', 'mention': 'ресторане', 'start': '27', 'end': '36', 'sentiment': 'neutral'}, {'category': 'Whole', 'mention': 'Ресторан', 'start': '138', 'end': '146', 'sentiment': 'positive'}, {'category': 'Interior', 'mention': 'интерьер', 'start': '219', 'end': '227', 'sentiment': 'positive'}, {'category': 'Interior', 'mention': 'атмосфера', 'start': '239', 'end': '248', 'sentiment': 'positive'}, {'category': 'Interior', 'mention': 'музыкой', 'start': '274', 'end': '281', 'sentiment': 'positive'}, {'category': 'Service', 'mention': 'персонал', 'start': '308', 'end': '316', 'sentiment': 'positive'}, {'category': 'Food', 'mention': 'сладости', 'start': '426', 'end': '434', 'sentiment': 'neutral'}, {'category': 'Food', 'mention': 'фрукты', 'start': '437', 'end': '443', 'sentiment': 'neutral'}, {'category': 'Food', 'mention': 'меню', 'start': '455', 'end': '459', 'sentiment': 'positive'}, {'category': 'Food', 'mention': 'блюдами', 'start': '522', 'end': '529', 'sentiment': 'neutral'}, {'category': 'Food', 'mention': 'меню', 'start': '533', 'end': '537', 'sentiment': 'neutral'}, {'category': 'Service', 'mention': 'администратору', 'start': '762', 'end': '776', 'sentiment': 'positive'}, {'category': 'Service', 'mention': 'обслуживал', 'start': '788', 'end': '798', 'sentiment': 'positive'}, {'category': 'Service', 'mention': 'подано', 'start': '820', 'end': '826', 'sentiment': 'positive'}, {'category': 'Service', 'mention': 'персоналу ресторана', 'start': '891', 'end': '910', 'sentiment': 'positive'}, {'category': 'Whole', 'mention': 'заведение', 'start': '1017', 'end': '1026', 'sentiment': 'positive'}], '32840': [{'category': 'Whole', 'mention': 'местечко', 'start': '75', 'end': '83', 'sentiment': 'positive'}, {'category': 'Whole', 'mention': 'кафе-барах', 'start': '146', 'end': '156', 'sentiment': 'neutral'}, {'category': 'Whole', 'mention': 'ресторан', 'start': '166', 'end': '174', 'sentiment': 'neutral'}, {'category': 'Whole', 'mention': 'паб', 'start': '195', 'end': '198', 'sentiment': 'positive'}, {'category': 'Food', 'mention': 'выпивки', 'start': '211', 'end': '218', 'sentiment': 'positive'}, {'category': 'Food', 'mention': 'закуски', 'start': '221', 'end': '228', 'sentiment': 'positive'}, {'category': 'Whole', 'mention': 'место', 'start': '236', 'end': '241', 'sentiment': 'positive'}, {'category': 'Whole', 'mention': 'заведении', 'start': '331', 'end': '340', 'sentiment': 'neutral'}, {'category': 'Food', 'mention': 'Пиво', 'start': '490', 'end': '494', 'sentiment': 'neutral'}, {'category': 'Food', 'mention': 'коктейли', 'start': '545', 'end': '553', 'sentiment': 'positive'}, {'category': 'Food', 'mention': 'напитков', 'start': '603', 'end': '611', 'sentiment': 'positive'}, {'category': 'Service', 'mention': 'официантке', 'start': '645', 'end': '655', 'sentiment': 'positive'}, {'category': 'Service', 'mention': 'Обслуживание', 'start': '729', 'end': '741', 'sentiment': 'positive'}, {'category': 'Food', 'mention': 'Еда', 'start': '753', 'end': '756', 'sentiment': 'positive'}, {'category': 'Interior', 'mention': 'интерьер', 'start': '815', 'end': '823', 'sentiment': 'positive'}, {'category': 'Interior', 'mention': 'музыкальный фон', 'start': '849', 'end': '864', 'sentiment': 'positive'}, {'category': 'Whole', 'mention': '\"радио\"', 'start': '940', 'end': '947', 'sentiment': 'positive'}], '23858': [{'category': 'Whole', 'mention': 'заведении', 'start': '22', 'end': '31', 'sentiment': 'neutral'}, {'category': 'Whole', 'mention': 'посещений', 'start': '90', 'end': '99', 'sentiment': 'positive'}, {'category': 'Service', 'mention': 'персонал', 'start': '143', 'end': '151', 'sentiment': 'positive'}, {'category': 'Food', 'mention': 'пива', 'start': '167', 'end': '171', 'sentiment': 'positive'}, {'category': 'Service', 'mention': 'выполнение заказа', 'start': '181', 'end': '198', 'sentiment': 'positive'}, {'category': 'Food', 'mention': 'пива', 'start': '228', 'end': '232', 'sentiment': 'positive'}, {'category': 'Price', 'mention': 'цене', 'start': '247', 'end': '251', 'sentiment': 'positive'}, {'category': 'Food', 'mention': 'вкуса', 'start': '264', 'end': '269', 'sentiment': 'positive'}, {'category': 'Service', 'mention': 'Столик заказал', 'start': '271', 'end': '285', 'sentiment': 'neutral'}, {'category': 'Service', 'mention': 'заказать', 'start': '383', 'end': '391', 'sentiment': 'neutral'}, {'category': 'Food', 'mention': 'пива', 'start': '395', 'end': '399', 'sentiment': 'neutral'}, {'category': 'Food', 'mention': 'пива', 'start': '472', 'end': '476', 'sentiment': 'negative'}, {'category': 'Food', 'mention': 'пиво', 'start': '614', 'end': '618', 'sentiment': 'neutral'}, {'category': 'Service', 'mention': 'официантку', 'start': '636', 'end': '646', 'sentiment': 'negative'}, {'category': 'Service', 'mention': 'заказать', 'start': '713', 'end': '721', 'sentiment': 'neutral'}, {'category': 'Food', 'mention': 'пива', 'start': '722', 'end': '726', 'sentiment': 'neutral'}, {'category': 'Service', 'mention': 'официатка', 'start': '782', 'end': '791', 'sentiment': 'neutral'}, {'category': 'Whole', 'mention': 'заведение', 'start': '868', 'end': '877', 'sentiment': 'negative'}, {'category': 'Whole', 'mention': 'места', 'start': '929', 'end': '934', 'sentiment': 'positive'}, {'category': 'Service', 'mention': 'обслуживающий персонал', 'start': '970', 'end': '992', 'sentiment': 'positive'}, {'category': 'Whole', 'mention': 'Глобуса', 'start': '1073', 'end': '1080', 'sentiment': 'negative'}], '10625': [{'category': 'Whole', 'mention': 'кафе Dolce Italy', 'start': '36', 'end': '52', 'sentiment': 'neutral'}, {'category': 'Food', 'mention': 'кофе', 'start': '61', 'end': '65', 'sentiment': 'neutral'}, {'category': 'Food', 'mention': 'пирожными', 'start': '68', 'end': '77', 'sentiment': 'neutral'}, {'category': 'Whole', 'mention': 'кафе', 'start': '109', 'end': '113', 'sentiment': 'neutral'}, {'category': 'Whole', 'mention': 'ресторане', 'start': '203', 'end': '212', 'sentiment': 'neutral'}, {'category': 'Food', 'mention': 'пирожные', 'start': '216', 'end': '224', 'sentiment': 'neutral'}, {'category': 'Whole', 'mention': 'рестораном Italy', 'start': '284', 'end': '300', 'sentiment': 'positive'}, {'category': 'Interior', 'mention': 'вентиляция', 'start': '416', 'end': '426', 'sentiment': 'positive'}, {'category': 'Interior', 'mention': 'Интерьер', 'start': '479', 'end': '487', 'sentiment': 'positive'}, {'category': 'Service', 'mention': 'сервиса', 'start': '634', 'end': '641', 'sentiment': 'negative'}, {'category': 'Service', 'mention': 'официантка', 'start': '646', 'end': '656', 'sentiment': 'negative'}, {'category': 'Food', 'mention': 'салату цезарь', 'start': '772', 'end': '785', 'sentiment': 'neutral'}, {'category': 'Food', 'mention': 'соус без анчоусов', 'start': '796', 'end': '813', 'sentiment': 'neutral'}, {'category': 'Service', 'mention': 'повар', 'start': '823', 'end': '828', 'sentiment': 'negative'}, {'category': 'Food', 'mention': 'майонез', 'start': '867', 'end': '874', 'sentiment': 'negative'}, {'category': 'Food', 'mention': 'соус', 'start': '880', 'end': '884', 'sentiment': 'negative'}, {'category': 'Whole', 'mention': 'место', 'start': '1015', 'end': '1020', 'sentiment': 'positive'}, {'category': 'Food', 'mention': 'итальянских блюд', 'start': '1057', 'end': '1073', 'sentiment': 'neutral'}, {'category': 'Whole', 'mention': 'ресторан', 'start': '1134', 'end': '1142', 'sentiment': 'positive'}], '25861': [{'category': 'Interior', 'mention': '2ом этаже', 'start': '3', 'end': '12', 'sentiment': 'neutral'}, {'category': 'Interior', 'mention': 'интерьер', 'start': '37', 'end': '45', 'sentiment': 'positive'}, {'category': 'Interior', 'mention': '1ом этаже', 'start': '112', 'end': '121', 'sentiment': 'negative'}, {'category': 'Food', 'mention': 'Порции', 'start': '123', 'end': '129', 'sentiment': 'negative'}, {'category': 'Food', 'mention': 'паста', 'start': '144', 'end': '149', 'sentiment': 'positive'}, {'category': 'Service', 'mention': 'Обслуживание', 'start': '169', 'end': '181', 'sentiment': 'negative'}, {'category': 'Service', 'mention': 'готовят', 'start': '199', 'end': '206', 'sentiment': 'negative'}, {'category': 'Service', 'mention': 'приносят', 'start': '212', 'end': '220', 'sentiment': 'negative'}, {'category': 'Whole', 'mention': 'ресторан', 'start': '265', 'end': '273', 'sentiment': 'neutral'}, {'category': 'Whole', 'mention': 'Моджо', 'start': '328', 'end': '333', 'sentiment': 'positive'}, {'category': 'Whole', 'mention': 'местом', 'start': '343', 'end': '349', 'sentiment': 'positive'}], '4106': [{'category': 'Whole', 'mention': 'ресторане', 'start': '20', 'end': '29', 'sentiment': 'neutral'}, {'category': 'Service', 'mention': 'обслуживают', 'start': '50', 'end': '61', 'sentiment': 'negative'}, {'category': 'Service', 'mention': 'Хостес', 'start': '78', 'end': '84', 'sentiment': 'negative'}, {'category': 'Whole', 'mention': 'ресторане', 'start': '92', 'end': '101', 'sentiment': 'negative'}, {'category': 'Service', 'mention': 'встречать', 'start': '115', 'end': '124', 'sentiment': 'negative'}, {'category': 'Service', 'mention': 'принять заказ', 'start': '204', 'end': '217', 'sentiment': 'negative'}, {'category': 'Service', 'mention': 'Заказали по купону', 'start': '244', 'end': '262', 'sentiment': 'neutral'}, {'category': 'Food', 'mention': 'блюда', 'start': '270', 'end': '275', 'sentiment': 'neutral'}, {'category': 'Interior', 'mention': 'музыка', 'start': '470', 'end': '476', 'sentiment': 'positive'}, {'category': 'Interior', 'mention': 'интерьер', 'start': '479', 'end': '487', 'sentiment': 'positive'}, {'category': 'Whole', 'mention': 'ресторан', 'start': '510', 'end': '518', 'sentiment': 'negative'}, {'category': 'Service', 'mention': 'обслуживанию', 'start': '555', 'end': '567', 'sentiment': 'neutral'}, {'category': 'Whole', 'mention': 'администрации', 'start': '573', 'end': '586', 'sentiment': 'negative'}, {'category': 'Whole', 'mention': 'ресторан', 'start': '610', 'end': '618', 'sentiment': 'neutral'}, {'category': 'Service', 'mention': 'официантов', 'start': '662', 'end': '672', 'sentiment': 'negative'}, {'category': 'Service', 'mention': 'поваров', 'start': '684', 'end': '691', 'sentiment': 'negative'}], '27816': [{'category': 'Whole', 'mention': 'ресторан', 'start': '46', 'end': '54', 'sentiment': 'positive'}, {'category': 'Food', 'mention': 'меню', 'start': '77', 'end': '81', 'sentiment': 'positive'}, {'category': 'Food', 'mention': 'кухня', 'start': '91', 'end': '96', 'sentiment': 'positive'}, {'category': 'Price', 'mention': 'цены', 'start': '119', 'end': '123', 'sentiment': 'positive'}, {'category': 'Food', 'mention': 'шашлык', 'start': '133', 'end': '139', 'sentiment': 'positive'}, {'category': 'Food', 'mention': 'ассортимент блюд', 'start': '149', 'end': '165', 'sentiment': 'positive'}, {'category': 'Interior', 'mention': 'Атмосфера', 'start': '226', 'end': '235', 'sentiment': 'positive'}, {'category': 'Interior', 'mention': 'обстановка', 'start': '275', 'end': '285', 'sentiment': 'positive'}, {'category': 'Service', 'mention': 'персонал', 'start': '300', 'end': '308', 'sentiment': 'positive'}, {'category': 'Interior', 'mention': 'развлекательная программа', 'start': '321', 'end': '346', 'sentiment': 'positive'}, {'category': 'Interior', 'mention': 'живая музыка', 'start': '349', 'end': '361', 'sentiment': 'positive'}, {'category': 'Food', 'mention': 'кальян', 'start': '593', 'end': '599', 'sentiment': 'positive'}, {'category': 'Price', 'mention': 'ценам', 'start': '614', 'end': '619', 'sentiment': 'positive'}], '18518': [{'category': 'Whole', 'mention': 'ресторане', 'start': '15', 'end': '24', 'sentiment': 'neutral'}, {'category': 'Service', 'mention': 'Обслуживанием', 'start': '33', 'end': '46', 'sentiment': 'positive'}, {'category': 'Service', 'mention': 'Официанты', 'start': '122', 'end': '131', 'sentiment': 'positive'}, {'category': 'Food', 'mention': 'Порции', 'start': '210', 'end': '216', 'sentiment': 'positive'}, {'category': 'Whole', 'mention': 'ресторан', 'start': '352', 'end': '360', 'sentiment': 'positive'}, {'category': 'Food', 'mention': 'Закуски', 'start': '402', 'end': '409', 'sentiment': 'neutral'}, {'category': 'Food', 'mention': 'салаты', 'start': '412', 'end': '418', 'sentiment': 'neutral'}, {'category': 'Food', 'mention': 'горячее', 'start': '438', 'end': '445', 'sentiment': 'neutral'}, {'category': 'Food', 'mention': 'мороженое', 'start': '497', 'end': '506', 'sentiment': 'neutral'}, {'category': 'Food', 'mention': 'мороженое', 'start': '528', 'end': '537', 'sentiment': 'positive'}], '36017': [{'category': 'Whole', 'mention': 'ресторан', 'start': '19', 'end': '27', 'sentiment': 'positive'}, {'category': 'Service', 'mention': 'встретил', 'start': '43', 'end': '51', 'sentiment': 'neutral'}, {'category': 'Service', 'mention': 'мужчина', 'start': '63', 'end': '70', 'sentiment': 'positive'}, {'category': 'Service', 'mention': 'мужчину', 'start': '186', 'end': '193', 'sentiment': 'neutral'}, {'category': 'Service', 'mention': 'хозяин', 'start': '217', 'end': '223', 'sentiment': 'neutral'}, {'category': 'Whole', 'mention': 'ресторан', 'start': '312', 'end': '320', 'sentiment': 'positive'}, {'category': 'Food', 'mention': 'блюда', 'start': '433', 'end': '438', 'sentiment': 'neutral'}, {'category': 'Food', 'mention': 'Меню ресторана', 'start': '440', 'end': '454', 'sentiment': 'neutral'}, {'category': 'Food', 'mention': 'салатами', 'start': '494', 'end': '502', 'sentiment': 'neutral'}, {'category': 'Food', 'mention': 'вторыми блюдами', 'start': '507', 'end': '522', 'sentiment': 'neutral'}, {'category': 'Food', 'mention': 'кухня', 'start': '586', 'end': '591', 'sentiment': 'positive'}, {'category': 'Food', 'mention': 'блюда', 'start': '616', 'end': '621', 'sentiment': 'positive'}, {'category': 'Food', 'mention': 'мраморную говядину', 'start': '679', 'end': '697', 'sentiment': 'positive'}, {'category': 'Whole', 'mention': 'ресторанах', 'start': '722', 'end': '732', 'sentiment': 'neutral'}, {'category': 'Food', 'mention': 'Блюдо', 'start': '769', 'end': '774', 'sentiment': 'positive'}, {'category': 'Food', 'mention': 'Порции', 'start': '805', 'end': '811', 'sentiment': 'positive'}, {'category': 'Food', 'mention': 'съесть', 'start': '863', 'end': '869', 'sentiment': 'neutral'}, {'category': 'Whole', 'mention': 'Ресторан', 'start': '884', 'end': '892', 'sentiment': 'positive'}, {'category': 'Service', 'mention': 'Обслуживание', 'start': '933', 'end': '945', 'sentiment': 'positive'}, {'category': 'Food', 'mention': 'кухня', 'start': '955', 'end': '960', 'sentiment': 'positive'}, {'category': 'Whole', 'mention': 'ресторан', 'start': '991', 'end': '999', 'sentiment': 'neutral'}, {'category': 'Price', 'mention': 'цену', 'start': '1075', 'end': '1079', 'sentiment': 'negative'}, {'category': 'Whole', 'mention': 'ресторан', 'start': '1084', 'end': '1092', 'sentiment': 'positive'}, {'category': 'Whole', 'mention': 'ресторан', 'start': '1139', 'end': '1147', 'sentiment': 'positive'}], '27629': [{'category': 'Whole', 'mention': 'ресторан', 'start': '27', 'end': '35', 'sentiment': 'neutral'}, {'category': 'Food', 'mention': 'китайскую кухню', 'start': '54', 'end': '69', 'sentiment': 'positive'}, {'category': 'Service', 'mention': 'Официантка', 'start': '192', 'end': '202', 'sentiment': 'negative'}, {'category': 'Service', 'mention': 'слушала', 'start': '238', 'end': '245', 'sentiment': 'negative'}, {'category': 'Food', 'mention': 'блюда китайской кухни', 'start': '437', 'end': '458', 'sentiment': 'negative'}, {'category': 'Food', 'mention': 'Кухня', 'start': '518', 'end': '523', 'sentiment': 'negative'}, {'category': 'Service', 'mention': 'обслуживание', 'start': '613', 'end': '625', 'sentiment': 'negative'}, {'category': 'Interior', 'mention': 'интерьер', 'start': '669', 'end': '677', 'sentiment': 'positive'}, {'category': 'Interior', 'mention': 'мебель', 'start': '699', 'end': '705', 'sentiment': 'negative'}, {'category': 'Whole', 'mention': 'заведение', 'start': '722', 'end': '731', 'sentiment': 'negative'}], '10645': [{'category': 'Food', 'mention': 'поужинать', 'start': '9', 'end': '18', 'sentiment': 'neutral'}, {'category': 'Service', 'mention': 'Столик не заказывали', 'start': '49', 'end': '69', 'sentiment': 'neutral'}, {'category': 'Service', 'mention': 'сервис', 'start': '75', 'end': '81', 'sentiment': 'positive'}, {'category': 'Interior', 'mention': 'Интерьер', 'start': '192', 'end': '200', 'sentiment': 'positive'}, {'category': 'Food', 'mention': 'Еда', 'start': '232', 'end': '235', 'sentiment': 'positive'}, {'category': 'Service', 'mention': 'Подача', 'start': '268', 'end': '274', 'sentiment': 'both'}, {'category': 'Food', 'mention': 'плова', 'start': '275', 'end': '280', 'sentiment': 'neutral'}, {'category': 'Food', 'mention': 'блюд из мяса', 'start': '411', 'end': '423', 'sentiment': 'positive'}, {'category': 'Whole', 'mention': 'ресторане', 'start': '432', 'end': '441', 'sentiment': 'neutral'}, {'category': 'Food', 'mention': 'шашлыку', 'start': '481', 'end': '488', 'sentiment': 'both'}, {'category': 'Food', 'mention': 'мяса', 'start': '510', 'end': '514', 'sentiment': 'both'}], '6366': [{'category': 'Whole', 'mention': 'заведение', 'start': '18', 'end': '27', 'sentiment': 'positive'}, {'category': 'Interior', 'mention': 'интерьер', 'start': '29', 'end': '37', 'sentiment': 'positive'}, {'category': 'Service', 'mention': 'Обслуживание', 'start': '51', 'end': '63', 'sentiment': 'positive'}, {'category': 'Service', 'mention': 'официантка', 'start': '103', 'end': '113', 'sentiment': 'positive'}, {'category': 'Food', 'mention': 'кухни', 'start': '134', 'end': '139', 'sentiment': 'neutral'}, {'category': 'Food', 'mention': 'мороженное', 'start': '183', 'end': '193', 'sentiment': 'neutral'}, {'category': 'Food', 'mention': 'блинчиками с мясом', 'start': '229', 'end': '247', 'sentiment': 'positive'}, {'category': 'Price', 'mention': 'цены', 'start': '276', 'end': '280', 'sentiment': 'positive'}, {'category': 'Interior', 'mention': 'интерьере', 'start': '292', 'end': '301', 'sentiment': 'positive'}, {'category': 'Food', 'mention': 'качестве блюд', 'start': '304', 'end': '317', 'sentiment': 'positive'}, {'category': 'Price', 'mention': 'цены', 'start': '330', 'end': '334', 'sentiment': 'negative'}], '8411': [{'category': 'Whole', 'mention': 'Санторини', 'start': '19', 'end': '28', 'sentiment': 'neutral'}, {'category': 'Service', 'mention': 'обслуживание', 'start': '39', 'end': '51', 'sentiment': 'positive'}, {'category': 'Service', 'mention': 'официант', 'start': '134', 'end': '142', 'sentiment': 'positive'}, {'category': 'Service', 'mention': 'Обслуживание', 'start': '144', 'end': '156', 'sentiment': 'positive'}, {'category': 'Service', 'mention': 'Все убирали', 'start': '194', 'end': '205', 'sentiment': 'positive'}, {'category': 'Food', 'mention': 'еды', 'start': '250', 'end': '253', 'sentiment': 'neutral'}, {'category': 'Food', 'mention': 'съели', 'start': '262', 'end': '267', 'sentiment': 'both'}, {'category': 'Whole', 'mention': 'ресторан', 'start': '426', 'end': '434', 'sentiment': 'neutral'}, {'category': 'Food', 'mention': 'покушали', 'start': '437', 'end': '445', 'sentiment': 'neutral'}, {'category': 'Price', 'mention': 'ценник', 'start': '482', 'end': '488', 'sentiment': 'negative'}, {'category': 'Service', 'mention': 'обслуживание', 'start': '530', 'end': '542', 'sentiment': 'positive'}, {'category': 'Whole', 'mention': 'Санторини', 'start': '587', 'end': '596', 'sentiment': 'positive'}, {'category': 'Food', 'mention': 'еда', 'start': '638', 'end': '641', 'sentiment': 'positive'}, {'category': 'Service', 'mention': 'обслуживание', 'start': '661', 'end': '673', 'sentiment': 'positive'}, {'category': 'Interior', 'mention': 'места для танцев', 'start': '690', 'end': '706', 'sentiment': 'positive'}, {'category': 'Service', 'mention': 'персоналу', 'start': '769', 'end': '778', 'sentiment': 'positive'}], '18003': [{'category': 'Whole', 'mention': 'заведение', 'start': '16', 'end': '25', 'sentiment': 'neutral'}, {'category': 'Interior', 'mention': 'интерьера', 'start': '198', 'end': '207', 'sentiment': 'neutral'}, {'category': 'Whole', 'mention': 'мест', 'start': '269', 'end': '273', 'sentiment': 'positive'}, {'category': 'Service', 'mention': 'встретили', 'start': '326', 'end': '335', 'sentiment': 'positive'}, {'category': 'Service', 'mention': 'проводили к столику', 'start': '342', 'end': '361', 'sentiment': 'positive'}, {'category': 'Service', 'mention': 'официантка', 'start': '365', 'end': '375', 'sentiment': 'positive'}, {'category': 'Service', 'mention': 'приветливая', 'start': '401', 'end': '412', 'sentiment': 'positive'}, {'category': 'Service', 'mention': 'работу она выполняла', 'start': '486', 'end': '506', 'sentiment': 'positive'}, {'category': 'Food', 'mention': 'кухни', 'start': '544', 'end': '549', 'sentiment': 'neutral'}, {'category': 'Food', 'mention': 'блюд', 'start': '640', 'end': '644', 'sentiment': 'positive'}, {'category': 'Food', 'mention': 'на вкус', 'start': '696', 'end': '703', 'sentiment': 'negative'}, {'category': 'Food', 'mention': 'мясо', 'start': '825', 'end': '829', 'sentiment': 'negative'}, {'category': 'Food', 'mention': 'рыба', 'start': '843', 'end': '847', 'sentiment': 'negative'}, {'category': 'Food', 'mention': 'спиртных напитках', 'start': '879', 'end': '896', 'sentiment': 'positive'}, {'category': 'Food', 'mention': 'Винная карта', 'start': '898', 'end': '910', 'sentiment': 'positive'}, {'category': 'Food', 'mention': 'качество вин', 'start': '923', 'end': '935', 'sentiment': 'positive'}], '19677': [{'category': 'Whole', 'mention': 'кафе', 'start': '47', 'end': '51', 'sentiment': 'positive'}, {'category': 'Food', 'mention': 'кухня', 'start': '154', 'end': '159', 'sentiment': 'positive'}, {'category': 'Food', 'mention': 'порции', 'start': '169', 'end': '175', 'sentiment': 'positive'}, {'category': 'Food', 'mention': 'салаты', 'start': '188', 'end': '194', 'sentiment': 'positive'}, {'category': 'Food', 'mention': 'горячее', 'start': '197', 'end': '204', 'sentiment': 'positive'}, {'category': 'Price', 'mention': 'цену', 'start': '262', 'end': '266', 'sentiment': 'positive'}, {'category': 'Service', 'mention': 'обслуживание', 'start': '296', 'end': '308', 'sentiment': 'positive'}, {'category': 'Service', 'mention': 'администратору', 'start': '328', 'end': '342', 'sentiment': 'positive'}, {'category': 'Food', 'mention': 'торт', 'start': '416', 'end': '420', 'sentiment': 'positive'}, {'category': 'Whole', 'mention': 'кафе', 'start': '465', 'end': '469', 'sentiment': 'positive'}], '11388': [{'category': 'Whole', 'mention': 'ресторан', 'start': '41', 'end': '49', 'sentiment': 'neutral'}, {'category': 'Interior', 'mention': 'Интерьер', 'start': '79', 'end': '87', 'sentiment': 'positive'}, {'category': 'Food', 'mention': 'Кухня', 'start': '109', 'end': '114', 'sentiment': 'positive'}, {'category': 'Interior', 'mention': 'музыкальный коллектив', 'start': '228', 'end': '249', 'sentiment': 'positive'}, {'category': 'Interior', 'mention': 'музыка', 'start': '259', 'end': '265', 'sentiment': 'positive'}, {'category': 'Service', 'mention': 'обслуживанию', 'start': '270', 'end': '282', 'sentiment': 'positive'}, {'category': 'Service', 'mention': 'встретили', 'start': '305', 'end': '314', 'sentiment': 'positive'}, {'category': 'Service', 'mention': 'проводили за столик', 'start': '316', 'end': '335', 'sentiment': 'positive'}, {'category': 'Interior', 'mention': 'VIP зоне', 'start': '361', 'end': '369', 'sentiment': 'neutral'}, {'category': 'Service', 'mention': 'Официанты', 'start': '392', 'end': '401', 'sentiment': 'positive'}, {'category': 'Whole', 'mention': 'место', 'start': '484', 'end': '489', 'sentiment': 'positive'}], '6376': [{'category': 'Whole', 'mention': 'место', 'start': '35', 'end': '40', 'sentiment': 'positive'}, {'category': 'Whole', 'mention': 'ресторан', 'start': '119', 'end': '127', 'sentiment': 'positive'}, {'category': 'Whole', 'mention': 'ресторанов', 'start': '239', 'end': '249', 'sentiment': 'neutral'}, {'category': 'Food', 'mention': 'блюд', 'start': '267', 'end': '271', 'sentiment': 'neutral'}, {'category': 'Food', 'mention': 'кухня', 'start': '318', 'end': '323', 'sentiment': 'positive'}, {'category': 'Service', 'mention': 'обслуживанием', 'start': '338', 'end': '351', 'sentiment': 'positive'}, {'category': 'Food', 'mention': 'меню', 'start': '355', 'end': '359', 'sentiment': 'positive'}, {'category': 'Service', 'mention': 'Обслуживала', 'start': '434', 'end': '445', 'sentiment': 'positive'}, {'category': 'Service', 'mention': 'официантка', 'start': '459', 'end': '469', 'sentiment': 'positive'}, {'category': 'Food', 'mention': 'блюда', 'start': '526', 'end': '531', 'sentiment': 'neutral'}, {'category': 'Food', 'mention': 'еде', 'start': '603', 'end': '606', 'sentiment': 'neutral'}, {'category': 'Service', 'mention': 'посоветовала', 'start': '609', 'end': '621', 'sentiment': 'positive'}, {'category': 'Interior', 'mention': 'интерьере', 'start': '676', 'end': '685', 'sentiment': 'positive'}, {'category': 'Interior', 'mention': 'музыка', 'start': '734', 'end': '740', 'sentiment': 'positive'}, {'category': 'Interior', 'mention': 'караоке-программа', 'start': '758', 'end': '775', 'sentiment': 'positive'}, {'category': 'Food', 'mention': 'блюд', 'start': '847', 'end': '851', 'sentiment': 'neutral'}, {'category': 'Food', 'mention': 'салат из тунца', 'start': '863', 'end': '877', 'sentiment': 'neutral'}, {'category': 'Food', 'mention': 'салат из лисичек с кроличьей печенью', 'start': '879', 'end': '915', 'sentiment': 'neutral'}, {'category': 'Food', 'mention': 'салат из лосося', 'start': '935', 'end': '950', 'sentiment': 'positive'}], '24214': [{'category': 'Whole', 'mention': 'ресторан', 'start': '9', 'end': '17', 'sentiment': 'neutral'}, {'category': 'Interior', 'mention': 'народу было не очень много', 'start': '114', 'end': '140', 'sentiment': 'positive'}, {'category': 'Price', 'mention': 'цены', 'start': '181', 'end': '185', 'sentiment': 'negative'}, {'category': 'Food', 'mention': 'салатов', 'start': '265', 'end': '272', 'sentiment': 'negative'}, {'category': 'Food', 'mention': 'порции', 'start': '273', 'end': '279', 'sentiment': 'negative'}, {'category': 'Food', 'mention': 'мясо', 'start': '293', 'end': '297', 'sentiment': 'negative'}], '31963': [{'category': 'Whole', 'mention': 'ресторан', 'start': '12', 'end': '20', 'sentiment': 'neutral'}, {'category': 'Interior', 'mention': 'интерьер', 'start': '45', 'end': '53', 'sentiment': 'neutral'}, {'category': 'Service', 'mention': 'охранник', 'start': '55', 'end': '63', 'sentiment': 'neutral'}, {'category': 'Service', 'mention': 'администратор', 'start': '78', 'end': '91', 'sentiment': 'positive'}, {'category': 'Service', 'mention': 'официанта', 'start': '168', 'end': '177', 'sentiment': 'neutral'}, {'category': 'Food', 'mention': 'еду', 'start': '229', 'end': '232', 'sentiment': 'neutral'}, {'category': 'Interior', 'mention': 'Обстановка в ресторане', 'start': '254', 'end': '276', 'sentiment': 'positive'}, {'category': 'Food', 'mention': 'кухню', 'start': '323', 'end': '328', 'sentiment': 'neutral'}, {'category': 'Food', 'mention': 'блюда', 'start': '359', 'end': '364', 'sentiment': 'positive'}, {'category': 'Food', 'mention': 'повара', 'start': '402', 'end': '408', 'sentiment': 'both'}, {'category': 'Whole', 'mention': 'ресторане', 'start': '518', 'end': '527', 'sentiment': 'neutral'}, {'category': 'Food', 'mention': 'горячее', 'start': '567', 'end': '574', 'sentiment': 'both'}, {'category': 'Food', 'mention': 'мясное блюдо', 'start': '649', 'end': '661', 'sentiment': 'positive'}, {'category': 'Food', 'mention': 'мясо', 'start': '732', 'end': '736', 'sentiment': 'negative'}, {'category': 'Whole', 'mention': 'заведение', 'start': '836', 'end': '845', 'sentiment': 'positive'}], '3152': [{'category': 'Whole', 'mention': 'ресторане', 'start': '33', 'end': '42', 'sentiment': 'neutral'}, {'category': 'Interior', 'mention': 'нижнем зале', 'start': '92', 'end': '103', 'sentiment': 'neutral'}, {'category': 'Interior', 'mention': 'обстановка ресторана', 'start': '122', 'end': '142', 'sentiment': 'positive'}, {'category': 'Interior', 'mention': 'интерьер', 'start': '161', 'end': '169', 'sentiment': 'positive'}, {'category': 'Food', 'mention': 'кормили', 'start': '196', 'end': '203', 'sentiment': 'positive'}, {'category': 'Food', 'mention': 'еды', 'start': '297', 'end': '300', 'sentiment': 'neutral'}, {'category': 'Food', 'mention': 'доедали', 'start': '303', 'end': '310', 'sentiment': 'positive'}, {'category': 'Food', 'mention': 'меню', 'start': '336', 'end': '340', 'sentiment': 'neutral'}, {'category': 'Food', 'mention': 'салат \"Лагуна\"', 'start': '363', 'end': '377', 'sentiment': 'positive'}, {'category': 'Food', 'mention': 'баклажаны', 'start': '379', 'end': '388', 'sentiment': 'positive'}, {'category': 'Food', 'mention': 'рулетики с грибами', 'start': '391', 'end': '409', 'sentiment': 'positive'}, {'category': 'Food', 'mention': 'горячее', 'start': '414', 'end': '421', 'sentiment': 'neutral'}, {'category': 'Food', 'mention': 'мясо', 'start': '427', 'end': '431', 'sentiment': 'neutral'}, {'category': 'Food', 'mention': 'рыба', 'start': '434', 'end': '438', 'sentiment': 'neutral'}, {'category': 'Food', 'mention': 'рыбу-стейк из форели', 'start': '459', 'end': '479', 'sentiment': 'positive'}, {'category': 'Food', 'mention': 'блюдо', 'start': '495', 'end': '500', 'sentiment': 'positive'}, {'category': 'Service', 'mention': 'обслуживание', 'start': '537', 'end': '549', 'sentiment': 'positive'}, {'category': 'Service', 'mention': 'отношение персонала', 'start': '552', 'end': '571', 'sentiment': 'positive'}, {'category': 'Service', 'mention': 'тамаду', 'start': '599', 'end': '605', 'sentiment': 'neutral'}, {'category': 'Whole', 'mention': 'рестораном', 'start': '621', 'end': '631', 'sentiment': 'neutral'}, {'category': 'Service', 'mention': 'человек', 'start': '667', 'end': '674', 'sentiment': 'positive'}, {'category': 'Service', 'mention': 'Директор', 'start': '725', 'end': '733', 'sentiment': 'positive'}, {'category': 'Service', 'mention': 'человек', 'start': '745', 'end': '752', 'sentiment': 'positive'}, {'category': 'Whole', 'mention': 'отдохнули', 'start': '868', 'end': '877', 'sentiment': 'positive'}, {'category': 'Whole', 'mention': 'ресторана', 'start': '1043', 'end': '1052', 'sentiment': 'positive'}], '10663': [{'category': 'Whole', 'mention': 'Дачи', 'start': '17', 'end': '21', 'sentiment': 'neutral'}, {'category': 'Whole', 'mention': 'ресторана', 'start': '43', 'end': '52', 'sentiment': 'neutral'}, {'category': 'Service', 'mention': 'отношение', 'start': '112', 'end': '121', 'sentiment': 'positive'}, {'category': 'Service', 'mention': 'мужчина из гардероба', 'start': '149', 'end': '169', 'sentiment': 'positive'}, {'category': 'Service', 'mention': 'администратора', 'start': '214', 'end': '228', 'sentiment': 'positive'}, {'category': 'Service', 'mention': 'девушка', 'start': '245', 'end': '252', 'sentiment': 'positive'}, {'category': 'Service', 'mention': 'рассказала', 'start': '258', 'end': '268', 'sentiment': 'positive'}, {'category': 'Service', 'mention': 'показала', 'start': '270', 'end': '278', 'sentiment': 'positive'}, {'category': 'Service', 'mention': 'Девушки официантки', 'start': '451', 'end': '469', 'sentiment': 'positive'}, {'category': 'Service', 'mention': 'здороваются', 'start': '474', 'end': '485', 'sentiment': 'positive'}, {'category': 'Interior', 'mention': 'интерьер', 'start': '499', 'end': '507', 'sentiment': 'positive'}, {'category': 'Food', 'mention': 'пообедать', 'start': '538', 'end': '547', 'sentiment': 'neutral'}, {'category': 'Service', 'mention': 'встреча', 'start': '564', 'end': '571', 'sentiment': 'positive'}, {'category': 'Food', 'mention': 'попили', 'start': '641', 'end': '647', 'sentiment': 'positive'}, {'category': 'Food', 'mention': 'чая', 'start': '657', 'end': '660', 'sentiment': 'positive'}, {'category': 'Service', 'mention': 'Девушка официантка', 'start': '674', 'end': '692', 'sentiment': 'positive'}, {'category': 'Service', 'mention': 'обслуживание', 'start': '732', 'end': '744', 'sentiment': 'positive'}, {'category': 'Food', 'mention': 'Кухня', 'start': '773', 'end': '778', 'sentiment': 'positive'}, {'category': 'Food', 'mention': 'Мясо', 'start': '794', 'end': '798', 'sentiment': 'positive'}, {'category': 'Food', 'mention': 'Порции', 'start': '843', 'end': '849', 'sentiment': 'positive'}, {'category': 'Whole', 'mention': 'ресторана', 'start': '910', 'end': '919', 'sentiment': 'positive'}, {'category': 'Whole', 'mention': 'место', 'start': '1093', 'end': '1098', 'sentiment': 'positive'}], '25709': [{'category': 'Service', 'mention': 'девушки', 'start': '168', 'end': '175', 'sentiment': 'positive'}, {'category': 'Whole', 'mention': 'заведения', 'start': '302', 'end': '311', 'sentiment': 'neutral'}, {'category': 'Interior', 'mention': 'диваны', 'start': '347', 'end': '353', 'sentiment': 'positive'}, {'category': 'Interior', 'mention': 'подушек', 'start': '365', 'end': '372', 'sentiment': 'positive'}, {'category': 'Interior', 'mention': 'музыка', 'start': '402', 'end': '408', 'sentiment': 'positive'}, {'category': 'Interior', 'mention': 'полумрак', 'start': '418', 'end': '426', 'sentiment': 'positive'}, {'category': 'Service', 'mention': 'обслуживало', 'start': '442', 'end': '453', 'sentiment': 'neutral'}, {'category': 'Service', 'mention': 'официанта', 'start': '458', 'end': '467', 'sentiment': 'neutral'}, {'category': 'Food', 'mention': 'вина', 'start': '583', 'end': '587', 'sentiment': 'neutral'}, {'category': 'Food', 'mention': 'коктейльным напитком', 'start': '597', 'end': '617', 'sentiment': 'neutral'}, {'category': 'Food', 'mention': 'Медальоны из говядины с запеченным картофелем', 'start': '666', 'end': '711', 'sentiment': 'positive'}, {'category': 'Food', 'mention': 'рыбы', 'start': '763', 'end': '767', 'sentiment': 'neutral'}, {'category': 'Food', 'mention': 'приготовленное', 'start': '799', 'end': '813', 'sentiment': 'positive'}, {'category': 'Food', 'mention': 'мясо', 'start': '814', 'end': '818', 'sentiment': 'positive'}, {'category': 'Service', 'mention': 'Заказ принесли', 'start': '820', 'end': '834', 'sentiment': 'positive'}, {'category': 'Service', 'mention': 'обслуживании', 'start': '885', 'end': '897', 'sentiment': 'positive'}, {'category': 'Whole', 'mention': 'ресторане', 'start': '964', 'end': '973', 'sentiment': 'positive'}, {'category': 'Whole', 'mention': 'заведения', 'start': '1102', 'end': '1111', 'sentiment': 'positive'}], '719': [{'category': 'Service', 'mention': 'Заказали столик', 'start': '51', 'end': '66', 'sentiment': 'neutral'}, {'category': 'Food', 'mention': 'Пиво хугарден', 'start': '186', 'end': '199', 'sentiment': 'positive'}, {'category': 'Interior', 'mention': 'бокалах', 'start': '221', 'end': '228', 'sentiment': 'positive'}, {'category': 'Food', 'mention': 'Ели', 'start': '230', 'end': '233', 'sentiment': 'positive'}, {'category': 'Food', 'mention': 'салаты', 'start': '234', 'end': '240', 'sentiment': 'positive'}, {'category': 'Food', 'mention': 'стейки', 'start': '242', 'end': '248', 'sentiment': 'positive'}, {'category': 'Food', 'mention': 'пили', 'start': '250', 'end': '254', 'sentiment': 'positive'}, {'category': 'Food', 'mention': 'водку', 'start': '255', 'end': '260', 'sentiment': 'positive'}, {'category': 'Food', 'mention': 'пиво', 'start': '262', 'end': '266', 'sentiment': 'positive'}, {'category': 'Food', 'mention': 'коктейли', 'start': '268', 'end': '276', 'sentiment': 'positive'}, {'category': 'Food', 'mention': 'соленые грибы', 'start': '323', 'end': '336', 'sentiment': 'negative'}, {'category': 'Food', 'mention': 'соленые', 'start': '390', 'end': '397', 'sentiment': 'negative'}, {'category': 'Food', 'mention': 'Селедка', 'start': '399', 'end': '406', 'sentiment': 'positive'}, {'category': 'Food', 'mention': 'мясная нарезка', 'start': '409', 'end': '423', 'sentiment': 'positive'}, {'category': 'Service', 'mention': 'Официанты', 'start': '440', 'end': '449', 'sentiment': 'positive'}, {'category': 'Whole', 'mention': 'заведение', 'start': '548', 'end': '557', 'sentiment': 'positive'}], '34607': [{'category': 'Whole', 'mention': 'ресторане', 'start': '6', 'end': '15', 'sentiment': 'neutral'}, {'category': 'Interior', 'mention': 'Обстановка', 'start': '46', 'end': '56', 'sentiment': 'positive'}, {'category': 'Interior', 'mention': 'фонтан в центре зала', 'start': '176', 'end': '196', 'sentiment': 'negative'}, {'category': 'Interior', 'mention': 'музыкой', 'start': '207', 'end': '214', 'sentiment': 'negative'}, {'category': 'Service', 'mention': 'Заказ приняли', 'start': '227', 'end': '240', 'sentiment': 'positive'}, {'category': 'Service', 'mention': 'сервис', 'start': '264', 'end': '270', 'sentiment': 'negative'}, {'category': 'Service', 'mention': 'принесли', 'start': '319', 'end': '327', 'sentiment': 'neutral'}, {'category': 'Food', 'mention': 'салат', 'start': '328', 'end': '333', 'sentiment': 'neutral'}, {'category': 'Food', 'mention': 'готовят', 'start': '339', 'end': '346', 'sentiment': 'negative'}, {'category': 'Food', 'mention': 'Рис', 'start': '379', 'end': '382', 'sentiment': 'neutral'}, {'category': 'Food', 'mention': 'чаем', 'start': '404', 'end': '408', 'sentiment': 'neutral'}, {'category': 'Whole', 'mention': 'китайский ресторан', 'start': '438', 'end': '456', 'sentiment': 'positive'}, {'category': 'Food', 'mention': 'блюда', 'start': '482', 'end': '487', 'sentiment': 'positive'}, {'category': 'Food', 'mention': 'рис', 'start': '567', 'end': '570', 'sentiment': 'negative'}, {'category': 'Food', 'mention': 'рис', 'start': '659', 'end': '662', 'sentiment': 'negative'}, {'category': 'Service', 'mention': 'официантка', 'start': '754', 'end': '764', 'sentiment': 'negative'}, {'category': 'Service', 'mention': 'обслужили', 'start': '793', 'end': '802', 'sentiment': 'positive'}, {'category': 'Whole', 'mention': 'ресторане', 'start': '881', 'end': '890', 'sentiment': 'neutral'}], '13225': [{'category': 'Whole', 'mention': 'паб', 'start': '9', 'end': '12', 'sentiment': 'positive'}, {'category': 'Interior', 'mention': 'интерьер', 'start': '73', 'end': '81', 'sentiment': 'positive'}, {'category': 'Food', 'mention': 'пиво', 'start': '97', 'end': '101', 'sentiment': 'positive'}, {'category': 'Food', 'mention': 'кухня', 'start': '123', 'end': '128', 'sentiment': 'positive'}, {'category': 'Food', 'mention': 'блюда', 'start': '159', 'end': '164', 'sentiment': 'positive'}, {'category': 'Whole', 'mention': 'паб', 'start': '219', 'end': '222', 'sentiment': 'positive'}, {'category': 'Interior', 'mention': 'атмосфера', 'start': '334', 'end': '343', 'sentiment': 'positive'}, {'category': 'Whole', 'mention': 'заведения', 'start': '344', 'end': '353', 'sentiment': 'positive'}], '37516': [{'category': 'Whole', 'mention': 'ресторане', 'start': '51', 'end': '60', 'sentiment': 'neutral'}, {'category': 'Service', 'mention': 'забронировали стол', 'start': '112', 'end': '130', 'sentiment': 'neutral'}, {'category': 'Whole', 'mention': 'ресторан', 'start': '166', 'end': '174', 'sentiment': 'neutral'}, {'category': 'Service', 'mention': 'встретил', 'start': '183', 'end': '191', 'sentiment': 'positive'}, {'category': 'Service', 'mention': 'администратор', 'start': '192', 'end': '205', 'sentiment': 'neutral'}, {'category': 'Service', 'mention': 'девушка', 'start': '219', 'end': '226', 'sentiment': 'positive'}, {'category': 'Whole', 'mention': 'провели время', 'start': '306', 'end': '319', 'sentiment': 'positive'}, {'category': 'Food', 'mention': 'еда', 'start': '329', 'end': '332', 'sentiment': 'positive'}, {'category': 'Service', 'mention': 'обслуживание', 'start': '343', 'end': '355', 'sentiment': 'positive'}, {'category': 'Interior', 'mention': 'музыка', 'start': '366', 'end': '372', 'sentiment': 'positive'}, {'category': 'Interior', 'mention': 'обстановка', 'start': '386', 'end': '396', 'sentiment': 'positive'}], '37473': [{'category': 'Whole', 'mention': 'заведения', 'start': '43', 'end': '52', 'sentiment': 'neutral'}, {'category': 'Service', 'mention': 'заказать столик', 'start': '60', 'end': '75', 'sentiment': 'neutral'}, {'category': 'Whole', 'mention': 'ресторан', 'start': '239', 'end': '247', 'sentiment': 'neutral'}, {'category': 'Food', 'mention': 'пили', 'start': '360', 'end': '364', 'sentiment': 'negative'}, {'category': 'Food', 'mention': 'пиво', 'start': '365', 'end': '369', 'sentiment': 'neutral'}, {'category': 'Food', 'mention': 'пили', 'start': '384', 'end': '388', 'sentiment': 'neutral'}, {'category': 'Food', 'mention': 'красное вино', 'start': '389', 'end': '401', 'sentiment': 'positive'}, {'category': 'Food', 'mention': 'роллы', 'start': '426', 'end': '431', 'sentiment': 'neutral'}, {'category': 'Food', 'mention': 'филадельфию', 'start': '446', 'end': '457', 'sentiment': 'neutral'}, {'category': 'Food', 'mention': 'острые', 'start': '460', 'end': '466', 'sentiment': 'neutral'}, {'category': 'Food', 'mention': 'запеченные', 'start': '467', 'end': '477', 'sentiment': 'neutral'}, {'category': 'Food', 'mention': 'супы', 'start': '493', 'end': '497', 'sentiment': 'positive'}, {'category': 'Food', 'mention': 'горячее', 'start': '524', 'end': '531', 'sentiment': 'neutral'}, {'category': 'Food', 'mention': 'перечный стейк', 'start': '539', 'end': '553', 'sentiment': 'positive'}, {'category': 'Interior', 'mention': 'живой музыки', 'start': '729', 'end': '741', 'sentiment': 'positive'}, {'category': 'Whole', 'mention': 'место', 'start': '767', 'end': '772', 'sentiment': 'positive'}, {'category': 'Price', 'mention': 'деньги', 'start': '792', 'end': '798', 'sentiment': 'positive'}], '34282': [{'category': 'Whole', 'mention': 'ресторан', 'start': '31', 'end': '39', 'sentiment': 'neutral'}, {'category': 'Service', 'mention': 'обслуживание', 'start': '96', 'end': '108', 'sentiment': 'negative'}, {'category': 'Service', 'mention': 'подойдет', 'start': '156', 'end': '164', 'sentiment': 'neutral'}, {'category': 'Service', 'mention': 'принесет меню', 'start': '167', 'end': '180', 'sentiment': 'neutral'}, {'category': 'Food', 'mention': 'блюда', 'start': '301', 'end': '306', 'sentiment': 'neutral'}, {'category': 'Food', 'mention': 'цезарь', 'start': '359', 'end': '365', 'sentiment': 'neutral'}, {'category': 'Food', 'mention': 'морс', 'start': '368', 'end': '372', 'sentiment': 'neutral'}, {'category': 'Food', 'mention': 'пасту', 'start': '380', 'end': '385', 'sentiment': 'neutral'}, {'category': 'Food', 'mention': 'блины', 'start': '387', 'end': '392', 'sentiment': 'neutral'}, {'category': 'Food', 'mention': 'морс', 'start': '395', 'end': '399', 'sentiment': 'neutral'}, {'category': 'Food', 'mention': 'салат', 'start': '434', 'end': '439', 'sentiment': 'neutral'}, {'category': 'Food', 'mention': 'блины', 'start': '462', 'end': '467', 'sentiment': 'neutral'}, {'category': 'Food', 'mention': 'морс', 'start': '493', 'end': '497', 'sentiment': 'neutral'}, {'category': 'Food', 'mention': 'хлеб', 'start': '500', 'end': '504', 'sentiment': 'neutral'}, {'category': 'Food', 'mention': 'морс', 'start': '544', 'end': '548', 'sentiment': 'neutral'}, {'category': 'Food', 'mention': 'пасты', 'start': '581', 'end': '586', 'sentiment': 'neutral'}, {'category': 'Service', 'mention': 'принесут', 'start': '676', 'end': '684', 'sentiment': 'positive'}, {'category': 'Food', 'mention': 'пасту', 'start': '685', 'end': '690', 'sentiment': 'neutral'}, {'category': 'Food', 'mention': 'поесть', 'start': '720', 'end': '726', 'sentiment': 'neutral'}, {'category': 'Price', 'mention': 'Заплатили', 'start': '728', 'end': '737', 'sentiment': 'neutral'}, {'category': 'Food', 'mention': 'пасту', 'start': '748', 'end': '753', 'sentiment': 'neutral'}, {'category': 'Food', 'mention': 'попробовать', 'start': '791', 'end': '802', 'sentiment': 'positive'}, {'category': 'Food', 'mention': 'кухне', 'start': '832', 'end': '837', 'sentiment': 'positive'}, {'category': 'Service', 'mention': 'сервис', 'start': '860', 'end': '866', 'sentiment': 'negative'}, {'category': 'Whole', 'mention': 'ресторан', 'start': '894', 'end': '902', 'sentiment': 'both'}, {'category': 'Food', 'mention': 'поесть', 'start': '1031', 'end': '1037', 'sentiment': 'negative'}], '34232': [{'category': 'Interior', 'mention': 'диванчики', 'start': '144', 'end': '153', 'sentiment': 'positive'}, {'category': 'Service', 'mention': 'Официант-бармен', 'start': '191', 'end': '206', 'sentiment': 'positive'}, {'category': 'Whole', 'mention': 'заведения', 'start': '224', 'end': '233', 'sentiment': 'positive'}, {'category': 'Service', 'mention': 'Заказ приняли', 'start': '236', 'end': '249', 'sentiment': 'positive'}, {'category': 'Service', 'mention': 'принесли', 'start': '258', 'end': '266', 'sentiment': 'positive'}, {'category': 'Food', 'mention': 'Лимонад', 'start': '273', 'end': '280', 'sentiment': 'neutral'}, {'category': 'Food', 'mention': 'салат', 'start': '288', 'end': '293', 'sentiment': 'neutral'}, {'category': 'Food', 'mention': 'стейк', 'start': '301', 'end': '306', 'sentiment': 'neutral'}, {'category': 'Food', 'mention': 'кофе', 'start': '314', 'end': '318', 'sentiment': 'neutral'}, {'category': 'Food', 'mention': 'Еда', 'start': '378', 'end': '381', 'sentiment': 'positive'}, {'category': 'Food', 'mention': 'Стейк', 'start': '406', 'end': '411', 'sentiment': 'positive'}, {'category': 'Food', 'mention': 'стейком', 'start': '423', 'end': '430', 'sentiment': 'positive'}, {'category': 'Food', 'mention': 'куском жаренного мяса', 'start': '437', 'end': '458', 'sentiment': 'negative'}, {'category': 'Interior', 'mention': 'приборы', 'start': '468', 'end': '475', 'sentiment': 'positive'}, {'category': 'Interior', 'mention': 'посуда', 'start': '483', 'end': '489', 'sentiment': 'positive'}, {'category': 'Interior', 'mention': 'интерьер', 'start': '502', 'end': '510', 'sentiment': 'positive'}, {'category': 'Price', 'mention': 'Чек', 'start': '543', 'end': '546', 'sentiment': 'positive'}, {'category': 'Food', 'mention': 'Кофе', 'start': '585', 'end': '589', 'sentiment': 'positive'}, {'category': 'Whole', 'mention': 'заведение', 'start': '629', 'end': '638', 'sentiment': 'positive'}], '19265': [{'category': 'Whole', 'mention': 'заведение', 'start': '34', 'end': '43', 'sentiment': 'neutral'}, {'category': 'Whole', 'mention': 'место', 'start': '95', 'end': '100', 'sentiment': 'positive'}, {'category': 'Whole', 'mention': 'место', 'start': '121', 'end': '126', 'sentiment': 'positive'}, {'category': 'Whole', 'mention': 'место', 'start': '198', 'end': '203', 'sentiment': 'positive'}, {'category': 'Interior', 'mention': 'интерьер', 'start': '216', 'end': '224', 'sentiment': 'positive'}, {'category': 'Service', 'mention': 'Персонал', 'start': '275', 'end': '283', 'sentiment': 'positive'}, {'category': 'Food', 'mention': 'Еда', 'start': '309', 'end': '312', 'sentiment': 'positive'}, {'category': 'Food', 'mention': 'порции', 'start': '341', 'end': '347', 'sentiment': 'positive'}, {'category': 'Whole', 'mention': 'ресторана', 'start': '388', 'end': '397', 'sentiment': 'negative'}], '22975': [{'category': 'Whole', 'mention': 'ресторан', 'start': '24', 'end': '32', 'sentiment': 'neutral'}, {'category': 'Interior', 'mention': 'основной зал', 'start': '59', 'end': '71', 'sentiment': 'negative'}, {'category': 'Service', 'mention': 'няня', 'start': '143', 'end': '147', 'sentiment': 'positive'}, {'category': 'Food', 'mention': 'ужинали', 'start': '156', 'end': '163', 'sentiment': 'positive'}, {'category': 'Food', 'mention': 'детское меню', 'start': '202', 'end': '214', 'sentiment': 'positive'}, {'category': 'Interior', 'mention': 'музыка', 'start': '219', 'end': '225', 'sentiment': 'both'}, {'category': 'Service', 'mention': 'Обслуживал', 'start': '301', 'end': '311', 'sentiment': 'positive'}, {'category': 'Service', 'mention': 'молодой человек', 'start': '327', 'end': '342', 'sentiment': 'positive'}, {'category': 'Food', 'mention': 'блюда', 'start': '394', 'end': '399', 'sentiment': 'positive'}, {'category': 'Food', 'mention': 'Кухня', 'start': '401', 'end': '406', 'sentiment': 'positive'}, {'category': 'Food', 'mention': 'шашлык', 'start': '484', 'end': '490', 'sentiment': 'positive'}, {'category': 'Food', 'mention': 'выбор салатов', 'start': '504', 'end': '517', 'sentiment': 'positive'}, {'category': 'Food', 'mention': 'выбор алкоголя', 'start': '536', 'end': '550', 'sentiment': 'positive'}, {'category': 'Price', 'mention': 'цена', 'start': '557', 'end': '561', 'sentiment': 'positive'}], '22015': [{'category': 'Whole', 'mention': 'заведение', 'start': '12', 'end': '21', 'sentiment': 'negative'}, {'category': 'Whole', 'mention': 'место', 'start': '65', 'end': '70', 'sentiment': 'negative'}, {'category': 'Interior', 'mention': 'зал для курящих', 'start': '171', 'end': '186', 'sentiment': 'neutral'}, {'category': 'Food', 'mention': 'бизнес-ланч', 'start': '244', 'end': '255', 'sentiment': 'neutral'}, {'category': 'Service', 'mention': 'Заказ был принят', 'start': '315', 'end': '331', 'sentiment': 'negative'}, {'category': 'Service', 'mention': 'официанту', 'start': '355', 'end': '364', 'sentiment': 'negative'}, {'category': 'Food', 'mention': 'чай', 'start': '405', 'end': '408', 'sentiment': 'negative'}, {'category': 'Food', 'mention': 'хлеб', 'start': '446', 'end': '450', 'sentiment': 'neutral'}, {'category': 'Service', 'mention': 'обслуживанием', 'start': '522', 'end': '535', 'sentiment': 'negative'}, {'category': 'Whole', 'mention': 'заведения', 'start': '538', 'end': '547', 'sentiment': 'negative'}, {'category': 'Food', 'mention': 'кушали', 'start': '628', 'end': '634', 'sentiment': 'neutral'}, {'category': 'Whole', 'mention': 'заведении', 'start': '670', 'end': '679', 'sentiment': 'negative'}, {'category': 'Interior', 'mention': 'Интерьер', 'start': '770', 'end': '778', 'sentiment': 'positive'}, {'category': 'Interior', 'mention': 'диванчики', 'start': '790', 'end': '799', 'sentiment': 'negative'}], '8555': [{'category': 'Whole', 'mention': 'место', 'start': '12', 'end': '17', 'sentiment': 'neutral'}, {'category': 'Food', 'mention': 'кухня', 'start': '122', 'end': '127', 'sentiment': 'positive'}, {'category': 'Whole', 'mention': 'заведении', 'start': '135', 'end': '144', 'sentiment': 'neutral'}, {'category': 'Food', 'mention': 'блюд', 'start': '234', 'end': '238', 'sentiment': 'neutral'}, {'category': 'Food', 'mention': 'пасту', 'start': '265', 'end': '270', 'sentiment': 'positive'}, {'category': 'Food', 'mention': 'вкус', 'start': '345', 'end': '349', 'sentiment': 'positive'}, {'category': 'Food', 'mention': 'Порции', 'start': '370', 'end': '376', 'sentiment': 'positive'}, {'category': 'Food', 'mention': 'блюд', 'start': '433', 'end': '437', 'sentiment': 'positive'}, {'category': 'Food', 'mention': 'бифштекс', 'start': '470', 'end': '478', 'sentiment': 'negative'}, {'category': 'Food', 'mention': 'бифштекс', 'start': '530', 'end': '538', 'sentiment': 'neutral'}, {'category': 'Whole', 'mention': 'заведении', 'start': '612', 'end': '621', 'sentiment': 'neutral'}, {'category': 'Food', 'mention': 'домашнее мороженое', 'start': '635', 'end': '653', 'sentiment': 'positive'}, {'category': 'Food', 'mention': 'десертов', 'start': '673', 'end': '681', 'sentiment': 'neutral'}, {'category': 'Service', 'mention': 'Официантки', 'start': '738', 'end': '748', 'sentiment': 'positive'}, {'category': 'Service', 'mention': 'Приносят', 'start': '767', 'end': '775', 'sentiment': 'positive'}, {'category': 'Service', 'mention': 'уносят', 'start': '778', 'end': '784', 'sentiment': 'positive'}, {'category': 'Food', 'mention': 'Блюда', 'start': '834', 'end': '839', 'sentiment': 'neutral'}, {'category': 'Service', 'mention': 'подаются', 'start': '840', 'end': '848', 'sentiment': 'positive'}, {'category': 'Whole', 'mention': 'место', 'start': '961', 'end': '966', 'sentiment': 'positive'}, {'category': 'Interior', 'mention': 'Интерьер', 'start': '968', 'end': '976', 'sentiment': 'positive'}, {'category': 'Whole', 'mention': 'заведение', 'start': '1061', 'end': '1070', 'sentiment': 'positive'}, {'category': 'Service', 'mention': 'бронировать стол', 'start': '1114', 'end': '1130', 'sentiment': 'neutral'}], '35486': [{'category': 'Whole', 'mention': 'ресторана', 'start': '186', 'end': '195', 'sentiment': 'negative'}, {'category': 'Whole', 'mention': 'паба', 'start': '196', 'end': '200', 'sentiment': 'negative'}, {'category': 'Service', 'mention': 'Встретила', 'start': '224', 'end': '233', 'sentiment': 'negative'}, {'category': 'Service', 'mention': 'обслуживала', 'start': '236', 'end': '247', 'sentiment': 'negative'}, {'category': 'Service', 'mention': 'официантка', 'start': '273', 'end': '283', 'sentiment': 'negative'}, {'category': 'Food', 'mention': 'блюд из меню', 'start': '294', 'end': '306', 'sentiment': 'negative'}, {'category': 'Service', 'mention': 'официантка', 'start': '347', 'end': '357', 'sentiment': 'negative'}, {'category': 'Food', 'mention': 'сырные палочки', 'start': '431', 'end': '445', 'sentiment': 'neutral'}, {'category': 'Service', 'mention': 'офицантка', 'start': '474', 'end': '483', 'sentiment': 'neutral'}, {'category': 'Food', 'mention': 'палочки', 'start': '547', 'end': '554', 'sentiment': 'negative'}, {'category': 'Food', 'mention': 'палочек', 'start': '565', 'end': '572', 'sentiment': 'negative'}, {'category': 'Whole', 'mention': 'место', 'start': '639', 'end': '644', 'sentiment': 'positive'}, {'category': 'Food', 'mention': 'выпить', 'start': '656', 'end': '662', 'sentiment': 'neutral'}, {'category': 'Food', 'mention': 'пиво', 'start': '663', 'end': '667', 'sentiment': 'neutral'}, {'category': 'Food', 'mention': 'цезарь с креветками', 'start': '719', 'end': '738', 'sentiment': 'negative'}, {'category': 'Food', 'mention': 'курицы', 'start': '740', 'end': '746', 'sentiment': 'negative'}, {'category': 'Service', 'mention': 'официантка', 'start': '831', 'end': '841', 'sentiment': 'negative'}, {'category': 'Service', 'mention': 'персонал', 'start': '1059', 'end': '1067', 'sentiment': 'positive'}, {'category': 'Food', 'mention': 'блюда', 'start': '1077', 'end': '1082', 'sentiment': 'positive'}], '10942': [{'category': 'Whole', 'mention': 'Санам', 'start': '19', 'end': '24', 'sentiment': 'neutral'}, {'category': 'Interior', 'mention': 'интерьер', 'start': '90', 'end': '98', 'sentiment': 'positive'}, {'category': 'Service', 'mention': 'обслуживание', 'start': '108', 'end': '120', 'sentiment': 'positive'}, {'category': 'Food', 'mention': 'Кухня', 'start': '143', 'end': '148', 'sentiment': 'positive'}, {'category': 'Food', 'mention': 'блюда', 'start': '179', 'end': '184', 'sentiment': 'positive'}, {'category': 'Food', 'mention': 'блюдо', 'start': '313', 'end': '318', 'sentiment': 'positive'}, {'category': 'Food', 'mention': 'порции', 'start': '328', 'end': '334', 'sentiment': 'positive'}, {'category': 'Food', 'mention': 'кальян', 'start': '371', 'end': '377', 'sentiment': 'positive'}, {'category': 'Food', 'mention': 'выбор коктейлей', 'start': '394', 'end': '409', 'sentiment': 'positive'}, {'category': 'Food', 'mention': 'оргазм', 'start': '458', 'end': '464', 'sentiment': 'positive'}, {'category': 'Food', 'mention': 'клубничная маргарита', 'start': '467', 'end': '487', 'sentiment': 'positive'}], '5037': [{'category': 'Interior', 'mention': 'уютное', 'start': '49', 'end': '55', 'sentiment': 'positive'}, {'category': 'Whole', 'mention': 'место', 'start': '56', 'end': '61', 'sentiment': 'positive'}, {'category': 'Service', 'mention': 'обслуживание', 'start': '82', 'end': '94', 'sentiment': 'positive'}, {'category': 'Food', 'mention': 'пиво', 'start': '113', 'end': '117', 'sentiment': 'positive'}, {'category': 'Food', 'mention': 'кухне', 'start': '167', 'end': '172', 'sentiment': 'neutral'}, {'category': 'Food', 'mention': 'кусок свинины', 'start': '269', 'end': '282', 'sentiment': 'positive'}, {'category': 'Whole', 'mention': 'место', 'start': '332', 'end': '337', 'sentiment': 'positive'}, {'category': 'Interior', 'mention': 'второй этаж', 'start': '391', 'end': '402', 'sentiment': 'positive'}, {'category': 'Food', 'mention': 'пива', 'start': '439', 'end': '443', 'sentiment': 'positive'}, {'category': 'Whole', 'mention': 'пивном ресторане', 'start': '481', 'end': '497', 'sentiment': 'neutral'}, {'category': 'Food', 'mention': 'ПИВО', 'start': '504', 'end': '508', 'sentiment': 'neutral'}, {'category': 'Food', 'mention': 'хлебные греночки с сыром', 'start': '578', 'end': '602', 'sentiment': 'positive'}, {'category': 'Food', 'mention': 'сушки с перчиком', 'start': '613', 'end': '629', 'sentiment': 'positive'}, {'category': 'Food', 'mention': 'десертик', 'start': '795', 'end': '803', 'sentiment': 'positive'}, {'category': 'Food', 'mention': 'Карпаччо из ананаса', 'start': '817', 'end': '836', 'sentiment': 'positive'}, {'category': 'Food', 'mention': 'манго в имбирном соусе', 'start': '839', 'end': '861', 'sentiment': 'positive'}, {'category': 'Service', 'mention': 'отношении к посетителям', 'start': '919', 'end': '942', 'sentiment': 'positive'}, {'category': 'Food', 'mention': 'сырные шарики', 'start': '975', 'end': '988', 'sentiment': 'neutral'}, {'category': 'Service', 'mention': 'официантка', 'start': '1012', 'end': '1022', 'sentiment': 'positive'}, {'category': 'Food', 'mention': 'закуску', 'start': '1059', 'end': '1066', 'sentiment': 'positive'}, {'category': 'Whole', 'mention': 'ЗАВЕДЕНИЯ', 'start': '1075', 'end': '1084', 'sentiment': 'positive'}, {'category': 'Food', 'mention': 'сырными шариками', 'start': '1093', 'end': '1109', 'sentiment': 'negative'}, {'category': 'Whole', 'mention': 'заведения', 'start': '1170', 'end': '1179', 'sentiment': 'positive'}], '28745': [{'category': 'Whole', 'mention': 'ресторан', 'start': '51', 'end': '59', 'sentiment': 'neutral'}, {'category': 'Whole', 'mention': '\"Мидзуки\"', 'start': '70', 'end': '79', 'sentiment': 'positive'}, {'category': 'Whole', 'mention': 'место', 'start': '145', 'end': '150', 'sentiment': 'positive'}, {'category': 'Food', 'mention': 'еда', 'start': '160', 'end': '163', 'sentiment': 'positive'}, {'category': 'Food', 'mention': 'роллы', 'start': '176', 'end': '181', 'sentiment': 'positive'}, {'category': 'Food', 'mention': 'рис с курицей', 'start': '184', 'end': '197', 'sentiment': 'positive'}, {'category': 'Interior', 'mention': 'музыка', 'start': '200', 'end': '206', 'sentiment': 'positive'}, {'category': 'Service', 'mention': 'Сервис', 'start': '229', 'end': '235', 'sentiment': 'positive'}, {'category': 'Service', 'mention': 'официантки', 'start': '249', 'end': '259', 'sentiment': 'positive'}, {'category': 'Service', 'mention': 'Ждать заказа', 'start': '337', 'end': '349', 'sentiment': 'positive'}, {'category': 'Whole', 'mention': 'ресторана', 'start': '386', 'end': '395', 'sentiment': 'neutral'}, {'category': 'Whole', 'mention': 'вечер', 'start': '521', 'end': '526', 'sentiment': 'positive'}], '11825': [{'category': 'Whole', 'mention': 'ресторане', 'start': '58', 'end': '67', 'sentiment': 'neutral'}, {'category': 'Food', 'mention': 'пиццу на тонком тесте', 'start': '132', 'end': '153', 'sentiment': 'positive'}, {'category': 'Food', 'mention': 'ела', 'start': '154', 'end': '157', 'sentiment': 'neutral'}, {'category': 'Whole', 'mention': 'Da Albertone', 'start': '169', 'end': '181', 'sentiment': 'positive'}, {'category': 'Whole', 'mention': 'место', 'start': '236', 'end': '241', 'sentiment': 'positive'}, {'category': 'Service', 'mention': 'встретил', 'start': '384', 'end': '392', 'sentiment': 'positive'}, {'category': 'Service', 'mention': 'официант', 'start': '393', 'end': '401', 'sentiment': 'positive'}, {'category': 'Service', 'mention': 'гардеробщик', 'start': '404', 'end': '415', 'sentiment': 'positive'}, {'category': 'Service', 'mention': 'раздели-проводили', 'start': '425', 'end': '442', 'sentiment': 'positive'}, {'category': 'Interior', 'mention': 'Зал', 'start': '444', 'end': '447', 'sentiment': 'neutral'}, {'category': 'Food', 'mention': 'пасту Карбонару', 'start': '492', 'end': '507', 'sentiment': 'neutral'}, {'category': 'Food', 'mention': 'ролл Филадельфияи', 'start': '510', 'end': '527', 'sentiment': 'neutral'}, {'category': 'Food', 'mention': 'десерт', 'start': '534', 'end': '540', 'sentiment': 'neutral'}, {'category': 'Food', 'mention': 'Тирамису', 'start': '565', 'end': '573', 'sentiment': 'neutral'}, {'category': 'Food', 'mention': 'Карбонара', 'start': '575', 'end': '584', 'sentiment': 'positive'}, {'category': 'Food', 'mention': 'паста', 'start': '625', 'end': '630', 'sentiment': 'positive'}, {'category': 'Food', 'mention': 'Филадельфию', 'start': '670', 'end': '681', 'sentiment': 'positive'}, {'category': 'Food', 'mention': 'лосося-филадельфии-чуток риса', 'start': '748', 'end': '777', 'sentiment': 'positive'}, {'category': 'Food', 'mention': 'Десерт Тирамису', 'start': '808', 'end': '823', 'sentiment': 'positive'}, {'category': 'Interior', 'mention': 'Атмосфера', 'start': '873', 'end': '882', 'sentiment': 'positive'}, {'category': 'Interior', 'mention': 'спокойное', 'start': '913', 'end': '922', 'sentiment': 'positive'}, {'category': 'Whole', 'mention': 'место', 'start': '923', 'end': '928', 'sentiment': 'positive'}, {'category': 'Interior', 'mention': 'музыка', 'start': '938', 'end': '944', 'sentiment': 'positive'}, {'category': 'Interior', 'mention': 'дамской комнате', 'start': '988', 'end': '1003', 'sentiment': 'negative'}, {'category': 'Interior', 'mention': 'убираются', 'start': '1045', 'end': '1054', 'sentiment': 'negative'}], '26330': [{'category': 'Whole', 'mention': 'ресторана', 'start': '44', 'end': '53', 'sentiment': 'neutral'}, {'category': 'Interior', 'mention': 'интерьера', 'start': '157', 'end': '166', 'sentiment': 'positive'}, {'category': 'Food', 'mention': 'кухни', 'start': '178', 'end': '183', 'sentiment': 'positive'}, {'category': 'Food', 'mention': 'шеф повару', 'start': '201', 'end': '211', 'sentiment': 'positive'}, {'category': 'Food', 'mention': 'выбор закусок', 'start': '222', 'end': '235', 'sentiment': 'positive'}, {'category': 'Food', 'mention': 'пиву', 'start': '238', 'end': '242', 'sentiment': 'neutral'}, {'category': 'Food', 'mention': 'перчики халапена', 'start': '266', 'end': '282', 'sentiment': 'positive'}, {'category': 'Food', 'mention': 'блюдо', 'start': '324', 'end': '329', 'sentiment': 'positive'}, {'category': 'Price', 'mention': 'цены', 'start': '341', 'end': '345', 'sentiment': 'positive'}, {'category': 'Food', 'mention': 'порции', 'start': '355', 'end': '361', 'sentiment': 'positive'}, {'category': 'Whole', 'mention': 'ресторанов', 'start': '371', 'end': '381', 'sentiment': 'positive'}, {'category': 'Food', 'mention': 'покушать', 'start': '428', 'end': '436', 'sentiment': 'positive'}, {'category': 'Service', 'mention': 'обслуживающий персонал', 'start': '456', 'end': '478', 'sentiment': 'positive'}, {'category': 'Service', 'mention': 'Девушка', 'start': '480', 'end': '487', 'sentiment': 'positive'}, {'category': 'Service', 'mention': 'обслуживала', 'start': '501', 'end': '512', 'sentiment': 'positive'}, {'category': 'Whole', 'mention': 'рестораном', 'start': '575', 'end': '585', 'sentiment': 'neutral'}, {'category': 'Food', 'mention': 'еде', 'start': '586', 'end': '589', 'sentiment': 'neutral'}, {'category': 'Service', 'mention': 'порекомендовала', 'start': '598', 'end': '613', 'sentiment': 'positive'}, {'category': 'Food', 'mention': 'закуски', 'start': '625', 'end': '632', 'sentiment': 'neutral'}, {'category': 'Food', 'mention': 'пиво', 'start': '642', 'end': '646', 'sentiment': 'positive'}, {'category': 'Service', 'mention': 'бармен', 'start': '684', 'end': '690', 'sentiment': 'positive'}, {'category': 'Food', 'mention': 'пиве', 'start': '733', 'end': '737', 'sentiment': 'neutral'}, {'category': 'Food', 'mention': 'пиво', 'start': '771', 'end': '775', 'sentiment': 'positive'}, {'category': 'Whole', 'mention': 'пивном баре', 'start': '815', 'end': '826', 'sentiment': 'positive'}, {'category': 'Whole', 'mention': 'Гроссенштрассе', 'start': '836', 'end': '850', 'sentiment': 'positive'}], '33693': [{'category': 'Whole', 'mention': 'ресторанчик', 'start': '21', 'end': '32', 'sentiment': 'positive'}, {'category': 'Service', 'mention': 'обслуживанию', 'start': '62', 'end': '74', 'sentiment': 'negative'}, {'category': 'Service', 'mention': 'официанта', 'start': '102', 'end': '111', 'sentiment': 'negative'}, {'category': 'Interior', 'mention': 'Интерьер', 'start': '120', 'end': '128', 'sentiment': 'neutral'}, {'category': 'Food', 'mention': 'блюд', 'start': '167', 'end': '171', 'sentiment': 'neutral'}, {'category': 'Food', 'mention': 'томатный суп', 'start': '183', 'end': '195', 'sentiment': 'neutral'}, {'category': 'Food', 'mention': 'ризотто с белыми грибами', 'start': '197', 'end': '221', 'sentiment': 'neutral'}, {'category': 'Food', 'mention': 'пасту с креветками', 'start': '223', 'end': '241', 'sentiment': 'neutral'}, {'category': 'Food', 'mention': 'Цезарь', 'start': '244', 'end': '250', 'sentiment': 'neutral'}, {'category': 'Food', 'mention': 'Порции', 'start': '252', 'end': '258', 'sentiment': 'positive'}, {'category': 'Food', 'mention': 'Цезарь с курицей', 'start': '302', 'end': '318', 'sentiment': 'negative'}, {'category': 'Food', 'mention': 'соус', 'start': '336', 'end': '340', 'sentiment': 'negative'}, {'category': 'Whole', 'mention': 'место', 'start': '381', 'end': '386', 'sentiment': 'positive'}, {'category': 'Food', 'mention': 'трапезы итальянской кухни', 'start': '399', 'end': '424', 'sentiment': 'positive'}, {'category': 'Price', 'mention': 'цене', 'start': '438', 'end': '442', 'sentiment': 'positive'}], '19383': [{'category': 'Food', 'mention': 'выпить', 'start': '36', 'end': '42', 'sentiment': 'neutral'}, {'category': 'Food', 'mention': 'пива', 'start': '43', 'end': '47', 'sentiment': 'neutral'}, {'category': 'Service', 'mention': 'Столик заказали', 'start': '49', 'end': '64', 'sentiment': 'neutral'}, {'category': 'Service', 'mention': 'встретили', 'start': '78', 'end': '87', 'sentiment': 'positive'}, {'category': 'Service', 'mention': 'проводили', 'start': '89', 'end': '98', 'sentiment': 'positive'}, {'category': 'Service', 'mention': 'принесли меню', 'start': '100', 'end': '113', 'sentiment': 'positive'}, {'category': 'Whole', 'mention': 'Заведение', 'start': '130', 'end': '139', 'sentiment': 'positive'}, {'category': 'Interior', 'mention': 'Интерьер', 'start': '180', 'end': '188', 'sentiment': 'neutral'}, {'category': 'Whole', 'mention': 'пабах', 'start': '211', 'end': '216', 'sentiment': 'neutral'}, {'category': 'Interior', 'mention': 'диваны', 'start': '257', 'end': '263', 'sentiment': 'positive'}, {'category': 'Food', 'mention': 'Пиво', 'start': '267', 'end': '271', 'sentiment': 'positive'}, {'category': 'Food', 'mention': 'отварные креветки', 'start': '313', 'end': '330', 'sentiment': 'neutral'}, {'category': 'Food', 'mention': 'креветки', 'start': '333', 'end': '341', 'sentiment': 'both'}, {'category': 'Food', 'mention': 'креветки', 'start': '347', 'end': '355', 'sentiment': 'neutral'}, {'category': 'Food', 'mention': 'салат \"Салмон\" с лососем', 'start': '399', 'end': '423', 'sentiment': 'both'}, {'category': 'Food', 'mention': 'соуса', 'start': '449', 'end': '454', 'sentiment': 'negative'}, {'category': 'Food', 'mention': 'кольца кальмара в кляре', 'start': '472', 'end': '495', 'sentiment': 'positive'}, {'category': 'Food', 'mention': 'пиво', 'start': '502', 'end': '506', 'sentiment': 'neutral'}, {'category': 'Food', 'mention': 'мясные чипсы из говядины', 'start': '518', 'end': '542', 'sentiment': 'positive'}, {'category': 'Food', 'mention': 'Рагу', 'start': '553', 'end': '557', 'sentiment': 'positive'}, {'category': 'Food', 'mention': 'бульон с мясом', 'start': '589', 'end': '603', 'sentiment': 'neutral'}, {'category': 'Food', 'mention': 'королевские креветки с соусом', 'start': '605', 'end': '634', 'sentiment': 'positive'}, {'category': 'Food', 'mention': 'блюдо', 'start': '651', 'end': '656', 'sentiment': 'positive'}, {'category': 'Price', 'mention': 'цены', 'start': '687', 'end': '691', 'sentiment': 'neutral'}, {'category': 'Service', 'mention': 'официантка', 'start': '709', 'end': '719', 'sentiment': 'negative'}, {'category': 'Interior', 'mention': 'столики', 'start': '751', 'end': '758', 'sentiment': 'neutral'}, {'category': 'Food', 'mention': 'напитки', 'start': '784', 'end': '791', 'sentiment': 'neutral'}, {'category': 'Food', 'mention': 'блюда', 'start': '794', 'end': '799', 'sentiment': 'neutral'}, {'category': 'Price', 'mention': 'счёт', 'start': '885', 'end': '889', 'sentiment': 'neutral'}, {'category': 'Whole', 'mention': 'заведение', 'start': '989', 'end': '998', 'sentiment': 'positive'}], '8759': [{'category': 'Whole', 'mention': 'Дугласе', 'start': '2', 'end': '9', 'sentiment': 'neutral'}, {'category': 'Interior', 'mention': 'интерьер', 'start': '120', 'end': '128', 'sentiment': 'positive'}, {'category': 'Interior', 'mention': 'барную стойку', 'start': '263', 'end': '276', 'sentiment': 'neutral'}, {'category': 'Whole', 'mention': 'заведении', 'start': '316', 'end': '325', 'sentiment': 'positive'}, {'category': 'Whole', 'mention': 'ресторана', 'start': '326', 'end': '335', 'sentiment': 'positive'}, {'category': 'Whole', 'mention': 'бара', 'start': '338', 'end': '342', 'sentiment': 'positive'}, {'category': 'Food', 'mention': 'кухни', 'start': '357', 'end': '362', 'sentiment': 'neutral'}, {'category': 'Food', 'mention': 'европейские и японские блюда', 'start': '377', 'end': '405', 'sentiment': 'positive'}, {'category': 'Food', 'mention': 'порции', 'start': '444', 'end': '450', 'sentiment': 'positive'}, {'category': 'Food', 'mention': 'Меню', 'start': '489', 'end': '493', 'sentiment': 'both'}, {'category': 'Food', 'mention': 'выбор алкоголя', 'start': '559', 'end': '573', 'sentiment': 'positive'}, {'category': 'Food', 'mention': 'коктейлей', 'start': '578', 'end': '587', 'sentiment': 'neutral'}, {'category': 'Food', 'mention': 'пива', 'start': '620', 'end': '624', 'sentiment': 'neutral'}, {'category': 'Food', 'mention': 'виски', 'start': '627', 'end': '632', 'sentiment': 'neutral'}, {'category': 'Food', 'mention': 'выпить', 'start': '651', 'end': '657', 'sentiment': 'positive'}, {'category': 'Food', 'mention': 'поесть', 'start': '660', 'end': '666', 'sentiment': 'positive'}, {'category': 'Food', 'mention': 'Напитки', 'start': '692', 'end': '699', 'sentiment': 'neutral'}, {'category': 'Food', 'mention': 'блюда', 'start': '717', 'end': '722', 'sentiment': 'neutral'}, {'category': 'Whole', 'mention': 'вечер', 'start': '803', 'end': '808', 'sentiment': 'positive'}, {'category': 'Whole', 'mention': 'заведение', 'start': '864', 'end': '873', 'sentiment': 'positive'}], '12203': [{'category': 'Whole', 'mention': 'ресторан', 'start': '15', 'end': '23', 'sentiment': 'neutral'}, {'category': 'Service', 'mention': 'бронирования столика по телефону', 'start': '145', 'end': '177', 'sentiment': 'neutral'}, {'category': 'Service', 'mention': 'администратор', 'start': '188', 'end': '201', 'sentiment': 'positive'}, {'category': 'Service', 'mention': 'столик забронировал', 'start': '202', 'end': '221', 'sentiment': 'positive'}, {'category': 'Service', 'mention': 'встретила', 'start': '275', 'end': '284', 'sentiment': 'neutral'}, {'category': 'Service', 'mention': 'девушка', 'start': '297', 'end': '304', 'sentiment': 'positive'}, {'category': 'Service', 'mention': 'проводила до нашего столика', 'start': '306', 'end': '333', 'sentiment': 'neutral'}, {'category': 'Service', 'mention': 'вручила меню', 'start': '336', 'end': '348', 'sentiment': 'neutral'}, {'category': 'Interior', 'mention': 'диванчиком', 'start': '380', 'end': '390', 'sentiment': 'positive'}, {'category': 'Food', 'mention': 'еда', 'start': '503', 'end': '506', 'sentiment': 'positive'}, {'category': 'Food', 'mention': 'сервировку блюд', 'start': '551', 'end': '566', 'sentiment': 'positive'}, {'category': 'Food', 'mention': 'горячего', 'start': '576', 'end': '584', 'sentiment': 'neutral'}, {'category': 'Service', 'mention': 'официант', 'start': '586', 'end': '594', 'sentiment': 'positive'}, {'category': 'Food', 'mention': 'десерт', 'start': '618', 'end': '624', 'sentiment': 'positive'}, {'category': 'Whole', 'mention': 'заведении', 'start': '680', 'end': '689', 'sentiment': 'positive'}, {'category': 'Food', 'mention': 'поужинали', 'start': '735', 'end': '744', 'sentiment': 'positive'}, {'category': 'Interior', 'mention': 'обтановка', 'start': '759', 'end': '768', 'sentiment': 'positive'}, {'category': 'Price', 'mention': 'чек', 'start': '799', 'end': '802', 'sentiment': 'neutral'}, {'category': 'Food', 'mention': 'ужина', 'start': '847', 'end': '852', 'sentiment': 'neutral'}, {'category': 'Whole', 'mention': 'заведение', 'start': '910', 'end': '919', 'sentiment': 'positive'}], '12880': [{'category': 'Food', 'mention': 'перекусить', 'start': '126', 'end': '136', 'sentiment': 'neutral'}, {'category': 'Whole', 'mention': 'Tefsi', 'start': '146', 'end': '151', 'sentiment': 'neutral'}, {'category': 'Service', 'mention': 'Встретили', 'start': '197', 'end': '206', 'sentiment': 'neutral'}, {'category': 'Interior', 'mention': 'интерьере', 'start': '347', 'end': '356', 'sentiment': 'positive'}, {'category': 'Food', 'mention': 'кухня', 'start': '443', 'end': '448', 'sentiment': 'positive'}, {'category': 'Food', 'mention': 'хачапури', 'start': '470', 'end': '478', 'sentiment': 'positive'}, {'category': 'Food', 'mention': 'хинкали', 'start': '489', 'end': '496', 'sentiment': 'both'}, {'category': 'Food', 'mention': 'мясо', 'start': '508', 'end': '512', 'sentiment': 'negative'}, {'category': 'Food', 'mention': 'баклажаны запеченные', 'start': '532', 'end': '552', 'sentiment': 'positive'}, {'category': 'Food', 'mention': 'люля', 'start': '563', 'end': '567', 'sentiment': 'positive'}, {'category': 'Food', 'mention': 'соуса', 'start': '590', 'end': '595', 'sentiment': 'negative'}, {'category': 'Service', 'mention': 'официант', 'start': '599', 'end': '607', 'sentiment': 'negative'}, {'category': 'Service', 'mention': 'сервис', 'start': '689', 'end': '695', 'sentiment': 'negative'}, {'category': 'Food', 'mention': 'блюда', 'start': '722', 'end': '727', 'sentiment': 'negative'}, {'category': 'Food', 'mention': 'блюда', 'start': '794', 'end': '799', 'sentiment': 'neutral'}, {'category': 'Whole', 'mention': 'ресторане', 'start': '936', 'end': '945', 'sentiment': 'negative'}, {'category': 'Service', 'mention': 'персонал', 'start': '1083', 'end': '1091', 'sentiment': 'negative'}, {'category': 'Whole', 'mention': 'заведения', 'start': '1098', 'end': '1107', 'sentiment': 'negative'}], '37611': [{'category': 'Whole', 'mention': 'ресторанчик', 'start': '13', 'end': '24', 'sentiment': 'neutral'}, {'category': 'Food', 'mention': 'салат с куриной печенью', 'start': '127', 'end': '150', 'sentiment': 'positive'}, {'category': 'Food', 'mention': 'запеченные суши', 'start': '152', 'end': '167', 'sentiment': 'positive'}, {'category': 'Food', 'mention': 'тирамису', 'start': '170', 'end': '178', 'sentiment': 'positive'}, {'category': 'Food', 'mention': 'блюд', 'start': '233', 'end': '237', 'sentiment': 'positive'}, {'category': 'Interior', 'mention': 'Интерьер', 'start': '240', 'end': '248', 'sentiment': 'neutral'}, {'category': 'Service', 'mention': 'Обслуживание', 'start': '329', 'end': '341', 'sentiment': 'both'}, {'category': 'Service', 'mention': 'обслуживание', 'start': '472', 'end': '484', 'sentiment': 'positive'}, {'category': 'Whole', 'mention': 'Ресторану', 'start': '532', 'end': '541', 'sentiment': 'positive'}, {'category': 'Food', 'mention': 'кухню', 'start': '587', 'end': '592', 'sentiment': 'positive'}, {'category': 'Price', 'mention': 'цены', 'start': '620', 'end': '624', 'sentiment': 'positive'}], '12341': [{'category': 'Interior', 'mention': 'Интерьер', 'start': '19', 'end': '27', 'sentiment': 'positive'}, {'category': 'Whole', 'mention': 'кафе', 'start': '61', 'end': '65', 'sentiment': 'negative'}, {'category': 'Food', 'mention': 'кухни', 'start': '223', 'end': '228', 'sentiment': 'neutral'}, {'category': 'Food', 'mention': 'пиццу', 'start': '240', 'end': '245', 'sentiment': 'both'}, {'category': 'Food', 'mention': 'поесть', 'start': '275', 'end': '281', 'sentiment': 'neutral'}, {'category': 'Food', 'mention': 'допинга', 'start': '289', 'end': '296', 'sentiment': 'negative'}, {'category': 'Food', 'mention': 'десерт', 'start': '341', 'end': '347', 'sentiment': 'negative'}, {'category': 'Food', 'mention': 'фруктов', 'start': '362', 'end': '369', 'sentiment': 'negative'}, {'category': 'Food', 'mention': 'чай', 'start': '407', 'end': '410', 'sentiment': 'negative'}, {'category': 'Service', 'mention': 'Официант', 'start': '449', 'end': '457', 'sentiment': 'negative'}, {'category': 'Service', 'mention': 'повара', 'start': '554', 'end': '560', 'sentiment': 'negative'}, {'category': 'Whole', 'mention': 'заведения', 'start': '635', 'end': '644', 'sentiment': 'negative'}], '2692': [{'category': 'Whole', 'mention': 'ресторанов китайской кухни', 'start': '24', 'end': '50', 'sentiment': 'neutral'}, {'category': 'Whole', 'mention': 'Тан Жен', 'start': '51', 'end': '58', 'sentiment': 'positive'}, {'category': 'Whole', 'mention': 'место', 'start': '93', 'end': '98', 'sentiment': 'positive'}, {'category': 'Food', 'mention': 'вкусно', 'start': '114', 'end': '120', 'sentiment': 'positive'}, {'category': 'Food', 'mention': 'поесть', 'start': '130', 'end': '136', 'sentiment': 'positive'}, {'category': 'Interior', 'mention': 'интерьера', 'start': '176', 'end': '185', 'sentiment': 'positive'}, {'category': 'Food', 'mention': 'меню', 'start': '200', 'end': '204', 'sentiment': 'positive'}, {'category': 'Food', 'mention': 'кухню', 'start': '232', 'end': '237', 'sentiment': 'positive'}, {'category': 'Service', 'mention': 'обслуживание', 'start': '262', 'end': '274', 'sentiment': 'positive'}, {'category': 'Service', 'mention': 'ресторан', 'start': '290', 'end': '298', 'sentiment': 'positive'}, {'category': 'Food', 'mention': 'качестве еды', 'start': '435', 'end': '447', 'sentiment': 'positive'}, {'category': 'Service', 'mention': 'официанта', 'start': '544', 'end': '553', 'sentiment': 'positive'}, {'category': 'Food', 'mention': 'первое блюдо', 'start': '681', 'end': '693', 'sentiment': 'neutral'}, {'category': 'Food', 'mention': 'ВКУСНО', 'start': '740', 'end': '746', 'sentiment': 'positive'}], '36049': [{'category': 'Whole', 'mention': 'заведение', 'start': '46', 'end': '55', 'sentiment': 'neutral'}, {'category': 'Interior', 'mention': 'интерьер', 'start': '119', 'end': '127', 'sentiment': 'positive'}, {'category': 'Service', 'mention': 'обслуживание', 'start': '157', 'end': '169', 'sentiment': 'positive'}, {'category': 'Whole', 'mention': 'заведении', 'start': '228', 'end': '237', 'sentiment': 'positive'}], '17572': [{'category': 'Whole', 'mention': '\"Небо\"', 'start': '20', 'end': '26', 'sentiment': 'neutral'}, {'category': 'Service', 'mention': 'встретил', 'start': '74', 'end': '82', 'sentiment': 'negative'}, {'category': 'Service', 'mention': 'молодой человек-администратор', 'start': '94', 'end': '123', 'sentiment': 'negative'}, {'category': 'Whole', 'mention': 'ресторан', 'start': '194', 'end': '202', 'sentiment': 'positive'}, {'category': 'Service', 'mention': 'девушки', 'start': '230', 'end': '237', 'sentiment': 'positive'}, {'category': 'Whole', 'mention': 'ресторане', 'start': '304', 'end': '313', 'sentiment': 'positive'}, {'category': 'Interior', 'mention': 'диванчиках', 'start': '418', 'end': '428', 'sentiment': 'positive'}, {'category': 'Service', 'mention': 'официант', 'start': '536', 'end': '544', 'sentiment': 'positive'}, {'category': 'Food', 'mention': 'теплым мексиканским салатом', 'start': '615', 'end': '642', 'sentiment': 'positive'}, {'category': 'Food', 'mention': 'карпаччо из утиной грудки', 'start': '645', 'end': '670', 'sentiment': 'positive'}, {'category': 'Food', 'mention': 'Холодные закуска', 'start': '672', 'end': '688', 'sentiment': 'positive'}, {'category': 'Food', 'mention': 'салат', 'start': '691', 'end': '696', 'sentiment': 'positive'}, {'category': 'Food', 'mention': 'Горячее', 'start': '715', 'end': '722', 'sentiment': 'positive'}, {'category': 'Service', 'mention': 'Официант', 'start': '746', 'end': '754', 'sentiment': 'positive'}], '20784': [{'category': 'Whole', 'mention': 'место', 'start': '9', 'end': '14', 'sentiment': 'positive'}, {'category': 'Food', 'mention': 'кухней', 'start': '27', 'end': '33', 'sentiment': 'positive'}, {'category': 'Food', 'mention': 'лаваш', 'start': '165', 'end': '170', 'sentiment': 'negative'}, {'category': 'Food', 'mention': 'Салаты', 'start': '187', 'end': '193', 'sentiment': 'positive'}, {'category': 'Food', 'mention': 'Лаваш', 'start': '247', 'end': '252', 'sentiment': 'positive'}, {'category': 'Food', 'mention': 'салат', 'start': '278', 'end': '283', 'sentiment': 'neutral'}, {'category': 'Food', 'mention': 'мясо', 'start': '324', 'end': '328', 'sentiment': 'neutral'}, {'category': 'Food', 'mention': 'Шашлык', 'start': '419', 'end': '425', 'sentiment': 'positive'}, {'category': 'Service', 'mention': 'персонал', 'start': '569', 'end': '577', 'sentiment': 'negative'}, {'category': 'Whole', 'mention': 'заведениях', 'start': '713', 'end': '723', 'sentiment': 'negative'}, {'category': 'Food', 'mention': 'Порции', 'start': '737', 'end': '743', 'sentiment': 'positive'}, {'category': 'Price', 'mention': 'цены', 'start': '820', 'end': '824', 'sentiment': 'positive'}, {'category': 'Food', 'mention': 'съели', 'start': '860', 'end': '865', 'sentiment': 'neutral'}, {'category': 'Food', 'mention': 'выпили', 'start': '868', 'end': '874', 'sentiment': 'neutral'}, {'category': 'Whole', 'mention': 'заведениях', 'start': '902', 'end': '912', 'sentiment': 'negative'}, {'category': 'Whole', 'mention': 'место', 'start': '998', 'end': '1003', 'sentiment': 'positive'}, {'category': 'Whole', 'mention': 'рестораны', 'start': '1089', 'end': '1098', 'sentiment': 'neutral'}], '36483': [{'category': 'Whole', 'mention': 'заведении', 'start': '46', 'end': '55', 'sentiment': 'negative'}, {'category': 'Service', 'mention': 'обслуживание', 'start': '118', 'end': '130', 'sentiment': 'positive'}, {'category': 'Service', 'mention': 'персонал', 'start': '144', 'end': '152', 'sentiment': 'positive'}, {'category': 'Price', 'mention': 'цены', 'start': '168', 'end': '172', 'sentiment': 'positive'}, {'category': 'Food', 'mention': 'еда', 'start': '188', 'end': '191', 'sentiment': 'positive'}, {'category': 'Food', 'mention': 'порции', 'start': '202', 'end': '208', 'sentiment': 'positive'}, {'category': 'Interior', 'mention': 'интерьер', 'start': '223', 'end': '231', 'sentiment': 'positive'}, {'category': 'Interior', 'mention': 'какаоке', 'start': '274', 'end': '281', 'sentiment': 'positive'}, {'category': 'Food', 'mention': 'алкоголю', 'start': '349', 'end': '357', 'sentiment': 'positive'}, {'category': 'Food', 'mention': 'вино', 'start': '375', 'end': '379', 'sentiment': 'positive'}, {'category': 'Food', 'mention': 'шампанское', 'start': '381', 'end': '391', 'sentiment': 'positive'}, {'category': 'Food', 'mention': 'водку', 'start': '394', 'end': '399', 'sentiment': 'positive'}, {'category': 'Service', 'mention': 'персоналу', 'start': '507', 'end': '516', 'sentiment': 'positive'}], '1751': [{'category': 'Whole', 'mention': 'Чаплин-холл', 'start': '16', 'end': '27', 'sentiment': 'neutral'}, {'category': 'Whole', 'mention': 'Заведение', 'start': '53', 'end': '62', 'sentiment': 'positive'}, {'category': 'Whole', 'mention': 'ресторан', 'start': '89', 'end': '97', 'sentiment': 'neutral'}, {'category': 'Food', 'mention': 'еду', 'start': '182', 'end': '185', 'sentiment': 'neutral'}, {'category': 'Food', 'mention': 'напитки', 'start': '188', 'end': '195', 'sentiment': 'neutral'}, {'category': 'Interior', 'mention': 'Зал', 'start': '197', 'end': '200', 'sentiment': 'positive'}, {'category': 'Interior', 'mention': 'места', 'start': '244', 'end': '249', 'sentiment': 'positive'}, {'category': 'Interior', 'mention': 'столики', 'start': '273', 'end': '280', 'sentiment': 'positive'}, {'category': 'Food', 'mention': 'Меню', 'start': '320', 'end': '324', 'sentiment': 'positive'}, {'category': 'Food', 'mention': 'меню японской кухни', 'start': '366', 'end': '385', 'sentiment': 'neutral'}, {'category': 'Food', 'mention': 'блюда', 'start': '474', 'end': '479', 'sentiment': 'neutral'}, {'category': 'Food', 'mention': 'сельдь под шубой…с крабом', 'start': '525', 'end': '550', 'sentiment': 'neutral'}, {'category': 'Food', 'mention': 'палтуса запеченного', 'start': '607', 'end': '626', 'sentiment': 'positive'}, {'category': 'Food', 'mention': 'палтуса', 'start': '729', 'end': '736', 'sentiment': 'negative'}, {'category': 'Food', 'mention': 'Салат грибной', 'start': '758', 'end': '771', 'sentiment': 'positive'}, {'category': 'Food', 'mention': 'порция', 'start': '784', 'end': '790', 'sentiment': 'positive'}, {'category': 'Food', 'mention': 'Кофе-десерт', 'start': '802', 'end': '813', 'sentiment': 'positive'}, {'category': 'Whole', 'mention': 'месте', 'start': '899', 'end': '904', 'sentiment': 'positive'}], '1032': [{'category': 'Whole', 'mention': 'ресторан', 'start': '14', 'end': '22', 'sentiment': 'neutral'}, {'category': 'Service', 'mention': 'официантов', 'start': '112', 'end': '122', 'sentiment': 'negative'}, {'category': 'Food', 'mention': 'блюдах', 'start': '131', 'end': '137', 'sentiment': 'negative'}, {'category': 'Food', 'mention': 'пиццу', 'start': '185', 'end': '190', 'sentiment': 'neutral'}, {'category': 'Food', 'mention': 'пицца', 'start': '213', 'end': '218', 'sentiment': 'negative'}, {'category': 'Service', 'mention': 'Официант', 'start': '332', 'end': '340', 'sentiment': 'negative'}, {'category': 'Service', 'mention': 'официанта', 'start': '713', 'end': '722', 'sentiment': 'neutral'}, {'category': 'Service', 'mention': 'Официант', 'start': '751', 'end': '759', 'sentiment': 'negative'}, {'category': 'Food', 'mention': 'кухню', 'start': '818', 'end': '823', 'sentiment': 'both'}, {'category': 'Food', 'mention': 'панакота', 'start': '874', 'end': '882', 'sentiment': 'positive'}, {'category': 'Food', 'mention': 'Салат Цезарь', 'start': '884', 'end': '896', 'sentiment': 'negative'}, {'category': 'Food', 'mention': 'пицца', 'start': '925', 'end': '930', 'sentiment': 'negative'}, {'category': 'Service', 'mention': 'сервис', 'start': '952', 'end': '958', 'sentiment': 'negative'}, {'category': 'Service', 'mention': 'официант', 'start': '967', 'end': '975', 'sentiment': 'negative'}, {'category': 'Service', 'mention': 'девушка', 'start': '1239', 'end': '1246', 'sentiment': 'positive'}], '1511': [{'category': 'Whole', 'mention': 'место', 'start': '87', 'end': '92', 'sentiment': 'neutral'}, {'category': 'Service', 'mention': 'девушка', 'start': '145', 'end': '152', 'sentiment': 'negative'}, {'category': 'Food', 'mention': 'паст', 'start': '597', 'end': '601', 'sentiment': 'positive'}, {'category': 'Food', 'mention': 'пицц', 'start': '603', 'end': '607', 'sentiment': 'positive'}, {'category': 'Food', 'mention': 'салатов', 'start': '616', 'end': '623', 'sentiment': 'negative'}, {'category': 'Food', 'mention': 'закусок', 'start': '626', 'end': '633', 'sentiment': 'negative'}, {'category': 'Food', 'mention': 'итальянской кухне', 'start': '655', 'end': '672', 'sentiment': 'neutral'}, {'category': 'Food', 'mention': 'вина', 'start': '736', 'end': '740', 'sentiment': 'negative'}, {'category': 'Service', 'mention': 'Официант', 'start': '742', 'end': '750', 'sentiment': 'positive'}, {'category': 'Food', 'mention': 'Напитки', 'start': '790', 'end': '797', 'sentiment': 'positive'}, {'category': 'Food', 'mention': 'Кофе капуччино', 'start': '818', 'end': '832', 'sentiment': 'positive'}, {'category': 'Food', 'mention': 'шампанское', 'start': '865', 'end': '875', 'sentiment': 'positive'}, {'category': 'Food', 'mention': 'Кухня', 'start': '887', 'end': '892', 'sentiment': 'negative'}, {'category': 'Whole', 'mention': 'ресторанами', 'start': '984', 'end': '995', 'sentiment': 'positive'}, {'category': 'Food', 'mention': 'кушали', 'start': '1004', 'end': '1010', 'sentiment': 'positive'}, {'category': 'Price', 'mention': 'цена', 'start': '1078', 'end': '1082', 'sentiment': 'positive'}], '9036': [{'category': 'Whole', 'mention': 'ресторан', 'start': '46', 'end': '54', 'sentiment': 'neutral'}, {'category': 'Service', 'mention': 'встретил', 'start': '136', 'end': '144', 'sentiment': 'positive'}, {'category': 'Service', 'mention': 'гардеробщик', 'start': '157', 'end': '168', 'sentiment': 'positive'}, {'category': 'Service', 'mention': 'девушка', 'start': '297', 'end': '304', 'sentiment': 'positive'}, {'category': 'Service', 'mention': 'официант', 'start': '356', 'end': '364', 'sentiment': 'positive'}, {'category': 'Service', 'mention': 'молодой человек', 'start': '388', 'end': '403', 'sentiment': 'positive'}, {'category': 'Service', 'mention': 'официант', 'start': '471', 'end': '479', 'sentiment': 'positive'}, {'category': 'Food', 'mention': 'салат из их меню с \"семгой горячего копчения\"', 'start': '631', 'end': '676', 'sentiment': 'positive'}, {'category': 'Food', 'mention': 'хлебная тарелка', 'start': '724', 'end': '739', 'sentiment': 'positive'}, {'category': 'Food', 'mention': 'хлеб', 'start': '814', 'end': '818', 'sentiment': 'positive'}, {'category': 'Food', 'mention': 'вкус', 'start': '853', 'end': '857', 'sentiment': 'positive'}, {'category': 'Food', 'mention': 'Горячее', 'start': '869', 'end': '876', 'sentiment': 'neutral'}, {'category': 'Food', 'mention': 'десерта', 'start': '902', 'end': '909', 'sentiment': 'positive'}, {'category': 'Food', 'mention': '\"два шоколада\"', 'start': '937', 'end': '951', 'sentiment': 'positive'}, {'category': 'Food', 'mention': 'кофе', 'start': '1015', 'end': '1019', 'sentiment': 'positive'}, {'category': 'Whole', 'mention': 'ресторан', 'start': '1058', 'end': '1066', 'sentiment': 'positive'}, {'category': 'Interior', 'mention': 'атмосфера', 'start': '1085', 'end': '1094', 'sentiment': 'positive'}, {'category': 'Food', 'mention': 'кухня', 'start': '1103', 'end': '1108', 'sentiment': 'positive'}, {'category': 'Service', 'mention': 'обслуживание', 'start': '1145', 'end': '1157', 'sentiment': 'positive'}], '3452': [{'category': 'Whole', 'mention': 'ресторане', 'start': '12', 'end': '21', 'sentiment': 'neutral'}, {'category': 'Service', 'mention': 'официант', 'start': '61', 'end': '69', 'sentiment': 'positive'}, {'category': 'Food', 'mention': 'Кухня', 'start': '97', 'end': '102', 'sentiment': 'negative'}, {'category': 'Food', 'mention': 'порции', 'start': '155', 'end': '161', 'sentiment': 'positive'}, {'category': 'Whole', 'mention': 'ресторана', 'start': '206', 'end': '215', 'sentiment': 'negative'}, {'category': 'Food', 'mention': 'бизнес-ланчи', 'start': '268', 'end': '280', 'sentiment': 'positive'}, {'category': 'Service', 'mention': 'заказать', 'start': '330', 'end': '338', 'sentiment': 'negative'}, {'category': 'Food', 'mention': 'бизнес-ланч', 'start': '339', 'end': '350', 'sentiment': 'neutral'}, {'category': 'Interior', 'mention': 'помещении', 'start': '469', 'end': '478', 'sentiment': 'negative'}, {'category': 'Food', 'mention': 'бизнес-ланч', 'start': '631', 'end': '642', 'sentiment': 'negative'}, {'category': 'Food', 'mention': 'порция', 'start': '728', 'end': '734', 'sentiment': 'negative'}, {'category': 'Whole', 'mention': 'ресторан', 'start': '877', 'end': '885', 'sentiment': 'positive'}, {'category': 'Whole', 'mention': 'ресторанчик', 'start': '984', 'end': '995', 'sentiment': 'negative'}, {'category': 'Whole', 'mention': 'заведения', 'start': '1100', 'end': '1109', 'sentiment': 'positive'}, {'category': 'Food', 'mention': 'кухней', 'start': '1124', 'end': '1130', 'sentiment': 'positive'}, {'category': 'Service', 'mention': 'сервисом', 'start': '1140', 'end': '1148', 'sentiment': 'positive'}, {'category': 'Service', 'mention': 'менеджер', 'start': '1222', 'end': '1230', 'sentiment': 'neutral'}, {'category': 'Whole', 'mention': 'ресторана', 'start': '1237', 'end': '1246', 'sentiment': 'neutral'}], '38077': [{'category': 'Whole', 'mention': 'ресторане', 'start': '59', 'end': '68', 'sentiment': 'neutral'}, {'category': 'Service', 'mention': 'встретили', 'start': '148', 'end': '157', 'sentiment': 'neutral'}, {'category': 'Service', 'mention': 'проводили до мест', 'start': '159', 'end': '176', 'sentiment': 'neutral'}, {'category': 'Service', 'mention': 'предложили меню', 'start': '178', 'end': '193', 'sentiment': 'neutral'}, {'category': 'Interior', 'mention': 'Интерьер', 'start': '255', 'end': '263', 'sentiment': 'positive'}, {'category': 'Whole', 'mention': 'место', 'start': '292', 'end': '297', 'sentiment': 'positive'}, {'category': 'Interior', 'mention': 'музыка', 'start': '320', 'end': '326', 'sentiment': 'positive'}, {'category': 'Food', 'mention': 'пенне 4 сыра', 'start': '479', 'end': '491', 'sentiment': 'neutral'}, {'category': 'Food', 'mention': 'спагетти карбонара', 'start': '493', 'end': '511', 'sentiment': 'neutral'}, {'category': 'Food', 'mention': 'овощи на гриле', 'start': '513', 'end': '527', 'sentiment': 'neutral'}, {'category': 'Food', 'mention': 'фокачча с прованскими травами и сыром пармезан', 'start': '529', 'end': '575', 'sentiment': 'neutral'}, {'category': 'Food', 'mention': 'вино', 'start': '578', 'end': '582', 'sentiment': 'neutral'}, {'category': 'Food', 'mention': 'водку', 'start': '604', 'end': '609', 'sentiment': 'neutral'}, {'category': 'Food', 'mention': 'чай с лимоном и чабрецом', 'start': '638', 'end': '662', 'sentiment': 'neutral'}, {'category': 'Service', 'mention': 'девушка', 'start': '728', 'end': '735', 'sentiment': 'positive'}, {'category': 'Food', 'mention': 'блюда', 'start': '758', 'end': '763', 'sentiment': 'positive'}, {'category': 'Food', 'mention': 'поварам', 'start': '974', 'end': '981', 'sentiment': 'positive'}, {'category': 'Food', 'mention': 'Вино', 'start': '983', 'end': '987', 'sentiment': 'positive'}, {'category': 'Food', 'mention': 'послевкусием', 'start': '1036', 'end': '1048', 'sentiment': 'positive'}, {'category': 'Whole', 'mention': 'заведение', 'start': '1140', 'end': '1149', 'sentiment': 'positive'}], '32040': [{'category': 'Whole', 'mention': 'ресторан', 'start': '8', 'end': '16', 'sentiment': 'positive'}, {'category': 'Service', 'mention': 'обслуживанием', 'start': '28', 'end': '41', 'sentiment': 'positive'}, {'category': 'Interior', 'mention': 'интерьер', 'start': '99', 'end': '107', 'sentiment': 'positive'}, {'category': 'Service', 'mention': 'девушки официанты', 'start': '153', 'end': '170', 'sentiment': 'positive'}, {'category': 'Interior', 'mention': 'музыка', 'start': '181', 'end': '187', 'sentiment': 'positive'}, {'category': 'Food', 'mention': 'Кухня', 'start': '203', 'end': '208', 'sentiment': 'positive'}, {'category': 'Food', 'mention': 'блюда', 'start': '238', 'end': '243', 'sentiment': 'negative'}, {'category': 'Interior', 'mention': 'ресторане', 'start': '343', 'end': '352', 'sentiment': 'neutral'}, {'category': 'Whole', 'mention': 'Ресторан', 'start': '403', 'end': '411', 'sentiment': 'positive'}, {'category': 'Price', 'mention': 'цене', 'start': '457', 'end': '461', 'sentiment': 'neutral'}, {'category': 'Food', 'mention': 'ужин', 'start': '463', 'end': '467', 'sentiment': 'neutral'}], '26887': [{'category': 'Whole', 'mention': 'заведение', 'start': '56', 'end': '65', 'sentiment': 'positive'}, {'category': 'Food', 'mention': 'кухня', 'start': '90', 'end': '95', 'sentiment': 'negative'}, {'category': 'Service', 'mention': 'обслуживание', 'start': '98', 'end': '110', 'sentiment': 'negative'}, {'category': 'Food', 'mention': 'суши', 'start': '126', 'end': '130', 'sentiment': 'negative'}, {'category': 'Food', 'mention': 'пирожок к первому блюду', 'start': '188', 'end': '211', 'sentiment': 'neutral'}, {'category': 'Food', 'mention': 'кулеш', 'start': '283', 'end': '288', 'sentiment': 'neutral'}, {'category': 'Food', 'mention': 'Блюдо', 'start': '290', 'end': '295', 'sentiment': 'neutral'}, {'category': 'Service', 'mention': 'официантку', 'start': '360', 'end': '370', 'sentiment': 'negative'}, {'category': 'Food', 'mention': 'суп', 'start': '406', 'end': '409', 'sentiment': 'neutral'}, {'category': 'Food', 'mention': 'суп', 'start': '551', 'end': '554', 'sentiment': 'neutral'}, {'category': 'Service', 'mention': 'управляющего', 'start': '620', 'end': '632', 'sentiment': 'negative'}, {'category': 'Service', 'mention': 'администратора', 'start': '645', 'end': '659', 'sentiment': 'negative'}, {'category': 'Service', 'mention': 'девушка', 'start': '686', 'end': '693', 'sentiment': 'negative'}, {'category': 'Service', 'mention': 'клиентов', 'start': '882', 'end': '890', 'sentiment': 'negative'}, {'category': 'Service', 'mention': 'персонала', 'start': '976', 'end': '985', 'sentiment': 'negative'}, {'category': 'Whole', 'mention': 'заведении', 'start': '1021', 'end': '1030', 'sentiment': 'negative'}], '35613': [{'category': 'Service', 'mention': 'обслуживание', 'start': '21', 'end': '33', 'sentiment': 'negative'}, {'category': 'Service', 'mention': 'заказали', 'start': '55', 'end': '63', 'sentiment': 'neutral'}, {'category': 'Service', 'mention': 'официанты', 'start': '210', 'end': '219', 'sentiment': 'negative'}, {'category': 'Service', 'mention': 'гостями', 'start': '604', 'end': '611', 'sentiment': 'negative'}, {'category': 'Service', 'mention': 'сервиса', 'start': '663', 'end': '670', 'sentiment': 'negative'}, {'category': 'Food', 'mention': 'кухни', 'start': '687', 'end': '692', 'sentiment': 'positive'}, {'category': 'Interior', 'mention': 'интерьера', 'start': '703', 'end': '712', 'sentiment': 'positive'}], '37220': [{'category': 'Food', 'mention': 'Кухня', 'start': '0', 'end': '5', 'sentiment': 'positive'}, {'category': 'Food', 'mention': 'поварам', 'start': '21', 'end': '28', 'sentiment': 'positive'}, {'category': 'Interior', 'mention': 'интерьер', 'start': '30', 'end': '38', 'sentiment': 'positive'}, {'category': 'Service', 'mention': 'девушки', 'start': '143', 'end': '150', 'sentiment': 'negative'}, {'category': 'Service', 'mention': 'официанткой', 'start': '176', 'end': '187', 'sentiment': 'negative'}, {'category': 'Service', 'mention': 'менеджер', 'start': '204', 'end': '212', 'sentiment': 'negative'}, {'category': 'Whole', 'mention': 'тан жен', 'start': '575', 'end': '582', 'sentiment': 'both'}, {'category': 'Food', 'mention': 'кухню', 'start': '589', 'end': '594', 'sentiment': 'positive'}, {'category': 'Service', 'mention': 'гостями', 'start': '711', 'end': '718', 'sentiment': 'negative'}, {'category': 'Service', 'mention': 'менеджер', 'start': '746', 'end': '754', 'sentiment': 'negative'}], '5648': [{'category': 'Service', 'mention': 'персонал', 'start': '8', 'end': '16', 'sentiment': 'negative'}, {'category': 'Service', 'mention': 'официанты', 'start': '108', 'end': '117', 'sentiment': 'negative'}, {'category': 'Service', 'mention': 'знающие меню', 'start': '125', 'end': '137', 'sentiment': 'negative'}, {'category': 'Service', 'mention': 'официанты', 'start': '204', 'end': '213', 'sentiment': 'both'}, {'category': 'Service', 'mention': 'девченки', 'start': '263', 'end': '271', 'sentiment': 'positive'}, {'category': 'Service', 'mention': 'относятся к клиентам', 'start': '308', 'end': '328', 'sentiment': 'positive'}, {'category': 'Service', 'mention': 'сервиса', 'start': '501', 'end': '508', 'sentiment': 'negative'}, {'category': 'Service', 'mention': 'Ребята', 'start': '529', 'end': '535', 'sentiment': 'negative'}], '7079': [{'category': 'Food', 'mention': 'закусок', 'start': '209', 'end': '216', 'sentiment': 'neutral'}, {'category': 'Food', 'mention': 'салями', 'start': '219', 'end': '225', 'sentiment': 'neutral'}, {'category': 'Food', 'mention': 'оливки', 'start': '228', 'end': '234', 'sentiment': 'neutral'}, {'category': 'Service', 'mention': 'официанта', 'start': '351', 'end': '360', 'sentiment': 'negative'}, {'category': 'Service', 'mention': 'официанты', 'start': '472', 'end': '481', 'sentiment': 'negative'}, {'category': 'Service', 'mention': 'официанта', 'start': '506', 'end': '515', 'sentiment': 'negative'}, {'category': 'Food', 'mention': 'салями', 'start': '591', 'end': '597', 'sentiment': 'neutral'}, {'category': 'Food', 'mention': 'салями', 'start': '660', 'end': '666', 'sentiment': 'positive'}, {'category': 'Food', 'mention': 'чай', 'start': '701', 'end': '704', 'sentiment': 'neutral'}, {'category': 'Whole', 'mention': 'ресторан', 'start': '893', 'end': '901', 'sentiment': 'negative'}], '11267': [{'category': 'Whole', 'mention': 'месте', 'start': '30', 'end': '35', 'sentiment': 'negative'}, {'category': 'Service', 'mention': 'Обслуживание', 'start': '37', 'end': '49', 'sentiment': 'negative'}, {'category': 'Service', 'mention': 'офицантки', 'start': '84', 'end': '93', 'sentiment': 'negative'}, {'category': 'Service', 'mention': 'выражением лица', 'start': '215', 'end': '230', 'sentiment': 'negative'}, {'category': 'Service', 'mention': 'принести', 'start': '248', 'end': '256', 'sentiment': 'negative'}, {'category': 'Food', 'mention': 'еды', 'start': '290', 'end': '293', 'sentiment': 'negative'}, {'category': 'Food', 'mention': 'блюдо', 'start': '304', 'end': '309', 'sentiment': 'negative'}, {'category': 'Whole', 'mention': 'ресторанчике', 'start': '367', 'end': '379', 'sentiment': 'negative'}, {'category': 'Food', 'mention': 'супа', 'start': '475', 'end': '479', 'sentiment': 'negative'}, {'category': 'Food', 'mention': 'скис', 'start': '550', 'end': '554', 'sentiment': 'negative'}, {'category': 'Interior', 'mention': 'Интерьер', 'start': '562', 'end': '570', 'sentiment': 'negative'}, {'category': 'Whole', 'mention': 'место', 'start': '652', 'end': '657', 'sentiment': 'negative'}, {'category': 'Whole', 'mention': 'заведений', 'start': '695', 'end': '704', 'sentiment': 'negative'}], '1052': [{'category': 'Whole', 'mention': 'заведение', 'start': '13', 'end': '22', 'sentiment': 'positive'}, {'category': 'Food', 'mention': 'кухня', 'start': '75', 'end': '80', 'sentiment': 'positive'}, {'category': 'Food', 'mention': 'Карпаччо', 'start': '82', 'end': '90', 'sentiment': 'positive'}, {'category': 'Food', 'mention': 'бальзамиками', 'start': '115', 'end': '127', 'sentiment': 'positive'}, {'category': 'Food', 'mention': 'маслом', 'start': '130', 'end': '136', 'sentiment': 'positive'}, {'category': 'Food', 'mention': 'выбор вин', 'start': '147', 'end': '156', 'sentiment': 'positive'}, {'category': 'Interior', 'mention': 'Интерьер', 'start': '158', 'end': '166', 'sentiment': 'positive'}, {'category': 'Interior', 'mention': 'гардероб', 'start': '182', 'end': '190', 'sentiment': 'positive'}, {'category': 'Interior', 'mention': 'диваны', 'start': '192', 'end': '198', 'sentiment': 'positive'}, {'category': 'Interior', 'mention': 'музыка', 'start': '232', 'end': '238', 'sentiment': 'positive'}, {'category': 'Interior', 'mention': 'саксофониста', 'start': '274', 'end': '286', 'sentiment': 'positive'}, {'category': 'Interior', 'mention': 'атмосфера', 'start': '298', 'end': '307', 'sentiment': 'positive'}, {'category': 'Service', 'mention': 'Обслуживание', 'start': '315', 'end': '327', 'sentiment': 'negative'}, {'category': 'Service', 'mention': 'официант', 'start': '371', 'end': '379', 'sentiment': 'negative'}, {'category': 'Service', 'mention': 'заказал', 'start': '603', 'end': '610', 'sentiment': 'negative'}, {'category': 'Food', 'mention': 'стейк', 'start': '611', 'end': '616', 'sentiment': 'neutral'}, {'category': 'Service', 'mention': 'официантка', 'start': '671', 'end': '681', 'sentiment': 'negative'}, {'category': 'Service', 'mention': 'официантке', 'start': '861', 'end': '871', 'sentiment': 'neutral'}, {'category': 'Whole', 'mention': 'место', 'start': '927', 'end': '932', 'sentiment': 'positive'}, {'category': 'Price', 'mention': 'цены', 'start': '951', 'end': '955', 'sentiment': 'positive'}], '30148': [{'category': 'Food', 'mention': 'Паста', 'start': '271', 'end': '276', 'sentiment': 'positive'}, {'category': 'Food', 'mention': 'ризотто', 'start': '277', 'end': '284', 'sentiment': 'positive'}, {'category': 'Food', 'mention': 'пообедать', 'start': '371', 'end': '380', 'sentiment': 'neutral'}, {'category': 'Service', 'mention': 'официанта', 'start': '438', 'end': '447', 'sentiment': 'negative'}, {'category': 'Service', 'mention': 'обслуживать гостей', 'start': '670', 'end': '688', 'sentiment': 'negative'}, {'category': 'Service', 'mention': 'сервисом', 'start': '725', 'end': '733', 'sentiment': 'negative'}, {'category': 'Food', 'mention': 'Супчики', 'start': '750', 'end': '757', 'sentiment': 'positive'}, {'category': 'Food', 'mention': 'чаек', 'start': '787', 'end': '791', 'sentiment': 'positive'}, {'category': 'Food', 'mention': 'десерт', 'start': '794', 'end': '800', 'sentiment': 'positive'}], '24916': [{'category': 'Service', 'mention': 'заказывал столик', 'start': '27', 'end': '43', 'sentiment': 'neutral'}, {'category': 'Interior', 'mention': 'Интерьер', 'start': '56', 'end': '64', 'sentiment': 'positive'}, {'category': 'Food', 'mention': 'кухня', 'start': '79', 'end': '84', 'sentiment': 'positive'}, {'category': 'Service', 'mention': 'обслуживание', 'start': '99', 'end': '111', 'sentiment': 'negative'}, {'category': 'Service', 'mention': 'обслуга', 'start': '122', 'end': '129', 'sentiment': 'negative'}, {'category': 'Service', 'mention': 'девушка', 'start': '207', 'end': '214', 'sentiment': 'negative'}, {'category': 'Service', 'mention': 'бронь столика', 'start': '295', 'end': '308', 'sentiment': 'neutral'}, {'category': 'Service', 'mention': 'Заказ', 'start': '374', 'end': '379', 'sentiment': 'positive'}, {'category': 'Food', 'mention': 'еде', 'start': '436', 'end': '439', 'sentiment': 'neutral'}, {'category': 'Service', 'mention': 'девушка', 'start': '441', 'end': '448', 'sentiment': 'negative'}, {'category': 'Service', 'mention': 'чаевых', 'start': '582', 'end': '588', 'sentiment': 'negative'}], '1515': [{'category': 'Whole', 'mention': 'ресторан МИСО', 'start': '20', 'end': '33', 'sentiment': 'positive'}, {'category': 'Food', 'mention': 'обедать', 'start': '66', 'end': '73', 'sentiment': 'positive'}, {'category': 'Food', 'mention': 'кухней', 'start': '170', 'end': '176', 'sentiment': 'positive'}, {'category': 'Service', 'mention': 'обслуживанием', 'start': '179', 'end': '192', 'sentiment': 'positive'}, {'category': 'Interior', 'mention': 'интерьер', 'start': '205', 'end': '213', 'sentiment': 'positive'}, {'category': 'Interior', 'mention': 'атмосфера', 'start': '216', 'end': '225', 'sentiment': 'positive'}, {'category': 'Food', 'mention': 'ланч', 'start': '246', 'end': '250', 'sentiment': 'negative'}, {'category': 'Food', 'mention': 'кусочек мяса', 'start': '331', 'end': '343', 'sentiment': 'negative'}, {'category': 'Whole', 'mention': 'заведение', 'start': '577', 'end': '586', 'sentiment': 'negative'}], '3906': [{'category': 'Interior', 'mention': 'атмосфере', 'start': '131', 'end': '140', 'sentiment': 'positive'}, {'category': 'Interior', 'mention': 'интерьер', 'start': '143', 'end': '151', 'sentiment': 'positive'}, {'category': 'Service', 'mention': 'персонал', 'start': '153', 'end': '161', 'sentiment': 'positive'}, {'category': 'Interior', 'mention': 'музыкальное сопровождение', 'start': '163', 'end': '188', 'sentiment': 'positive'}, {'category': 'Interior', 'mention': 'свечи- цветы', 'start': '191', 'end': '203', 'sentiment': 'positive'}, {'category': 'Food', 'mention': 'кухне', 'start': '258', 'end': '263', 'sentiment': 'positive'}, {'category': 'Food', 'mention': 'подача мяса', 'start': '311', 'end': '322', 'sentiment': 'positive'}, {'category': 'Food', 'mention': 'холодных закусок', 'start': '325', 'end': '341', 'sentiment': 'positive'}, {'category': 'Food', 'mention': 'десертов', 'start': '343', 'end': '351', 'sentiment': 'positive'}, {'category': 'Service', 'mention': 'Комплимент от ресторана', 'start': '357', 'end': '380', 'sentiment': 'positive'}, {'category': 'Food', 'mention': 'вазочки с виноградом', 'start': '388', 'end': '408', 'sentiment': 'positive'}, {'category': 'Food', 'mention': 'Постное меню', 'start': '480', 'end': '492', 'sentiment': 'both'}, {'category': 'Food', 'mention': 'вкус блюд', 'start': '551', 'end': '560', 'sentiment': 'positive'}, {'category': 'Whole', 'mention': 'заведения', 'start': '583', 'end': '592', 'sentiment': 'positive'}, {'category': 'Whole', 'mention': 'место', 'start': '668', 'end': '673', 'sentiment': 'positive'}], '21574': [{'category': 'Service', 'mention': 'официантки', 'start': '120', 'end': '130', 'sentiment': 'positive'}, {'category': 'Service', 'mention': 'улыбаются', 'start': '152', 'end': '161', 'sentiment': 'positive'}, {'category': 'Service', 'mention': 'встречают', 'start': '270', 'end': '279', 'sentiment': 'positive'}, {'category': 'Service', 'mention': 'провожают', 'start': '281', 'end': '290', 'sentiment': 'positive'}, {'category': 'Service', 'mention': 'обслуживания', 'start': '467', 'end': '479', 'sentiment': 'positive'}, {'category': 'Food', 'mention': 'салат с креветками и листьями', 'start': '560', 'end': '589', 'sentiment': 'positive'}, {'category': 'Food', 'mention': 'рулетики из баклажанов', 'start': '591', 'end': '613', 'sentiment': 'positive'}, {'category': 'Food', 'mention': 'начинка', 'start': '615', 'end': '622', 'sentiment': 'positive'}, {'category': 'Food', 'mention': 'грецкие орехи', 'start': '639', 'end': '652', 'sentiment': 'positive'}, {'category': 'Food', 'mention': 'холодный рыбный рулет', 'start': '678', 'end': '699', 'sentiment': 'positive'}, {'category': 'Food', 'mention': 'корюшка, фаршированная рисом и овощами', 'start': '703', 'end': '741', 'sentiment': 'positive'}, {'category': 'Food', 'mention': 'блюдо', 'start': '770', 'end': '775', 'sentiment': 'positive'}, {'category': 'Food', 'mention': 'Свинина', 'start': '777', 'end': '784', 'sentiment': 'negative'}, {'category': 'Interior', 'mention': 'интерьер', 'start': '839', 'end': '847', 'sentiment': 'positive'}, {'category': 'Whole', 'mention': 'заведение', 'start': '968', 'end': '977', 'sentiment': 'positive'}], '34196': [{'category': 'Service', 'mention': 'Бронировали столик', 'start': '0', 'end': '18', 'sentiment': 'neutral'}, {'category': 'Service', 'mention': 'обслуживал', 'start': '147', 'end': '157', 'sentiment': 'neutral'}, {'category': 'Service', 'mention': 'Шеф-повар ресторана', 'start': '158', 'end': '177', 'sentiment': 'neutral'}, {'category': 'Service', 'mention': 'мужчина', 'start': '235', 'end': '242', 'sentiment': 'positive'}, {'category': 'Food', 'mention': 'блюда', 'start': '373', 'end': '378', 'sentiment': 'positive'}, {'category': 'Food', 'mention': 'блюда', 'start': '471', 'end': '476', 'sentiment': 'neutral'}, {'category': 'Food', 'mention': 'блюда', 'start': '501', 'end': '506', 'sentiment': 'neutral'}, {'category': 'Food', 'mention': 'мясной стейк', 'start': '535', 'end': '547', 'sentiment': 'negative'}, {'category': 'Service', 'mention': 'бронировании столика', 'start': '571', 'end': '591', 'sentiment': 'neutral'}, {'category': 'Service', 'mention': 'администратор', 'start': '592', 'end': '605', 'sentiment': 'neutral'}, {'category': 'Interior', 'mention': 'внешний вид зала', 'start': '755', 'end': '771', 'sentiment': 'positive'}, {'category': 'Service', 'mention': 'официантке', 'start': '812', 'end': '822', 'sentiment': 'positive'}, {'category': 'Interior', 'mention': 'посетители VIP-зала', 'start': '878', 'end': '897', 'sentiment': 'negative'}, {'category': 'Interior', 'mention': 'аквариум', 'start': '939', 'end': '947', 'sentiment': 'neutral'}], '6880': [{'category': 'Whole', 'mention': 'ресторане', 'start': '20', 'end': '29', 'sentiment': 'neutral'}, {'category': 'Service', 'mention': 'персонала', 'start': '145', 'end': '154', 'sentiment': 'negative'}, {'category': 'Service', 'mention': 'бармена', 'start': '174', 'end': '181', 'sentiment': 'neutral'}, {'category': 'Food', 'mention': 'шашлыки из баранины на кости и мякоти', 'start': '416', 'end': '453', 'sentiment': 'neutral'}, {'category': 'Food', 'mention': 'зелень', 'start': '455', 'end': '461', 'sentiment': 'neutral'}, {'category': 'Food', 'mention': 'свежие овощи', 'start': '463', 'end': '475', 'sentiment': 'neutral'}, {'category': 'Food', 'mention': 'картофель айдахо', 'start': '477', 'end': '493', 'sentiment': 'neutral'}, {'category': 'Food', 'mention': 'соусы к мясу и картофелю', 'start': '495', 'end': '519', 'sentiment': 'neutral'}, {'category': 'Food', 'mention': 'чай', 'start': '521', 'end': '524', 'sentiment': 'neutral'}, {'category': 'Food', 'mention': 'кофе', 'start': '526', 'end': '530', 'sentiment': 'neutral'}, {'category': 'Service', 'mention': 'Готовили', 'start': '532', 'end': '540', 'sentiment': 'negative'}, {'category': 'Food', 'mention': 'Мясо', 'start': '701', 'end': '705', 'sentiment': 'positive'}, {'category': 'Food', 'mention': 'прожаренное', 'start': '727', 'end': '738', 'sentiment': 'positive'}, {'category': 'Food', 'mention': 'меню', 'start': '944', 'end': '948', 'sentiment': 'positive'}, {'category': 'Service', 'mention': 'сервис', 'start': '1097', 'end': '1103', 'sentiment': 'negative'}, {'category': 'Service', 'mention': 'персонала', 'start': '1246', 'end': '1255', 'sentiment': 'negative'}], '31140': [{'category': 'Whole', 'mention': 'Le Glamure', 'start': '57', 'end': '67', 'sentiment': 'positive'}, {'category': 'Food', 'mention': 'кухня', 'start': '129', 'end': '134', 'sentiment': 'positive'}, {'category': 'Service', 'mention': 'обслуживание', 'start': '136', 'end': '148', 'sentiment': 'positive'}, {'category': 'Interior', 'mention': 'обстановка', 'start': '166', 'end': '176', 'sentiment': 'positive'}, {'category': 'Whole', 'mention': 'ресторан', 'start': '255', 'end': '263', 'sentiment': 'positive'}, {'category': 'Service', 'mention': 'официанты', 'start': '277', 'end': '286', 'sentiment': 'positive'}, {'category': 'Food', 'mention': 'еда', 'start': '296', 'end': '299', 'sentiment': 'positive'}, {'category': 'Interior', 'mention': 'интерьер', 'start': '311', 'end': '319', 'sentiment': 'positive'}, {'category': 'Whole', 'mention': 'место', 'start': '347', 'end': '352', 'sentiment': 'positive'}, {'category': 'Service', 'mention': 'ведущей', 'start': '395', 'end': '402', 'sentiment': 'positive'}], '19467': [{'category': 'Whole', 'mention': 'Террасу', 'start': '24', 'end': '31', 'sentiment': 'neutral'}, {'category': 'Service', 'mention': 'Официантка', 'start': '595', 'end': '605', 'sentiment': 'positive'}, {'category': 'Service', 'mention': 'Сервис', 'start': '698', 'end': '704', 'sentiment': 'both'}, {'category': 'Food', 'mention': 'Кухня', 'start': '775', 'end': '780', 'sentiment': 'positive'}, {'category': 'Food', 'mention': 'Меню', 'start': '805', 'end': '809', 'sentiment': 'positive'}, {'category': 'Food', 'mention': 'Салаты', 'start': '838', 'end': '844', 'sentiment': 'positive'}, {'category': 'Food', 'mention': 'паста', 'start': '847', 'end': '852', 'sentiment': 'positive'}, {'category': 'Food', 'mention': 'Алкоголь', 'start': '873', 'end': '881', 'sentiment': 'positive'}, {'category': 'Price', 'mention': 'Цены', 'start': '908', 'end': '912', 'sentiment': 'positive'}, {'category': 'Whole', 'mention': 'Терраса', 'start': '933', 'end': '940', 'sentiment': 'positive'}, {'category': 'Whole', 'mention': 'мест', 'start': '1000', 'end': '1004', 'sentiment': 'positive'}], '21059': [{'category': 'Whole', 'mention': 'ресторане', 'start': '29', 'end': '38', 'sentiment': 'neutral'}, {'category': 'Whole', 'mention': 'место', 'start': '157', 'end': '162', 'sentiment': 'negative'}, {'category': 'Food', 'mention': 'Кухня', 'start': '374', 'end': '379', 'sentiment': 'positive'}, {'category': 'Interior', 'mention': 'программа', 'start': '458', 'end': '467', 'sentiment': 'positive'}, {'category': 'Interior', 'mention': 'живая музыка', 'start': '468', 'end': '480', 'sentiment': 'positive'}, {'category': 'Interior', 'mention': 'пела', 'start': '503', 'end': '507', 'sentiment': 'positive'}, {'category': 'Interior', 'mention': 'грузинские танцевальный коллектив', 'start': '511', 'end': '544', 'sentiment': 'positive'}], '33816': [{'category': 'Interior', 'mention': 'интерьер зала', 'start': '96', 'end': '109', 'sentiment': 'positive'}, {'category': 'Interior', 'mention': 'атмосфера', 'start': '154', 'end': '163', 'sentiment': 'positive'}, {'category': 'Service', 'mention': 'обслуживание', 'start': '212', 'end': '224', 'sentiment': 'positive'}, {'category': 'Food', 'mention': 'кухни', 'start': '238', 'end': '243', 'sentiment': 'positive'}, {'category': 'Price', 'mention': 'Соотношение цена/качество', 'start': '261', 'end': '286', 'sentiment': 'positive'}, {'category': 'Interior', 'mention': 'Живая музыка', 'start': '297', 'end': '309', 'sentiment': 'positive'}, {'category': 'Interior', 'mention': 'девушка-певица', 'start': '322', 'end': '336', 'sentiment': 'positive'}, {'category': 'Interior', 'mention': 'потанцевали', 'start': '358', 'end': '369', 'sentiment': 'positive'}, {'category': 'Whole', 'mention': 'провели время', 'start': '420', 'end': '433', 'sentiment': 'positive'}], '32995': [{'category': 'Whole', 'mention': 'местечко', 'start': '20', 'end': '28', 'sentiment': 'neutral'}, {'category': 'Food', 'mention': 'выпить пива', 'start': '29', 'end': '40', 'sentiment': 'neutral'}, {'category': 'Interior', 'mention': 'столик', 'start': '159', 'end': '165', 'sentiment': 'negative'}, {'category': 'Service', 'mention': 'заказываю столик', 'start': '267', 'end': '283', 'sentiment': 'neutral'}, {'category': 'Service', 'mention': 'заказать обычный столик', 'start': '308', 'end': '331', 'sentiment': 'negative'}, {'category': 'Food', 'mention': 'пивом', 'start': '420', 'end': '425', 'sentiment': 'neutral'}, {'category': 'Food', 'mention': 'едой', 'start': '428', 'end': '432', 'sentiment': 'neutral'}, {'category': 'Food', 'mention': 'Пиво', 'start': '434', 'end': '438', 'sentiment': 'positive'}, {'category': 'Food', 'mention': 'вайнштефан светлое', 'start': '465', 'end': '483', 'sentiment': 'positive'}, {'category': 'Food', 'mention': 'Еда', 'start': '528', 'end': '531', 'sentiment': 'positive'}, {'category': 'Food', 'mention': 'порции', 'start': '564', 'end': '570', 'sentiment': 'positive'}, {'category': 'Service', 'mention': 'Обслуживание', 'start': '583', 'end': '595', 'sentiment': 'both'}, {'category': 'Service', 'mention': 'официантки', 'start': '634', 'end': '644', 'sentiment': 'both'}, {'category': 'Service', 'mention': 'официант', 'start': '660', 'end': '668', 'sentiment': 'positive'}, {'category': 'Whole', 'mention': 'место', 'start': '762', 'end': '767', 'sentiment': 'positive'}], '9870': [{'category': 'Whole', 'mention': 'Амадеусе', 'start': '30', 'end': '38', 'sentiment': 'neutral'}, {'category': 'Whole', 'mention': 'ресторану', 'start': '149', 'end': '158', 'sentiment': 'positive'}, {'category': 'Interior', 'mention': 'каминный зал', 'start': '184', 'end': '196', 'sentiment': 'positive'}, {'category': 'Interior', 'mention': 'декор', 'start': '209', 'end': '214', 'sentiment': 'positive'}, {'category': 'Interior', 'mention': 'интерьер', 'start': '217', 'end': '225', 'sentiment': 'positive'}, {'category': 'Interior', 'mention': 'каминный зал', 'start': '234', 'end': '246', 'sentiment': 'positive'}, {'category': 'Service', 'mention': 'персонала ресторана', 'start': '357', 'end': '376', 'sentiment': 'positive'}, {'category': 'Service', 'mention': 'администратором', 'start': '402', 'end': '417', 'sentiment': 'positive'}, {'category': 'Service', 'mention': 'коллектив официантов', 'start': '649', 'end': '669', 'sentiment': 'positive'}, {'category': 'Service', 'mention': 'подачи блюд', 'start': '703', 'end': '714', 'sentiment': 'positive'}, {'category': 'Service', 'mention': 'персоналом', 'start': '780', 'end': '790', 'sentiment': 'positive'}, {'category': 'Food', 'mention': 'кухня', 'start': '841', 'end': '846', 'sentiment': 'positive'}, {'category': 'Food', 'mention': 'сервировка', 'start': '863', 'end': '873', 'sentiment': 'positive'}, {'category': 'Food', 'mention': 'подача блюд', 'start': '876', 'end': '887', 'sentiment': 'positive'}, {'category': 'Food', 'mention': 'вкус блюд', 'start': '894', 'end': '903', 'sentiment': 'positive'}, {'category': 'Whole', 'mention': 'ресторане', 'start': '1133', 'end': '1142', 'sentiment': 'neutral'}, {'category': 'Service', 'mention': 'администратор', 'start': '1242', 'end': '1255', 'sentiment': 'positive'}], '4308': [{'category': 'Whole', 'mention': 'ресторан', 'start': '31', 'end': '39', 'sentiment': 'negative'}, {'category': 'Whole', 'mention': 'ресторан', 'start': '174', 'end': '182', 'sentiment': 'positive'}, {'category': 'Interior', 'mention': 'Интерьер', 'start': '205', 'end': '213', 'sentiment': 'positive'}, {'category': 'Food', 'mention': 'кухня', 'start': '215', 'end': '220', 'sentiment': 'positive'}, {'category': 'Service', 'mention': 'персонал', 'start': '222', 'end': '230', 'sentiment': 'positive'}, {'category': 'Service', 'mention': 'заказ', 'start': '286', 'end': '291', 'sentiment': 'positive'}, {'category': 'Food', 'mention': 'порции', 'start': '294', 'end': '300', 'sentiment': 'positive'}, {'category': 'Interior', 'mention': 'Музыка', 'start': '339', 'end': '345', 'sentiment': 'positive'}, {'category': 'Service', 'mention': 'официантка', 'start': '358', 'end': '368', 'sentiment': 'positive'}, {'category': 'Food', 'mention': 'салата', 'start': '403', 'end': '409', 'sentiment': 'positive'}, {'category': 'Food', 'mention': 'рыбу', 'start': '411', 'end': '415', 'sentiment': 'positive'}, {'category': 'Food', 'mention': 'курицу', 'start': '417', 'end': '423', 'sentiment': 'positive'}, {'category': 'Food', 'mention': 'свинину', 'start': '425', 'end': '432', 'sentiment': 'positive'}, {'category': 'Food', 'mention': 'закусывая', 'start': '434', 'end': '443', 'sentiment': 'positive'}, {'category': 'Food', 'mention': 'ушами', 'start': '444', 'end': '449', 'sentiment': 'positive'}, {'category': 'Food', 'mention': 'чипсами', 'start': '452', 'end': '459', 'sentiment': 'positive'}, {'category': 'Food', 'mention': 'запивая', 'start': '464', 'end': '471', 'sentiment': 'positive'}, {'category': 'Food', 'mention': 'пивом', 'start': '472', 'end': '477', 'sentiment': 'positive'}, {'category': 'Food', 'mention': 'морсами', 'start': '479', 'end': '486', 'sentiment': 'positive'}, {'category': 'Food', 'mention': 'соком', 'start': '489', 'end': '494', 'sentiment': 'positive'}, {'category': 'Whole', 'mention': 'ресторан', 'start': '724', 'end': '732', 'sentiment': 'positive'}, {'category': 'Food', 'mention': 'кухня', 'start': '748', 'end': '753', 'sentiment': 'positive'}, {'category': 'Service', 'mention': 'обслуживание', 'start': '756', 'end': '768', 'sentiment': 'positive'}], '31778': [{'category': 'Whole', 'mention': 'заведение', 'start': '27', 'end': '36', 'sentiment': 'positive'}, {'category': 'Interior', 'mention': 'живая музыка', 'start': '55', 'end': '67', 'sentiment': 'positive'}, {'category': 'Interior', 'mention': 'концерте', 'start': '77', 'end': '85', 'sentiment': 'neutral'}, {'category': 'Interior', 'mention': 'Ребята', 'start': '122', 'end': '128', 'sentiment': 'positive'}, {'category': 'Interior', 'mention': 'Публика', 'start': '173', 'end': '180', 'sentiment': 'positive'}, {'category': 'Service', 'mention': 'администрацию бара', 'start': '267', 'end': '285', 'sentiment': 'positive'}, {'category': 'Service', 'mention': 'обслуживание', 'start': '426', 'end': '438', 'sentiment': 'both'}, {'category': 'Interior', 'mention': 'концерте', 'start': '498', 'end': '506', 'sentiment': 'neutral'}, {'category': 'Service', 'mention': 'официантку', 'start': '507', 'end': '517', 'sentiment': 'negative'}, {'category': 'Food', 'mention': 'пиво', 'start': '610', 'end': '614', 'sentiment': 'positive'}, {'category': 'Price', 'mention': 'цены', 'start': '706', 'end': '710', 'sentiment': 'positive'}, {'category': 'Whole', 'mention': 'заведения', 'start': '715', 'end': '724', 'sentiment': 'positive'}, {'category': 'Food', 'mention': 'пиво', 'start': '770', 'end': '774', 'sentiment': 'positive'}, {'category': 'Service', 'mention': 'администрации', 'start': '827', 'end': '840', 'sentiment': 'positive'}], '36079': [{'category': 'Whole', 'mention': 'ресторан', 'start': '9', 'end': '17', 'sentiment': 'positive'}, {'category': 'Whole', 'mention': 'кафе', 'start': '29', 'end': '33', 'sentiment': 'positive'}, {'category': 'Interior', 'mention': 'обстановка', 'start': '48', 'end': '58', 'sentiment': 'positive'}, {'category': 'Service', 'mention': 'персонал', 'start': '68', 'end': '76', 'sentiment': 'positive'}, {'category': 'Interior', 'mention': 'интерьер', 'start': '87', 'end': '95', 'sentiment': 'positive'}, {'category': 'Interior', 'mention': 'уютом', 'start': '168', 'end': '173', 'sentiment': 'positive'}, {'category': 'Interior', 'mention': 'лифт', 'start': '288', 'end': '292', 'sentiment': 'negative'}], '20086': [{'category': 'Whole', 'mention': 'заведение', 'start': '39', 'end': '48', 'sentiment': 'neutral'}, {'category': 'Service', 'mention': 'Столик заказали', 'start': '50', 'end': '65', 'sentiment': 'neutral'}, {'category': 'Interior', 'mention': 'комната для караоке', 'start': '141', 'end': '160', 'sentiment': 'neutral'}, {'category': 'Interior', 'mention': 'Интерьер', 'start': '211', 'end': '219', 'sentiment': 'positive'}, {'category': 'Interior', 'mention': 'мебель', 'start': '266', 'end': '272', 'sentiment': 'positive'}, {'category': 'Food', 'mention': 'Меню', 'start': '274', 'end': '278', 'sentiment': 'negative'}, {'category': 'Price', 'mention': 'цены', 'start': '297', 'end': '301', 'sentiment': 'positive'}, {'category': 'Service', 'mention': 'обслуживающего персонала', 'start': '430', 'end': '454', 'sentiment': 'positive'}, {'category': 'Service', 'mention': 'обслуживало', 'start': '499', 'end': '510', 'sentiment': 'positive'}, {'category': 'Service', 'mention': 'персонал', 'start': '579', 'end': '587', 'sentiment': 'positive'}, {'category': 'Service', 'mention': 'администрация', 'start': '635', 'end': '648', 'sentiment': 'neutral'}, {'category': 'Food', 'mention': 'салатов', 'start': '689', 'end': '696', 'sentiment': 'positive'}, {'category': 'Food', 'mention': 'десерты', 'start': '722', 'end': '729', 'sentiment': 'negative'}], '35863': [{'category': 'Whole', 'mention': 'Жан-Жаке', 'start': '20', 'end': '28', 'sentiment': 'neutral'}, {'category': 'Whole', 'mention': 'Невский 166', 'start': '96', 'end': '107', 'sentiment': 'neutral'}, {'category': 'Whole', 'mention': 'Марата', 'start': '139', 'end': '145', 'sentiment': 'neutral'}, {'category': 'Service', 'mention': 'стол забронировали', 'start': '184', 'end': '202', 'sentiment': 'neutral'}, {'category': 'Service', 'mention': 'администратора', 'start': '296', 'end': '310', 'sentiment': 'neutral'}, {'category': 'Service', 'mention': 'проводили к столу', 'start': '354', 'end': '371', 'sentiment': 'neutral'}, {'category': 'Service', 'mention': 'предложили напитки', 'start': '374', 'end': '392', 'sentiment': 'neutral'}, {'category': 'Service', 'mention': 'молодой человек', 'start': '409', 'end': '424', 'sentiment': 'neutral'}, {'category': 'Service', 'mention': 'Заказ принял', 'start': '426', 'end': '438', 'sentiment': 'positive'}, {'category': 'Food', 'mention': 'рыбку', 'start': '510', 'end': '515', 'sentiment': 'neutral'}, {'category': 'Food', 'mention': 'винишко', 'start': '519', 'end': '526', 'sentiment': 'neutral'}, {'category': 'Service', 'mention': 'официанта', 'start': '583', 'end': '592', 'sentiment': 'positive'}, {'category': 'Food', 'mention': 'Кухня', 'start': '738', 'end': '743', 'sentiment': 'neutral'}, {'category': 'Food', 'mention': 'Кухня', 'start': '746', 'end': '751', 'sentiment': 'positive'}, {'category': 'Food', 'mention': 'готовят', 'start': '779', 'end': '786', 'sentiment': 'positive'}, {'category': 'Food', 'mention': 'Рыбка', 'start': '794', 'end': '799', 'sentiment': 'positive'}, {'category': 'Food', 'mention': 'овощи на гриле', 'start': '813', 'end': '827', 'sentiment': 'positive'}, {'category': 'Food', 'mention': 'хлебная корзина', 'start': '830', 'end': '845', 'sentiment': 'positive'}, {'category': 'Food', 'mention': 'Корзину', 'start': '868', 'end': '875', 'sentiment': 'positive'}, {'category': 'Interior', 'mention': 'интерьера', 'start': '979', 'end': '988', 'sentiment': 'both'}, {'category': 'Whole', 'mention': 'визитом', 'start': '1174', 'end': '1181', 'sentiment': 'positive'}], '29298': [{'category': 'Whole', 'mention': 'ресторан', 'start': '48', 'end': '56', 'sentiment': 'positive'}, {'category': 'Service', 'mention': 'обслуживание', 'start': '58', 'end': '70', 'sentiment': 'positive'}, {'category': 'Service', 'mention': 'официанты', 'start': '85', 'end': '94', 'sentiment': 'positive'}, {'category': 'Service', 'mention': 'администраторы', 'start': '97', 'end': '111', 'sentiment': 'positive'}, {'category': 'Interior', 'mention': 'охраны', 'start': '144', 'end': '150', 'sentiment': 'neutral'}, {'category': 'Whole', 'mention': 'ресторане', 'start': '266', 'end': '275', 'sentiment': 'neutral'}, {'category': 'Interior', 'mention': 'потанцевать', 'start': '383', 'end': '394', 'sentiment': 'positive'}, {'category': 'Whole', 'mention': 'провести время', 'start': '407', 'end': '421', 'sentiment': 'positive'}, {'category': 'Interior', 'mention': 'Публика', 'start': '423', 'end': '430', 'sentiment': 'positive'}, {'category': 'Price', 'mention': 'цены', 'start': '442', 'end': '446', 'sentiment': 'positive'}, {'category': 'Food', 'mention': 'пивоварня', 'start': '470', 'end': '479', 'sentiment': 'positive'}, {'category': 'Food', 'mention': 'пшеничное и ячменное пиво', 'start': '500', 'end': '525', 'sentiment': 'positive'}, {'category': 'Food', 'mention': 'закуски', 'start': '527', 'end': '534', 'sentiment': 'positive'}, {'category': 'Food', 'mention': 'сырная и мясная тарелка', 'start': '564', 'end': '587', 'sentiment': 'positive'}, {'category': 'Food', 'mention': 'молочные и алкогольные коктейли', 'start': '598', 'end': '629', 'sentiment': 'positive'}, {'category': 'Whole', 'mention': 'заведение', 'start': '665', 'end': '674', 'sentiment': 'positive'}, {'category': 'Service', 'mention': 'бронировать', 'start': '744', 'end': '755', 'sentiment': 'negative'}, {'category': 'Whole', 'mention': 'ресторан', 'start': '815', 'end': '823', 'sentiment': 'positive'}], '37784': [{'category': 'Whole', 'mention': 'заведение', 'start': '33', 'end': '42', 'sentiment': 'neutral'}, {'category': 'Food', 'mention': 'пиво', 'start': '93', 'end': '97', 'sentiment': 'positive'}, {'category': 'Food', 'mention': 'кухни', 'start': '122', 'end': '127', 'sentiment': 'neutral'}, {'category': 'Food', 'mention': 'ели', 'start': '128', 'end': '131', 'sentiment': 'neutral'}, {'category': 'Food', 'mention': 'гренки', 'start': '132', 'end': '138', 'sentiment': 'neutral'}, {'category': 'Food', 'mention': 'горячие блюда', 'start': '158', 'end': '171', 'sentiment': 'positive'}, {'category': 'Food', 'mention': 'мясо', 'start': '172', 'end': '176', 'sentiment': 'positive'}, {'category': 'Food', 'mention': 'порции', 'start': '196', 'end': '202', 'sentiment': 'positive'}, {'category': 'Food', 'mention': 'Салат \"Цезарь\"', 'start': '204', 'end': '218', 'sentiment': 'positive'}, {'category': 'Service', 'mention': 'Обслуживание', 'start': '316', 'end': '328', 'sentiment': 'positive'}, {'category': 'Service', 'mention': 'бронировать столы', 'start': '488', 'end': '505', 'sentiment': 'neutral'}, {'category': 'Whole', 'mention': 'место', 'start': '527', 'end': '532', 'sentiment': 'positive'}], '23369': [{'category': 'Whole', 'mention': 'ресторанчике', 'start': '32', 'end': '44', 'sentiment': 'neutral'}, {'category': 'Service', 'mention': 'Встретили', 'start': '141', 'end': '150', 'sentiment': 'positive'}, {'category': 'Interior', 'mention': 'залы', 'start': '172', 'end': '176', 'sentiment': 'neutral'}, {'category': 'Interior', 'mention': 'веранде', 'start': '206', 'end': '213', 'sentiment': 'neutral'}, {'category': 'Interior', 'mention': 'обстановка', 'start': '235', 'end': '245', 'sentiment': 'positive'}, {'category': 'Interior', 'mention': 'Интерьер', 'start': '295', 'end': '303', 'sentiment': 'both'}, {'category': 'Interior', 'mention': 'музыка', 'start': '361', 'end': '367', 'sentiment': 'positive'}, {'category': 'Service', 'mention': 'официантом', 'start': '421', 'end': '431', 'sentiment': 'positive'}, {'category': 'Service', 'mention': 'обслуживал', 'start': '471', 'end': '481', 'sentiment': 'positive'}, {'category': 'Food', 'mention': 'блюдах', 'start': '545', 'end': '551', 'sentiment': 'neutral'}, {'category': 'Food', 'mention': 'блюд', 'start': '594', 'end': '598', 'sentiment': 'neutral'}, {'category': 'Service', 'mention': 'Заказ был выполнен', 'start': '599', 'end': '617', 'sentiment': 'positive'}, {'category': 'Service', 'mention': 'Заказ', 'start': '599', 'end': '604', 'sentiment': 'positive'}, {'category': 'Service', 'mention': 'ждали', 'start': '631', 'end': '636', 'sentiment': 'positive'}, {'category': 'Food', 'mention': 'горячее', 'start': '685', 'end': '692', 'sentiment': 'positive'}, {'category': 'Food', 'mention': 'приготовлено', 'start': '726', 'end': '738', 'sentiment': 'positive'}, {'category': 'Food', 'mention': 'мясо', 'start': '739', 'end': '743', 'sentiment': 'positive'}, {'category': 'Food', 'mention': 'приготовлены', 'start': '765', 'end': '777', 'sentiment': 'positive'}, {'category': 'Food', 'mention': 'овощи', 'start': '778', 'end': '783', 'sentiment': 'positive'}, {'category': 'Food', 'mention': 'Шашлыка из лосося', 'start': '784', 'end': '801', 'sentiment': 'negative'}, {'category': 'Food', 'mention': 'порции', 'start': '804', 'end': '810', 'sentiment': 'negative'}, {'category': 'Food', 'mention': 'овощи', 'start': '858', 'end': '863', 'sentiment': 'negative'}, {'category': 'Food', 'mention': 'Салат', 'start': '881', 'end': '886', 'sentiment': 'negative'}, {'category': 'Food', 'mention': 'приправлен', 'start': '896', 'end': '906', 'sentiment': 'negative'}, {'category': 'Food', 'mention': 'соусом', 'start': '922', 'end': '928', 'sentiment': 'negative'}, {'category': 'Food', 'mention': 'Вино', 'start': '930', 'end': '934', 'sentiment': 'negative'}, {'category': 'Food', 'mention': 'пивом', 'start': '985', 'end': '990', 'sentiment': 'neutral'}, {'category': 'Food', 'mention': 'домашним морсом', 'start': '1010', 'end': '1025', 'sentiment': 'positive'}, {'category': 'Food', 'mention': 'Выбор блюд', 'start': '1027', 'end': '1037', 'sentiment': 'positive'}], '15335': [{'category': 'Whole', 'mention': 'ресторан Трес Амигос', 'start': '73', 'end': '93', 'sentiment': 'positive'}, {'category': 'Interior', 'mention': 'обстановка', 'start': '121', 'end': '131', 'sentiment': 'positive'}, {'category': 'Interior', 'mention': 'интерьер', 'start': '134', 'end': '142', 'sentiment': 'positive'}, {'category': 'Service', 'mention': 'официанты', 'start': '258', 'end': '267', 'sentiment': 'positive'}, {'category': 'Interior', 'mention': 'не курящий зал', 'start': '270', 'end': '284', 'sentiment': 'positive'}, {'category': 'Interior', 'mention': 'зал', 'start': '286', 'end': '289', 'sentiment': 'positive'}, {'category': 'Service', 'mention': 'персонала', 'start': '368', 'end': '377', 'sentiment': 'positive'}, {'category': 'Service', 'mention': 'ребята', 'start': '420', 'end': '426', 'sentiment': 'positive'}, {'category': 'Service', 'mention': 'официант', 'start': '436', 'end': '444', 'sentiment': 'positive'}, {'category': 'Food', 'mention': 'напитки', 'start': '490', 'end': '497', 'sentiment': 'neutral'}, {'category': 'Food', 'mention': 'блюд', 'start': '532', 'end': '536', 'sentiment': 'neutral'}, {'category': 'Service', 'mention': 'рассказала', 'start': '551', 'end': '561', 'sentiment': 'positive'}, {'category': 'Food', 'mention': 'Напитки', 'start': '612', 'end': '619', 'sentiment': 'neutral'}, {'category': 'Food', 'mention': 'еду', 'start': '640', 'end': '643', 'sentiment': 'neutral'}, {'category': 'Service', 'mention': 'ждать', 'start': '650', 'end': '655', 'sentiment': 'positive'}, {'category': 'Whole', 'mention': 'ресторане', 'start': '721', 'end': '730', 'sentiment': 'neutral'}, {'category': 'Food', 'mention': 'Еда', 'start': '759', 'end': '762', 'sentiment': 'positive'}, {'category': 'Food', 'mention': 'порции', 'start': '783', 'end': '789', 'sentiment': 'positive'}, {'category': 'Whole', 'mention': 'ресторане', 'start': '863', 'end': '872', 'sentiment': 'positive'}, {'category': 'Interior', 'mention': 'танцы', 'start': '905', 'end': '910', 'sentiment': 'positive'}, {'category': 'Service', 'mention': 'обслуживание', 'start': '935', 'end': '947', 'sentiment': 'positive'}, {'category': 'Food', 'mention': 'еда', 'start': '951', 'end': '954', 'sentiment': 'positive'}, {'category': 'Food', 'mention': 'коктели', 'start': '972', 'end': '979', 'sentiment': 'positive'}, {'category': 'Whole', 'mention': 'заведение', 'start': '1016', 'end': '1025', 'sentiment': 'positive'}, {'category': 'Service', 'mention': 'улыбаются', 'start': '1080', 'end': '1089', 'sentiment': 'positive'}, {'category': 'Whole', 'mention': 'Трес Амигос', 'start': '1118', 'end': '1129', 'sentiment': 'positive'}], '12678': [{'category': 'Whole', 'mention': 'заведение', 'start': '14', 'end': '23', 'sentiment': 'positive'}, {'category': 'Interior', 'mention': 'Интерьер', 'start': '55', 'end': '63', 'sentiment': 'positive'}, {'category': 'Food', 'mention': 'кухня', 'start': '74', 'end': '79', 'sentiment': 'positive'}, {'category': 'Food', 'mention': 'порции', 'start': '95', 'end': '101', 'sentiment': 'negative'}, {'category': 'Whole', 'mention': 'итальянских ресторанах', 'start': '129', 'end': '151', 'sentiment': 'positive'}, {'category': 'Food', 'mention': 'карпачо', 'start': '217', 'end': '224', 'sentiment': 'positive'}, {'category': 'Food', 'mention': 'десерт \"три шоколада\"', 'start': '230', 'end': '251', 'sentiment': 'positive'}, {'category': 'Service', 'mention': 'обслуживании', 'start': '310', 'end': '322', 'sentiment': 'positive'}, {'category': 'Service', 'mention': 'официанту', 'start': '342', 'end': '351', 'sentiment': 'positive'}, {'category': 'Interior', 'mention': 'Атмосфера заведения', 'start': '385', 'end': '404', 'sentiment': 'positive'}, {'category': 'Interior', 'mention': 'Итальянская музыка', 'start': '438', 'end': '456', 'sentiment': 'positive'}, {'category': 'Whole', 'mention': 'ресторану', 'start': '480', 'end': '489', 'sentiment': 'positive'}], '20021': [{'category': 'Interior', 'mention': 'барная стойка', 'start': '306', 'end': '319', 'sentiment': 'positive'}, {'category': 'Interior', 'mention': 'столик', 'start': '350', 'end': '356', 'sentiment': 'positive'}, {'category': 'Interior', 'mention': 'диваном', 'start': '383', 'end': '390', 'sentiment': 'positive'}, {'category': 'Interior', 'mention': 'подушками', 'start': '393', 'end': '402', 'sentiment': 'positive'}, {'category': 'Interior', 'mention': 'интерьер', 'start': '404', 'end': '412', 'sentiment': 'positive'}, {'category': 'Interior', 'mention': 'картины', 'start': '452', 'end': '459', 'sentiment': 'positive'}, {'category': 'Interior', 'mention': 'занавесочки', 'start': '461', 'end': '472', 'sentiment': 'positive'}, {'category': 'Food', 'mention': 'барная карта', 'start': '512', 'end': '524', 'sentiment': 'positive'}, {'category': 'Price', 'mention': 'цены на кальян', 'start': '563', 'end': '577', 'sentiment': 'negative'}, {'category': 'Food', 'mention': 'Выбор еды', 'start': '607', 'end': '616', 'sentiment': 'negative'}, {'category': 'Food', 'mention': 'тарелку фруктов', 'start': '639', 'end': '654', 'sentiment': 'positive'}, {'category': 'Food', 'mention': 'салат', 'start': '657', 'end': '662', 'sentiment': 'positive'}, {'category': 'Interior', 'mention': 'помещения', 'start': '761', 'end': '770', 'sentiment': 'negative'}, {'category': 'Food', 'mention': 'еду', 'start': '772', 'end': '775', 'sentiment': 'neutral'}, {'category': 'Food', 'mention': 'напитки', 'start': '830', 'end': '837', 'sentiment': 'neutral'}, {'category': 'Service', 'mention': 'бара', 'start': '897', 'end': '901', 'sentiment': 'positive'}, {'category': 'Service', 'mention': 'Сервис', 'start': '903', 'end': '909', 'sentiment': 'positive'}, {'category': 'Service', 'mention': 'бармена', 'start': '928', 'end': '935', 'sentiment': 'positive'}, {'category': 'Service', 'mention': 'встретит', 'start': '959', 'end': '967', 'sentiment': 'positive'}, {'category': 'Service', 'mention': 'проводит', 'start': '969', 'end': '977', 'sentiment': 'positive'}, {'category': 'Whole', 'mention': 'место', 'start': '997', 'end': '1002', 'sentiment': 'positive'}, {'category': 'Interior', 'mention': 'барную стойку', 'start': '1117', 'end': '1130', 'sentiment': 'positive'}, {'category': 'Service', 'mention': 'барменом', 'start': '1173', 'end': '1181', 'sentiment': 'positive'}], '11027': [{'category': 'Whole', 'mention': 'ресторан \"Мамалыга\"', 'start': '31', 'end': '50', 'sentiment': 'positive'}, {'category': 'Whole', 'mention': 'ресторан', 'start': '116', 'end': '124', 'sentiment': 'positive'}, {'category': 'Service', 'mention': 'девушка', 'start': '171', 'end': '178', 'sentiment': 'positive'}, {'category': 'Service', 'mention': 'провожает к столу', 'start': '184', 'end': '201', 'sentiment': 'positive'}, {'category': 'Service', 'mention': 'официант', 'start': '340', 'end': '348', 'sentiment': 'positive'}, {'category': 'Interior', 'mention': 'Интерьер', 'start': '358', 'end': '366', 'sentiment': 'positive'}, {'category': 'Interior', 'mention': 'дизайнерское решение', 'start': '419', 'end': '439', 'sentiment': 'positive'}, {'category': 'Interior', 'mention': 'атмосферу', 'start': '504', 'end': '513', 'sentiment': 'positive'}, {'category': 'Price', 'mention': 'цены', 'start': '635', 'end': '639', 'sentiment': 'positive'}, {'category': 'Service', 'mention': 'сервисом', 'start': '643', 'end': '651', 'sentiment': 'positive'}, {'category': 'Service', 'mention': 'Официанты', 'start': '668', 'end': '677', 'sentiment': 'positive'}, {'category': 'Service', 'mention': 'работают', 'start': '690', 'end': '698', 'sentiment': 'positive'}, {'category': 'Service', 'mention': 'Улыбаются', 'start': '730', 'end': '739', 'sentiment': 'positive'}, {'category': 'Service', 'mention': 'обслуживание', 'start': '774', 'end': '786', 'sentiment': 'positive'}, {'category': 'Service', 'mention': 'Готовят', 'start': '858', 'end': '865', 'sentiment': 'both'}, {'category': 'Food', 'mention': 'Готовят', 'start': '952', 'end': '959', 'sentiment': 'positive'}, {'category': 'Food', 'mention': 'шашлыки', 'start': '984', 'end': '991', 'sentiment': 'positive'}, {'category': 'Food', 'mention': 'наполеон', 'start': '994', 'end': '1002', 'sentiment': 'positive'}, {'category': 'Food', 'mention': 'поварам', 'start': '1021', 'end': '1028', 'sentiment': 'positive'}, {'category': 'Food', 'mention': 'еде', 'start': '1141', 'end': '1144', 'sentiment': 'positive'}, {'category': 'Interior', 'mention': 'атмосфере', 'start': '1156', 'end': '1165', 'sentiment': 'positive'}, {'category': 'Whole', 'mention': 'ресторан', 'start': '1249', 'end': '1257', 'sentiment': 'positive'}, {'category': 'Whole', 'mention': 'заведение', 'start': '1295', 'end': '1304', 'sentiment': 'positive'}], '3202': [{'category': 'Whole', 'mention': 'Нельсон паб', 'start': '26', 'end': '37', 'sentiment': 'positive'}, {'category': 'Food', 'mention': 'попить', 'start': '49', 'end': '55', 'sentiment': 'neutral'}, {'category': 'Food', 'mention': 'пива', 'start': '56', 'end': '60', 'sentiment': 'neutral'}, {'category': 'Service', 'mention': 'персонала', 'start': '85', 'end': '94', 'sentiment': 'positive'}, {'category': 'Service', 'mention': 'людей', 'start': '122', 'end': '127', 'sentiment': 'positive'}, {'category': 'Service', 'mention': 'обслуживала', 'start': '149', 'end': '160', 'sentiment': 'positive'}, {'category': 'Service', 'mention': 'официантка', 'start': '161', 'end': '171', 'sentiment': 'positive'}, {'category': 'Service', 'mention': 'девушка', 'start': '239', 'end': '246', 'sentiment': 'positive'}, {'category': 'Service', 'mention': 'подскажет', 'start': '254', 'end': '263', 'sentiment': 'positive'}, {'category': 'Service', 'mention': 'посоветует', 'start': '266', 'end': '276', 'sentiment': 'positive'}, {'category': 'Food', 'mention': 'Пили', 'start': '315', 'end': '319', 'sentiment': 'positive'}, {'category': 'Food', 'mention': 'пиво', 'start': '320', 'end': '324', 'sentiment': 'positive'}, {'category': 'Food', 'mention': 'пиво', 'start': '366', 'end': '370', 'sentiment': 'positive'}, {'category': 'Food', 'mention': 'пасты', 'start': '394', 'end': '399', 'sentiment': 'positive'}, {'category': 'Whole', 'mention': 'Нельсон пабе', 'start': '500', 'end': '512', 'sentiment': 'positive'}, {'category': 'Food', 'mention': 'блюда', 'start': '531', 'end': '536', 'sentiment': 'positive'}, {'category': 'Interior', 'mention': 'интерьер', 'start': '554', 'end': '562', 'sentiment': 'positive'}, {'category': 'Food', 'mention': 'Кухня', 'start': '597', 'end': '602', 'sentiment': 'positive'}, {'category': 'Service', 'mention': 'обслуживание', 'start': '611', 'end': '623', 'sentiment': 'positive'}, {'category': 'Service', 'mention': 'персонал', 'start': '660', 'end': '668', 'sentiment': 'positive'}, {'category': 'Service', 'mention': 'ребята', 'start': '675', 'end': '681', 'sentiment': 'neutral'}, {'category': 'Whole', 'mention': 'Нельсон паб', 'start': '765', 'end': '776', 'sentiment': 'positive'}], '18148': [{'category': 'Whole', 'mention': 'место', 'start': '32', 'end': '37', 'sentiment': 'positive'}, {'category': 'Service', 'mention': 'официантка', 'start': '202', 'end': '212', 'sentiment': 'positive'}, {'category': 'Service', 'mention': 'заказ принесла', 'start': '227', 'end': '241', 'sentiment': 'positive'}, {'category': 'Food', 'mention': 'Меню', 'start': '250', 'end': '254', 'sentiment': 'positive'}, {'category': 'Food', 'mention': 'выбор', 'start': '278', 'end': '283', 'sentiment': 'positive'}, {'category': 'Food', 'mention': 'десертов', 'start': '295', 'end': '303', 'sentiment': 'positive'}, {'category': 'Food', 'mention': 'выбор алкогольных коктейлей', 'start': '314', 'end': '341', 'sentiment': 'positive'}, {'category': 'Price', 'mention': 'цены', 'start': '352', 'end': '356', 'sentiment': 'negative'}, {'category': 'Interior', 'mention': 'свободных мест', 'start': '495', 'end': '509', 'sentiment': 'negative'}, {'category': 'Service', 'mention': 'официанты', 'start': '527', 'end': '536', 'sentiment': 'negative'}, {'category': 'Food', 'mention': 'десертов', 'start': '557', 'end': '565', 'sentiment': 'negative'}, {'category': 'Interior', 'mention': 'атмосфера', 'start': '625', 'end': '634', 'sentiment': 'positive'}, {'category': 'Whole', 'mention': 'места', 'start': '641', 'end': '646', 'sentiment': 'positive'}, {'category': 'Food', 'mention': 'меню', 'start': '663', 'end': '667', 'sentiment': 'positive'}, {'category': 'Food', 'mention': 'ела', 'start': '711', 'end': '714', 'sentiment': 'positive'}, {'category': 'Food', 'mention': 'пасту 4 сыра', 'start': '715', 'end': '727', 'sentiment': 'positive'}, {'category': 'Food', 'mention': 'вкусом', 'start': '752', 'end': '758', 'sentiment': 'positive'}, {'category': 'Food', 'mention': 'размером порции', 'start': '761', 'end': '776', 'sentiment': 'positive'}], '16568': [{'category': 'Whole', 'mention': 'Токио', 'start': '99', 'end': '104', 'sentiment': 'positive'}, {'category': 'Whole', 'mention': 'мест', 'start': '172', 'end': '176', 'sentiment': 'positive'}, {'category': 'Food', 'mention': 'еда', 'start': '254', 'end': '257', 'sentiment': 'positive'}, {'category': 'Food', 'mention': 'рыба', 'start': '276', 'end': '280', 'sentiment': 'positive'}, {'category': 'Service', 'mention': 'персонал', 'start': '394', 'end': '402', 'sentiment': 'positive'}, {'category': 'Interior', 'mention': 'интерьер', 'start': '413', 'end': '421', 'sentiment': 'positive'}, {'category': 'Service', 'mention': 'ждать', 'start': '467', 'end': '472', 'sentiment': 'negative'}, {'category': 'Interior', 'mention': 'столик', 'start': '507', 'end': '513', 'sentiment': 'negative'}, {'category': 'Service', 'mention': 'заказываем стол', 'start': '544', 'end': '559', 'sentiment': 'positive'}, {'category': 'Whole', 'mention': 'ресторану', 'start': '617', 'end': '626', 'sentiment': 'positive'}, {'category': 'Whole', 'mention': 'Токио', 'start': '628', 'end': '633', 'sentiment': 'positive'}, {'category': 'Whole', 'mention': 'ресторан', 'start': '712', 'end': '720', 'sentiment': 'positive'}], '37364': [{'category': 'Whole', 'mention': 'ресторан', 'start': '9', 'end': '17', 'sentiment': 'positive'}, {'category': 'Price', 'mention': 'купон', 'start': '53', 'end': '58', 'sentiment': 'positive'}, {'category': 'Whole', 'mention': 'Впечатления от посещения', 'start': '91', 'end': '115', 'sentiment': 'positive'}, {'category': 'Whole', 'mention': 'ресторана', 'start': '122', 'end': '131', 'sentiment': 'positive'}, {'category': 'Interior', 'mention': 'атмосфера', 'start': '164', 'end': '173', 'sentiment': 'positive'}, {'category': 'Food', 'mention': 'еда', 'start': '183', 'end': '186', 'sentiment': 'positive'}, {'category': 'Service', 'mention': 'персонал', 'start': '200', 'end': '208', 'sentiment': 'positive'}, {'category': 'Service', 'mention': 'официанты', 'start': '243', 'end': '252', 'sentiment': 'positive'}, {'category': 'Service', 'mention': 'встретили', 'start': '253', 'end': '262', 'sentiment': 'positive'}, {'category': 'Service', 'mention': 'посадили за столик', 'start': '276', 'end': '294', 'sentiment': 'positive'}, {'category': 'Service', 'mention': 'помогли', 'start': '304', 'end': '311', 'sentiment': 'positive'}, {'category': 'Service', 'mention': 'сделать заказ', 'start': '339', 'end': '352', 'sentiment': 'positive'}, {'category': 'Service', 'mention': 'Заказ', 'start': '354', 'end': '359', 'sentiment': 'positive'}, {'category': 'Service', 'mention': 'ждать', 'start': '378', 'end': '383', 'sentiment': 'positive'}, {'category': 'Service', 'mention': 'официантка', 'start': '385', 'end': '395', 'sentiment': 'positive'}, {'category': 'Service', 'mention': 'вынесла', 'start': '414', 'end': '421', 'sentiment': 'positive'}, {'category': 'Price', 'mention': 'Цены', 'start': '493', 'end': '497', 'sentiment': 'both'}, {'category': 'Whole', 'mention': 'Общая оценка ресторану', 'start': '554', 'end': '576', 'sentiment': 'positive'}, {'category': 'Service', 'mention': 'обслуживающему персоналу', 'start': '599', 'end': '623', 'sentiment': 'positive'}, {'category': 'Price', 'mention': 'скидку', 'start': '700', 'end': '706', 'sentiment': 'positive'}], '10231': [{'category': 'Whole', 'mention': 'заведении', 'start': '28', 'end': '37', 'sentiment': 'positive'}, {'category': 'Food', 'mention': 'кухне', 'start': '40', 'end': '45', 'sentiment': 'positive'}, {'category': 'Food', 'mention': 'паста с лососем', 'start': '92', 'end': '107', 'sentiment': 'positive'}, {'category': 'Food', 'mention': 'супчики', 'start': '122', 'end': '129', 'sentiment': 'positive'}, {'category': 'Food', 'mention': 'десерты', 'start': '139', 'end': '146', 'sentiment': 'positive'}, {'category': 'Service', 'mention': 'обслуживанием', 'start': '201', 'end': '214', 'sentiment': 'positive'}, {'category': 'Food', 'mention': 'едой', 'start': '217', 'end': '221', 'sentiment': 'positive'}, {'category': 'Interior', 'mention': 'Интерьер', 'start': '222', 'end': '230', 'sentiment': 'positive'}, {'category': 'Interior', 'mention': 'залов', 'start': '252', 'end': '257', 'sentiment': 'positive'}, {'category': 'Whole', 'mention': 'место', 'start': '300', 'end': '305', 'sentiment': 'positive'}], '28585': [{'category': 'Whole', 'mention': 'ресторана', 'start': '57', 'end': '66', 'sentiment': 'neutral'}, {'category': 'Whole', 'mention': 'ресторана', 'start': '92', 'end': '101', 'sentiment': 'positive'}, {'category': 'Service', 'mention': 'встретила', 'start': '208', 'end': '217', 'sentiment': 'neutral'}, {'category': 'Service', 'mention': 'девушка(официант)', 'start': '218', 'end': '235', 'sentiment': 'neutral'}, {'category': 'Service', 'mention': 'проводила', 'start': '236', 'end': '245', 'sentiment': 'positive'}, {'category': 'Food', 'mention': 'Блюд', 'start': '290', 'end': '294', 'sentiment': 'negative'}, {'category': 'Food', 'mention': 'смузи овощной', 'start': '346', 'end': '359', 'sentiment': 'neutral'}, {'category': 'Food', 'mention': 'смузи злаковый', 'start': '361', 'end': '375', 'sentiment': 'neutral'}, {'category': 'Food', 'mention': 'чая', 'start': '384', 'end': '387', 'sentiment': 'neutral'}, {'category': 'Food', 'mention': 'салат с домашним сыром', 'start': '407', 'end': '429', 'sentiment': 'neutral'}, {'category': 'Food', 'mention': 'руккола с креветками', 'start': '431', 'end': '451', 'sentiment': 'neutral'}, {'category': 'Food', 'mention': 'рулет из лосося с зелёной спаржей', 'start': '452', 'end': '485', 'sentiment': 'neutral'}, {'category': 'Food', 'mention': 'тунец с овощами гриль', 'start': '488', 'end': '509', 'sentiment': 'neutral'}, {'category': 'Food', 'mention': 'Напитки', 'start': '511', 'end': '518', 'sentiment': 'neutral'}, {'category': 'Food', 'mention': 'салаты', 'start': '555', 'end': '561', 'sentiment': 'neutral'}, {'category': 'Food', 'mention': 'горячее', 'start': '564', 'end': '571', 'sentiment': 'neutral'}, {'category': 'Interior', 'mention': 'Атмосфера', 'start': '606', 'end': '615', 'sentiment': 'positive'}, {'category': 'Interior', 'mention': 'мебель', 'start': '629', 'end': '635', 'sentiment': 'positive'}, {'category': 'Interior', 'mention': 'приборы', 'start': '637', 'end': '644', 'sentiment': 'positive'}, {'category': 'Interior', 'mention': 'посуда', 'start': '646', 'end': '652', 'sentiment': 'positive'}, {'category': 'Interior', 'mention': 'вид из окна', 'start': '654', 'end': '665', 'sentiment': 'positive'}, {'category': 'Interior', 'mention': 'свечи', 'start': '667', 'end': '672', 'sentiment': 'positive'}, {'category': 'Service', 'mention': 'обслуживание', 'start': '674', 'end': '686', 'sentiment': 'positive'}], '1878': [{'category': 'Whole', 'mention': 'ресторане', 'start': '19', 'end': '28', 'sentiment': 'positive'}, {'category': 'Service', 'mention': 'Встретили', 'start': '69', 'end': '78', 'sentiment': 'neutral'}, {'category': 'Service', 'mention': 'предложили', 'start': '80', 'end': '90', 'sentiment': 'positive'}, {'category': 'Interior', 'mention': 'атмосфера', 'start': '128', 'end': '137', 'sentiment': 'positive'}, {'category': 'Service', 'mention': 'официантка', 'start': '162', 'end': '172', 'sentiment': 'positive'}, {'category': 'Service', 'mention': 'обслуживание', 'start': '223', 'end': '235', 'sentiment': 'positive'}, {'category': 'Whole', 'mention': 'ресторане', 'start': '238', 'end': '247', 'sentiment': 'positive'}, {'category': 'Service', 'mention': 'помочь', 'start': '296', 'end': '302', 'sentiment': 'positive'}, {'category': 'Food', 'mention': 'блюдо', 'start': '311', 'end': '316', 'sentiment': 'neutral'}, {'category': 'Service', 'mention': 'девушка', 'start': '318', 'end': '325', 'sentiment': 'positive'}, {'category': 'Service', 'mention': 'предложила', 'start': '337', 'end': '347', 'sentiment': 'positive'}, {'category': 'Food', 'mention': 'салатиков', 'start': '357', 'end': '366', 'sentiment': 'neutral'}, {'category': 'Food', 'mention': 'горячее', 'start': '369', 'end': '376', 'sentiment': 'neutral'}, {'category': 'Food', 'mention': 'готовили', 'start': '378', 'end': '386', 'sentiment': 'positive'}, {'category': 'Food', 'mention': 'блюда', 'start': '410', 'end': '415', 'sentiment': 'positive'}, {'category': 'Whole', 'mention': 'заведение', 'start': '561', 'end': '570', 'sentiment': 'positive'}], '32859': [{'category': 'Whole', 'mention': 'ресторане Аллегро', 'start': '48', 'end': '65', 'sentiment': 'neutral'}, {'category': 'Whole', 'mention': 'ресторану', 'start': '110', 'end': '119', 'sentiment': 'positive'}, {'category': 'Service', 'mention': 'администрацию', 'start': '215', 'end': '228', 'sentiment': 'positive'}, {'category': 'Whole', 'mention': 'ресторане', 'start': '410', 'end': '419', 'sentiment': 'positive'}, {'category': 'Food', 'mention': 'судака фаршированных', 'start': '473', 'end': '493', 'sentiment': 'positive'}, {'category': 'Food', 'mention': 'индейку', 'start': '496', 'end': '503', 'sentiment': 'neutral'}, {'category': 'Food', 'mention': 'Судак', 'start': '504', 'end': '509', 'sentiment': 'positive'}, {'category': 'Food', 'mention': 'вкусный', 'start': '531', 'end': '538', 'sentiment': 'positive'}, {'category': 'Interior', 'mention': 'зал', 'start': '594', 'end': '597', 'sentiment': 'positive'}, {'category': 'Interior', 'mention': 'интерьер', 'start': '660', 'end': '668', 'sentiment': 'positive'}, {'category': 'Food', 'mention': 'шеф-повару', 'start': '688', 'end': '698', 'sentiment': 'positive'}, {'category': 'Whole', 'mention': 'ресторана', 'start': '705', 'end': '714', 'sentiment': 'positive'}, {'category': 'Service', 'mention': 'стол', 'start': '740', 'end': '744', 'sentiment': 'positive'}, {'category': 'Interior', 'mention': 'оформлено', 'start': '778', 'end': '787', 'sentiment': 'positive'}, {'category': 'Service', 'mention': 'Официанты', 'start': '789', 'end': '798', 'sentiment': 'positive'}, {'category': 'Whole', 'mention': 'вечера', 'start': '902', 'end': '908', 'sentiment': 'positive'}, {'category': 'Whole', 'mention': 'праздник', 'start': '974', 'end': '982', 'sentiment': 'positive'}], '28612': [{'category': 'Whole', 'mention': 'Ресторан', 'start': '0', 'end': '8', 'sentiment': 'positive'}, {'category': 'Service', 'mention': 'персонал', 'start': '50', 'end': '58', 'sentiment': 'positive'}, {'category': 'Service', 'mention': 'встречают', 'start': '73', 'end': '82', 'sentiment': 'positive'}, {'category': 'Food', 'mention': 'выбор блюд', 'start': '140', 'end': '150', 'sentiment': 'positive'}, {'category': 'Food', 'mention': 'готовят', 'start': '152', 'end': '159', 'sentiment': 'positive'}, {'category': 'Food', 'mention': 'Порции', 'start': '178', 'end': '184', 'sentiment': 'positive'}, {'category': 'Interior', 'mention': 'музыка', 'start': '281', 'end': '287', 'sentiment': 'positive'}, {'category': 'Interior', 'mention': 'обстановка', 'start': '309', 'end': '319', 'sentiment': 'positive'}, {'category': 'Interior', 'mention': 'интерьер', 'start': '333', 'end': '341', 'sentiment': 'positive'}, {'category': 'Whole', 'mention': 'Вечер', 'start': '370', 'end': '375', 'sentiment': 'positive'}], '19746': [{'category': 'Whole', 'mention': 'Караване -сарае', 'start': '11', 'end': '26', 'sentiment': 'neutral'}, {'category': 'Whole', 'mention': 'ресторане', 'start': '170', 'end': '179', 'sentiment': 'neutral'}, {'category': 'Interior', 'mention': 'Интерьер', 'start': '180', 'end': '188', 'sentiment': 'positive'}, {'category': 'Interior', 'mention': 'помещение', 'start': '199', 'end': '208', 'sentiment': 'both'}, {'category': 'Service', 'mention': 'забронировали столик', 'start': '241', 'end': '261', 'sentiment': 'neutral'}, {'category': 'Service', 'mention': 'официанта', 'start': '335', 'end': '344', 'sentiment': 'positive'}, {'category': 'Service', 'mention': 'обслуживания', 'start': '355', 'end': '367', 'sentiment': 'positive'}, {'category': 'Service', 'mention': 'пролил', 'start': '453', 'end': '459', 'sentiment': 'negative'}, {'category': 'Food', 'mention': 'Еда', 'start': '461', 'end': '464', 'sentiment': 'neutral'}, {'category': 'Food', 'mention': 'стандартных блюд', 'start': '479', 'end': '495', 'sentiment': 'neutral'}, {'category': 'Food', 'mention': 'шурвы', 'start': '497', 'end': '502', 'sentiment': 'neutral'}, {'category': 'Food', 'mention': 'лепешек', 'start': '503', 'end': '510', 'sentiment': 'neutral'}, {'category': 'Food', 'mention': 'казан кабоб', 'start': '542', 'end': '553', 'sentiment': 'neutral'}, {'category': 'Food', 'mention': 'блюда', 'start': '607', 'end': '612', 'sentiment': 'positive'}, {'category': 'Food', 'mention': 'приготовлены', 'start': '637', 'end': '649', 'sentiment': 'positive'}, {'category': 'Food', 'mention': 'продуктов', 'start': '673', 'end': '682', 'sentiment': 'positive'}, {'category': 'Food', 'mention': 'поесть', 'start': '745', 'end': '751', 'sentiment': 'positive'}, {'category': 'Service', 'mention': 'расплачивались по счету', 'start': '762', 'end': '785', 'sentiment': 'negative'}, {'category': 'Service', 'mention': 'официант', 'start': '787', 'end': '795', 'sentiment': 'negative'}, {'category': 'Service', 'mention': 'посчитал', 'start': '844', 'end': '852', 'sentiment': 'negative'}, {'category': 'Food', 'mention': 'блюда', 'start': '971', 'end': '976', 'sentiment': 'neutral'}, {'category': 'Service', 'mention': 'отворачивался', 'start': '996', 'end': '1009', 'sentiment': 'negative'}, {'category': 'Service', 'mention': 'уходил', 'start': '1012', 'end': '1018', 'sentiment': 'negative'}], '2168': [{'category': 'Food', 'mention': 'перекусить', 'start': '26', 'end': '36', 'sentiment': 'neutral'}, {'category': 'Service', 'mention': 'Персонал', 'start': '46', 'end': '54', 'sentiment': 'positive'}, {'category': 'Service', 'mention': 'рассказывают', 'start': '89', 'end': '101', 'sentiment': 'positive'}, {'category': 'Service', 'mention': 'показывают', 'start': '103', 'end': '113', 'sentiment': 'positive'}, {'category': 'Service', 'mention': 'улыбаются', 'start': '115', 'end': '124', 'sentiment': 'positive'}, {'category': 'Interior', 'mention': 'открытая кухня', 'start': '285', 'end': '299', 'sentiment': 'both'}, {'category': 'Interior', 'mention': 'интерьер', 'start': '360', 'end': '368', 'sentiment': 'positive'}, {'category': 'Food', 'mention': 'еды', 'start': '441', 'end': '444', 'sentiment': 'neutral'}, {'category': 'Food', 'mention': 'шаверму с курицей', 'start': '484', 'end': '501', 'sentiment': 'negative'}, {'category': 'Food', 'mention': 'теста', 'start': '540', 'end': '545', 'sentiment': 'negative'}, {'category': 'Food', 'mention': 'картофель фри', 'start': '567', 'end': '580', 'sentiment': 'positive'}, {'category': 'Food', 'mention': 'шавермы', 'start': '611', 'end': '618', 'sentiment': 'negative'}, {'category': 'Food', 'mention': 'лапшу с креветками', 'start': '636', 'end': '654', 'sentiment': 'positive'}, {'category': 'Food', 'mention': 'Порция', 'start': '681', 'end': '687', 'sentiment': 'both'}, {'category': 'Food', 'mention': 'вкуса', 'start': '796', 'end': '801', 'sentiment': 'negative'}, {'category': 'Food', 'mention': 'молочный улун', 'start': '868', 'end': '881', 'sentiment': 'neutral'}, {'category': 'Service', 'mention': 'готовился', 'start': '930', 'end': '939', 'sentiment': 'negative'}, {'category': 'Food', 'mention': 'Еду', 'start': '982', 'end': '985', 'sentiment': 'neutral'}, {'category': 'Food', 'mention': 'напитков', 'start': '998', 'end': '1006', 'sentiment': 'neutral'}, {'category': 'Whole', 'mention': 'место', 'start': '1105', 'end': '1110', 'sentiment': 'positive'}, {'category': 'Service', 'mention': 'обслуживать', 'start': '1138', 'end': '1149', 'sentiment': 'positive'}], '35904': [{'category': 'Whole', 'mention': 'ресторан', 'start': '24', 'end': '32', 'sentiment': 'positive'}, {'category': 'Service', 'mention': 'Сервис', 'start': '81', 'end': '87', 'sentiment': 'positive'}, {'category': 'Food', 'mention': 'выбор по меню и напиткам', 'start': '118', 'end': '142', 'sentiment': 'positive'}, {'category': 'Food', 'mention': 'меню', 'start': '127', 'end': '131', 'sentiment': 'positive'}, {'category': 'Interior', 'mention': 'интерьер', 'start': '153', 'end': '161', 'sentiment': 'positive'}, {'category': 'Service', 'mention': 'Официантка', 'start': '178', 'end': '188', 'sentiment': 'positive'}, {'category': 'Service', 'mention': 'приняла заказ', 'start': '233', 'end': '246', 'sentiment': 'positive'}, {'category': 'Food', 'mention': 'кухня', 'start': '264', 'end': '269', 'sentiment': 'positive'}, {'category': 'Food', 'mention': 'готовят', 'start': '278', 'end': '285', 'sentiment': 'positive'}, {'category': 'Service', 'mention': 'Ребята', 'start': '315', 'end': '321', 'sentiment': 'positive'}, {'category': 'Service', 'mention': 'администратор', 'start': '351', 'end': '364', 'sentiment': 'positive'}, {'category': 'Service', 'mention': 'официантам', 'start': '373', 'end': '383', 'sentiment': 'positive'}], '36407': [{'category': 'Whole', 'mention': 'ресторане', 'start': '53', 'end': '62', 'sentiment': 'neutral'}, {'category': 'Whole', 'mention': 'место', 'start': '98', 'end': '103', 'sentiment': 'neutral'}, {'category': 'Food', 'mention': 'поесть', 'start': '186', 'end': '192', 'sentiment': 'positive'}, {'category': 'Food', 'mention': 'выпить', 'start': '194', 'end': '200', 'sentiment': 'positive'}, {'category': 'Interior', 'mention': 'детская комната', 'start': '364', 'end': '379', 'sentiment': 'positive'}, {'category': 'Service', 'mention': 'няня', 'start': '395', 'end': '399', 'sentiment': 'positive'}, {'category': 'Service', 'mention': 'Сотрудники', 'start': '474', 'end': '484', 'sentiment': 'positive'}, {'category': 'Whole', 'mention': 'Ресторан', 'start': '816', 'end': '824', 'sentiment': 'positive'}, {'category': 'Food', 'mention': 'Еда', 'start': '885', 'end': '888', 'sentiment': 'positive'}, {'category': 'Food', 'mention': 'пицца', 'start': '916', 'end': '921', 'sentiment': 'positive'}, {'category': 'Food', 'mention': 'пасту с морепродуктами', 'start': '938', 'end': '960', 'sentiment': 'positive'}, {'category': 'Food', 'mention': 'свинина с грибами', 'start': '979', 'end': '996', 'sentiment': 'positive'}, {'category': 'Food', 'mention': 'лазанья с лососем', 'start': '1022', 'end': '1039', 'sentiment': 'positive'}, {'category': 'Whole', 'mention': 'Праздник', 'start': '1176', 'end': '1184', 'sentiment': 'positive'}, {'category': 'Whole', 'mention': 'место', 'start': '1222', 'end': '1227', 'sentiment': 'positive'}], '32926': [{'category': 'Whole', 'mention': 'ресторане Гламур', 'start': '32', 'end': '48', 'sentiment': 'neutral'}, {'category': 'Whole', 'mention': 'ресторана', 'start': '93', 'end': '102', 'sentiment': 'positive'}, {'category': 'Service', 'mention': 'администратора', 'start': '183', 'end': '197', 'sentiment': 'positive'}, {'category': 'Service', 'mention': 'отношение к своему делу', 'start': '231', 'end': '254', 'sentiment': 'positive'}, {'category': 'Service', 'mention': 'выслушала', 'start': '287', 'end': '296', 'sentiment': 'positive'}, {'category': 'Service', 'mention': 'советы', 'start': '331', 'end': '337', 'sentiment': 'positive'}, {'category': 'Service', 'mention': 'заказать', 'start': '387', 'end': '395', 'sentiment': 'positive'}, {'category': 'Whole', 'mention': 'ресторане', 'start': '398', 'end': '407', 'sentiment': 'positive'}, {'category': 'Food', 'mention': 'шоколадный фонтан', 'start': '441', 'end': '458', 'sentiment': 'neutral'}, {'category': 'Interior', 'mention': 'цветочный композиции', 'start': '461', 'end': '481', 'sentiment': 'neutral'}, {'category': 'Food', 'mention': 'Шоколадный фонтан', 'start': '483', 'end': '500', 'sentiment': 'positive'}, {'category': 'Interior', 'mention': 'зал', 'start': '546', 'end': '549', 'sentiment': 'positive'}, {'category': 'Interior', 'mention': 'интерьер', 'start': '612', 'end': '620', 'sentiment': 'positive'}, {'category': 'Food', 'mention': 'шеф-повару', 'start': '640', 'end': '650', 'sentiment': 'positive'}, {'category': 'Whole', 'mention': 'ресторана', 'start': '657', 'end': '666', 'sentiment': 'positive'}, {'category': 'Food', 'mention': 'стол', 'start': '692', 'end': '696', 'sentiment': 'positive'}, {'category': 'Interior', 'mention': 'оформлено', 'start': '730', 'end': '739', 'sentiment': 'positive'}, {'category': 'Service', 'mention': 'Официанты', 'start': '741', 'end': '750', 'sentiment': 'positive'}, {'category': 'Food', 'mention': 'тортик', 'start': '864', 'end': '870', 'sentiment': 'positive'}, {'category': 'Whole', 'mention': 'вечера', 'start': '1002', 'end': '1008', 'sentiment': 'positive'}, {'category': 'Whole', 'mention': 'праздник', 'start': '1074', 'end': '1082', 'sentiment': 'positive'}], '33622': [{'category': 'Whole', 'mention': 'ресторане', 'start': '62', 'end': '71', 'sentiment': 'neutral'}, {'category': 'Whole', 'mention': 'банкете', 'start': '126', 'end': '133', 'sentiment': 'positive'}, {'category': 'Interior', 'mention': 'Зал', 'start': '175', 'end': '178', 'sentiment': 'positive'}, {'category': 'Interior', 'mention': 'музыка', 'start': '385', 'end': '391', 'sentiment': 'positive'}, {'category': 'Food', 'mention': 'Еда', 'start': '440', 'end': '443', 'sentiment': 'positive'}, {'category': 'Food', 'mention': 'стейк из говядины со шпинатом', 'start': '478', 'end': '507', 'sentiment': 'positive'}, {'category': 'Food', 'mention': 'салат из морепродуктов', 'start': '520', 'end': '542', 'sentiment': 'positive'}, {'category': 'Food', 'mention': 'рыбу', 'start': '577', 'end': '581', 'sentiment': 'positive'}, {'category': 'Food', 'mention': 'соусом', 'start': '593', 'end': '599', 'sentiment': 'positive'}, {'category': 'Food', 'mention': 'запеченной картошкой', 'start': '608', 'end': '628', 'sentiment': 'positive'}, {'category': 'Food', 'mention': 'стол', 'start': '637', 'end': '641', 'sentiment': 'positive'}, {'category': 'Interior', 'mention': 'тарелки', 'start': '684', 'end': '691', 'sentiment': 'positive'}, {'category': 'Price', 'mention': 'цены', 'start': '763', 'end': '767', 'sentiment': 'positive'}], '37428': [{'category': 'Whole', 'mention': 'заведение', 'start': '29', 'end': '38', 'sentiment': 'neutral'}, {'category': 'Interior', 'mention': 'атмосфере', 'start': '194', 'end': '203', 'sentiment': 'positive'}, {'category': 'Interior', 'mention': 'интерьер', 'start': '237', 'end': '245', 'sentiment': 'positive'}, {'category': 'Interior', 'mention': 'люстры', 'start': '290', 'end': '296', 'sentiment': 'positive'}, {'category': 'Interior', 'mention': 'Помещение', 'start': '319', 'end': '328', 'sentiment': 'both'}, {'category': 'Whole', 'mention': 'заведение', 'start': '371', 'end': '380', 'sentiment': 'positive'}, {'category': 'Service', 'mention': 'Обслуживание', 'start': '382', 'end': '394', 'sentiment': 'positive'}, {'category': 'Service', 'mention': 'официанты', 'start': '425', 'end': '434', 'sentiment': 'positive'}, {'category': 'Whole', 'mention': 'место', 'start': '479', 'end': '484', 'sentiment': 'positive'}, {'category': 'Interior', 'mention': 'атмосфере', 'start': '539', 'end': '548', 'sentiment': 'positive'}, {'category': 'Service', 'mention': 'обслуживанием', 'start': '577', 'end': '590', 'sentiment': 'positive'}, {'category': 'Food', 'mention': 'кальян', 'start': '615', 'end': '621', 'sentiment': 'positive'}, {'category': 'Food', 'mention': 'еду', 'start': '663', 'end': '666', 'sentiment': 'neutral'}, {'category': 'Food', 'mention': 'сырной тарелки', 'start': '697', 'end': '711', 'sentiment': 'neutral'}, {'category': 'Whole', 'mention': 'кафе', 'start': '723', 'end': '727', 'sentiment': 'neutral'}], '34889': [{'category': 'Service', 'mention': 'ресторанчик', 'start': '118', 'end': '129', 'sentiment': 'neutral'}, {'category': 'Food', 'mention': 'пообедать', 'start': '130', 'end': '139', 'sentiment': 'neutral'}, {'category': 'Whole', 'mention': 'ресторан Кухню', 'start': '167', 'end': '181', 'sentiment': 'neutral'}, {'category': 'Interior', 'mention': 'кондиционера', 'start': '254', 'end': '266', 'sentiment': 'positive'}, {'category': 'Interior', 'mention': 'музыку', 'start': '286', 'end': '292', 'sentiment': 'positive'}, {'category': 'Service', 'mention': 'Девушки администраторы', 'start': '332', 'end': '354', 'sentiment': 'positive'}, {'category': 'Service', 'mention': 'вежливые', 'start': '355', 'end': '363', 'sentiment': 'positive'}, {'category': 'Interior', 'mention': 'атмосфера', 'start': '383', 'end': '392', 'sentiment': 'positive'}, {'category': 'Interior', 'mention': 'интерьер', 'start': '414', 'end': '422', 'sentiment': 'positive'}, {'category': 'Interior', 'mention': 'столики', 'start': '432', 'end': '439', 'sentiment': 'positive'}, {'category': 'Food', 'mention': 'блюд', 'start': '479', 'end': '483', 'sentiment': 'positive'}, {'category': 'Service', 'mention': 'официанты', 'start': '485', 'end': '494', 'sentiment': 'positive'}, {'category': 'Service', 'mention': 'посоветуют', 'start': '530', 'end': '540', 'sentiment': 'positive'}, {'category': 'Food', 'mention': 'Пообедали', 'start': '595', 'end': '604', 'sentiment': 'positive'}, {'category': 'Food', 'mention': 'десерты', 'start': '680', 'end': '687', 'sentiment': 'positive'}, {'category': 'Whole', 'mention': 'место', 'start': '866', 'end': '871', 'sentiment': 'positive'}, {'category': 'Interior', 'mention': 'атомосфере', 'start': '913', 'end': '923', 'sentiment': 'positive'}, {'category': 'Food', 'mention': 'блюд', 'start': '988', 'end': '992', 'sentiment': 'positive'}, {'category': 'Whole', 'mention': 'месте', 'start': '1028', 'end': '1033', 'sentiment': 'negative'}, {'category': 'Whole', 'mention': 'местах', 'start': '1113', 'end': '1119', 'sentiment': 'negative'}, {'category': 'Whole', 'mention': 'место', 'start': '1199', 'end': '1204', 'sentiment': 'positive'}], '280': [{'category': 'Whole', 'mention': 'ресторан', 'start': '14', 'end': '22', 'sentiment': 'neutral'}, {'category': 'Service', 'mention': 'персонал', 'start': '148', 'end': '156', 'sentiment': 'positive'}, {'category': 'Service', 'mention': 'открыли', 'start': '168', 'end': '175', 'sentiment': 'positive'}, {'category': 'Service', 'mention': 'открыли дверь', 'start': '168', 'end': '181', 'sentiment': 'positive'}, {'category': 'Service', 'mention': 'предложили', 'start': '183', 'end': '193', 'sentiment': 'positive'}, {'category': 'Service', 'mention': 'принесли меню', 'start': '218', 'end': '231', 'sentiment': 'positive'}, {'category': 'Service', 'mention': 'принесли', 'start': '218', 'end': '226', 'sentiment': 'positive'}, {'category': 'Service', 'mention': 'подошли', 'start': '247', 'end': '254', 'sentiment': 'positive'}, {'category': 'Interior', 'mention': 'Интерьер', 'start': '342', 'end': '350', 'sentiment': 'positive'}, {'category': 'Interior', 'mention': 'столики', 'start': '422', 'end': '429', 'sentiment': 'positive'}, {'category': 'Interior', 'mention': 'места в центре ресторана', 'start': '449', 'end': '473', 'sentiment': 'negative'}, {'category': 'Service', 'mention': 'Заказ принесли', 'start': '524', 'end': '538', 'sentiment': 'positive'}, {'category': 'Food', 'mention': 'приготовлено', 'start': '554', 'end': '566', 'sentiment': 'positive'}, {'category': 'Food', 'mention': 'Порции', 'start': '598', 'end': '604', 'sentiment': 'neutral'}, {'category': 'Food', 'mention': 'блюда', 'start': '614', 'end': '619', 'sentiment': 'positive'}, {'category': 'Food', 'mention': 'оформлены', 'start': '627', 'end': '636', 'sentiment': 'positive'}, {'category': 'Whole', 'mention': 'ресторана', 'start': '649', 'end': '658', 'sentiment': 'positive'}, {'category': 'Whole', 'mention': 'ресторану La Fabrik', 'start': '704', 'end': '723', 'sentiment': 'positive'}, {'category': 'Whole', 'mention': 'вечер', 'start': '736', 'end': '741', 'sentiment': 'positive'}], '10985': [{'category': 'Whole', 'mention': 'ресторанчик', 'start': '44', 'end': '55', 'sentiment': 'neutral'}, {'category': 'Whole', 'mention': 'Жен-Жен', 'start': '80', 'end': '87', 'sentiment': 'positive'}, {'category': 'Interior', 'mention': 'танцпол', 'start': '169', 'end': '176', 'sentiment': 'neutral'}, {'category': 'Interior', 'mention': '\"китайским интерьером\"', 'start': '263', 'end': '285', 'sentiment': 'positive'}, {'category': 'Interior', 'mention': 'диванчики', 'start': '288', 'end': '297', 'sentiment': 'negative'}, {'category': 'Interior', 'mention': 'скатерти на столах', 'start': '312', 'end': '330', 'sentiment': 'negative'}, {'category': 'Interior', 'mention': 'светильники/люстры', 'start': '366', 'end': '384', 'sentiment': 'neutral'}, {'category': 'Interior', 'mention': 'интерьера', 'start': '402', 'end': '411', 'sentiment': 'negative'}, {'category': 'Whole', 'mention': 'Заведение', 'start': '443', 'end': '452', 'sentiment': 'negative'}, {'category': 'Whole', 'mention': 'место', 'start': '489', 'end': '494', 'sentiment': 'neutral'}, {'category': 'Food', 'mention': 'еду', 'start': '538', 'end': '541', 'sentiment': 'neutral'}, {'category': 'Food', 'mention': 'состав блюд', 'start': '602', 'end': '613', 'sentiment': 'negative'}, {'category': 'Food', 'mention': 'китайской кухней', 'start': '665', 'end': '681', 'sentiment': 'neutral'}, {'category': 'Food', 'mention': 'говядину', 'start': '701', 'end': '709', 'sentiment': 'positive'}, {'category': 'Food', 'mention': 'свинину', 'start': '711', 'end': '718', 'sentiment': 'positive'}, {'category': 'Food', 'mention': 'рис', 'start': '720', 'end': '723', 'sentiment': 'positive'}, {'category': 'Food', 'mention': 'закусок', 'start': '730', 'end': '737', 'sentiment': 'positive'}, {'category': 'Food', 'mention': 'порции', 'start': '739', 'end': '745', 'sentiment': 'positive'}, {'category': 'Food', 'mention': 'еда', 'start': '766', 'end': '769', 'sentiment': 'positive'}, {'category': 'Interior', 'mention': 'посуда', 'start': '811', 'end': '817', 'sentiment': 'negative'}, {'category': 'Interior', 'mention': 'сервировка', 'start': '820', 'end': '830', 'sentiment': 'negative'}, {'category': 'Service', 'mention': 'сервиса', 'start': '872', 'end': '879', 'sentiment': 'both'}, {'category': 'Service', 'mention': 'официантка', 'start': '882', 'end': '892', 'sentiment': 'negative'}, {'category': 'Food', 'mention': 'блюда', 'start': '952', 'end': '957', 'sentiment': 'neutral'}, {'category': 'Price', 'mention': 'счет', 'start': '977', 'end': '981', 'sentiment': 'neutral'}, {'category': 'Food', 'mention': 'покушать', 'start': '1064', 'end': '1072', 'sentiment': 'positive'}], '24275': [{'category': 'Whole', 'mention': 'заведение', 'start': '53', 'end': '62', 'sentiment': 'positive'}, {'category': 'Whole', 'mention': 'ресторане', 'start': '112', 'end': '121', 'sentiment': 'neutral'}, {'category': 'Service', 'mention': 'персонал', 'start': '146', 'end': '154', 'sentiment': 'positive'}, {'category': 'Service', 'mention': 'скорости', 'start': '188', 'end': '196', 'sentiment': 'positive'}, {'category': 'Service', 'mention': 'внимании', 'start': '199', 'end': '207', 'sentiment': 'positive'}, {'category': 'Service', 'mention': 'обслуживании', 'start': '212', 'end': '224', 'sentiment': 'positive'}, {'category': 'Service', 'mention': 'персоналу', 'start': '251', 'end': '260', 'sentiment': 'positive'}, {'category': 'Food', 'mention': 'Кухня', 'start': '314', 'end': '319', 'sentiment': 'positive'}, {'category': 'Food', 'mention': 'итальянские блюда', 'start': '356', 'end': '373', 'sentiment': 'positive'}, {'category': 'Whole', 'mention': 'ресторан', 'start': '502', 'end': '510', 'sentiment': 'positive'}, {'category': 'Food', 'mention': 'карпаччо из говядины', 'start': '553', 'end': '573', 'sentiment': 'positive'}, {'category': 'Food', 'mention': 'оформлено', 'start': '579', 'end': '588', 'sentiment': 'positive'}, {'category': 'Interior', 'mention': 'детскую комнату', 'start': '647', 'end': '662', 'sentiment': 'positive'}, {'category': 'Whole', 'mention': 'посещение', 'start': '784', 'end': '793', 'sentiment': 'positive'}, {'category': 'Whole', 'mention': 'место', 'start': '845', 'end': '850', 'sentiment': 'positive'}, {'category': 'Food', 'mention': 'поесть', 'start': '868', 'end': '874', 'sentiment': 'positive'}, {'category': 'Interior', 'mention': 'обстановке', 'start': '884', 'end': '894', 'sentiment': 'positive'}, {'category': 'Food', 'mention': 'пиццу', 'start': '983', 'end': '988', 'sentiment': 'positive'}], '6564': [{'category': 'Whole', 'mention': 'место', 'start': '13', 'end': '18', 'sentiment': 'positive'}, {'category': 'Whole', 'mention': 'Тревелс', 'start': '65', 'end': '72', 'sentiment': 'positive'}, {'category': 'Service', 'mention': 'Менеджер', 'start': '98', 'end': '106', 'sentiment': 'positive'}, {'category': 'Interior', 'mention': 'оформлено', 'start': '222', 'end': '231', 'sentiment': 'positive'}, {'category': 'Food', 'mention': 'шеф-повару', 'start': '258', 'end': '268', 'sentiment': 'positive'}, {'category': 'Food', 'mention': 'вина', 'start': '292', 'end': '296', 'sentiment': 'positive'}, {'category': 'Food', 'mention': 'красное сухое', 'start': '304', 'end': '317', 'sentiment': 'positive'}, {'category': 'Food', 'mention': 'полусухое', 'start': '320', 'end': '329', 'sentiment': 'positive'}, {'category': 'Service', 'mention': 'Официант', 'start': '330', 'end': '338', 'sentiment': 'positive'}, {'category': 'Service', 'mention': 'обслуживал', 'start': '359', 'end': '369', 'sentiment': 'positive'}, {'category': 'Interior', 'mention': 'отдельный зал', 'start': '476', 'end': '489', 'sentiment': 'positive'}, {'category': 'Interior', 'mention': 'интерьер', 'start': '507', 'end': '515', 'sentiment': 'positive'}, {'category': 'Interior', 'mention': 'облицовка стен', 'start': '525', 'end': '539', 'sentiment': 'positive'}, {'category': 'Interior', 'mention': 'освещение', 'start': '564', 'end': '573', 'sentiment': 'positive'}, {'category': 'Whole', 'mention': 'провели время', 'start': '606', 'end': '619', 'sentiment': 'positive'}, {'category': 'Interior', 'mention': 'живая музыка', 'start': '631', 'end': '643', 'sentiment': 'positive'}, {'category': 'Service', 'mention': 'персоналу', 'start': '659', 'end': '668', 'sentiment': 'positive'}], '18983': [{'category': 'Whole', 'mention': 'ресторане', 'start': '26', 'end': '35', 'sentiment': 'neutral'}, {'category': 'Food', 'mention': 'Еда', 'start': '64', 'end': '67', 'sentiment': 'both'}, {'category': 'Food', 'mention': 'еда', 'start': '93', 'end': '96', 'sentiment': 'negative'}, {'category': 'Food', 'mention': 'китайских ресторанах', 'start': '120', 'end': '140', 'sentiment': 'negative'}, {'category': 'Food', 'mention': 'рыба', 'start': '146', 'end': '150', 'sentiment': 'negative'}, {'category': 'Food', 'mention': 'мясо', 'start': '156', 'end': '160', 'sentiment': 'negative'}, {'category': 'Food', 'mention': 'соусом', 'start': '202', 'end': '208', 'sentiment': 'negative'}, {'category': 'Food', 'mention': 'десертов', 'start': '271', 'end': '279', 'sentiment': 'positive'}, {'category': 'Food', 'mention': 'мороженое с сыром гарганзолла', 'start': '302', 'end': '331', 'sentiment': 'positive'}, {'category': 'Service', 'mention': 'Обслуживание', 'start': '378', 'end': '390', 'sentiment': 'both'}, {'category': 'Service', 'mention': 'официанта', 'start': '407', 'end': '416', 'sentiment': 'both'}, {'category': 'Interior', 'mention': 'Обстановка', 'start': '458', 'end': '468', 'sentiment': 'negative'}, {'category': 'Interior', 'mention': 'Интерьер', 'start': '470', 'end': '478', 'sentiment': 'negative'}, {'category': 'Interior', 'mention': 'линолиум', 'start': '517', 'end': '525', 'sentiment': 'negative'}, {'category': 'Interior', 'mention': 'Музыка', 'start': '527', 'end': '533', 'sentiment': 'negative'}, {'category': 'Whole', 'mention': 'заведении', 'start': '648', 'end': '657', 'sentiment': 'positive'}], '13623': [{'category': 'Whole', 'mention': 'Апрель', 'start': '155', 'end': '161', 'sentiment': 'neutral'}, {'category': 'Service', 'mention': 'встретила', 'start': '267', 'end': '276', 'sentiment': 'positive'}, {'category': 'Service', 'mention': 'девушка', 'start': '277', 'end': '284', 'sentiment': 'positive'}, {'category': 'Service', 'mention': 'проводила до столика', 'start': '286', 'end': '306', 'sentiment': 'positive'}, {'category': 'Service', 'mention': 'принесла меню', 'start': '309', 'end': '322', 'sentiment': 'positive'}, {'category': 'Service', 'mention': 'официант', 'start': '356', 'end': '364', 'sentiment': 'positive'}, {'category': 'Service', 'mention': 'принес специи', 'start': '384', 'end': '397', 'sentiment': 'positive'}, {'category': 'Service', 'mention': 'разложил приборы', 'start': '400', 'end': '416', 'sentiment': 'positive'}, {'category': 'Food', 'mention': 'напитки', 'start': '418', 'end': '425', 'sentiment': 'neutral'}, {'category': 'Interior', 'mention': 'детская комната', 'start': '487', 'end': '502', 'sentiment': 'positive'}, {'category': 'Service', 'mention': 'официант', 'start': '504', 'end': '512', 'sentiment': 'positive'}, {'category': 'Interior', 'mention': 'телевизор', 'start': '595', 'end': '604', 'sentiment': 'positive'}, {'category': 'Interior', 'mention': 'компьютер', 'start': '606', 'end': '615', 'sentiment': 'positive'}, {'category': 'Interior', 'mention': 'доска с мелками', 'start': '617', 'end': '632', 'sentiment': 'positive'}, {'category': 'Interior', 'mention': 'стол для рисования', 'start': '635', 'end': '653', 'sentiment': 'positive'}, {'category': 'Food', 'mention': 'салаты', 'start': '694', 'end': '700', 'sentiment': 'both'}, {'category': 'Food', 'mention': 'тунцом', 'start': '741', 'end': '747', 'sentiment': 'positive'}, {'category': 'Food', 'mention': 'цезарь с креветками', 'start': '771', 'end': '790', 'sentiment': 'neutral'}, {'category': 'Food', 'mention': 'Горячее', 'start': '832', 'end': '839', 'sentiment': 'both'}, {'category': 'Food', 'mention': 'стейк с соусом из белых грибов', 'start': '847', 'end': '877', 'sentiment': 'positive'}, {'category': 'Food', 'mention': 'прожарки', 'start': '886', 'end': '894', 'sentiment': 'positive'}, {'category': 'Food', 'mention': 'стейк из мраморной говядины', 'start': '926', 'end': '953', 'sentiment': 'both'}, {'category': 'Food', 'mention': 'соусом', 'start': '999', 'end': '1005', 'sentiment': 'positive'}, {'category': 'Food', 'mention': 'Десерт', 'start': '1021', 'end': '1027', 'sentiment': 'positive'}, {'category': 'Food', 'mention': 'латте', 'start': '1030', 'end': '1035', 'sentiment': 'positive'}, {'category': 'Food', 'mention': 'еда', 'start': '1055', 'end': '1058', 'sentiment': 'positive'}, {'category': 'Food', 'mention': 'размер порций', 'start': '1083', 'end': '1096', 'sentiment': 'positive'}, {'category': 'Service', 'mention': 'Обслуживание', 'start': '1108', 'end': '1120', 'sentiment': 'positive'}, {'category': 'Service', 'mention': 'официант', 'start': '1156', 'end': '1164', 'sentiment': 'positive'}, {'category': 'Food', 'mention': 'десерта', 'start': '1197', 'end': '1204', 'sentiment': 'positive'}, {'category': 'Price', 'mention': 'Счет', 'start': '1206', 'end': '1210', 'sentiment': 'neutral'}], '12814': [{'category': 'Whole', 'mention': 'заведении', 'start': '25', 'end': '34', 'sentiment': 'neutral'}, {'category': 'Food', 'mention': 'Кухня', 'start': '36', 'end': '41', 'sentiment': 'positive'}, {'category': 'Food', 'mention': 'приготовлено', 'start': '97', 'end': '109', 'sentiment': 'positive'}, {'category': 'Whole', 'mention': 'ресторан', 'start': '142', 'end': '150', 'sentiment': 'positive'}, {'category': 'Service', 'mention': 'заказ', 'start': '172', 'end': '177', 'sentiment': 'negative'}, {'category': 'Service', 'mention': 'ждал', 'start': '181', 'end': '185', 'sentiment': 'negative'}, {'category': 'Food', 'mention': 'десерт', 'start': '230', 'end': '236', 'sentiment': 'neutral'}, {'category': 'Service', 'mention': 'официантка', 'start': '237', 'end': '247', 'sentiment': 'negative'}, {'category': 'Food', 'mention': 'составе десерта', 'start': '349', 'end': '364', 'sentiment': 'neutral'}, {'category': 'Food', 'mention': 'ингридиенты', 'start': '384', 'end': '395', 'sentiment': 'neutral'}, {'category': 'Food', 'mention': 'блюде', 'start': '408', 'end': '413', 'sentiment': 'negative'}, {'category': 'Food', 'mention': 'инегридиентов', 'start': '420', 'end': '433', 'sentiment': 'negative'}, {'category': 'Food', 'mention': 'пообедать', 'start': '484', 'end': '493', 'sentiment': 'neutral'}, {'category': 'Food', 'mention': 'поужинать', 'start': '498', 'end': '507', 'sentiment': 'neutral'}, {'category': 'Service', 'mention': 'заказ', 'start': '524', 'end': '529', 'sentiment': 'negative'}, {'category': 'Service', 'mention': 'ждать', 'start': '540', 'end': '545', 'sentiment': 'negative'}], '33538': [{'category': 'Whole', 'mention': 'ресторану', 'start': '17', 'end': '26', 'sentiment': 'positive'}, {'category': 'Food', 'mention': 'ужин', 'start': '49', 'end': '53', 'sentiment': 'positive'}, {'category': 'Interior', 'mention': 'интерьер ресторана', 'start': '75', 'end': '93', 'sentiment': 'positive'}, {'category': 'Interior', 'mention': 'скульптур', 'start': '158', 'end': '167', 'sentiment': 'positive'}, {'category': 'Interior', 'mention': 'лампы', 'start': '179', 'end': '184', 'sentiment': 'positive'}, {'category': 'Interior', 'mention': 'диваны', 'start': '200', 'end': '206', 'sentiment': 'positive'}, {'category': 'Service', 'mention': 'официанты', 'start': '228', 'end': '237', 'sentiment': 'positive'}, {'category': 'Interior', 'mention': 'музыка', 'start': '249', 'end': '255', 'sentiment': 'positive'}, {'category': 'Food', 'mention': 'еда', 'start': '345', 'end': '348', 'sentiment': 'positive'}, {'category': 'Food', 'mention': 'стейки', 'start': '380', 'end': '386', 'sentiment': 'positive'}, {'category': 'Food', 'mention': 'десерт', 'start': '414', 'end': '420', 'sentiment': 'positive'}, {'category': 'Food', 'mention': 'Альмонд', 'start': '435', 'end': '442', 'sentiment': 'positive'}, {'category': 'Whole', 'mention': 'Империю', 'start': '528', 'end': '535', 'sentiment': 'positive'}, {'category': 'Whole', 'mention': 'ресторан', 'start': '551', 'end': '559', 'sentiment': 'positive'}, {'category': 'Interior', 'mention': 'залы', 'start': '616', 'end': '620', 'sentiment': 'positive'}, {'category': 'Interior', 'mention': 'танцпол', 'start': '629', 'end': '636', 'sentiment': 'positive'}, {'category': 'Interior', 'mention': 'живая музыка', 'start': '637', 'end': '649', 'sentiment': 'positive'}, {'category': 'Whole', 'mention': 'место', 'start': '687', 'end': '692', 'sentiment': 'positive'}, {'category': 'Interior', 'mention': 'обстановкой', 'start': '716', 'end': '727', 'sentiment': 'positive'}, {'category': 'Whole', 'mention': 'вечер', 'start': '759', 'end': '764', 'sentiment': 'positive'}], '13252': [{'category': 'Food', 'mention': 'обедать', 'start': '84', 'end': '91', 'sentiment': 'neutral'}, {'category': 'Whole', 'mention': 'ресторанчик', 'start': '99', 'end': '110', 'sentiment': 'neutral'}, {'category': 'Price', 'mention': 'скидка', 'start': '158', 'end': '164', 'sentiment': 'positive'}, {'category': 'Food', 'mention': 'блюда', 'start': '172', 'end': '177', 'sentiment': 'neutral'}, {'category': 'Interior', 'mention': 'Гардероб', 'start': '191', 'end': '199', 'sentiment': 'both'}, {'category': 'Interior', 'mention': 'второй зал', 'start': '314', 'end': '324', 'sentiment': 'positive'}, {'category': 'Interior', 'mention': 'Интерьер', 'start': '350', 'end': '358', 'sentiment': 'positive'}, {'category': 'Interior', 'mention': 'освещение', 'start': '391', 'end': '400', 'sentiment': 'positive'}, {'category': 'Interior', 'mention': 'музыка', 'start': '420', 'end': '426', 'sentiment': 'positive'}, {'category': 'Food', 'mention': 'блюдах', 'start': '471', 'end': '477', 'sentiment': 'neutral'}, {'category': 'Food', 'mention': 'ассортимент', 'start': '481', 'end': '492', 'sentiment': 'positive'}, {'category': 'Whole', 'mention': 'ресторан', 'start': '559', 'end': '567', 'sentiment': 'neutral'}, {'category': 'Food', 'mention': 'блюда восточной кухни', 'start': '593', 'end': '614', 'sentiment': 'positive'}, {'category': 'Food', 'mention': 'шашлыки', 'start': '620', 'end': '627', 'sentiment': 'positive'}, {'category': 'Food', 'mention': 'телятины', 'start': '653', 'end': '661', 'sentiment': 'positive'}, {'category': 'Food', 'mention': 'говядины', 'start': '667', 'end': '675', 'sentiment': 'positive'}, {'category': 'Food', 'mention': 'свинины', 'start': '681', 'end': '688', 'sentiment': 'positive'}, {'category': 'Food', 'mention': 'блюдо садж', 'start': '723', 'end': '733', 'sentiment': 'positive'}, {'category': 'Food', 'mention': 'мясо', 'start': '736', 'end': '740', 'sentiment': 'positive'}, {'category': 'Food', 'mention': 'говядина', 'start': '742', 'end': '750', 'sentiment': 'positive'}, {'category': 'Food', 'mention': 'телятина', 'start': '752', 'end': '760', 'sentiment': 'positive'}, {'category': 'Food', 'mention': 'грибами', 'start': '773', 'end': '780', 'sentiment': 'positive'}, {'category': 'Food', 'mention': 'овощами', 'start': '783', 'end': '790', 'sentiment': 'positive'}, {'category': 'Food', 'mention': 'чай по восточному с инжирным вареньем', 'start': '856', 'end': '893', 'sentiment': 'positive'}, {'category': 'Service', 'mention': 'Обслуживания', 'start': '926', 'end': '938', 'sentiment': 'positive'}, {'category': 'Service', 'mention': 'официанты', 'start': '1024', 'end': '1033', 'sentiment': 'positive'}, {'category': 'Service', 'mention': 'подсказать', 'start': '1058', 'end': '1068', 'sentiment': 'positive'}, {'category': 'Service', 'mention': 'посоветовать', 'start': '1071', 'end': '1083', 'sentiment': 'positive'}, {'category': 'Whole', 'mention': 'ресторан', 'start': '1111', 'end': '1119', 'sentiment': 'positive'}, {'category': 'Price', 'mention': 'соотношение цены и качества', 'start': '1196', 'end': '1223', 'sentiment': 'positive'}], '1749': [{'category': 'Whole', 'mention': 'место', 'start': '8', 'end': '13', 'sentiment': 'positive'}, {'category': 'Service', 'mention': 'официант', 'start': '149', 'end': '157', 'sentiment': 'positive'}, {'category': 'Food', 'mention': 'Меню', 'start': '178', 'end': '182', 'sentiment': 'positive'}, {'category': 'Food', 'mention': 'выбор десертов', 'start': '240', 'end': '254', 'sentiment': 'positive'}, {'category': 'Food', 'mention': 'тирамису', 'start': '269', 'end': '277', 'sentiment': 'positive'}, {'category': 'Food', 'mention': 'торт', 'start': '346', 'end': '350', 'sentiment': 'positive'}, {'category': 'Food', 'mention': 'вторые блюда', 'start': '412', 'end': '424', 'sentiment': 'neutral'}, {'category': 'Service', 'mention': 'ждали', 'start': '425', 'end': '430', 'sentiment': 'negative'}, {'category': 'Food', 'mention': 'стейк рибай', 'start': '508', 'end': '519', 'sentiment': 'positive'}, {'category': 'Food', 'mention': 'свиную рульку', 'start': '592', 'end': '605', 'sentiment': 'negative'}, {'category': 'Price', 'mention': 'цены', 'start': '646', 'end': '650', 'sentiment': 'positive'}, {'category': 'Service', 'mention': 'Обслуживание', 'start': '698', 'end': '710', 'sentiment': 'negative'}, {'category': 'Service', 'mention': 'официанты', 'start': '766', 'end': '775', 'sentiment': 'positive'}, {'category': 'Whole', 'mention': 'паб', 'start': '886', 'end': '889', 'sentiment': 'positive'}, {'category': 'Whole', 'mention': 'место', 'start': '949', 'end': '954', 'sentiment': 'positive'}], '17999': [{'category': 'Whole', 'mention': 'ресторан', 'start': '20', 'end': '28', 'sentiment': 'neutral'}, {'category': 'Whole', 'mention': 'Патио на Невском', 'start': '77', 'end': '93', 'sentiment': 'positive'}, {'category': 'Whole', 'mention': 'Планета Суши', 'start': '100', 'end': '112', 'sentiment': 'positive'}, {'category': 'Service', 'mention': 'встретили', 'start': '231', 'end': '240', 'sentiment': 'positive'}, {'category': 'Service', 'mention': 'посадили', 'start': '249', 'end': '257', 'sentiment': 'positive'}, {'category': 'Interior', 'mention': 'столик', 'start': '268', 'end': '274', 'sentiment': 'positive'}, {'category': 'Service', 'mention': 'Официант', 'start': '287', 'end': '295', 'sentiment': 'positive'}, {'category': 'Service', 'mention': 'принёс меню', 'start': '296', 'end': '307', 'sentiment': 'positive'}, {'category': 'Service', 'mention': 'заказ приняли', 'start': '407', 'end': '420', 'sentiment': 'positive'}, {'category': 'Service', 'mention': 'принесли', 'start': '448', 'end': '456', 'sentiment': 'negative'}, {'category': 'Food', 'mention': 'мартини со льдом', 'start': '477', 'end': '493', 'sentiment': 'negative'}, {'category': 'Service', 'mention': 'официанты', 'start': '629', 'end': '638', 'sentiment': 'negative'}, {'category': 'Service', 'mention': 'счёт', 'start': '746', 'end': '750', 'sentiment': 'negative'}, {'category': 'Price', 'mention': 'сдачу', 'start': '798', 'end': '803', 'sentiment': 'negative'}, {'category': 'Whole', 'mention': 'ресторан', 'start': '918', 'end': '926', 'sentiment': 'positive'}, {'category': 'Whole', 'mention': 'место', 'start': '964', 'end': '969', 'sentiment': 'positive'}, {'category': 'Food', 'mention': 'кухня', 'start': '972', 'end': '977', 'sentiment': 'positive'}, {'category': 'Service', 'mention': 'обслуживание', 'start': '1002', 'end': '1014', 'sentiment': 'negative'}], '36948': [{'category': 'Whole', 'mention': 'ресторане', 'start': '12', 'end': '21', 'sentiment': 'neutral'}, {'category': 'Food', 'mention': 'вино', 'start': '74', 'end': '78', 'sentiment': 'positive'}, {'category': 'Food', 'mention': 'еда', 'start': '88', 'end': '91', 'sentiment': 'positive'}, {'category': 'Food', 'mention': 'подачей', 'start': '103', 'end': '110', 'sentiment': 'positive'}, {'category': 'Interior', 'mention': 'атмосфера', 'start': '122', 'end': '131', 'sentiment': 'positive'}, {'category': 'Service', 'mention': 'обслуживание', 'start': '148', 'end': '160', 'sentiment': 'positive'}, {'category': 'Food', 'mention': 'кухню', 'start': '209', 'end': '214', 'sentiment': 'both'}, {'category': 'Food', 'mention': 'меню', 'start': '261', 'end': '265', 'sentiment': 'positive'}, {'category': 'Food', 'mention': 'блюдам', 'start': '278', 'end': '284', 'sentiment': 'positive'}, {'category': 'Interior', 'mention': 'интерьер', 'start': '293', 'end': '301', 'sentiment': 'both'}, {'category': 'Interior', 'mention': 'стульях', 'start': '327', 'end': '334', 'sentiment': 'negative'}, {'category': 'Interior', 'mention': 'места у окна', 'start': '377', 'end': '389', 'sentiment': 'positive'}, {'category': 'Service', 'mention': 'сервис', 'start': '423', 'end': '429', 'sentiment': 'positive'}, {'category': 'Service', 'mention': 'персонал', 'start': '479', 'end': '487', 'sentiment': 'positive'}, {'category': 'Service', 'mention': 'обслуживанию', 'start': '531', 'end': '543', 'sentiment': 'positive'}], '3236': [{'category': 'Food', 'mention': 'меню', 'start': '46', 'end': '50', 'sentiment': 'negative'}, {'category': 'Food', 'mention': 'пиццы', 'start': '71', 'end': '76', 'sentiment': 'negative'}, {'category': 'Food', 'mention': 'пасты', 'start': '79', 'end': '84', 'sentiment': 'negative'}, {'category': 'Food', 'mention': 'меню', 'start': '103', 'end': '107', 'sentiment': 'negative'}, {'category': 'Food', 'mention': 'блюда', 'start': '130', 'end': '135', 'sentiment': 'positive'}, {'category': 'Food', 'mention': 'пиццами', 'start': '293', 'end': '300', 'sentiment': 'negative'}, {'category': 'Food', 'mention': 'пастами', 'start': '302', 'end': '309', 'sentiment': 'negative'}, {'category': 'Food', 'mention': 'салатами', 'start': '335', 'end': '343', 'sentiment': 'negative'}, {'category': 'Food', 'mention': 'овощей с моцареллой', 'start': '368', 'end': '387', 'sentiment': 'negative'}, {'category': 'Whole', 'mention': 'ресторан', 'start': '454', 'end': '462', 'sentiment': 'negative'}, {'category': 'Food', 'mention': 'выбор блюд', 'start': '489', 'end': '499', 'sentiment': 'negative'}, {'category': 'Whole', 'mention': 'заведение', 'start': '532', 'end': '541', 'sentiment': 'positive'}, {'category': 'Food', 'mention': 'поесть', 'start': '565', 'end': '571', 'sentiment': 'positive'}, {'category': 'Whole', 'mention': 'место', 'start': '582', 'end': '587', 'sentiment': 'positive'}, {'category': 'Food', 'mention': 'итальянская кухня', 'start': '599', 'end': '616', 'sentiment': 'positive'}, {'category': 'Whole', 'mention': 'заведение', 'start': '639', 'end': '648', 'sentiment': 'positive'}, {'category': 'Whole', 'mention': 'хозяин', 'start': '666', 'end': '672', 'sentiment': 'positive'}, {'category': 'Whole', 'mention': 'кафе', 'start': '693', 'end': '697', 'sentiment': 'positive'}, {'category': 'Whole', 'mention': 'ресторан', 'start': '700', 'end': '708', 'sentiment': 'positive'}, {'category': 'Food', 'mention': 'кухню', 'start': '838', 'end': '843', 'sentiment': 'negative'}, {'category': 'Food', 'mention': 'мясными блюдами', 'start': '844', 'end': '859', 'sentiment': 'positive'}, {'category': 'Food', 'mention': 'гарнирами', 'start': '861', 'end': '870', 'sentiment': 'positive'}, {'category': 'Food', 'mention': 'салатами', 'start': '884', 'end': '892', 'sentiment': 'positive'}, {'category': 'Food', 'mention': 'супами', 'start': '895', 'end': '901', 'sentiment': 'positive'}], '9230': [{'category': 'Interior', 'mention': 'пустое помещение', 'start': '209', 'end': '225', 'sentiment': 'both'}, {'category': 'Interior', 'mention': 'декором', 'start': '264', 'end': '271', 'sentiment': 'positive'}, {'category': 'Interior', 'mention': 'столик', 'start': '322', 'end': '328', 'sentiment': 'positive'}, {'category': 'Service', 'mention': 'появилась', 'start': '349', 'end': '358', 'sentiment': 'positive'}, {'category': 'Service', 'mention': 'официантка', 'start': '359', 'end': '369', 'sentiment': 'positive'}, {'category': 'Service', 'mention': 'принесла меню', 'start': '379', 'end': '392', 'sentiment': 'positive'}, {'category': 'Service', 'mention': 'ответила на мои вопросы', 'start': '395', 'end': '418', 'sentiment': 'positive'}, {'category': 'Food', 'mention': 'устриц', 'start': '428', 'end': '434', 'sentiment': 'neutral'}, {'category': 'Service', 'mention': 'обслуживание', 'start': '452', 'end': '464', 'sentiment': 'positive'}, {'category': 'Food', 'mention': 'горячее', 'start': '528', 'end': '535', 'sentiment': 'neutral'}, {'category': 'Food', 'mention': 'устриц', 'start': '586', 'end': '592', 'sentiment': 'neutral'}, {'category': 'Food', 'mention': 'свежих', 'start': '598', 'end': '604', 'sentiment': 'neutral'}, {'category': 'Food', 'mention': 'запеченых', 'start': '620', 'end': '629', 'sentiment': 'neutral'}, {'category': 'Food', 'mention': 'устрицы', 'start': '663', 'end': '670', 'sentiment': 'both'}, {'category': 'Food', 'mention': 'горячего', 'start': '725', 'end': '733', 'sentiment': 'positive'}, {'category': 'Food', 'mention': 'филе норвежского лосося с овощами и креветками', 'start': '738', 'end': '784', 'sentiment': 'positive'}, {'category': 'Food', 'mention': 'блюдо', 'start': '796', 'end': '801', 'sentiment': 'positive'}, {'category': 'Food', 'mention': 'пасту', 'start': '867', 'end': '872', 'sentiment': 'neutral'}, {'category': 'Food', 'mention': 'чая с десертами', 'start': '896', 'end': '911', 'sentiment': 'neutral'}, {'category': 'Food', 'mention': 'десертов', 'start': '925', 'end': '933', 'sentiment': 'negative'}, {'category': 'Food', 'mention': 'клубничного супа', 'start': '971', 'end': '987', 'sentiment': 'neutral'}, {'category': 'Food', 'mention': 'мороженого', 'start': '990', 'end': '1000', 'sentiment': 'neutral'}, {'category': 'Whole', 'mention': 'заведение', 'start': '1064', 'end': '1073', 'sentiment': 'both'}], '7417': [{'category': 'Interior', 'mention': 'некурящем зале', 'start': '35', 'end': '49', 'sentiment': 'positive'}, {'category': 'Interior', 'mention': 'диванчике', 'start': '53', 'end': '62', 'sentiment': 'positive'}, {'category': 'Interior', 'mention': 'интерьер', 'start': '82', 'end': '90', 'sentiment': 'positive'}, {'category': 'Food', 'mention': 'Кухня', 'start': '108', 'end': '113', 'sentiment': 'positive'}, {'category': 'Food', 'mention': 'салат с угрем', 'start': '143', 'end': '156', 'sentiment': 'positive'}, {'category': 'Food', 'mention': 'спагетти с фрикадельками', 'start': '184', 'end': '208', 'sentiment': 'positive'}, {'category': 'Food', 'mention': 'супчики', 'start': '224', 'end': '231', 'sentiment': 'positive'}, {'category': 'Food', 'mention': 'салаты', 'start': '260', 'end': '266', 'sentiment': 'positive'}, {'category': 'Food', 'mention': 'курицей', 'start': '281', 'end': '288', 'sentiment': 'positive'}, {'category': 'Food', 'mention': 'цезарь с креветками', 'start': '291', 'end': '310', 'sentiment': 'positive'}, {'category': 'Whole', 'mention': 'крупных ресторанах', 'start': '351', 'end': '369', 'sentiment': 'negative'}, {'category': 'Price', 'mention': 'цены', 'start': '382', 'end': '386', 'sentiment': 'positive'}, {'category': 'Service', 'mention': 'Персонал', 'start': '400', 'end': '408', 'sentiment': 'positive'}, {'category': 'Service', 'mention': 'приносили', 'start': '425', 'end': '434', 'sentiment': 'positive'}, {'category': 'Service', 'mention': 'убирали', 'start': '453', 'end': '460', 'sentiment': 'positive'}], '27169': [{'category': 'Whole', 'mention': 'ресторане \"Эскалибур\"', 'start': '72', 'end': '93', 'sentiment': 'neutral'}, {'category': 'Service', 'mention': 'Заказала столик', 'start': '112', 'end': '127', 'sentiment': 'neutral'}, {'category': 'Whole', 'mention': 'место', 'start': '211', 'end': '216', 'sentiment': 'positive'}, {'category': 'Interior', 'mention': 'Интерьер', 'start': '239', 'end': '247', 'sentiment': 'positive'}, {'category': 'Interior', 'mention': 'обстановка', 'start': '270', 'end': '280', 'sentiment': 'positive'}, {'category': 'Service', 'mention': 'обслуживание', 'start': '282', 'end': '294', 'sentiment': 'positive'}, {'category': 'Price', 'mention': 'Цены', 'start': '319', 'end': '323', 'sentiment': 'positive'}, {'category': 'Food', 'mention': 'блюда', 'start': '336', 'end': '341', 'sentiment': 'positive'}, {'category': 'Food', 'mention': 'оформлены', 'start': '364', 'end': '373', 'sentiment': 'positive'}, {'category': 'Food', 'mention': 'порции', 'start': '411', 'end': '417', 'sentiment': 'positive'}, {'category': 'Food', 'mention': 'продукты', 'start': '453', 'end': '461', 'sentiment': 'positive'}, {'category': 'Food', 'mention': 'блюде', 'start': '479', 'end': '484', 'sentiment': 'positive'}, {'category': 'Service', 'mention': 'персонал', 'start': '547', 'end': '555', 'sentiment': 'positive'}, {'category': 'Service', 'mention': 'администраторы', 'start': '557', 'end': '571', 'sentiment': 'positive'}, {'category': 'Service', 'mention': 'официант', 'start': '587', 'end': '595', 'sentiment': 'positive'}, {'category': 'Service', 'mention': 'обслуживание', 'start': '684', 'end': '696', 'sentiment': 'positive'}, {'category': 'Whole', 'mention': 'праздника', 'start': '757', 'end': '766', 'sentiment': 'positive'}, {'category': 'Interior', 'mention': 'интерьера', 'start': '988', 'end': '997', 'sentiment': 'positive'}, {'category': 'Interior', 'mention': 'Цвет', 'start': '1032', 'end': '1036', 'sentiment': 'positive'}, {'category': 'Interior', 'mention': 'свет', 'start': '1038', 'end': '1042', 'sentiment': 'positive'}, {'category': 'Interior', 'mention': 'оформление стен', 'start': '1044', 'end': '1059', 'sentiment': 'positive'}], '9076': [{'category': 'Interior', 'mention': 'центре зала', 'start': '130', 'end': '141', 'sentiment': 'negative'}, {'category': 'Service', 'mention': 'ждали', 'start': '207', 'end': '212', 'sentiment': 'negative'}, {'category': 'Food', 'mention': 'шампанское', 'start': '213', 'end': '223', 'sentiment': 'neutral'}, {'category': 'Service', 'mention': 'заказа', 'start': '247', 'end': '253', 'sentiment': 'negative'}, {'category': 'Service', 'mention': 'ждать', 'start': '353', 'end': '358', 'sentiment': 'negative'}, {'category': 'Service', 'mention': 'Официант', 'start': '373', 'end': '381', 'sentiment': 'negative'}, {'category': 'Service', 'mention': 'разливал шампанское', 'start': '459', 'end': '478', 'sentiment': 'negative'}, {'category': 'Food', 'mention': 'шампанское', 'start': '468', 'end': '478', 'sentiment': 'neutral'}, {'category': 'Food', 'mention': 'блюд', 'start': '568', 'end': '572', 'sentiment': 'positive'}, {'category': 'Food', 'mention': 'цезарь с креветками', 'start': '664', 'end': '683', 'sentiment': 'positive'}, {'category': 'Food', 'mention': 'ела', 'start': '711', 'end': '714', 'sentiment': 'positive'}, {'category': 'Food', 'mention': 'вишневый пирог с фисташковым кремом', 'start': '737', 'end': '772', 'sentiment': 'positive'}, {'category': 'Service', 'mention': 'человек из персонала', 'start': '825', 'end': '845', 'sentiment': 'positive'}, {'category': 'Service', 'mention': 'гардеробщик', 'start': '888', 'end': '899', 'sentiment': 'positive'}, {'category': 'Service', 'mention': 'администратор', 'start': '1033', 'end': '1046', 'sentiment': 'negative'}, {'category': 'Service', 'mention': 'попрощаться', 'start': '1073', 'end': '1084', 'sentiment': 'negative'}], '17475': [{'category': 'Whole', 'mention': 'ресторане', 'start': '18', 'end': '27', 'sentiment': 'neutral'}, {'category': 'Whole', 'mention': 'месте', 'start': '95', 'end': '100', 'sentiment': 'neutral'}, {'category': 'Interior', 'mention': 'гардероб', 'start': '131', 'end': '139', 'sentiment': 'positive'}, {'category': 'Whole', 'mention': 'гардеробщик', 'start': '151', 'end': '162', 'sentiment': 'positive'}, {'category': 'Interior', 'mention': 'вид в зал', 'start': '181', 'end': '190', 'sentiment': 'positive'}, {'category': 'Interior', 'mention': 'мебель', 'start': '199', 'end': '205', 'sentiment': 'positive'}, {'category': 'Interior', 'mention': 'интерьер', 'start': '217', 'end': '225', 'sentiment': 'positive'}, {'category': 'Service', 'mention': 'Встретили', 'start': '259', 'end': '268', 'sentiment': 'positive'}, {'category': 'Service', 'mention': 'администратора', 'start': '303', 'end': '317', 'sentiment': 'negative'}, {'category': 'Service', 'mention': 'проводили к столу', 'start': '337', 'end': '354', 'sentiment': 'positive'}, {'category': 'Service', 'mention': 'Официант', 'start': '355', 'end': '363', 'sentiment': 'negative'}, {'category': 'Food', 'mention': 'Кухня', 'start': '500', 'end': '505', 'sentiment': 'positive'}, {'category': 'Food', 'mention': 'кушали', 'start': '506', 'end': '512', 'sentiment': 'positive'}, {'category': 'Food', 'mention': 'японскую кухню', 'start': '513', 'end': '527', 'sentiment': 'positive'}, {'category': 'Food', 'mention': 'еда', 'start': '536', 'end': '539', 'sentiment': 'positive'}, {'category': 'Food', 'mention': 'порции', 'start': '554', 'end': '560', 'sentiment': 'positive'}, {'category': 'Food', 'mention': 'подача', 'start': '561', 'end': '567', 'sentiment': 'neutral'}, {'category': 'Food', 'mention': 'салат цезарь', 'start': '582', 'end': '594', 'sentiment': 'positive'}, {'category': 'Price', 'mention': 'скидку', 'start': '620', 'end': '626', 'sentiment': 'negative'}, {'category': 'Service', 'mention': 'Проводили', 'start': '703', 'end': '712', 'sentiment': 'positive'}, {'category': 'Service', 'mention': 'персоналом', 'start': '718', 'end': '728', 'sentiment': 'positive'}], '38772': [{'category': 'Whole', 'mention': 'ресторана', 'start': '33', 'end': '42', 'sentiment': 'positive'}, {'category': 'Whole', 'mention': 'место', 'start': '124', 'end': '129', 'sentiment': 'positive'}, {'category': 'Food', 'mention': 'японскую кухню', 'start': '139', 'end': '153', 'sentiment': 'positive'}, {'category': 'Whole', 'mention': 'ресторане', 'start': '163', 'end': '172', 'sentiment': 'positive'}, {'category': 'Food', 'mention': 'роллы запеченные на углях', 'start': '209', 'end': '234', 'sentiment': 'positive'}, {'category': 'Food', 'mention': 'европейскую кухню', 'start': '279', 'end': '296', 'sentiment': 'positive'}, {'category': 'Food', 'mention': 'стейки', 'start': '332', 'end': '338', 'sentiment': 'positive'}, {'category': 'Food', 'mention': 'Меню', 'start': '340', 'end': '344', 'sentiment': 'positive'}, {'category': 'Food', 'mention': 'блюдо', 'start': '379', 'end': '384', 'sentiment': 'positive'}, {'category': 'Food', 'mention': 'котлет с пюре', 'start': '412', 'end': '425', 'sentiment': 'positive'}, {'category': 'Food', 'mention': 'фуа-грой', 'start': '439', 'end': '447', 'sentiment': 'positive'}, {'category': 'Food', 'mention': 'гребешками', 'start': '449', 'end': '459', 'sentiment': 'positive'}, {'category': 'Food', 'mention': 'детское меню', 'start': '534', 'end': '546', 'sentiment': 'positive'}, {'category': 'Interior', 'mention': 'стульчики для кормления', 'start': '556', 'end': '579', 'sentiment': 'positive'}, {'category': 'Interior', 'mention': 'детская комната', 'start': '610', 'end': '625', 'sentiment': 'positive'}, {'category': 'Food', 'mention': 'ужином', 'start': '724', 'end': '730', 'sentiment': 'positive'}, {'category': 'Whole', 'mention': 'ресторан', 'start': '748', 'end': '756', 'sentiment': 'positive'}, {'category': 'Interior', 'mention': 'интерьер', 'start': '776', 'end': '784', 'sentiment': 'negative'}, {'category': 'Interior', 'mention': 'диваны', 'start': '872', 'end': '878', 'sentiment': 'positive'}, {'category': 'Interior', 'mention': 'столы', 'start': '888', 'end': '893', 'sentiment': 'positive'}, {'category': 'Interior', 'mention': 'свет', 'start': '904', 'end': '908', 'sentiment': 'positive'}, {'category': 'Interior', 'mention': 'занавески', 'start': '922', 'end': '931', 'sentiment': 'positive'}, {'category': 'Interior', 'mention': 'зал', 'start': '947', 'end': '950', 'sentiment': 'positive'}, {'category': 'Interior', 'mention': 'обстановку', 'start': '979', 'end': '989', 'sentiment': 'positive'}, {'category': 'Service', 'mention': 'Персонал', 'start': '1002', 'end': '1010', 'sentiment': 'positive'}, {'category': 'Service', 'mention': 'Обслуживание', 'start': '1029', 'end': '1041', 'sentiment': 'positive'}, {'category': 'Whole', 'mention': 'официанты', 'start': '1052', 'end': '1061', 'sentiment': 'positive'}, {'category': 'Service', 'mention': 'Прощаются', 'start': '1135', 'end': '1144', 'sentiment': 'positive'}, {'category': 'Service', 'mention': 'приглашают', 'start': '1154', 'end': '1164', 'sentiment': 'positive'}], '9776': [{'category': 'Whole', 'mention': 'ресторан', 'start': '50', 'end': '58', 'sentiment': 'neutral'}, {'category': 'Interior', 'mention': 'интерьер', 'start': '59', 'end': '67', 'sentiment': 'positive'}, {'category': 'Service', 'mention': 'шеф-повар', 'start': '98', 'end': '107', 'sentiment': 'positive'}, {'category': 'Whole', 'mention': 'ресторана', 'start': '133', 'end': '142', 'sentiment': 'positive'}, {'category': 'Service', 'mention': 'официанты', 'start': '165', 'end': '174', 'sentiment': 'positive'}, {'category': 'Service', 'mention': 'сервис', 'start': '183', 'end': '189', 'sentiment': 'positive'}, {'category': 'Price', 'mention': 'цены', 'start': '221', 'end': '225', 'sentiment': 'negative'}, {'category': 'Food', 'mention': 'алкоголя', 'start': '263', 'end': '271', 'sentiment': 'neutral'}, {'category': 'Food', 'mention': 'еду', 'start': '280', 'end': '283', 'sentiment': 'neutral'}, {'category': 'Whole', 'mention': 'ресторане', 'start': '374', 'end': '383', 'sentiment': 'positive'}, {'category': 'Food', 'mention': 'каракатица', 'start': '429', 'end': '439', 'sentiment': 'positive'}, {'category': 'Food', 'mention': 'осьминог', 'start': '446', 'end': '454', 'sentiment': 'negative'}, {'category': 'Food', 'mention': 'жевать', 'start': '467', 'end': '473', 'sentiment': 'negative'}, {'category': 'Food', 'mention': 'блюда из осьминога', 'start': '515', 'end': '533', 'sentiment': 'positive'}, {'category': 'Food', 'mention': 'осьминога', 'start': '629', 'end': '638', 'sentiment': 'positive'}, {'category': 'Whole', 'mention': 'итальянском ресторане', 'start': '648', 'end': '669', 'sentiment': 'positive'}, {'category': 'Whole', 'mention': 'Делфим Бар', 'start': '670', 'end': '680', 'sentiment': 'positive'}, {'category': 'Whole', 'mention': 'Франческо', 'start': '696', 'end': '705', 'sentiment': 'positive'}, {'category': 'Whole', 'mention': 'место', 'start': '706', 'end': '711', 'sentiment': 'positive'}, {'category': 'Price', 'mention': 'цены', 'start': '758', 'end': '762', 'sentiment': 'negative'}], '11355': [{'category': 'Whole', 'mention': 'Твинс', 'start': '31', 'end': '36', 'sentiment': 'positive'}, {'category': 'Service', 'mention': 'Официант', 'start': '81', 'end': '89', 'sentiment': 'positive'}, {'category': 'Service', 'mention': 'встретил', 'start': '134', 'end': '142', 'sentiment': 'positive'}, {'category': 'Service', 'mention': 'посадил', 'start': '144', 'end': '151', 'sentiment': 'positive'}, {'category': 'Service', 'mention': 'подал меню', 'start': '162', 'end': '172', 'sentiment': 'positive'}, {'category': 'Service', 'mention': 'поиинтересовался', 'start': '174', 'end': '190', 'sentiment': 'positive'}, {'category': 'Food', 'mention': 'кухню', 'start': '299', 'end': '304', 'sentiment': 'neutral'}, {'category': 'Food', 'mention': 'Америка маки', 'start': '362', 'end': '374', 'sentiment': 'neutral'}, {'category': 'Food', 'mention': 'чукка салат', 'start': '376', 'end': '387', 'sentiment': 'neutral'}, {'category': 'Food', 'mention': 'клубничный чай', 'start': '390', 'end': '404', 'sentiment': 'neutral'}, {'category': 'Food', 'mention': 'Америка', 'start': '416', 'end': '423', 'sentiment': 'both'}, {'category': 'Food', 'mention': 'рыбы', 'start': '450', 'end': '454', 'sentiment': 'negative'}, {'category': 'Food', 'mention': 'чукка салат', 'start': '456', 'end': '467', 'sentiment': 'positive'}, {'category': 'Food', 'mention': 'чай', 'start': '476', 'end': '479', 'sentiment': 'negative'}, {'category': 'Whole', 'mention': 'Вечером', 'start': '497', 'end': '504', 'sentiment': 'positive'}, {'category': 'Food', 'mention': 'коктейли', 'start': '577', 'end': '585', 'sentiment': 'neutral'}], '3647': [{'category': 'Food', 'mention': 'шеф повара', 'start': '45', 'end': '55', 'sentiment': 'positive'}, {'category': 'Food', 'mention': 'салаты', 'start': '68', 'end': '74', 'sentiment': 'positive'}, {'category': 'Food', 'mention': 'горячее', 'start': '77', 'end': '84', 'sentiment': 'positive'}, {'category': 'Food', 'mention': 'Порции', 'start': '86', 'end': '92', 'sentiment': 'positive'}, {'category': 'Food', 'mention': 'пиво', 'start': '142', 'end': '146', 'sentiment': 'positive'}, {'category': 'Price', 'mention': 'цены', 'start': '198', 'end': '202', 'sentiment': 'positive'}, {'category': 'Service', 'mention': 'обслуживание', 'start': '217', 'end': '229', 'sentiment': 'positive'}, {'category': 'Service', 'mention': 'Официантки', 'start': '243', 'end': '253', 'sentiment': 'positive'}, {'category': 'Whole', 'mention': 'ресторане', 'start': '277', 'end': '286', 'sentiment': 'positive'}, {'category': 'Interior', 'mention': 'Интерьер', 'start': '366', 'end': '374', 'sentiment': 'positive'}, {'category': 'Whole', 'mention': 'отдохнули', 'start': '413', 'end': '422', 'sentiment': 'positive'}], '20861': [{'category': 'Whole', 'mention': 'ресторанчик', 'start': '67', 'end': '78', 'sentiment': 'neutral'}, {'category': 'Whole', 'mention': '\"Аппетит\"', 'start': '99', 'end': '108', 'sentiment': 'neutral'}, {'category': 'Interior', 'mention': 'залов', 'start': '120', 'end': '125', 'sentiment': 'positive'}, {'category': 'Interior', 'mention': 'зал для некурящих', 'start': '153', 'end': '170', 'sentiment': 'negative'}, {'category': 'Interior', 'mention': 'диванчики', 'start': '215', 'end': '224', 'sentiment': 'positive'}, {'category': 'Interior', 'mention': 'зоне для курящих', 'start': '227', 'end': '243', 'sentiment': 'positive'}, {'category': 'Interior', 'mention': 'интерьер', 'start': '307', 'end': '315', 'sentiment': 'positive'}, {'category': 'Service', 'mention': 'Обслуживание', 'start': '403', 'end': '415', 'sentiment': 'negative'}, {'category': 'Service', 'mention': 'Встретили', 'start': '424', 'end': '433', 'sentiment': 'positive'}, {'category': 'Service', 'mention': 'усадили', 'start': '435', 'end': '442', 'sentiment': 'positive'}, {'category': 'Service', 'mention': 'дали меню', 'start': '444', 'end': '453', 'sentiment': 'positive'}, {'category': 'Service', 'mention': 'девушка', 'start': '473', 'end': '480', 'sentiment': 'negative'}, {'category': 'Food', 'mention': 'пасту', 'start': '591', 'end': '596', 'sentiment': 'neutral'}, {'category': 'Food', 'mention': 'супчик', 'start': '671', 'end': '677', 'sentiment': 'positive'}, {'category': 'Food', 'mention': 'кухни', 'start': '706', 'end': '711', 'sentiment': 'negative'}, {'category': 'Food', 'mention': 'повар', 'start': '713', 'end': '718', 'sentiment': 'negative'}, {'category': 'Food', 'mention': 'мисо', 'start': '762', 'end': '766', 'sentiment': 'neutral'}, {'category': 'Food', 'mention': 'суп с норвежским лососем', 'start': '775', 'end': '799', 'sentiment': 'neutral'}, {'category': 'Service', 'mention': 'официантка', 'start': '850', 'end': '860', 'sentiment': 'negative'}, {'category': 'Food', 'mention': 'паста с грибами, сливками и томатной пастой', 'start': '924', 'end': '967', 'sentiment': 'neutral'}, {'category': 'Food', 'mention': 'томатную пасту', 'start': '1004', 'end': '1018', 'sentiment': 'negative'}, {'category': 'Whole', 'mention': '\"Аппетит\"', 'start': '1050', 'end': '1059', 'sentiment': 'negative'}], '2006': [{'category': 'Whole', 'mention': 'ресторане', 'start': '7', 'end': '16', 'sentiment': 'neutral'}, {'category': 'Service', 'mention': 'обслуживанием', 'start': '96', 'end': '109', 'sentiment': 'positive'}, {'category': 'Food', 'mention': 'приготовленными', 'start': '119', 'end': '134', 'sentiment': 'positive'}, {'category': 'Food', 'mention': 'блюдами', 'start': '135', 'end': '142', 'sentiment': 'positive'}, {'category': 'Whole', 'mention': 'ресторане', 'start': '146', 'end': '155', 'sentiment': 'positive'}, {'category': 'Interior', 'mention': 'атмосфера', 'start': '174', 'end': '183', 'sentiment': 'positive'}, {'category': 'Food', 'mention': 'приготовлен', 'start': '225', 'end': '236', 'sentiment': 'positive'}, {'category': 'Food', 'mention': 'десерт тирамису', 'start': '237', 'end': '252', 'sentiment': 'positive'}, {'category': 'Food', 'mention': 'десерта', 'start': '270', 'end': '277', 'sentiment': 'positive'}, {'category': 'Whole', 'mention': 'ресторане', 'start': '298', 'end': '307', 'sentiment': 'negative'}, {'category': 'Whole', 'mention': 'отдохнувшие', 'start': '347', 'end': '358', 'sentiment': 'positive'}], '36589': [{'category': 'Service', 'mention': 'персоналу', 'start': '57', 'end': '66', 'sentiment': 'positive'}, {'category': 'Service', 'mention': 'обслуживание', 'start': '83', 'end': '95', 'sentiment': 'positive'}, {'category': 'Whole', 'mention': 'Ресторан', 'start': '97', 'end': '105', 'sentiment': 'positive'}, {'category': 'Interior', 'mention': 'вид из окон', 'start': '120', 'end': '131', 'sentiment': 'positive'}, {'category': 'Food', 'mention': 'Еда', 'start': '158', 'end': '161', 'sentiment': 'positive'}, {'category': 'Food', 'mention': 'оформление блюд', 'start': '189', 'end': '204', 'sentiment': 'positive'}, {'category': 'Whole', 'mention': 'ресторанов', 'start': '269', 'end': '279', 'sentiment': 'neutral'}, {'category': 'Whole', 'mention': 'место', 'start': '340', 'end': '345', 'sentiment': 'positive'}], '3875': [{'category': 'Whole', 'mention': 'место', 'start': '13', 'end': '18', 'sentiment': 'positive'}, {'category': 'Interior', 'mention': 'атмосфера', 'start': '27', 'end': '36', 'sentiment': 'positive'}, {'category': 'Interior', 'mention': 'зона для некурящих', 'start': '43', 'end': '61', 'sentiment': 'positive'}, {'category': 'Whole', 'mention': 'заведений', 'start': '144', 'end': '153', 'sentiment': 'positive'}, {'category': 'Food', 'mention': 'кухня', 'start': '164', 'end': '169', 'sentiment': 'positive'}, {'category': 'Service', 'mention': 'обслуживание', 'start': '206', 'end': '218', 'sentiment': 'positive'}, {'category': 'Price', 'mention': 'цене', 'start': '261', 'end': '265', 'sentiment': 'positive'}, {'category': 'Service', 'mention': 'Персонал', 'start': '267', 'end': '275', 'sentiment': 'positive'}, {'category': 'Interior', 'mention': 'большом экране', 'start': '369', 'end': '383', 'sentiment': 'positive'}, {'category': 'Interior', 'mention': 'картинам на стенах', 'start': '416', 'end': '434', 'sentiment': 'positive'}, {'category': 'Interior', 'mention': 'залам', 'start': '463', 'end': '468', 'sentiment': 'positive'}, {'category': 'Food', 'mention': 'суши', 'start': '564', 'end': '568', 'sentiment': 'positive'}, {'category': 'Food', 'mention': 'пива', 'start': '604', 'end': '608', 'sentiment': 'positive'}, {'category': 'Whole', 'mention': 'заведению', 'start': '787', 'end': '796', 'sentiment': 'positive'}, {'category': 'Service', 'mention': 'персоналу', 'start': '799', 'end': '808', 'sentiment': 'positive'}, {'category': 'Whole', 'mention': 'вечер', 'start': '821', 'end': '826', 'sentiment': 'positive'}], '27569': [{'category': 'Whole', 'mention': 'Арагви', 'start': '22', 'end': '28', 'sentiment': 'neutral'}, {'category': 'Service', 'mention': 'столик забронировали', 'start': '67', 'end': '87', 'sentiment': 'neutral'}, {'category': 'Food', 'mention': 'кухня', 'start': '123', 'end': '128', 'sentiment': 'positive'}, {'category': 'Service', 'mention': 'обслуживание', 'start': '132', 'end': '144', 'sentiment': 'positive'}, {'category': 'Interior', 'mention': 'обстановка', 'start': '148', 'end': '158', 'sentiment': 'positive'}, {'category': 'Whole', 'mention': 'ресторан', 'start': '165', 'end': '173', 'sentiment': 'positive'}, {'category': 'Service', 'mention': 'заказали столик', 'start': '303', 'end': '318', 'sentiment': 'neutral'}, {'category': 'Food', 'mention': 'Готовят', 'start': '409', 'end': '416', 'sentiment': 'positive'}, {'category': 'Whole', 'mention': 'Арагви', 'start': '419', 'end': '425', 'sentiment': 'positive'}, {'category': 'Service', 'mention': 'ждать', 'start': '440', 'end': '445', 'sentiment': 'positive'}, {'category': 'Food', 'mention': 'еду', 'start': '446', 'end': '449', 'sentiment': 'neutral'}, {'category': 'Food', 'mention': 'зелень с овощами', 'start': '481', 'end': '497', 'sentiment': 'positive'}, {'category': 'Food', 'mention': 'шашлык', 'start': '547', 'end': '553', 'sentiment': 'positive'}, {'category': 'Food', 'mention': 'телятины', 'start': '587', 'end': '595', 'sentiment': 'positive'}, {'category': 'Food', 'mention': 'свинины', 'start': '608', 'end': '615', 'sentiment': 'positive'}, {'category': 'Food', 'mention': 'чебуреки', 'start': '631', 'end': '639', 'sentiment': 'positive'}, {'category': 'Food', 'mention': 'десертов', 'start': '641', 'end': '649', 'sentiment': 'positive'}, {'category': 'Food', 'mention': 'десерт', 'start': '699', 'end': '705', 'sentiment': 'positive'}, {'category': 'Food', 'mention': 'печёную грушу', 'start': '708', 'end': '721', 'sentiment': 'positive'}, {'category': 'Food', 'mention': 'грузинских вин', 'start': '736', 'end': '750', 'sentiment': 'negative'}, {'category': 'Interior', 'mention': 'Музыка', 'start': '771', 'end': '777', 'sentiment': 'positive'}, {'category': 'Interior', 'mention': 'обстановка', 'start': '801', 'end': '811', 'sentiment': 'positive'}, {'category': 'Whole', 'mention': 'место', 'start': '874', 'end': '879', 'sentiment': 'positive'}, {'category': 'Food', 'mention': 'поесть', 'start': '909', 'end': '915', 'sentiment': 'positive'}, {'category': 'Whole', 'mention': 'Арагви', 'start': '917', 'end': '923', 'sentiment': 'positive'}], '2089': [{'category': 'Food', 'mention': 'Пиво', 'start': '0', 'end': '4', 'sentiment': 'positive'}, {'category': 'Service', 'mention': 'обслуживание', 'start': '28', 'end': '40', 'sentiment': 'negative'}, {'category': 'Food', 'mention': 'тарелку к пиву', 'start': '57', 'end': '71', 'sentiment': 'neutral'}, {'category': 'Food', 'mention': 'пиво', 'start': '79', 'end': '83', 'sentiment': 'neutral'}, {'category': 'Food', 'mention': 'мясо', 'start': '102', 'end': '106', 'sentiment': 'neutral'}, {'category': 'Food', 'mention': 'Тарелку к пиву', 'start': '108', 'end': '122', 'sentiment': 'neutral'}, {'category': 'Service', 'mention': 'принесли', 'start': '123', 'end': '131', 'sentiment': 'negative'}, {'category': 'Food', 'mention': 'пива', 'start': '161', 'end': '165', 'sentiment': 'neutral'}, {'category': 'Whole', 'mention': 'заведение', 'start': '172', 'end': '181', 'sentiment': 'negative'}, {'category': 'Service', 'mention': 'приносить', 'start': '245', 'end': '254', 'sentiment': 'negative'}, {'category': 'Food', 'mention': 'блюда', 'start': '363', 'end': '368', 'sentiment': 'neutral'}, {'category': 'Food', 'mention': 'Мясо', 'start': '386', 'end': '390', 'sentiment': 'neutral'}, {'category': 'Service', 'mention': 'ждали', 'start': '406', 'end': '411', 'sentiment': 'negative'}, {'category': 'Food', 'mention': 'гарнир', 'start': '437', 'end': '443', 'sentiment': 'neutral'}, {'category': 'Food', 'mention': 'мясо', 'start': '462', 'end': '466', 'sentiment': 'neutral'}, {'category': 'Service', 'mention': 'девушка', 'start': '497', 'end': '504', 'sentiment': 'negative'}], '1269': [{'category': 'Whole', 'mention': 'ресторане', 'start': '112', 'end': '121', 'sentiment': 'neutral'}, {'category': 'Interior', 'mention': 'интерьер', 'start': '261', 'end': '269', 'sentiment': 'positive'}, {'category': 'Interior', 'mention': 'красивая', 'start': '273', 'end': '281', 'sentiment': 'positive'}, {'category': 'Interior', 'mention': 'сервировка', 'start': '282', 'end': '292', 'sentiment': 'positive'}, {'category': 'Food', 'mention': 'кухня', 'start': '316', 'end': '321', 'sentiment': 'positive'}, {'category': 'Interior', 'mention': 'оформлением', 'start': '343', 'end': '354', 'sentiment': 'positive'}, {'category': 'Service', 'mention': 'люди', 'start': '378', 'end': '382', 'sentiment': 'positive'}, {'category': 'Service', 'mention': 'администратор', 'start': '490', 'end': '503', 'sentiment': 'positive'}, {'category': 'Service', 'mention': 'девочку-официанта', 'start': '624', 'end': '641', 'sentiment': 'positive'}, {'category': 'Service', 'mention': 'обслуживанию', 'start': '663', 'end': '675', 'sentiment': 'positive'}, {'category': 'Food', 'mention': 'блюда', 'start': '785', 'end': '790', 'sentiment': 'neutral'}, {'category': 'Food', 'mention': 'напитки', 'start': '792', 'end': '799', 'sentiment': 'neutral'}, {'category': 'Service', 'mention': 'отношение', 'start': '901', 'end': '910', 'sentiment': 'positive'}, {'category': 'Whole', 'mention': 'вечер', 'start': '1026', 'end': '1031', 'sentiment': 'positive'}, {'category': 'Whole', 'mention': 'праздника', 'start': '1072', 'end': '1081', 'sentiment': 'positive'}], '4658': [{'category': 'Whole', 'mention': 'Двух палочках', 'start': '10', 'end': '23', 'sentiment': 'positive'}, {'category': 'Interior', 'mention': 'Интерьер', 'start': '116', 'end': '124', 'sentiment': 'positive'}, {'category': 'Food', 'mention': 'Еда', 'start': '152', 'end': '155', 'sentiment': 'positive'}, {'category': 'Service', 'mention': 'обслуживание', 'start': '158', 'end': '170', 'sentiment': 'positive'}, {'category': 'Price', 'mention': 'цены', 'start': '210', 'end': '214', 'sentiment': 'positive'}, {'category': 'Whole', 'mention': 'ресторан', 'start': '225', 'end': '233', 'sentiment': 'positive'}, {'category': 'Service', 'mention': 'официантам', 'start': '285', 'end': '295', 'sentiment': 'positive'}, {'category': 'Whole', 'mention': 'Две палочки', 'start': '365', 'end': '376', 'sentiment': 'positive'}], '12372': [{'category': 'Interior', 'mention': 'интерьер', 'start': '48', 'end': '56', 'sentiment': 'neutral'}, {'category': 'Interior', 'mention': 'столы', 'start': '113', 'end': '118', 'sentiment': 'positive'}, {'category': 'Food', 'mention': 'кухня', 'start': '140', 'end': '145', 'sentiment': 'positive'}, {'category': 'Food', 'mention': 'шашлык из куриной грудки', 'start': '206', 'end': '230', 'sentiment': 'positive'}, {'category': 'Food', 'mention': 'супы', 'start': '281', 'end': '285', 'sentiment': 'positive'}, {'category': 'Interior', 'mention': 'живая музыка', 'start': '336', 'end': '348', 'sentiment': 'negative'}, {'category': 'Whole', 'mention': 'ресторана', 'start': '473', 'end': '482', 'sentiment': 'positive'}, {'category': 'Price', 'mention': 'цена', 'start': '487', 'end': '491', 'sentiment': 'neutral'}, {'category': 'Price', 'mention': 'цены', 'start': '567', 'end': '571', 'sentiment': 'positive'}], '34334': [{'category': 'Interior', 'mention': 'зал', 'start': '145', 'end': '148', 'sentiment': 'positive'}, {'category': 'Service', 'mention': 'официанты', 'start': '159', 'end': '168', 'sentiment': 'positive'}, {'category': 'Food', 'mention': 'еда', 'start': '178', 'end': '181', 'sentiment': 'positive'}, {'category': 'Service', 'mention': 'персонала', 'start': '226', 'end': '235', 'sentiment': 'positive'}, {'category': 'Whole', 'mention': 'ресторан', 'start': '277', 'end': '285', 'sentiment': 'positive'}, {'category': 'Food', 'mention': 'меню', 'start': '298', 'end': '302', 'sentiment': 'positive'}, {'category': 'Interior', 'mention': 'зал', 'start': '314', 'end': '317', 'sentiment': 'positive'}, {'category': 'Whole', 'mention': 'ресторанах', 'start': '358', 'end': '368', 'sentiment': 'negative'}, {'category': 'Interior', 'mention': 'стены', 'start': '417', 'end': '422', 'sentiment': 'negative'}, {'category': 'Price', 'mention': 'цены', 'start': '489', 'end': '493', 'sentiment': 'positive'}, {'category': 'Food', 'mention': 'торт', 'start': '502', 'end': '506', 'sentiment': 'positive'}, {'category': 'Food', 'mention': 'торт', 'start': '594', 'end': '598', 'sentiment': 'negative'}, {'category': 'Service', 'mention': 'Официанты', 'start': '621', 'end': '630', 'sentiment': 'positive'}, {'category': 'Service', 'mention': 'подходили', 'start': '670', 'end': '679', 'sentiment': 'positive'}, {'category': 'Service', 'mention': 'спрашивали', 'start': '680', 'end': '690', 'sentiment': 'positive'}, {'category': 'Service', 'mention': 'Персонал', 'start': '847', 'end': '855', 'sentiment': 'positive'}, {'category': 'Whole', 'mention': 'ресторанах', 'start': '926', 'end': '936', 'sentiment': 'negative'}, {'category': 'Service', 'mention': 'помогла', 'start': '1000', 'end': '1007', 'sentiment': 'positive'}, {'category': 'Food', 'mention': 'меню', 'start': '1010', 'end': '1014', 'sentiment': 'positive'}, {'category': 'Food', 'mention': 'тортом', 'start': '1027', 'end': '1033', 'sentiment': 'positive'}, {'category': 'Whole', 'mention': 'место', 'start': '1218', 'end': '1223', 'sentiment': 'positive'}], '3749': [{'category': 'Food', 'mention': 'кухня', 'start': '9', 'end': '14', 'sentiment': 'positive'}, {'category': 'Whole', 'mention': 'место', 'start': '28', 'end': '33', 'sentiment': 'neutral'}, {'category': 'Whole', 'mention': 'место', 'start': '138', 'end': '143', 'sentiment': 'positive'}, {'category': 'Interior', 'mention': 'интерьер', 'start': '181', 'end': '189', 'sentiment': 'positive'}, {'category': 'Service', 'mention': 'владелец', 'start': '226', 'end': '234', 'sentiment': 'positive'}, {'category': 'Service', 'mention': 'человек', 'start': '286', 'end': '293', 'sentiment': 'positive'}, {'category': 'Whole', 'mention': 'Ресторан', 'start': '295', 'end': '303', 'sentiment': 'neutral'}, {'category': 'Price', 'mention': 'ценник', 'start': '336', 'end': '342', 'sentiment': 'both'}, {'category': 'Food', 'mention': 'алкоголь', 'start': '486', 'end': '494', 'sentiment': 'neutral'}, {'category': 'Whole', 'mention': 'расположились', 'start': '589', 'end': '602', 'sentiment': 'positive'}, {'category': 'Interior', 'mention': 'кальянном зале', 'start': '605', 'end': '619', 'sentiment': 'positive'}, {'category': 'Interior', 'mention': 'Атмосфера', 'start': '621', 'end': '630', 'sentiment': 'positive'}, {'category': 'Interior', 'mention': 'кальянный зал', 'start': '787', 'end': '800', 'sentiment': 'positive'}, {'category': 'Service', 'mention': 'собеседник', 'start': '1016', 'end': '1026', 'sentiment': 'positive'}, {'category': 'Food', 'mention': 'кухни', 'start': '1149', 'end': '1154', 'sentiment': 'positive'}, {'category': 'Interior', 'mention': 'атмосферу', 'start': '1175', 'end': '1184', 'sentiment': 'positive'}, {'category': 'Whole', 'mention': 'прием', 'start': '1239', 'end': '1244', 'sentiment': 'positive'}], '30201': [{'category': 'Whole', 'mention': 'заведение', 'start': '26', 'end': '35', 'sentiment': 'positive'}, {'category': 'Price', 'mention': 'карта со скидкой', 'start': '99', 'end': '115', 'sentiment': 'positive'}, {'category': 'Food', 'mention': 'Кухня', 'start': '121', 'end': '126', 'sentiment': 'positive'}, {'category': 'Service', 'mention': 'сервис', 'start': '167', 'end': '173', 'sentiment': 'negative'}, {'category': 'Service', 'mention': 'обслуживание', 'start': '176', 'end': '188', 'sentiment': 'negative'}, {'category': 'Service', 'mention': 'Официантки', 'start': '247', 'end': '257', 'sentiment': 'negative'}, {'category': 'Service', 'mention': 'ждать', 'start': '339', 'end': '344', 'sentiment': 'negative'}, {'category': 'Food', 'mention': 'Пиво', 'start': '404', 'end': '408', 'sentiment': 'negative'}, {'category': 'Whole', 'mention': 'суши-бары', 'start': '503', 'end': '512', 'sentiment': 'positive'}, {'category': 'Whole', 'mention': 'васаби', 'start': '525', 'end': '531', 'sentiment': 'negative'}], '2364': [{'category': 'Whole', 'mention': 'ресторане \"Долина\"', 'start': '46', 'end': '64', 'sentiment': 'neutral'}, {'category': 'Whole', 'mention': 'Вечер', 'start': '66', 'end': '71', 'sentiment': 'positive'}, {'category': 'Interior', 'mention': 'красиво', 'start': '97', 'end': '104', 'sentiment': 'positive'}, {'category': 'Interior', 'mention': 'оформлены', 'start': '107', 'end': '116', 'sentiment': 'positive'}, {'category': 'Interior', 'mention': 'столы', 'start': '117', 'end': '122', 'sentiment': 'positive'}, {'category': 'Food', 'mention': 'кухня', 'start': '131', 'end': '136', 'sentiment': 'positive'}, {'category': 'Interior', 'mention': 'интерьер', 'start': '148', 'end': '156', 'sentiment': 'positive'}, {'category': 'Interior', 'mention': 'Атмосфера', 'start': '196', 'end': '205', 'sentiment': 'positive'}, {'category': 'Service', 'mention': 'обслуживание', 'start': '246', 'end': '258', 'sentiment': 'positive'}, {'category': 'Service', 'mention': 'официантов', 'start': '259', 'end': '269', 'sentiment': 'positive'}, {'category': 'Whole', 'mention': 'вечер', 'start': '484', 'end': '489', 'sentiment': 'positive'}, {'category': 'Whole', 'mention': 'Заведение', 'start': '491', 'end': '500', 'sentiment': 'positive'}], '3762': [{'category': 'Food', 'mention': 'пиво', 'start': '156', 'end': '160', 'sentiment': 'neutral'}, {'category': 'Food', 'mention': 'шницель', 'start': '181', 'end': '188', 'sentiment': 'positive'}, {'category': 'Food', 'mention': 'мороженое', 'start': '347', 'end': '356', 'sentiment': 'positive'}, {'category': 'Food', 'mention': 'настойку', 'start': '369', 'end': '377', 'sentiment': 'positive'}, {'category': 'Food', 'mention': 'Мороженое', 'start': '467', 'end': '476', 'sentiment': 'positive'}, {'category': 'Whole', 'mention': 'заведение', 'start': '532', 'end': '541', 'sentiment': 'positive'}, {'category': 'Interior', 'mention': 'зале для курящих', 'start': '667', 'end': '683', 'sentiment': 'neutral'}, {'category': 'Service', 'mention': 'официантов', 'start': '738', 'end': '748', 'sentiment': 'negative'}, {'category': 'Service', 'mention': 'девушки', 'start': '756', 'end': '763', 'sentiment': 'negative'}], '15758': [{'category': 'Whole', 'mention': 'заведении', 'start': '6', 'end': '15', 'sentiment': 'neutral'}, {'category': 'Whole', 'mention': 'Ресторану', 'start': '60', 'end': '69', 'sentiment': 'both'}, {'category': 'Whole', 'mention': 'место', 'start': '131', 'end': '136', 'sentiment': 'positive'}, {'category': 'Service', 'mention': 'обслуживание', 'start': '153', 'end': '165', 'sentiment': 'positive'}, {'category': 'Food', 'mention': 'еда', 'start': '177', 'end': '180', 'sentiment': 'positive'}, {'category': 'Food', 'mention': 'салаты', 'start': '209', 'end': '215', 'sentiment': 'positive'}, {'category': 'Food', 'mention': 'горячее', 'start': '218', 'end': '225', 'sentiment': 'positive'}, {'category': 'Food', 'mention': 'стейк из лосося', 'start': '226', 'end': '241', 'sentiment': 'positive'}, {'category': 'Food', 'mention': '\"сытая хавронья\" из свинины', 'start': '264', 'end': '291', 'sentiment': 'positive'}, {'category': 'Service', 'mention': 'Принесли', 'start': '294', 'end': '302', 'sentiment': 'positive'}, {'category': 'Food', 'mention': 'алкоголя', 'start': '320', 'end': '328', 'sentiment': 'negative'}, {'category': 'Food', 'mention': 'пива', 'start': '336', 'end': '340', 'sentiment': 'positive'}, {'category': 'Food', 'mention': 'медовуха', 'start': '389', 'end': '397', 'sentiment': 'positive'}, {'category': 'Food', 'mention': 'разнообразия в меню', 'start': '460', 'end': '479', 'sentiment': 'positive'}], '30368': [{'category': 'Whole', 'mention': 'пабе \"Джон Донн\"', 'start': '93', 'end': '109', 'sentiment': 'neutral'}, {'category': 'Service', 'mention': 'сотрудники', 'start': '176', 'end': '186', 'sentiment': 'positive'}, {'category': 'Service', 'mention': 'здороваются', 'start': '200', 'end': '211', 'sentiment': 'positive'}, {'category': 'Service', 'mention': 'девушка официантка', 'start': '224', 'end': '242', 'sentiment': 'positive'}, {'category': 'Service', 'mention': 'предложила', 'start': '243', 'end': '253', 'sentiment': 'positive'}, {'category': 'Food', 'mention': 'выбор пива', 'start': '359', 'end': '369', 'sentiment': 'positive'}, {'category': 'Food', 'mention': 'Перепробовали', 'start': '557', 'end': '570', 'sentiment': 'positive'}, {'category': 'Food', 'mention': 'пиво', 'start': '607', 'end': '611', 'sentiment': 'positive'}, {'category': 'Food', 'mention': 'Кухня', 'start': '622', 'end': '627', 'sentiment': 'positive'}, {'category': 'Food', 'mention': 'пивная тарелка', 'start': '648', 'end': '662', 'sentiment': 'positive'}, {'category': 'Food', 'mention': 'закуски', 'start': '721', 'end': '728', 'sentiment': 'positive'}, {'category': 'Food', 'mention': 'горячих блюд', 'start': '781', 'end': '793', 'sentiment': 'positive'}, {'category': 'Food', 'mention': 'Фиш & Чипс', 'start': '812', 'end': '822', 'sentiment': 'positive'}, {'category': 'Food', 'mention': 'Стрейк Нью-Йорк', 'start': '824', 'end': '839', 'sentiment': 'positive'}, {'category': 'Food', 'mention': 'десерт', 'start': '903', 'end': '909', 'sentiment': 'neutral'}, {'category': 'Food', 'mention': 'сорбете', 'start': '937', 'end': '944', 'sentiment': 'neutral'}, {'category': 'Interior', 'mention': 'Интерьер', 'start': '1058', 'end': '1066', 'sentiment': 'positive'}, {'category': 'Whole', 'mention': 'паба', 'start': '1102', 'end': '1106', 'sentiment': 'positive'}, {'category': 'Interior', 'mention': 'обстановка', 'start': '1179', 'end': '1189', 'sentiment': 'positive'}], '7053': [{'category': 'Whole', 'mention': '\"Базилик\"', 'start': '8', 'end': '17', 'sentiment': 'neutral'}, {'category': 'Whole', 'mention': 'кафе', 'start': '78', 'end': '82', 'sentiment': 'neutral'}, {'category': 'Interior', 'mention': 'интерьер', 'start': '176', 'end': '184', 'sentiment': 'positive'}, {'category': 'Interior', 'mention': 'музыка', 'start': '186', 'end': '192', 'sentiment': 'positive'}, {'category': 'Food', 'mention': 'еда', 'start': '207', 'end': '210', 'sentiment': 'positive'}, {'category': 'Food', 'mention': 'лимонад \"Базилик\"', 'start': '245', 'end': '262', 'sentiment': 'positive'}, {'category': 'Whole', 'mention': 'кафе', 'start': '307', 'end': '311', 'sentiment': 'positive'}, {'category': 'Service', 'mention': 'Обслуживание', 'start': '386', 'end': '398', 'sentiment': 'positive'}, {'category': 'Service', 'mention': 'официанты', 'start': '430', 'end': '439', 'sentiment': 'positive'}, {'category': 'Whole', 'mention': 'место', 'start': '460', 'end': '465', 'sentiment': 'positive'}, {'category': 'Price', 'mention': 'цене', 'start': '490', 'end': '494', 'sentiment': 'positive'}], '2747': [{'category': 'Whole', 'mention': '\"Восточный Экспресс\"', 'start': '140', 'end': '160', 'sentiment': 'positive'}, {'category': 'Whole', 'mention': 'место', 'start': '172', 'end': '177', 'sentiment': 'positive'}, {'category': 'Interior', 'mention': 'обстановке', 'start': '216', 'end': '226', 'sentiment': 'positive'}, {'category': 'Interior', 'mention': 'зале для курящих', 'start': '270', 'end': '286', 'sentiment': 'positive'}, {'category': 'Interior', 'mention': 'диванчики-купе', 'start': '311', 'end': '325', 'sentiment': 'positive'}, {'category': 'Interior', 'mention': 'вентиляция', 'start': '335', 'end': '345', 'sentiment': 'positive'}, {'category': 'Food', 'mention': 'Кухня', 'start': '363', 'end': '368', 'sentiment': 'positive'}, {'category': 'Service', 'mention': 'обслуживание', 'start': '371', 'end': '383', 'sentiment': 'positive'}, {'category': 'Service', 'mention': 'сотрудникам ресторана', 'start': '448', 'end': '469', 'sentiment': 'positive'}, {'category': 'Food', 'mention': 'салат \"Кавказский\"', 'start': '558', 'end': '576', 'sentiment': 'positive'}, {'category': 'Food', 'mention': 'грейпфрута', 'start': '611', 'end': '621', 'sentiment': 'positive'}, {'category': 'Food', 'mention': 'Салат с малосольным лососем', 'start': '623', 'end': '650', 'sentiment': 'positive'}, {'category': 'Food', 'mention': 'Дораду с овощами', 'start': '685', 'end': '701', 'sentiment': 'positive'}, {'category': 'Food', 'mention': 'овощной гарнир', 'start': '730', 'end': '744', 'sentiment': 'positive'}, {'category': 'Food', 'mention': 'Форель, запеченная с овощами', 'start': '746', 'end': '774', 'sentiment': 'positive'}, {'category': 'Food', 'mention': 'соусом из петрушки', 'start': '777', 'end': '795', 'sentiment': 'positive'}, {'category': 'Food', 'mention': 'оформленное', 'start': '824', 'end': '835', 'sentiment': 'positive'}, {'category': 'Food', 'mention': 'блюдо', 'start': '836', 'end': '841', 'sentiment': 'positive'}, {'category': 'Food', 'mention': 'чебуреки', 'start': '866', 'end': '874', 'sentiment': 'neutral'}, {'category': 'Food', 'mention': 'чебурека', 'start': '919', 'end': '927', 'sentiment': 'neutral'}, {'category': 'Food', 'mention': 'соус тар-тар', 'start': '929', 'end': '941', 'sentiment': 'positive'}, {'category': 'Food', 'mention': 'тесто', 'start': '963', 'end': '968', 'sentiment': 'positive'}, {'category': 'Food', 'mention': 'мясо', 'start': '977', 'end': '981', 'sentiment': 'positive'}, {'category': 'Food', 'mention': 'Морс - из натуральной клюквы', 'start': '995', 'end': '1023', 'sentiment': 'positive'}, {'category': 'Food', 'mention': 'десерт', 'start': '1042', 'end': '1048', 'sentiment': 'positive'}, {'category': 'Food', 'mention': 'вишневый штрудель', 'start': '1057', 'end': '1074', 'sentiment': 'positive'}, {'category': 'Food', 'mention': 'вишни', 'start': '1082', 'end': '1087', 'sentiment': 'positive'}, {'category': 'Food', 'mention': 'мороженого', 'start': '1098', 'end': '1108', 'sentiment': 'positive'}, {'category': 'Food', 'mention': 'яблочный пирог', 'start': '1119', 'end': '1133', 'sentiment': 'positive'}, {'category': 'Food', 'mention': 'клубнчный десерт', 'start': '1153', 'end': '1169', 'sentiment': 'positive'}, {'category': 'Food', 'mention': 'панакота с клубничным пюре', 'start': '1181', 'end': '1207', 'sentiment': 'positive'}, {'category': 'Whole', 'mention': 'провели время', 'start': '1247', 'end': '1260', 'sentiment': 'positive'}, {'category': 'Food', 'mention': 'поели', 'start': '1270', 'end': '1275', 'sentiment': 'positive'}, {'category': 'Whole', 'mention': 'ресторане', 'start': '1290', 'end': '1299', 'sentiment': 'positive'}], '25753': [{'category': 'Whole', 'mention': 'ресторане', 'start': '33', 'end': '42', 'sentiment': 'positive'}, {'category': 'Service', 'mention': 'официант', 'start': '142', 'end': '150', 'sentiment': 'positive'}, {'category': 'Service', 'mention': 'обслуживал', 'start': '175', 'end': '185', 'sentiment': 'positive'}, {'category': 'Service', 'mention': 'администратор', 'start': '186', 'end': '199', 'sentiment': 'positive'}, {'category': 'Service', 'mention': 'обслуживание', 'start': '248', 'end': '260', 'sentiment': 'positive'}, {'category': 'Service', 'mention': 'Помогли', 'start': '313', 'end': '320', 'sentiment': 'positive'}, {'category': 'Service', 'mention': 'накрыли стол', 'start': '332', 'end': '344', 'sentiment': 'positive'}, {'category': 'Food', 'mention': 'холодными закусками', 'start': '347', 'end': '366', 'sentiment': 'neutral'}, {'category': 'Food', 'mention': 'Еда', 'start': '368', 'end': '371', 'sentiment': 'positive'}, {'category': 'Food', 'mention': 'Шашлык', 'start': '387', 'end': '393', 'sentiment': 'positive'}, {'category': 'Interior', 'mention': 'Обстановка', 'start': '419', 'end': '429', 'sentiment': 'positive'}, {'category': 'Interior', 'mention': 'интерьер', 'start': '431', 'end': '439', 'sentiment': 'positive'}, {'category': 'Price', 'mention': 'Соотношение цена/качество', 'start': '454', 'end': '479', 'sentiment': 'positive'}], '24132': [{'category': 'Whole', 'mention': 'провели вечер', 'start': '24', 'end': '37', 'sentiment': 'positive'}, {'category': 'Whole', 'mention': '\"Кухне\"', 'start': '40', 'end': '47', 'sentiment': 'positive'}, {'category': 'Interior', 'mention': 'интерьер', 'start': '66', 'end': '74', 'sentiment': 'positive'}, {'category': 'Interior', 'mention': 'атмосфера', 'start': '144', 'end': '153', 'sentiment': 'positive'}, {'category': 'Whole', 'mention': 'Кухне', 'start': '165', 'end': '170', 'sentiment': 'positive'}, {'category': 'Service', 'mention': 'обслуживание', 'start': '193', 'end': '205', 'sentiment': 'positive'}, {'category': 'Service', 'mention': 'официантке', 'start': '212', 'end': '222', 'sentiment': 'positive'}, {'category': 'Service', 'mention': 'знала меню', 'start': '262', 'end': '272', 'sentiment': 'positive'}, {'category': 'Food', 'mention': 'съели', 'start': '342', 'end': '347', 'sentiment': 'positive'}, {'category': 'Food', 'mention': 'Салат Пампелон', 'start': '374', 'end': '388', 'sentiment': 'positive'}, {'category': 'Food', 'mention': 'шпинат с голубым сыром под фантастической заправкой', 'start': '408', 'end': '459', 'sentiment': 'positive'}, {'category': 'Food', 'mention': 'крем супы из чечевицы и лисичек', 'start': '517', 'end': '548', 'sentiment': 'positive'}, {'category': 'Food', 'mention': 'наелась', 'start': '588', 'end': '595', 'sentiment': 'positive'}, {'category': 'Food', 'mention': 'салатом', 'start': '596', 'end': '603', 'sentiment': 'positive'}, {'category': 'Food', 'mention': 'супом', 'start': '606', 'end': '611', 'sentiment': 'positive'}, {'category': 'Food', 'mention': 'десерт', 'start': '660', 'end': '666', 'sentiment': 'positive'}, {'category': 'Whole', 'mention': 'провести время', 'start': '813', 'end': '827', 'sentiment': 'positive'}, {'category': 'Interior', 'mention': 'атмосфере', 'start': '865', 'end': '874', 'sentiment': 'positive'}, {'category': 'Food', 'mention': 'поесть', 'start': '893', 'end': '899', 'sentiment': 'positive'}, {'category': 'Whole', 'mention': 'Кухня', 'start': '904', 'end': '909', 'sentiment': 'positive'}], '36166': [{'category': 'Whole', 'mention': 'ресторан', 'start': '51', 'end': '59', 'sentiment': 'positive'}, {'category': 'Whole', 'mention': 'ресторан', 'start': '144', 'end': '152', 'sentiment': 'positive'}, {'category': 'Food', 'mention': 'Маргарита', 'start': '197', 'end': '206', 'sentiment': 'positive'}, {'category': 'Food', 'mention': 'еда', 'start': '216', 'end': '219', 'sentiment': 'positive'}, {'category': 'Interior', 'mention': 'музыка', 'start': '231', 'end': '237', 'sentiment': 'positive'}, {'category': 'Food', 'mention': 'мексиканкой едой', 'start': '352', 'end': '368', 'sentiment': 'positive'}, {'category': 'Interior', 'mention': 'атмосферой', 'start': '370', 'end': '380', 'sentiment': 'positive'}, {'category': 'Whole', 'mention': 'провести вечер', 'start': '391', 'end': '405', 'sentiment': 'positive'}, {'category': 'Service', 'mention': 'работает', 'start': '443', 'end': '451', 'sentiment': 'positive'}, {'category': 'Whole', 'mention': 'заведений', 'start': '485', 'end': '494', 'sentiment': 'negative'}, {'category': 'Whole', 'mention': 'место', 'start': '505', 'end': '510', 'sentiment': 'positive'}], '32513': [{'category': 'Food', 'mention': 'Кухня', 'start': '0', 'end': '5', 'sentiment': 'positive'}, {'category': 'Interior', 'mention': 'Интерьер', 'start': '37', 'end': '45', 'sentiment': 'positive'}, {'category': 'Service', 'mention': 'Сервис', 'start': '74', 'end': '80', 'sentiment': 'both'}, {'category': 'Service', 'mention': 'Заказали столик', 'start': '86', 'end': '101', 'sentiment': 'neutral'}, {'category': 'Whole', 'mention': 'вечер', 'start': '146', 'end': '151', 'sentiment': 'positive'}, {'category': 'Whole', 'mention': 'Манго', 'start': '184', 'end': '189', 'sentiment': 'positive'}, {'category': 'Interior', 'mention': 'стол', 'start': '238', 'end': '242', 'sentiment': 'positive'}, {'category': 'Interior', 'mention': 'диванчиком', 'start': '266', 'end': '276', 'sentiment': 'positive'}, {'category': 'Service', 'mention': 'сотрудники', 'start': '308', 'end': '318', 'sentiment': 'negative'}, {'category': 'Service', 'mention': 'Управляющего', 'start': '355', 'end': '367', 'sentiment': 'negative'}, {'category': 'Interior', 'mention': 'Столики', 'start': '382', 'end': '389', 'sentiment': 'negative'}, {'category': 'Service', 'mention': 'предложили сесть', 'start': '457', 'end': '473', 'sentiment': 'positive'}, {'category': 'Service', 'mention': 'пересесть', 'start': '490', 'end': '499', 'sentiment': 'positive'}, {'category': 'Whole', 'mention': 'вечер', 'start': '555', 'end': '560', 'sentiment': 'positive'}, {'category': 'Food', 'mention': 'поесть', 'start': '595', 'end': '601', 'sentiment': 'positive'}, {'category': 'Food', 'mention': 'попить', 'start': '604', 'end': '610', 'sentiment': 'positive'}, {'category': 'Service', 'mention': 'Приносили', 'start': '621', 'end': '630', 'sentiment': 'positive'}, {'category': 'Price', 'mention': 'скидку', 'start': '656', 'end': '662', 'sentiment': 'positive'}, {'category': 'Food', 'mention': 'кувшинчик с лимонадом', 'start': '693', 'end': '714', 'sentiment': 'positive'}, {'category': 'Service', 'mention': 'Девочки-официантки', 'start': '805', 'end': '823', 'sentiment': 'positive'}, {'category': 'Service', 'mention': 'сервис', 'start': '851', 'end': '857', 'sentiment': 'both'}, {'category': 'Service', 'mention': 'сотрудники', 'start': '908', 'end': '918', 'sentiment': 'negative'}, {'category': 'Service', 'mention': 'управляющий', 'start': '957', 'end': '968', 'sentiment': 'negative'}], '28710': [{'category': 'Whole', 'mention': 'место', 'start': '9', 'end': '14', 'sentiment': 'positive'}, {'category': 'Whole', 'mention': 'Legran', 'start': '171', 'end': '177', 'sentiment': 'positive'}, {'category': 'Whole', 'mention': 'вечер', 'start': '271', 'end': '276', 'sentiment': 'positive'}, {'category': 'Food', 'mention': 'шеф-повару', 'start': '286', 'end': '296', 'sentiment': 'positive'}, {'category': 'Interior', 'mention': 'Интерьер', 'start': '341', 'end': '349', 'sentiment': 'positive'}, {'category': 'Interior', 'mention': 'елочка', 'start': '415', 'end': '421', 'sentiment': 'positive'}, {'category': 'Interior', 'mention': 'фонарики', 'start': '428', 'end': '436', 'sentiment': 'positive'}, {'category': 'Interior', 'mention': 'диваны', 'start': '490', 'end': '496', 'sentiment': 'positive'}, {'category': 'Interior', 'mention': 'свечи', 'start': '497', 'end': '502', 'sentiment': 'positive'}, {'category': 'Interior', 'mention': 'рояль', 'start': '510', 'end': '515', 'sentiment': 'positive'}, {'category': 'Interior', 'mention': 'живая музыка', 'start': '583', 'end': '595', 'sentiment': 'positive'}, {'category': 'Interior', 'mention': 'пианистка', 'start': '597', 'end': '606', 'sentiment': 'positive'}, {'category': 'Interior', 'mention': 'роялем', 'start': '623', 'end': '629', 'sentiment': 'positive'}, {'category': 'Service', 'mention': 'Персонал', 'start': '648', 'end': '656', 'sentiment': 'positive'}, {'category': 'Service', 'mention': 'встретила', 'start': '704', 'end': '713', 'sentiment': 'positive'}, {'category': 'Service', 'mention': 'хостесс', 'start': '726', 'end': '733', 'sentiment': 'positive'}, {'category': 'Whole', 'mention': 'впечатление', 'start': '744', 'end': '755', 'sentiment': 'positive'}, {'category': 'Service', 'mention': 'Официанты', 'start': '810', 'end': '819', 'sentiment': 'positive'}, {'category': 'Whole', 'mention': 'ресторан', 'start': '936', 'end': '944', 'sentiment': 'positive'}], '16761': [{'category': 'Service', 'mention': 'обслуживанием', 'start': '36', 'end': '49', 'sentiment': 'positive'}, {'category': 'Food', 'mention': 'кухней', 'start': '52', 'end': '58', 'sentiment': 'positive'}, {'category': 'Whole', 'mention': 'паб', 'start': '76', 'end': '79', 'sentiment': 'negative'}, {'category': 'Service', 'mention': 'Официанты', 'start': '142', 'end': '151', 'sentiment': 'negative'}, {'category': 'Service', 'mention': 'работают', 'start': '152', 'end': '160', 'sentiment': 'negative'}, {'category': 'Service', 'mention': 'ждать', 'start': '200', 'end': '205', 'sentiment': 'negative'}, {'category': 'Food', 'mention': 'еды', 'start': '227', 'end': '230', 'sentiment': 'negative'}, {'category': 'Whole', 'mention': '\"билл-хук\"', 'start': '362', 'end': '372', 'sentiment': 'neutral'}, {'category': 'Interior', 'mention': 'Интерьер', 'start': '437', 'end': '445', 'sentiment': 'positive'}, {'category': 'Interior', 'mention': 'диваны', 'start': '483', 'end': '489', 'sentiment': 'positive'}, {'category': 'Interior', 'mention': 'камин', 'start': '491', 'end': '496', 'sentiment': 'positive'}, {'category': 'Service', 'mention': 'обслуживал', 'start': '521', 'end': '531', 'sentiment': 'positive'}, {'category': 'Service', 'mention': 'молодой человек', 'start': '532', 'end': '547', 'sentiment': 'positive'}, {'category': 'Service', 'mention': 'обслуживал', 'start': '569', 'end': '579', 'sentiment': 'positive'}, {'category': 'Whole', 'mention': 'заведение', 'start': '778', 'end': '787', 'sentiment': 'positive'}], '36321': [{'category': 'Interior', 'mention': 'Обстановка', 'start': '57', 'end': '67', 'sentiment': 'positive'}, {'category': 'Interior', 'mention': 'помещение', 'start': '130', 'end': '139', 'sentiment': 'positive'}, {'category': 'Interior', 'mention': 'Интерьер', 'start': '263', 'end': '271', 'sentiment': 'positive'}, {'category': 'Interior', 'mention': 'живописью', 'start': '325', 'end': '334', 'sentiment': 'positive'}, {'category': 'Food', 'mention': 'Кухня', 'start': '361', 'end': '366', 'sentiment': 'positive'}, {'category': 'Food', 'mention': 'разнообразием', 'start': '417', 'end': '430', 'sentiment': 'positive'}, {'category': 'Food', 'mention': 'вкусом', 'start': '432', 'end': '438', 'sentiment': 'positive'}, {'category': 'Food', 'mention': 'количеством', 'start': '441', 'end': '452', 'sentiment': 'positive'}, {'category': 'Food', 'mention': 'шеф-повар', 'start': '551', 'end': '560', 'sentiment': 'positive'}, {'category': 'Food', 'mention': 'выпекает', 'start': '561', 'end': '569', 'sentiment': 'positive'}, {'category': 'Food', 'mention': 'торты', 'start': '584', 'end': '589', 'sentiment': 'positive'}, {'category': 'Food', 'mention': 'выбора горячего', 'start': '668', 'end': '683', 'sentiment': 'negative'}, {'category': 'Food', 'mention': 'красная рыба', 'start': '685', 'end': '697', 'sentiment': 'neutral'}, {'category': 'Food', 'mention': 'говядина', 'start': '702', 'end': '710', 'sentiment': 'neutral'}, {'category': 'Food', 'mention': 'порции', 'start': '728', 'end': '734', 'sentiment': 'positive'}, {'category': 'Food', 'mention': 'вкуса', 'start': '750', 'end': '755', 'sentiment': 'positive'}, {'category': 'Service', 'mention': 'обслуживали', 'start': '801', 'end': '812', 'sentiment': 'positive'}, {'category': 'Service', 'mention': 'официанта', 'start': '817', 'end': '826', 'sentiment': 'positive'}, {'category': 'Service', 'mention': 'Обслуживание', 'start': '828', 'end': '840', 'sentiment': 'positive'}, {'category': 'Service', 'mention': 'упакованы', 'start': '909', 'end': '918', 'sentiment': 'positive'}, {'category': 'Service', 'mention': 'отданы', 'start': '921', 'end': '927', 'sentiment': 'positive'}, {'category': 'Interior', 'mention': 'место для танцев', 'start': '975', 'end': '991', 'sentiment': 'positive'}, {'category': 'Service', 'mention': 'Официанты', 'start': '993', 'end': '1002', 'sentiment': 'positive'}, {'category': 'Service', 'mention': 'разрешают', 'start': '1011', 'end': '1020', 'sentiment': 'positive'}, {'category': 'Interior', 'mention': 'музыку', 'start': '1037', 'end': '1043', 'sentiment': 'positive'}, {'category': 'Whole', 'mention': 'место', 'start': '1066', 'end': '1071', 'sentiment': 'positive'}], '33598': [{'category': 'Whole', 'mention': 'Палкине', 'start': '43', 'end': '50', 'sentiment': 'neutral'}, {'category': 'Service', 'mention': 'предварительной резервации', 'start': '56', 'end': '82', 'sentiment': 'neutral'}, {'category': 'Interior', 'mention': 'свободный столик', 'start': '104', 'end': '120', 'sentiment': 'positive'}, {'category': 'Whole', 'mention': 'ресторан', 'start': '153', 'end': '161', 'sentiment': 'neutral'}, {'category': 'Interior', 'mention': 'свободные столики', 'start': '163', 'end': '180', 'sentiment': 'both'}, {'category': 'Service', 'mention': 'Встретили', 'start': '204', 'end': '213', 'sentiment': 'positive'}, {'category': 'Service', 'mention': 'Помогли', 'start': '263', 'end': '270', 'sentiment': 'positive'}, {'category': 'Service', 'mention': 'Предложили', 'start': '286', 'end': '296', 'sentiment': 'positive'}, {'category': 'Food', 'mention': 'хлеб', 'start': '297', 'end': '301', 'sentiment': 'neutral'}, {'category': 'Service', 'mention': 'подходил', 'start': '348', 'end': '356', 'sentiment': 'positive'}, {'category': 'Service', 'mention': 'молодой человек', 'start': '357', 'end': '372', 'sentiment': 'positive'}, {'category': 'Service', 'mention': 'предлагал', 'start': '375', 'end': '384', 'sentiment': 'positive'}, {'category': 'Food', 'mention': 'хлеб', 'start': '385', 'end': '389', 'sentiment': 'positive'}, {'category': 'Food', 'mention': 'масла', 'start': '418', 'end': '423', 'sentiment': 'positive'}, {'category': 'Whole', 'mention': 'Вечер', 'start': '425', 'end': '430', 'sentiment': 'positive'}, {'category': 'Whole', 'mention': 'ресторане Палкин', 'start': '433', 'end': '449', 'sentiment': 'positive'}, {'category': 'Interior', 'mention': 'обстановке', 'start': '470', 'end': '480', 'sentiment': 'positive'}, {'category': 'Service', 'mention': 'персоналом', 'start': '516', 'end': '526', 'sentiment': 'positive'}, {'category': 'Service', 'mention': 'Обслуживали', 'start': '528', 'end': '539', 'sentiment': 'positive'}, {'category': 'Food', 'mention': 'Блюда', 'start': '615', 'end': '620', 'sentiment': 'neutral'}, {'category': 'Service', 'mention': 'подавались', 'start': '633', 'end': '643', 'sentiment': 'positive'}, {'category': 'Food', 'mention': 'салаты', 'start': '692', 'end': '698', 'sentiment': 'positive'}, {'category': 'Food', 'mention': 'закуски', 'start': '700', 'end': '707', 'sentiment': 'positive'}, {'category': 'Food', 'mention': 'горячие блюда', 'start': '709', 'end': '722', 'sentiment': 'positive'}, {'category': 'Interior', 'mention': 'шоу', 'start': '758', 'end': '761', 'sentiment': 'positive'}, {'category': 'Food', 'mention': 'приготовлением', 'start': '803', 'end': '817', 'sentiment': 'neutral'}, {'category': 'Food', 'mention': 'десерта', 'start': '830', 'end': '837', 'sentiment': 'positive'}, {'category': 'Service', 'mention': 'персоналу', 'start': '890', 'end': '899', 'sentiment': 'positive'}, {'category': 'Whole', 'mention': 'вечер', 'start': '924', 'end': '929', 'sentiment': 'positive'}], '33912': [{'category': 'Whole', 'mention': 'ресторане \"Оливье\"', 'start': '53', 'end': '71', 'sentiment': 'neutral'}, {'category': 'Interior', 'mention': 'столик', 'start': '382', 'end': '388', 'sentiment': 'positive'}, {'category': 'Service', 'mention': 'встретил', 'start': '399', 'end': '407', 'sentiment': 'positive'}, {'category': 'Service', 'mention': 'официант', 'start': '420', 'end': '428', 'sentiment': 'positive'}, {'category': 'Service', 'mention': 'проводил до столика', 'start': '436', 'end': '455', 'sentiment': 'positive'}, {'category': 'Interior', 'mention': 'интерьер', 'start': '510', 'end': '518', 'sentiment': 'positive'}, {'category': 'Whole', 'mention': 'времяпрепровождению', 'start': '573', 'end': '592', 'sentiment': 'positive'}, {'category': 'Food', 'mention': 'еде', 'start': '621', 'end': '624', 'sentiment': 'positive'}, {'category': 'Food', 'mention': 'приготовлено', 'start': '688', 'end': '700', 'sentiment': 'positive'}, {'category': 'Food', 'mention': 'котлетки из телятины с пюре', 'start': '725', 'end': '752', 'sentiment': 'neutral'}, {'category': 'Food', 'mention': 'хачапури', 'start': '754', 'end': '762', 'sentiment': 'neutral'}, {'category': 'Food', 'mention': 'белого вина', 'start': '776', 'end': '787', 'sentiment': 'positive'}, {'category': 'Food', 'mention': 'Котлетки', 'start': '789', 'end': '797', 'sentiment': 'positive'}, {'category': 'Food', 'mention': 'пюре', 'start': '809', 'end': '813', 'sentiment': 'both'}, {'category': 'Food', 'mention': 'хачапури', 'start': '844', 'end': '852', 'sentiment': 'positive'}, {'category': 'Food', 'mention': 'съели', 'start': '877', 'end': '882', 'sentiment': 'positive'}, {'category': 'Food', 'mention': 'салатик \"Оливье\"', 'start': '984', 'end': '1000', 'sentiment': 'neutral'}], '10825': [{'category': 'Whole', 'mention': 'ресторане', 'start': '47', 'end': '56', 'sentiment': 'neutral'}, {'category': 'Whole', 'mention': 'ресторана', 'start': '95', 'end': '104', 'sentiment': 'positive'}, {'category': 'Interior', 'mention': 'Интерьер', 'start': '126', 'end': '134', 'sentiment': 'positive'}, {'category': 'Service', 'mention': 'встретил', 'start': '167', 'end': '175', 'sentiment': 'positive'}, {'category': 'Service', 'mention': 'молодой человек', 'start': '176', 'end': '191', 'sentiment': 'positive'}, {'category': 'Service', 'mention': 'предложил', 'start': '194', 'end': '203', 'sentiment': 'positive'}, {'category': 'Service', 'mention': 'выбрать', 'start': '204', 'end': '211', 'sentiment': 'positive'}, {'category': 'Interior', 'mention': 'столик', 'start': '230', 'end': '236', 'sentiment': 'positive'}, {'category': 'Service', 'mention': 'предупредил', 'start': '239', 'end': '250', 'sentiment': 'positive'}, {'category': 'Food', 'mention': 'горячее', 'start': '260', 'end': '267', 'sentiment': 'neutral'}, {'category': 'Service', 'mention': 'подождать', 'start': '292', 'end': '301', 'sentiment': 'neutral'}, {'category': 'Service', 'mention': 'предупреждены', 'start': '387', 'end': '400', 'sentiment': 'positive'}, {'category': 'Food', 'mention': 'Качество кухни', 'start': '422', 'end': '436', 'sentiment': 'positive'}, {'category': 'Service', 'mention': 'обслуживание', 'start': '456', 'end': '468', 'sentiment': 'positive'}, {'category': 'Whole', 'mention': 'вечере', 'start': '625', 'end': '631', 'sentiment': 'positive'}], '16151': [{'category': 'Whole', 'mention': 'Ресторан', 'start': '0', 'end': '8', 'sentiment': 'positive'}, {'category': 'Interior', 'mention': 'Интерьер', 'start': '86', 'end': '94', 'sentiment': 'neutral'}, {'category': 'Interior', 'mention': 'столовой', 'start': '186', 'end': '194', 'sentiment': 'negative'}, {'category': 'Interior', 'mention': 'Стулья', 'start': '219', 'end': '225', 'sentiment': 'negative'}, {'category': 'Interior', 'mention': 'столов', 'start': '244', 'end': '250', 'sentiment': 'negative'}, {'category': 'Interior', 'mention': 'второй этаж', 'start': '360', 'end': '371', 'sentiment': 'positive'}, {'category': 'Interior', 'mention': 'Диванчики', 'start': '386', 'end': '395', 'sentiment': 'positive'}, {'category': 'Interior', 'mention': 'свет', 'start': '411', 'end': '415', 'sentiment': 'positive'}, {'category': 'Food', 'mention': 'Меню', 'start': '432', 'end': '436', 'sentiment': 'positive'}, {'category': 'Food', 'mention': 'цезарь с лососем', 'start': '478', 'end': '494', 'sentiment': 'positive'}, {'category': 'Food', 'mention': 'мало соленой рыбой', 'start': '538', 'end': '556', 'sentiment': 'positive'}, {'category': 'Food', 'mention': 'Говядина по-дижонски', 'start': '558', 'end': '578', 'sentiment': 'positive'}, {'category': 'Food', 'mention': 'запеченная', 'start': '609', 'end': '619', 'sentiment': 'positive'}, {'category': 'Food', 'mention': 'сыром', 'start': '624', 'end': '629', 'sentiment': 'positive'}, {'category': 'Food', 'mention': 'помидорами', 'start': '632', 'end': '642', 'sentiment': 'positive'}, {'category': 'Food', 'mention': 'Десерты', 'start': '658', 'end': '665', 'sentiment': 'positive'}, {'category': 'Food', 'mention': 'Фроузен парфе', 'start': '682', 'end': '695', 'sentiment': 'positive'}, {'category': 'Whole', 'mention': 'Обслуживание', 'start': '712', 'end': '724', 'sentiment': 'positive'}, {'category': 'Service', 'mention': 'комплимент', 'start': '819', 'end': '829', 'sentiment': 'positive'}, {'category': 'Price', 'mention': 'Цены', 'start': '847', 'end': '851', 'sentiment': 'negative'}, {'category': 'Whole', 'mention': 'Ресторан', 'start': '872', 'end': '880', 'sentiment': 'positive'}], '8589': [{'category': 'Whole', 'mention': 'ресторане', 'start': '28', 'end': '37', 'sentiment': 'positive'}, {'category': 'Interior', 'mention': 'интерьер', 'start': '78', 'end': '86', 'sentiment': 'positive'}, {'category': 'Food', 'mention': 'кухня', 'start': '175', 'end': '180', 'sentiment': 'both'}, {'category': 'Food', 'mention': 'выбором блюд', 'start': '282', 'end': '294', 'sentiment': 'negative'}, {'category': 'Food', 'mention': 'блюдо', 'start': '486', 'end': '491', 'sentiment': 'positive'}, {'category': 'Food', 'mention': 'салат с рукколой и вялеными помидорами', 'start': '514', 'end': '552', 'sentiment': 'neutral'}, {'category': 'Food', 'mention': 'ризотто со спражей и Горгонзолой', 'start': '555', 'end': '587', 'sentiment': 'neutral'}, {'category': 'Food', 'mention': 'порции', 'start': '597', 'end': '603', 'sentiment': 'positive'}, {'category': 'Price', 'mention': 'цены', 'start': '615', 'end': '619', 'sentiment': 'positive'}, {'category': 'Service', 'mention': 'Обслуживание', 'start': '631', 'end': '643', 'sentiment': 'positive'}, {'category': 'Service', 'mention': 'встретили', 'start': '690', 'end': '699', 'sentiment': 'positive'}, {'category': 'Service', 'mention': 'принесли меню', 'start': '707', 'end': '720', 'sentiment': 'positive'}, {'category': 'Service', 'mention': 'рассказали', 'start': '722', 'end': '732', 'sentiment': 'positive'}, {'category': 'Food', 'mention': 'домашние лимонады', 'start': '751', 'end': '768', 'sentiment': 'positive'}, {'category': 'Food', 'mention': 'бекон на хрустящем тосте с помидором черри', 'start': '848', 'end': '890', 'sentiment': 'positive'}], '21399': [{'category': 'Food', 'mention': 'ужинала', 'start': '22', 'end': '29', 'sentiment': 'positive'}, {'category': 'Whole', 'mention': 'ресторане', 'start': '51', 'end': '60', 'sentiment': 'positive'}, {'category': 'Interior', 'mention': 'Интерьер', 'start': '62', 'end': '70', 'sentiment': 'positive'}, {'category': 'Whole', 'mention': 'ресторан \"Русский Китч\"', 'start': '115', 'end': '138', 'sentiment': 'positive'}, {'category': 'Food', 'mention': 'Кухня', 'start': '140', 'end': '145', 'sentiment': 'positive'}, {'category': 'Food', 'mention': 'суп из печеного чеснока', 'start': '196', 'end': '219', 'sentiment': 'positive'}, {'category': 'Food', 'mention': 'фирменное блюдо', 'start': '302', 'end': '317', 'sentiment': 'positive'}, {'category': 'Service', 'mention': 'шеф-повара', 'start': '321', 'end': '331', 'sentiment': 'positive'}, {'category': 'Food', 'mention': 'суп-пюре из белых грибов', 'start': '349', 'end': '373', 'sentiment': 'positive'}, {'category': 'Food', 'mention': 'салат с креветками', 'start': '386', 'end': '404', 'sentiment': 'positive'}, {'category': 'Service', 'mention': 'обслуживание', 'start': '447', 'end': '459', 'sentiment': 'positive'}, {'category': 'Service', 'mention': 'официанту', 'start': '498', 'end': '507', 'sentiment': 'positive'}], '37070': [{'category': 'Whole', 'mention': 'заведение', 'start': '82', 'end': '91', 'sentiment': 'positive'}, {'category': 'Food', 'mention': 'кухня', 'start': '116', 'end': '121', 'sentiment': 'positive'}, {'category': 'Interior', 'mention': 'интерьер', 'start': '123', 'end': '131', 'sentiment': 'positive'}, {'category': 'Food', 'mention': 'еда', 'start': '132', 'end': '135', 'sentiment': 'positive'}, {'category': 'Price', 'mention': 'чек', 'start': '143', 'end': '146', 'sentiment': 'positive'}, {'category': 'Whole', 'mention': 'место', 'start': '205', 'end': '210', 'sentiment': 'positive'}, {'category': 'Whole', 'mention': 'площадь ресторана', 'start': '224', 'end': '241', 'sentiment': 'negative'}], '35620': [{'category': 'Whole', 'mention': 'заведение', 'start': '8', 'end': '17', 'sentiment': 'neutral'}, {'category': 'Food', 'mention': 'пообедать', 'start': '106', 'end': '115', 'sentiment': 'neutral'}, {'category': 'Service', 'mention': 'встретили', 'start': '117', 'end': '126', 'sentiment': 'positive'}, {'category': 'Service', 'mention': 'персонал', 'start': '216', 'end': '224', 'sentiment': 'positive'}, {'category': 'Service', 'mention': 'помогли', 'start': '279', 'end': '286', 'sentiment': 'positive'}, {'category': 'Service', 'mention': 'рассказали', 'start': '307', 'end': '317', 'sentiment': 'positive'}, {'category': 'Price', 'mention': 'скидка', 'start': '372', 'end': '378', 'sentiment': 'positive'}, {'category': 'Service', 'mention': 'Обслуживание', 'start': '397', 'end': '409', 'sentiment': 'positive'}, {'category': 'Food', 'mention': 'еда', 'start': '434', 'end': '437', 'sentiment': 'positive'}, {'category': 'Food', 'mention': 'ассортимент бара', 'start': '451', 'end': '467', 'sentiment': 'positive'}, {'category': 'Food', 'mention': 'чай', 'start': '493', 'end': '496', 'sentiment': 'neutral'}, {'category': 'Food', 'mention': 'качестве напитков', 'start': '527', 'end': '544', 'sentiment': 'neutral'}, {'category': 'Service', 'mention': 'официант', 'start': '581', 'end': '589', 'sentiment': 'positive'}, {'category': 'Service', 'mention': 'рассказал', 'start': '599', 'end': '608', 'sentiment': 'positive'}, {'category': 'Whole', 'mention': 'заведение', 'start': '778', 'end': '787', 'sentiment': 'positive'}], '13748': [{'category': 'Food', 'mention': 'Блюда', 'start': '75', 'end': '80', 'sentiment': 'negative'}, {'category': 'Service', 'mention': 'приносят', 'start': '81', 'end': '89', 'sentiment': 'negative'}, {'category': 'Service', 'mention': 'выносят', 'start': '101', 'end': '108', 'sentiment': 'negative'}, {'category': 'Food', 'mention': 'макароны', 'start': '268', 'end': '276', 'sentiment': 'negative'}, {'category': 'Food', 'mention': 'маслом', 'start': '286', 'end': '292', 'sentiment': 'neutral'}, {'category': 'Food', 'mention': 'тертым сыром', 'start': '305', 'end': '317', 'sentiment': 'neutral'}, {'category': 'Food', 'mention': 'пасту', 'start': '342', 'end': '347', 'sentiment': 'negative'}, {'category': 'Service', 'mention': 'профессионалы', 'start': '365', 'end': '378', 'sentiment': 'positive'}, {'category': 'Food', 'mention': 'блюда', 'start': '408', 'end': '413', 'sentiment': 'positive'}, {'category': 'Service', 'mention': 'выносили', 'start': '442', 'end': '450', 'sentiment': 'negative'}, {'category': 'Food', 'mention': 'салаты', 'start': '479', 'end': '485', 'sentiment': 'neutral'}, {'category': 'Food', 'mention': 'горячее', 'start': '489', 'end': '496', 'sentiment': 'neutral'}, {'category': 'Food', 'mention': 'пиццу', 'start': '500', 'end': '505', 'sentiment': 'neutral'}, {'category': 'Service', 'mention': 'официанту', 'start': '526', 'end': '535', 'sentiment': 'negative'}, {'category': 'Food', 'mention': 'блюда', 'start': '694', 'end': '699', 'sentiment': 'negative'}, {'category': 'Service', 'mention': 'Заказывали', 'start': '708', 'end': '718', 'sentiment': 'negative'}, {'category': 'Whole', 'mention': 'настроением', 'start': '819', 'end': '830', 'sentiment': 'negative'}, {'category': 'Service', 'mention': 'обслуживание', 'start': '842', 'end': '854', 'sentiment': 'negative'}, {'category': 'Whole', 'mention': 'места', 'start': '930', 'end': '935', 'sentiment': 'positive'}, {'category': 'Whole', 'mention': 'отдохнуть', 'start': '954', 'end': '963', 'sentiment': 'positive'}, {'category': 'Food', 'mention': 'поесть', 'start': '972', 'end': '978', 'sentiment': 'positive'}, {'category': 'Whole', 'mention': 'провести время', 'start': '989', 'end': '1003', 'sentiment': 'positive'}], '34228': [{'category': 'Whole', 'mention': 'впечатлением', 'start': '57', 'end': '69', 'sentiment': 'negative'}, {'category': 'Interior', 'mention': 'зал', 'start': '89', 'end': '92', 'sentiment': 'both'}, {'category': 'Food', 'mention': 'Еда', 'start': '177', 'end': '180', 'sentiment': 'negative'}, {'category': 'Whole', 'mention': 'ХочуХарчо', 'start': '230', 'end': '239', 'sentiment': 'neutral'}, {'category': 'Whole', 'mention': 'Мамалыгах', 'start': '241', 'end': '250', 'sentiment': 'neutral'}, {'category': 'Price', 'mention': 'цене', 'start': '297', 'end': '301', 'sentiment': 'negative'}, {'category': 'Food', 'mention': 'чебурек', 'start': '312', 'end': '319', 'sentiment': 'positive'}, {'category': 'Food', 'mention': 'карпачо сибаса', 'start': '354', 'end': '368', 'sentiment': 'negative'}, {'category': 'Food', 'mention': 'вкус', 'start': '388', 'end': '392', 'sentiment': 'negative'}, {'category': 'Food', 'mention': 'стейк из тунца', 'start': '404', 'end': '418', 'sentiment': 'negative'}, {'category': 'Food', 'mention': 'салат с креветками и крабом', 'start': '456', 'end': '483', 'sentiment': 'negative'}, {'category': 'Food', 'mention': 'шашлык ягненка', 'start': '498', 'end': '512', 'sentiment': 'positive'}, {'category': 'Food', 'mention': 'запеченный сыр', 'start': '527', 'end': '541', 'sentiment': 'negative'}, {'category': 'Food', 'mention': 'шоколадная шкатулка', 'start': '567', 'end': '586', 'sentiment': 'positive'}, {'category': 'Food', 'mention': 'кокосовые шоты', 'start': '611', 'end': '625', 'sentiment': 'positive'}, {'category': 'Service', 'mention': 'Сервис', 'start': '635', 'end': '641', 'sentiment': 'negative'}, {'category': 'Service', 'mention': 'официант', 'start': '662', 'end': '670', 'sentiment': 'negative'}, {'category': 'Service', 'mention': 'подходил', 'start': '671', 'end': '679', 'sentiment': 'negative'}], '18372': [{'category': 'Whole', 'mention': 'Ресторанчик', 'start': '0', 'end': '11', 'sentiment': 'positive'}, {'category': 'Food', 'mention': 'Готовят', 'start': '42', 'end': '49', 'sentiment': 'positive'}, {'category': 'Food', 'mention': 'порции', 'start': '79', 'end': '85', 'sentiment': 'positive'}, {'category': 'Food', 'mention': 'салатом', 'start': '92', 'end': '99', 'sentiment': 'positive'}, {'category': 'Food', 'mention': 'наелась', 'start': '109', 'end': '116', 'sentiment': 'positive'}, {'category': 'Service', 'mention': 'обслуживание', 'start': '136', 'end': '148', 'sentiment': 'positive'}, {'category': 'Service', 'mention': 'официантка', 'start': '175', 'end': '185', 'sentiment': 'positive'}, {'category': 'Service', 'mention': 'поможет с выбором', 'start': '226', 'end': '243', 'sentiment': 'positive'}, {'category': 'Food', 'mention': 'Повара', 'start': '244', 'end': '250', 'sentiment': 'positive'}, {'category': 'Food', 'mention': 'готовят', 'start': '260', 'end': '267', 'sentiment': 'positive'}, {'category': 'Food', 'mention': 'шашлык из курицы', 'start': '299', 'end': '315', 'sentiment': 'positive'}, {'category': 'Food', 'mention': 'салат \"Розана\"', 'start': '318', 'end': '332', 'sentiment': 'positive'}, {'category': 'Service', 'mention': 'бар', 'start': '404', 'end': '407', 'sentiment': 'positive'}, {'category': 'Service', 'mention': 'работает', 'start': '408', 'end': '416', 'sentiment': 'positive'}], '19439': [{'category': 'Whole', 'mention': 'Ресторан', 'start': '94', 'end': '102', 'sentiment': 'positive'}, {'category': 'Interior', 'mention': 'Интерьер', 'start': '163', 'end': '171', 'sentiment': 'positive'}, {'category': 'Interior', 'mention': 'Столики', 'start': '220', 'end': '227', 'sentiment': 'positive'}, {'category': 'Service', 'mention': 'Обслуживание', 'start': '386', 'end': '398', 'sentiment': 'positive'}, {'category': 'Service', 'mention': 'Официантов', 'start': '413', 'end': '423', 'sentiment': 'positive'}, {'category': 'Service', 'mention': 'обслуживал', 'start': '446', 'end': '456', 'sentiment': 'positive'}, {'category': 'Service', 'mention': 'молодой человек', 'start': '457', 'end': '472', 'sentiment': 'positive'}, {'category': 'Service', 'mention': 'обслуживал', 'start': '544', 'end': '554', 'sentiment': 'positive'}, {'category': 'Food', 'mention': 'Кухня', 'start': '614', 'end': '619', 'sentiment': 'positive'}, {'category': 'Food', 'mention': 'салаты', 'start': '631', 'end': '637', 'sentiment': 'positive'}, {'category': 'Food', 'mention': 'порции', 'start': '656', 'end': '662', 'sentiment': 'positive'}, {'category': 'Food', 'mention': 'Горячее', 'start': '692', 'end': '699', 'sentiment': 'positive'}, {'category': 'Food', 'mention': 'Медальоны из телятины', 'start': '714', 'end': '735', 'sentiment': 'positive'}, {'category': 'Food', 'mention': 'мясо', 'start': '748', 'end': '752', 'sentiment': 'positive'}, {'category': 'Food', 'mention': 'соус', 'start': '766', 'end': '770', 'sentiment': 'positive'}, {'category': 'Food', 'mention': 'Утка в апельсиновом соусе', 'start': '786', 'end': '811', 'sentiment': 'positive'}, {'category': 'Food', 'mention': 'Десерт', 'start': '835', 'end': '841', 'sentiment': 'positive'}, {'category': 'Food', 'mention': 'бизе со сливками и фруктами', 'start': '843', 'end': '870', 'sentiment': 'positive'}, {'category': 'Food', 'mention': 'бокала коньяка', 'start': '956', 'end': '970', 'sentiment': 'neutral'}, {'category': 'Food', 'mention': 'бокала красного сухого вина', 'start': '983', 'end': '1010', 'sentiment': 'neutral'}, {'category': 'Food', 'mention': 'виски', 'start': '1019', 'end': '1024', 'sentiment': 'neutral'}, {'category': 'Food', 'mention': 'салата', 'start': '1027', 'end': '1033', 'sentiment': 'neutral'}, {'category': 'Food', 'mention': 'горячих блюда', 'start': '1036', 'end': '1049', 'sentiment': 'neutral'}, {'category': 'Food', 'mention': 'десерт', 'start': '1052', 'end': '1058', 'sentiment': 'neutral'}, {'category': 'Food', 'mention': 'эспрессо', 'start': '1061', 'end': '1069', 'sentiment': 'neutral'}, {'category': 'Price', 'mention': 'Результат вместе с чаевыми', 'start': '1070', 'end': '1096', 'sentiment': 'neutral'}, {'category': 'Whole', 'mention': 'Впечатления', 'start': '1104', 'end': '1115', 'sentiment': 'positive'}], '11058': [{'category': 'Service', 'mention': 'Встречают', 'start': '108', 'end': '117', 'sentiment': 'positive'}, {'category': 'Service', 'mention': 'провожают', 'start': '119', 'end': '128', 'sentiment': 'positive'}, {'category': 'Service', 'mention': 'Улыбаются', 'start': '143', 'end': '152', 'sentiment': 'positive'}, {'category': 'Service', 'mention': 'предлагают попробовать', 'start': '154', 'end': '176', 'sentiment': 'positive'}, {'category': 'Food', 'mention': 'съел', 'start': '206', 'end': '210', 'sentiment': 'neutral'}, {'category': 'Food', 'mention': 'десерт', 'start': '216', 'end': '222', 'sentiment': 'neutral'}, {'category': 'Service', 'mention': 'Рассказывают', 'start': '279', 'end': '291', 'sentiment': 'positive'}, {'category': 'Service', 'mention': 'советуют', 'start': '309', 'end': '317', 'sentiment': 'positive'}, {'category': 'Service', 'mention': 'Приносят', 'start': '353', 'end': '361', 'sentiment': 'positive'}, {'category': 'Service', 'mention': 'уносят', 'start': '362', 'end': '368', 'sentiment': 'positive'}, {'category': 'Service', 'mention': 'сервируют', 'start': '370', 'end': '379', 'sentiment': 'positive'}, {'category': 'Service', 'mention': 'ждали', 'start': '488', 'end': '493', 'sentiment': 'negative'}, {'category': 'Service', 'mention': 'обслуживающая', 'start': '504', 'end': '517', 'sentiment': 'positive'}, {'category': 'Service', 'mention': 'официантка', 'start': '522', 'end': '532', 'sentiment': 'positive'}, {'category': 'Whole', 'mention': 'вечер', 'start': '562', 'end': '567', 'sentiment': 'positive'}, {'category': 'Whole', 'mention': 'Поленте', 'start': '584', 'end': '591', 'sentiment': 'positive'}], '10099': [{'category': 'Whole', 'mention': 'Дитае', 'start': '7', 'end': '12', 'sentiment': 'neutral'}, {'category': 'Service', 'mention': 'официантки', 'start': '176', 'end': '186', 'sentiment': 'positive'}, {'category': 'Food', 'mention': 'судака', 'start': '235', 'end': '241', 'sentiment': 'neutral'}, {'category': 'Food', 'mention': 'свинину по-пекински', 'start': '249', 'end': '268', 'sentiment': 'neutral'}, {'category': 'Food', 'mention': 'Еда', 'start': '270', 'end': '273', 'sentiment': 'positive'}, {'category': 'Interior', 'mention': 'интерьера', 'start': '356', 'end': '365', 'sentiment': 'neutral'}, {'category': 'Whole', 'mention': 'место', 'start': '367', 'end': '372', 'sentiment': 'positive'}, {'category': 'Interior', 'mention': 'уютная', 'start': '476', 'end': '482', 'sentiment': 'positive'}, {'category': 'Interior', 'mention': 'атмосфера', 'start': '483', 'end': '492', 'sentiment': 'positive'}, {'category': 'Whole', 'mention': 'заведением', 'start': '549', 'end': '559', 'sentiment': 'positive'}], '10354': [{'category': 'Whole', 'mention': 'ресторан', 'start': '19', 'end': '27', 'sentiment': 'neutral'}, {'category': 'Whole', 'mention': 'заведение', 'start': '113', 'end': '122', 'sentiment': 'positive'}, {'category': 'Food', 'mention': 'кухней', 'start': '133', 'end': '139', 'sentiment': 'positive'}, {'category': 'Whole', 'mention': '\"Чебурек\"', 'start': '158', 'end': '167', 'sentiment': 'neutral'}, {'category': 'Service', 'mention': 'Администрация', 'start': '229', 'end': '242', 'sentiment': 'positive'}, {'category': 'Service', 'mention': 'предоставила', 'start': '251', 'end': '263', 'sentiment': 'positive'}, {'category': 'Interior', 'mention': 'банкетный зал', 'start': '274', 'end': '287', 'sentiment': 'positive'}, {'category': 'Food', 'mention': 'кальян', 'start': '336', 'end': '342', 'sentiment': 'positive'}, {'category': 'Food', 'mention': 'Кухня', 'start': '378', 'end': '383', 'sentiment': 'positive'}, {'category': 'Service', 'mention': 'обслуживание', 'start': '410', 'end': '422', 'sentiment': 'positive'}, {'category': 'Service', 'mention': 'девушки-официантки', 'start': '429', 'end': '447', 'sentiment': 'positive'}, {'category': 'Service', 'mention': 'администрация', 'start': '501', 'end': '514', 'sentiment': 'positive'}, {'category': 'Price', 'mention': 'скидку', 'start': '553', 'end': '559', 'sentiment': 'positive'}, {'category': 'Whole', 'mention': '\"Чебурек\"', 'start': '614', 'end': '623', 'sentiment': 'positive'}, {'category': 'Price', 'mention': 'цен', 'start': '757', 'end': '760', 'sentiment': 'negative'}, {'category': 'Price', 'mention': 'цены', 'start': '781', 'end': '785', 'sentiment': 'negative'}, {'category': 'Price', 'mention': 'стоимость ужина', 'start': '847', 'end': '862', 'sentiment': 'negative'}, {'category': 'Food', 'mention': 'чебуреки с сыром сулугуни и зеленью', 'start': '990', 'end': '1025', 'sentiment': 'positive'}, {'category': 'Food', 'mention': 'сациви из баклажан', 'start': '1040', 'end': '1058', 'sentiment': 'positive'}, {'category': 'Food', 'mention': 'суп чанахи', 'start': '1060', 'end': '1070', 'sentiment': 'positive'}, {'category': 'Food', 'mention': 'хинкали', 'start': '1084', 'end': '1091', 'sentiment': 'positive'}, {'category': 'Food', 'mention': 'бараньи ножки', 'start': '1109', 'end': '1122', 'sentiment': 'positive'}], '24217': [{'category': 'Whole', 'mention': 'Место', 'start': '0', 'end': '5', 'sentiment': 'positive'}, {'category': 'Interior', 'mention': 'Помещение', 'start': '28', 'end': '37', 'sentiment': 'positive'}, {'category': 'Interior', 'mention': 'некурящая зона', 'start': '63', 'end': '77', 'sentiment': 'positive'}, {'category': 'Interior', 'mention': 'детская комната', 'start': '80', 'end': '95', 'sentiment': 'positive'}, {'category': 'Interior', 'mention': 'столики', 'start': '205', 'end': '212', 'sentiment': 'positive'}, {'category': 'Interior', 'mention': 'плетеными гамаками', 'start': '233', 'end': '251', 'sentiment': 'positive'}, {'category': 'Interior', 'mention': 'танцпол', 'start': '283', 'end': '290', 'sentiment': 'positive'}, {'category': 'Interior', 'mention': 'фотаном', 'start': '299', 'end': '306', 'sentiment': 'positive'}, {'category': 'Interior', 'mention': 'плазменных панелей', 'start': '355', 'end': '373', 'sentiment': 'positive'}, {'category': 'Interior', 'mention': 'диванчики', 'start': '384', 'end': '393', 'sentiment': 'positive'}, {'category': 'Interior', 'mention': 'интерьером', 'start': '425', 'end': '435', 'sentiment': 'positive'}, {'category': 'Interior', 'mention': 'Отделка', 'start': '437', 'end': '444', 'sentiment': 'neutral'}, {'category': 'Interior', 'mention': 'пространство', 'start': '483', 'end': '495', 'sentiment': 'positive'}, {'category': 'Interior', 'mention': 'Гардероб', 'start': '525', 'end': '533', 'sentiment': 'positive'}, {'category': 'Food', 'mention': 'Кухня', 'start': '553', 'end': '558', 'sentiment': 'neutral'}, {'category': 'Food', 'mention': 'порции', 'start': '591', 'end': '597', 'sentiment': 'negative'}, {'category': 'Price', 'mention': 'цены', 'start': '633', 'end': '637', 'sentiment': 'negative'}, {'category': 'Food', 'mention': 'мидий', 'start': '694', 'end': '699', 'sentiment': 'negative'}, {'category': 'Food', 'mention': 'сухарики', 'start': '725', 'end': '733', 'sentiment': 'negative'}, {'category': 'Food', 'mention': 'готовили', 'start': '743', 'end': '751', 'sentiment': 'negative'}, {'category': 'Food', 'mention': 'суши', 'start': '787', 'end': '791', 'sentiment': 'positive'}, {'category': 'Food', 'mention': 'выбор пива', 'start': '820', 'end': '830', 'sentiment': 'negative'}, {'category': 'Food', 'mention': 'пиво', 'start': '835', 'end': '839', 'sentiment': 'positive'}, {'category': 'Food', 'mention': 'выбор алкоголя', 'start': '874', 'end': '888', 'sentiment': 'negative'}, {'category': 'Food', 'mention': 'Коктейли', 'start': '907', 'end': '915', 'sentiment': 'positive'}, {'category': 'Service', 'mention': 'Сервис', 'start': '1002', 'end': '1008', 'sentiment': 'positive'}, {'category': 'Service', 'mention': 'официант', 'start': '1059', 'end': '1067', 'sentiment': 'positive'}, {'category': 'Service', 'mention': 'ждать', 'start': '1068', 'end': '1073', 'sentiment': 'positive'}, {'category': 'Service', 'mention': 'появлялся', 'start': '1101', 'end': '1110', 'sentiment': 'positive'}], '21856': [{'category': 'Whole', 'mention': 'гранд-кафе 21 Верста', 'start': '74', 'end': '94', 'sentiment': 'positive'}, {'category': 'Service', 'mention': 'заказать столик', 'start': '105', 'end': '120', 'sentiment': 'neutral'}, {'category': 'Service', 'mention': 'молодой человек', 'start': '138', 'end': '153', 'sentiment': 'positive'}, {'category': 'Service', 'mention': 'забронировал', 'start': '162', 'end': '174', 'sentiment': 'positive'}, {'category': 'Service', 'mention': 'встретила', 'start': '295', 'end': '304', 'sentiment': 'positive'}, {'category': 'Service', 'mention': 'молодая девушка', 'start': '314', 'end': '329', 'sentiment': 'positive'}, {'category': 'Service', 'mention': 'проводила к столику', 'start': '332', 'end': '351', 'sentiment': 'positive'}, {'category': 'Service', 'mention': 'Обслуживала', 'start': '352', 'end': '363', 'sentiment': 'positive'}, {'category': 'Service', 'mention': 'девушка', 'start': '382', 'end': '389', 'sentiment': 'positive'}, {'category': 'Service', 'mention': 'отвечала', 'start': '410', 'end': '418', 'sentiment': 'positive'}, {'category': 'Food', 'mention': 'Кухня', 'start': '439', 'end': '444', 'sentiment': 'positive'}, {'category': 'Food', 'mention': 'порции', 'start': '458', 'end': '464', 'sentiment': 'positive'}, {'category': 'Food', 'mention': 'поворам', 'start': '474', 'end': '481', 'sentiment': 'positive'}, {'category': 'Service', 'mention': 'Обслуживание', 'start': '508', 'end': '520', 'sentiment': 'positive'}, {'category': 'Interior', 'mention': 'интерьер', 'start': '564', 'end': '572', 'sentiment': 'positive'}, {'category': 'Food', 'mention': 'кухня', 'start': '573', 'end': '578', 'sentiment': 'positive'}, {'category': 'Service', 'mention': 'персонал', 'start': '579', 'end': '587', 'sentiment': 'positive'}, {'category': 'Interior', 'mention': 'живая музыка', 'start': '588', 'end': '600', 'sentiment': 'positive'}, {'category': 'Interior', 'mention': 'атмосфера', 'start': '601', 'end': '610', 'sentiment': 'positive'}, {'category': 'Interior', 'mention': 'песню', 'start': '794', 'end': '799', 'sentiment': 'positive'}], '34307': [{'category': 'Whole', 'mention': 'заведении', 'start': '47', 'end': '56', 'sentiment': 'negative'}, {'category': 'Interior', 'mention': 'зале', 'start': '107', 'end': '111', 'sentiment': 'negative'}, {'category': 'Interior', 'mention': 'стол', 'start': '156', 'end': '160', 'sentiment': 'negative'}, {'category': 'Interior', 'mention': 'столы', 'start': '166', 'end': '171', 'sentiment': 'negative'}, {'category': 'Service', 'mention': 'несут заказ', 'start': '275', 'end': '286', 'sentiment': 'negative'}, {'category': 'Food', 'mention': 'горячее', 'start': '422', 'end': '429', 'sentiment': 'neutral'}, {'category': 'Food', 'mention': 'салатики', 'start': '431', 'end': '439', 'sentiment': 'neutral'}, {'category': 'Food', 'mention': 'пиво', 'start': '441', 'end': '445', 'sentiment': 'neutral'}, {'category': 'Food', 'mention': 'закуски к пиву', 'start': '448', 'end': '462', 'sentiment': 'negative'}, {'category': 'Service', 'mention': 'счет', 'start': '584', 'end': '588', 'sentiment': 'negative'}, {'category': 'Food', 'mention': 'Салаты', 'start': '619', 'end': '625', 'sentiment': 'positive'}, {'category': 'Service', 'mention': 'Еду приносят', 'start': '647', 'end': '659', 'sentiment': 'negative'}, {'category': 'Service', 'mention': 'Официанта', 'start': '825', 'end': '834', 'sentiment': 'negative'}, {'category': 'Service', 'mention': 'забирают', 'start': '888', 'end': '896', 'sentiment': 'negative'}, {'category': 'Interior', 'mention': 'зале', 'start': '900', 'end': '904', 'sentiment': 'negative'}, {'category': 'Interior', 'mention': 'музыку', 'start': '919', 'end': '925', 'sentiment': 'negative'}, {'category': 'Whole', 'mention': 'заведение', 'start': '949', 'end': '958', 'sentiment': 'positive'}, {'category': 'Price', 'mention': 'Цены', 'start': '1039', 'end': '1043', 'sentiment': 'negative'}, {'category': 'Service', 'mention': 'обслуживание', 'start': '1065', 'end': '1077', 'sentiment': 'negative'}], '1308': [{'category': 'Service', 'mention': 'Бронировали стол', 'start': '59', 'end': '75', 'sentiment': 'neutral'}, {'category': 'Service', 'mention': 'подготовили закуски', 'start': '136', 'end': '155', 'sentiment': 'positive'}, {'category': 'Food', 'mention': 'закуски', 'start': '227', 'end': '234', 'sentiment': 'positive'}, {'category': 'Food', 'mention': 'продегустировать', 'start': '250', 'end': '266', 'sentiment': 'neutral'}, {'category': 'Food', 'mention': 'десерт', 'start': '454', 'end': '460', 'sentiment': 'positive'}, {'category': 'Food', 'mention': 'сорбе', 'start': '470', 'end': '475', 'sentiment': 'positive'}, {'category': 'Service', 'mention': 'подача', 'start': '481', 'end': '487', 'sentiment': 'positive'}, {'category': 'Food', 'mention': 'вкус', 'start': '506', 'end': '510', 'sentiment': 'positive'}, {'category': 'Food', 'mention': 'земляника', 'start': '537', 'end': '546', 'sentiment': 'positive'}, {'category': 'Food', 'mention': 'манго', 'start': '549', 'end': '554', 'sentiment': 'positive'}, {'category': 'Interior', 'mention': 'интерьер', 'start': '673', 'end': '681', 'sentiment': 'positive'}, {'category': 'Interior', 'mention': 'атмосфера', 'start': '692', 'end': '701', 'sentiment': 'positive'}, {'category': 'Service', 'mention': 'обслуживание', 'start': '733', 'end': '745', 'sentiment': 'positive'}, {'category': 'Food', 'mention': 'еда', 'start': '756', 'end': '759', 'sentiment': 'positive'}, {'category': 'Whole', 'mention': 'вечер', 'start': '820', 'end': '825', 'sentiment': 'positive'}], '5928': [{'category': 'Whole', 'mention': 'Тан Жен', 'start': '58', 'end': '65', 'sentiment': 'neutral'}, {'category': 'Interior', 'mention': 'Интерьер', 'start': '161', 'end': '169', 'sentiment': 'negative'}, {'category': 'Food', 'mention': 'кухня', 'start': '233', 'end': '238', 'sentiment': 'positive'}, {'category': 'Food', 'mention': 'салат из свиных ушей', 'start': '267', 'end': '287', 'sentiment': 'positive'}, {'category': 'Food', 'mention': 'утку', 'start': '301', 'end': '305', 'sentiment': 'positive'}, {'category': 'Food', 'mention': 'баклажаны', 'start': '308', 'end': '317', 'sentiment': 'positive'}, {'category': 'Food', 'mention': 'лапшу с креветками', 'start': '344', 'end': '362', 'sentiment': 'negative'}, {'category': 'Service', 'mention': 'официантки', 'start': '448', 'end': '458', 'sentiment': 'positive'}, {'category': 'Service', 'mention': 'подскажут', 'start': '486', 'end': '495', 'sentiment': 'positive'}, {'category': 'Service', 'mention': 'посоветуют', 'start': '498', 'end': '508', 'sentiment': 'positive'}, {'category': 'Food', 'mention': 'кухня', 'start': '619', 'end': '624', 'sentiment': 'positive'}, {'category': 'Whole', 'mention': 'провести время', 'start': '721', 'end': '735', 'sentiment': 'positive'}, {'category': 'Price', 'mention': 'бюджетно', 'start': '764', 'end': '772', 'sentiment': 'positive'}, {'category': 'Food', 'mention': 'покушать', 'start': '807', 'end': '815', 'sentiment': 'positive'}, {'category': 'Whole', 'mention': 'Тан Жен', 'start': '826', 'end': '833', 'sentiment': 'positive'}], '32206': [{'category': 'Whole', 'mention': '\"Асахи\"', 'start': '26', 'end': '33', 'sentiment': 'positive'}, {'category': 'Interior', 'mention': 'шторы', 'start': '47', 'end': '52', 'sentiment': 'negative'}, {'category': 'Interior', 'mention': 'Два этажа', 'start': '131', 'end': '140', 'sentiment': 'neutral'}, {'category': 'Interior', 'mention': 'интерьер', 'start': '171', 'end': '179', 'sentiment': 'positive'}, {'category': 'Whole', 'mention': 'место', 'start': '186', 'end': '191', 'sentiment': 'positive'}, {'category': 'Whole', 'mention': 'провести там время', 'start': '229', 'end': '247', 'sentiment': 'positive'}, {'category': 'Whole', 'mention': 'ресторан', 'start': '326', 'end': '334', 'sentiment': 'positive'}, {'category': 'Service', 'mention': 'Обслуживание', 'start': '416', 'end': '428', 'sentiment': 'positive'}, {'category': 'Service', 'mention': 'встречают', 'start': '442', 'end': '451', 'sentiment': 'positive'}, {'category': 'Service', 'mention': 'провожают', 'start': '455', 'end': '464', 'sentiment': 'positive'}, {'category': 'Service', 'mention': 'очередность блюд', 'start': '522', 'end': '538', 'sentiment': 'positive'}, {'category': 'Food', 'mention': 'меню', 'start': '600', 'end': '604', 'sentiment': 'positive'}, {'category': 'Food', 'mention': 'готовят', 'start': '677', 'end': '684', 'sentiment': 'negative'}, {'category': 'Food', 'mention': 'блюда', 'start': '689', 'end': '694', 'sentiment': 'negative'}, {'category': 'Food', 'mention': 'Суши', 'start': '724', 'end': '728', 'sentiment': 'negative'}, {'category': 'Food', 'mention': 'роллы', 'start': '791', 'end': '796', 'sentiment': 'positive'}, {'category': 'Food', 'mention': 'сыр Филадельфия', 'start': '832', 'end': '847', 'sentiment': 'positive'}, {'category': 'Food', 'mention': 'роллы без риса', 'start': '866', 'end': '880', 'sentiment': 'positive'}, {'category': 'Food', 'mention': 'сашими', 'start': '891', 'end': '897', 'sentiment': 'positive'}, {'category': 'Food', 'mention': 'салаты (с лососем, крабом, тунцом)', 'start': '920', 'end': '954', 'sentiment': 'positive'}, {'category': 'Food', 'mention': 'порции салатов', 'start': '956', 'end': '970', 'sentiment': 'positive'}, {'category': 'Food', 'mention': 'лосось терияки', 'start': '1003', 'end': '1017', 'sentiment': 'positive'}, {'category': 'Food', 'mention': 'крабовый суп', 'start': '1098', 'end': '1110', 'sentiment': 'positive'}, {'category': 'Price', 'mention': 'цене', 'start': '1136', 'end': '1140', 'sentiment': 'positive'}, {'category': 'Price', 'mention': 'бесплатно', 'start': '1153', 'end': '1162', 'sentiment': 'positive'}, {'category': 'Whole', 'mention': 'место', 'start': '1204', 'end': '1209', 'sentiment': 'positive'}], '16378': [{'category': 'Food', 'mention': 'Кухня', 'start': '130', 'end': '135', 'sentiment': 'positive'}, {'category': 'Food', 'mention': 'Суп-Харчо', 'start': '138', 'end': '147', 'sentiment': 'positive'}, {'category': 'Food', 'mention': 'шашлыки', 'start': '149', 'end': '156', 'sentiment': 'positive'}, {'category': 'Food', 'mention': 'лепешки', 'start': '218', 'end': '225', 'sentiment': 'positive'}, {'category': 'Food', 'mention': 'вино', 'start': '243', 'end': '247', 'sentiment': 'positive'}, {'category': 'Food', 'mention': 'чай с чабрецом', 'start': '276', 'end': '290', 'sentiment': 'positive'}, {'category': 'Whole', 'mention': 'месте', 'start': '357', 'end': '362', 'sentiment': 'neutral'}, {'category': 'Food', 'mention': 'салат Греческий', 'start': '376', 'end': '391', 'sentiment': 'negative'}, {'category': 'Interior', 'mention': 'Интерьер', 'start': '456', 'end': '464', 'sentiment': 'both'}, {'category': 'Interior', 'mention': 'колонку', 'start': '528', 'end': '535', 'sentiment': 'negative'}, {'category': 'Interior', 'mention': 'света', 'start': '567', 'end': '572', 'sentiment': 'negative'}, {'category': 'Interior', 'mention': 'главном зале', 'start': '575', 'end': '587', 'sentiment': 'negative'}, {'category': 'Interior', 'mention': 'светлый зал', 'start': '640', 'end': '651', 'sentiment': 'positive'}, {'category': 'Interior', 'mention': 'чистоту скатертей', 'start': '714', 'end': '731', 'sentiment': 'both'}, {'category': 'Service', 'mention': 'Обслуживание', 'start': '753', 'end': '765', 'sentiment': 'positive'}, {'category': 'Service', 'mention': 'молодые люди', 'start': '787', 'end': '799', 'sentiment': 'positive'}, {'category': 'Service', 'mention': 'подходят', 'start': '833', 'end': '841', 'sentiment': 'positive'}, {'category': 'Service', 'mention': 'работают', 'start': '843', 'end': '851', 'sentiment': 'positive'}, {'category': 'Whole', 'mention': 'место', 'start': '940', 'end': '945', 'sentiment': 'positive'}, {'category': 'Whole', 'mention': 'заведение', 'start': '1033', 'end': '1042', 'sentiment': 'both'}, {'category': 'Price', 'mention': 'цена', 'start': '1154', 'end': '1158', 'sentiment': 'positive'}], '24713': [{'category': 'Interior', 'mention': 'банкетном зале', 'start': '11', 'end': '25', 'sentiment': 'neutral'}, {'category': 'Interior', 'mention': 'Зал', 'start': '52', 'end': '55', 'sentiment': 'positive'}, {'category': 'Price', 'mention': 'ценовой категории', 'start': '98', 'end': '115', 'sentiment': 'neutral'}, {'category': 'Food', 'mention': 'кол-во закусок', 'start': '159', 'end': '173', 'sentiment': 'negative'}, {'category': 'Food', 'mention': 'Сырная тарелка', 'start': '213', 'end': '227', 'sentiment': 'negative'}, {'category': 'Food', 'mention': 'сыром', 'start': '246', 'end': '251', 'sentiment': 'negative'}, {'category': 'Food', 'mention': 'Фрукты', 'start': '253', 'end': '259', 'sentiment': 'negative'}, {'category': 'Food', 'mention': 'салаты', 'start': '307', 'end': '313', 'sentiment': 'negative'}, {'category': 'Whole', 'mention': 'кафе', 'start': '426', 'end': '430', 'sentiment': 'neutral'}, {'category': 'Food', 'mention': 'Еда', 'start': '448', 'end': '451', 'sentiment': 'positive'}, {'category': 'Food', 'mention': 'готовит', 'start': '502', 'end': '509', 'sentiment': 'negative'}, {'category': 'Food', 'mention': 'Горячее', 'start': '525', 'end': '532', 'sentiment': 'negative'}, {'category': 'Food', 'mention': 'Торт', 'start': '554', 'end': '558', 'sentiment': 'neutral'}, {'category': 'Food', 'mention': 'качество еды', 'start': '611', 'end': '623', 'sentiment': 'negative'}, {'category': 'Service', 'mention': 'Администратор', 'start': '717', 'end': '730', 'sentiment': 'positive'}, {'category': 'Service', 'mention': 'упаковано', 'start': '768', 'end': '777', 'sentiment': 'positive'}, {'category': 'Service', 'mention': 'собрано', 'start': '780', 'end': '787', 'sentiment': 'positive'}, {'category': 'Service', 'mention': 'официанты', 'start': '833', 'end': '842', 'sentiment': 'negative'}, {'category': 'Price', 'mention': 'плату', 'start': '912', 'end': '917', 'sentiment': 'negative'}], '27620': [{'category': 'Whole', 'mention': 'ресторане', 'start': '35', 'end': '44', 'sentiment': 'negative'}, {'category': 'Interior', 'mention': 'интерьер', 'start': '73', 'end': '81', 'sentiment': 'positive'}, {'category': 'Service', 'mention': 'обслуживание', 'start': '163', 'end': '175', 'sentiment': 'negative'}, {'category': 'Service', 'mention': 'Заказ', 'start': '212', 'end': '217', 'sentiment': 'negative'}, {'category': 'Service', 'mention': 'ждем', 'start': '289', 'end': '293', 'sentiment': 'negative'}, {'category': 'Food', 'mention': 'сок', 'start': '308', 'end': '311', 'sentiment': 'positive'}, {'category': 'Service', 'mention': 'принесли', 'start': '312', 'end': '320', 'sentiment': 'positive'}, {'category': 'Food', 'mention': 'апельсинового сока', 'start': '328', 'end': '346', 'sentiment': 'negative'}, {'category': 'Service', 'mention': 'официант', 'start': '365', 'end': '373', 'sentiment': 'negative'}, {'category': 'Service', 'mention': 'Ждем', 'start': '409', 'end': '413', 'sentiment': 'negative'}, {'category': 'Food', 'mention': 'напиток', 'start': '426', 'end': '433', 'sentiment': 'neutral'}, {'category': 'Service', 'mention': 'принесли', 'start': '509', 'end': '517', 'sentiment': 'negative'}, {'category': 'Service', 'mention': 'принесли', 'start': '525', 'end': '533', 'sentiment': 'neutral'}, {'category': 'Food', 'mention': 'еду', 'start': '534', 'end': '537', 'sentiment': 'neutral'}, {'category': 'Food', 'mention': 'Еда', 'start': '620', 'end': '623', 'sentiment': 'negative'}, {'category': 'Price', 'mention': 'цены', 'start': '655', 'end': '659', 'sentiment': 'negative'}, {'category': 'Food', 'mention': 'кофе', 'start': '726', 'end': '730', 'sentiment': 'positive'}, {'category': 'Food', 'mention': 'Пирожных', 'start': '732', 'end': '740', 'sentiment': 'negative'}], '2468': [{'category': 'Whole', 'mention': 'заведения', 'start': '76', 'end': '85', 'sentiment': 'positive'}, {'category': 'Interior', 'mention': 'интерьер', 'start': '115', 'end': '123', 'sentiment': 'positive'}, {'category': 'Interior', 'mention': 'музыка', 'start': '135', 'end': '141', 'sentiment': 'positive'}, {'category': 'Service', 'mention': 'персонал', 'start': '183', 'end': '191', 'sentiment': 'positive'}, {'category': 'Whole', 'mention': 'ресторанчик', 'start': '393', 'end': '404', 'sentiment': 'positive'}, {'category': 'Interior', 'mention': 'Зал', 'start': '406', 'end': '409', 'sentiment': 'positive'}, {'category': 'Service', 'mention': 'девушка', 'start': '431', 'end': '438', 'sentiment': 'positive'}, {'category': 'Service', 'mention': 'предложила', 'start': '444', 'end': '454', 'sentiment': 'positive'}, {'category': 'Interior', 'mention': 'местечко в углу', 'start': '455', 'end': '470', 'sentiment': 'positive'}, {'category': 'Food', 'mention': 'Блюда', 'start': '505', 'end': '510', 'sentiment': 'positive'}, {'category': 'Food', 'mention': 'приготовленные', 'start': '582', 'end': '596', 'sentiment': 'positive'}, {'category': 'Food', 'mention': 'овощи', 'start': '597', 'end': '602', 'sentiment': 'positive'}, {'category': 'Food', 'mention': 'салаты \"Цезарь\"', 'start': '604', 'end': '619', 'sentiment': 'positive'}, {'category': 'Food', 'mention': 'лосось', 'start': '635', 'end': '641', 'sentiment': 'positive'}, {'category': 'Service', 'mention': 'Официантка', 'start': '663', 'end': '673', 'sentiment': 'positive'}, {'category': 'Service', 'mention': 'следила за столом', 'start': '674', 'end': '691', 'sentiment': 'positive'}, {'category': 'Service', 'mention': 'меняла пепельницу', 'start': '702', 'end': '719', 'sentiment': 'positive'}, {'category': 'Service', 'mention': 'добавляла вина', 'start': '722', 'end': '736', 'sentiment': 'positive'}, {'category': 'Service', 'mention': 'сервис', 'start': '743', 'end': '749', 'sentiment': 'positive'}], '7982': [{'category': 'Service', 'mention': 'директором', 'start': '30', 'end': '40', 'sentiment': 'negative'}, {'category': 'Service', 'mention': 'работу', 'start': '250', 'end': '256', 'sentiment': 'positive'}, {'category': 'Service', 'mention': 'официантов', 'start': '257', 'end': '267', 'sentiment': 'positive'}, {'category': 'Food', 'mention': 'пообедав', 'start': '284', 'end': '292', 'sentiment': 'positive'}, {'category': 'Interior', 'mention': 'музыку', 'start': '402', 'end': '408', 'sentiment': 'negative'}, {'category': 'Food', 'mention': 'еды', 'start': '661', 'end': '664', 'sentiment': 'both'}, {'category': 'Food', 'mention': 'вкус', 'start': '691', 'end': '695', 'sentiment': 'negative'}, {'category': 'Food', 'mention': 'обед', 'start': '709', 'end': '713', 'sentiment': 'positive'}, {'category': 'Food', 'mention': 'пробовали', 'start': '756', 'end': '765', 'sentiment': 'positive'}, {'category': 'Food', 'mention': 'Салаты', 'start': '767', 'end': '773', 'sentiment': 'negative'}, {'category': 'Food', 'mention': 'горячее', 'start': '796', 'end': '803', 'sentiment': 'negative'}, {'category': 'Food', 'mention': 'гарнир', 'start': '834', 'end': '840', 'sentiment': 'negative'}, {'category': 'Food', 'mention': 'рыба', 'start': '850', 'end': '854', 'sentiment': 'negative'}, {'category': 'Food', 'mention': 'курицу', 'start': '883', 'end': '889', 'sentiment': 'negative'}, {'category': 'Food', 'mention': 'мясо', 'start': '899', 'end': '903', 'sentiment': 'negative'}, {'category': 'Food', 'mention': 'еде', 'start': '952', 'end': '955', 'sentiment': 'negative'}, {'category': 'Food', 'mention': 'жюльен', 'start': '1001', 'end': '1007', 'sentiment': 'neutral'}, {'category': 'Food', 'mention': 'блюда', 'start': '1125', 'end': '1130', 'sentiment': 'neutral'}], '13912': [{'category': 'Whole', 'mention': 'ресторане Харбин на Приморской', 'start': '35', 'end': '65', 'sentiment': 'both'}, {'category': 'Whole', 'mention': 'ресторана', 'start': '120', 'end': '129', 'sentiment': 'neutral'}, {'category': 'Whole', 'mention': 'ресторан Харбин на Академической', 'start': '183', 'end': '215', 'sentiment': 'neutral'}, {'category': 'Interior', 'mention': 'залах для курящих и некурящих', 'start': '230', 'end': '259', 'sentiment': 'positive'}, {'category': 'Interior', 'mention': 'зал для некурящих', 'start': '269', 'end': '286', 'sentiment': 'positive'}, {'category': 'Interior', 'mention': 'Харбина на Приморской', 'start': '309', 'end': '330', 'sentiment': 'negative'}, {'category': 'Interior', 'mention': 'расположен', 'start': '332', 'end': '342', 'sentiment': 'positive'}, {'category': 'Interior', 'mention': 'Стулья', 'start': '387', 'end': '393', 'sentiment': 'positive'}, {'category': 'Interior', 'mention': 'зале для некурящих', 'start': '396', 'end': '414', 'sentiment': 'positive'}, {'category': 'Interior', 'mention': 'зала', 'start': '464', 'end': '468', 'sentiment': 'negative'}, {'category': 'Service', 'mention': 'Заказ приняли', 'start': '535', 'end': '548', 'sentiment': 'positive'}, {'category': 'Service', 'mention': 'принесли', 'start': '609', 'end': '617', 'sentiment': 'positive'}, {'category': 'Food', 'mention': 'первое блюдо', 'start': '618', 'end': '630', 'sentiment': 'neutral'}, {'category': 'Service', 'mention': 'заказ', 'start': '656', 'end': '661', 'sentiment': 'positive'}, {'category': 'Food', 'mention': 'Блюда', 'start': '676', 'end': '681', 'sentiment': 'positive'}, {'category': 'Food', 'mention': 'качество приготовления', 'start': '709', 'end': '731', 'sentiment': 'positive'}, {'category': 'Whole', 'mention': 'Харбине на Приморской', 'start': '767', 'end': '788', 'sentiment': 'negative'}, {'category': 'Food', 'mention': 'чае', 'start': '887', 'end': '890', 'sentiment': 'neutral'}, {'category': 'Food', 'mention': 'Выбор', 'start': '892', 'end': '897', 'sentiment': 'both'}, {'category': 'Food', 'mention': 'чай', 'start': '982', 'end': '985', 'sentiment': 'positive'}, {'category': 'Whole', 'mention': 'ресторана на Приморской', 'start': '1017', 'end': '1040', 'sentiment': 'negative'}, {'category': 'Food', 'mention': 'французское красное сухое вино', 'start': '1057', 'end': '1087', 'sentiment': 'positive'}, {'category': 'Service', 'mention': 'обслуживание', 'start': '1101', 'end': '1113', 'sentiment': 'positive'}, {'category': 'Service', 'mention': 'убиралась', 'start': '1150', 'end': '1159', 'sentiment': 'positive'}, {'category': 'Price', 'mention': 'счет', 'start': '1227', 'end': '1231', 'sentiment': 'neutral'}, {'category': 'Whole', 'mention': 'ресторан', 'start': '1275', 'end': '1283', 'sentiment': 'positive'}], '18756': [{'category': 'Whole', 'mention': 'БАРЕ', 'start': '25', 'end': '29', 'sentiment': 'both'}, {'category': 'Service', 'mention': 'обслуживание', 'start': '57', 'end': '69', 'sentiment': 'neutral'}, {'category': 'Food', 'mention': 'пиво', 'start': '103', 'end': '107', 'sentiment': 'negative'}, {'category': 'Food', 'mention': '\"Береста светлое \"', 'start': '146', 'end': '164', 'sentiment': 'negative'}, {'category': 'Food', 'mention': 'закуски к пиву', 'start': '203', 'end': '217', 'sentiment': 'positive'}, {'category': 'Food', 'mention': 'большой выбор', 'start': '263', 'end': '276', 'sentiment': 'positive'}, {'category': 'Food', 'mention': 'мясных', 'start': '293', 'end': '299', 'sentiment': 'positive'}, {'category': 'Whole', 'mention': 'бар', 'start': '338', 'end': '341', 'sentiment': 'both'}, {'category': 'Food', 'mention': 'попить', 'start': '384', 'end': '390', 'sentiment': 'positive'}, {'category': 'Food', 'mention': 'пива', 'start': '391', 'end': '395', 'sentiment': 'positive'}, {'category': 'Food', 'mention': 'пива', 'start': '403', 'end': '407', 'sentiment': 'positive'}, {'category': 'Whole', 'mention': 'место', 'start': '458', 'end': '463', 'sentiment': 'negative'}, {'category': 'Food', 'mention': 'алкоголь', 'start': '492', 'end': '500', 'sentiment': 'negative'}, {'category': 'Price', 'mention': 'дороже', 'start': '513', 'end': '519', 'sentiment': 'negative'}, {'category': 'Whole', 'mention': 'ресторанах', 'start': '536', 'end': '546', 'sentiment': 'positive'}, {'category': 'Service', 'mention': 'качество обслуживания', 'start': '581', 'end': '602', 'sentiment': 'positive'}, {'category': 'Interior', 'mention': 'живую музыку', 'start': '604', 'end': '616', 'sentiment': 'positive'}, {'category': 'Food', 'mention': 'набор блюд', 'start': '628', 'end': '638', 'sentiment': 'positive'}, {'category': 'Food', 'mention': 'крепких спиртных напитков', 'start': '667', 'end': '692', 'sentiment': 'positive'}, {'category': 'Interior', 'mention': 'обстановке', 'start': '752', 'end': '762', 'sentiment': 'positive'}], '16676': [{'category': 'Whole', 'mention': 'местечко', 'start': '12', 'end': '20', 'sentiment': 'neutral'}, {'category': 'Food', 'mention': 'поужинать', 'start': '34', 'end': '43', 'sentiment': 'neutral'}, {'category': 'Service', 'mention': 'Встретили', 'start': '45', 'end': '54', 'sentiment': 'positive'}, {'category': 'Service', 'mention': 'девушки', 'start': '67', 'end': '74', 'sentiment': 'positive'}, {'category': 'Interior', 'mention': 'Столик', 'start': '109', 'end': '115', 'sentiment': 'negative'}, {'category': 'Service', 'mention': 'проводили', 'start': '149', 'end': '158', 'sentiment': 'positive'}, {'category': 'Interior', 'mention': 'второй этаж', 'start': '162', 'end': '173', 'sentiment': 'neutral'}, {'category': 'Service', 'mention': 'предложили присесть', 'start': '176', 'end': '195', 'sentiment': 'positive'}, {'category': 'Service', 'mention': 'бронировать столик', 'start': '254', 'end': '272', 'sentiment': 'neutral'}, {'category': 'Service', 'mention': 'Официанты', 'start': '296', 'end': '305', 'sentiment': 'positive'}, {'category': 'Service', 'mention': 'смотрят за посетителями', 'start': '335', 'end': '358', 'sentiment': 'positive'}, {'category': 'Service', 'mention': 'ждать', 'start': '374', 'end': '379', 'sentiment': 'positive'}, {'category': 'Food', 'mention': 'Меню', 'start': '412', 'end': '416', 'sentiment': 'positive'}, {'category': 'Price', 'mention': 'ценам', 'start': '491', 'end': '496', 'sentiment': 'positive'}, {'category': 'Food', 'mention': 'попробовал', 'start': '531', 'end': '541', 'sentiment': 'positive'}, {'category': 'Food', 'mention': 'жареного осьминога', 'start': '542', 'end': '560', 'sentiment': 'positive'}, {'category': 'Interior', 'mention': 'Интерьер', 'start': '613', 'end': '621', 'sentiment': 'positive'}, {'category': 'Interior', 'mention': 'освещения', 'start': '649', 'end': '658', 'sentiment': 'negative'}, {'category': 'Interior', 'mention': 'свечи', 'start': '677', 'end': '682', 'sentiment': 'positive'}, {'category': 'Price', 'mention': 'недорогое', 'start': '773', 'end': '782', 'sentiment': 'positive'}, {'category': 'Whole', 'mention': 'местечко', 'start': '783', 'end': '791', 'sentiment': 'positive'}], '27925': [{'category': 'Whole', 'mention': 'ресторане', 'start': '131', 'end': '140', 'sentiment': 'neutral'}, {'category': 'Service', 'mention': 'Обслуживание', 'start': '142', 'end': '154', 'sentiment': 'positive'}, {'category': 'Service', 'mention': 'метрдотель', 'start': '176', 'end': '186', 'sentiment': 'positive'}, {'category': 'Service', 'mention': 'провёл до столика', 'start': '189', 'end': '206', 'sentiment': 'positive'}, {'category': 'Interior', 'mention': 'уголке', 'start': '252', 'end': '258', 'sentiment': 'positive'}, {'category': 'Interior', 'mention': 'зала', 'start': '276', 'end': '280', 'sentiment': 'positive'}, {'category': 'Interior', 'mention': 'свет', 'start': '295', 'end': '299', 'sentiment': 'positive'}, {'category': 'Service', 'mention': 'заказали', 'start': '517', 'end': '525', 'sentiment': 'neutral'}, {'category': 'Food', 'mention': 'блюд', 'start': '540', 'end': '544', 'sentiment': 'positive'}, {'category': 'Service', 'mention': 'заказала', 'start': '548', 'end': '556', 'sentiment': 'neutral'}, {'category': 'Food', 'mention': 'улитки', 'start': '562', 'end': '568', 'sentiment': 'positive'}, {'category': 'Service', 'mention': 'заказал', 'start': '654', 'end': '661', 'sentiment': 'neutral'}, {'category': 'Food', 'mention': 'блюда из мяса на мангале', 'start': '662', 'end': '686', 'sentiment': 'positive'}, {'category': 'Service', 'mention': 'заказали', 'start': '766', 'end': '774', 'sentiment': 'positive'}, {'category': 'Food', 'mention': 'мяса на мангале', 'start': '793', 'end': '808', 'sentiment': 'positive'}, {'category': 'Interior', 'mention': 'живая музыка', 'start': '882', 'end': '894', 'sentiment': 'positive'}, {'category': 'Interior', 'mention': 'танцев', 'start': '976', 'end': '982', 'sentiment': 'positive'}, {'category': 'Interior', 'mention': 'голос солистки', 'start': '1020', 'end': '1034', 'sentiment': 'positive'}, {'category': 'Whole', 'mention': 'вечером', 'start': '1089', 'end': '1096', 'sentiment': 'positive'}, {'category': 'Whole', 'mention': 'ресторане', 'start': '1104', 'end': '1113', 'sentiment': 'positive'}], '20397': [{'category': 'Whole', 'mention': 'Набережную', 'start': '23', 'end': '33', 'sentiment': 'positive'}, {'category': 'Whole', 'mention': 'проведенным вечером', 'start': '60', 'end': '79', 'sentiment': 'positive'}, {'category': 'Whole', 'mention': 'Ресторан', 'start': '143', 'end': '151', 'sentiment': 'positive'}, {'category': 'Interior', 'mention': 'столики', 'start': '217', 'end': '224', 'sentiment': 'positive'}, {'category': 'Food', 'mention': 'пиво', 'start': '385', 'end': '389', 'sentiment': 'positive'}, {'category': 'Food', 'mention': 'попробовали', 'start': '411', 'end': '422', 'sentiment': 'positive'}, {'category': 'Food', 'mention': 'Малиновое \"Аптекарское\"', 'start': '434', 'end': '457', 'sentiment': 'positive'}, {'category': 'Service', 'mention': 'Обслуживание', 'start': '479', 'end': '491', 'sentiment': 'positive'}, {'category': 'Food', 'mention': 'напитки', 'start': '520', 'end': '527', 'sentiment': 'positive'}, {'category': 'Service', 'mention': 'девушка', 'start': '561', 'end': '568', 'sentiment': 'positive'}, {'category': 'Service', 'mention': 'рассказала', 'start': '582', 'end': '592', 'sentiment': 'positive'}, {'category': 'Service', 'mention': 'советы по меню', 'start': '608', 'end': '622', 'sentiment': 'positive'}, {'category': 'Food', 'mention': 'Салаты', 'start': '686', 'end': '692', 'sentiment': 'positive'}, {'category': 'Food', 'mention': 'свинина с сыром Фета, фисташками и грибным соусом', 'start': '702', 'end': '751', 'sentiment': 'positive'}, {'category': 'Food', 'mention': 'Паста с морепродуктами', 'start': '776', 'end': '798', 'sentiment': 'positive'}, {'category': 'Food', 'mention': 'томатный соус', 'start': '842', 'end': '855', 'sentiment': 'positive'}, {'category': 'Food', 'mention': 'вкус', 'start': '864', 'end': '868', 'sentiment': 'positive'}, {'category': 'Food', 'mention': 'тимьяна', 'start': '878', 'end': '885', 'sentiment': 'positive'}, {'category': 'Food', 'mention': 'меню', 'start': '924', 'end': '928', 'sentiment': 'positive'}, {'category': 'Food', 'mention': 'блюд', 'start': '954', 'end': '958', 'sentiment': 'positive'}, {'category': 'Whole', 'mention': 'Набережную', 'start': '964', 'end': '974', 'sentiment': 'positive'}, {'category': 'Whole', 'mention': 'место', 'start': '1110', 'end': '1115', 'sentiment': 'positive'}], '343': [{'category': 'Whole', 'mention': 'ресторане', 'start': '24', 'end': '33', 'sentiment': 'neutral'}, {'category': 'Food', 'mention': 'Еда', 'start': '60', 'end': '63', 'sentiment': 'positive'}, {'category': 'Service', 'mention': 'официанты', 'start': '87', 'end': '96', 'sentiment': 'positive'}, {'category': 'Interior', 'mention': 'интерьер', 'start': '110', 'end': '118', 'sentiment': 'positive'}, {'category': 'Interior', 'mention': 'туалет с аквариумами', 'start': '159', 'end': '179', 'sentiment': 'positive'}, {'category': 'Interior', 'mention': 'видами из окна', 'start': '237', 'end': '251', 'sentiment': 'positive'}, {'category': 'Interior', 'mention': 'стулья', 'start': '299', 'end': '305', 'sentiment': 'negative'}, {'category': 'Service', 'mention': 'накладывали', 'start': '633', 'end': '644', 'sentiment': 'negative'}, {'category': 'Whole', 'mention': 'ресторан', 'start': '762', 'end': '770', 'sentiment': 'positive'}, {'category': 'Service', 'mention': 'завернули с собой', 'start': '811', 'end': '828', 'sentiment': 'positive'}, {'category': 'Service', 'mention': 'отдали', 'start': '831', 'end': '837', 'sentiment': 'positive'}], '6962': [{'category': 'Whole', 'mention': 'ресторан', 'start': '100', 'end': '108', 'sentiment': 'neutral'}, {'category': 'Service', 'mention': 'официант', 'start': '258', 'end': '266', 'sentiment': 'negative'}, {'category': 'Service', 'mention': 'администратор', 'start': '343', 'end': '356', 'sentiment': 'positive'}, {'category': 'Service', 'mention': 'обслужила', 'start': '369', 'end': '378', 'sentiment': 'positive'}, {'category': 'Whole', 'mention': 'ресторанах', 'start': '430', 'end': '440', 'sentiment': 'negative'}, {'category': 'Service', 'mention': 'админы', 'start': '488', 'end': '494', 'sentiment': 'negative'}, {'category': 'Service', 'mention': 'сервис', 'start': '501', 'end': '507', 'sentiment': 'positive'}, {'category': 'Service', 'mention': 'девушке', 'start': '566', 'end': '573', 'sentiment': 'positive'}, {'category': 'Food', 'mention': 'Кухня', 'start': '583', 'end': '588', 'sentiment': 'both'}, {'category': 'Food', 'mention': 'супа', 'start': '601', 'end': '605', 'sentiment': 'both'}, {'category': 'Food', 'mention': 'домашний куриный супчик', 'start': '607', 'end': '630', 'sentiment': 'positive'}, {'category': 'Food', 'mention': 'минестроне', 'start': '639', 'end': '649', 'sentiment': 'both'}, {'category': 'Food', 'mention': 'Салат \"Цезарь\"', 'start': '682', 'end': '696', 'sentiment': 'positive'}, {'category': 'Food', 'mention': 'основных блюд', 'start': '722', 'end': '735', 'sentiment': 'positive'}, {'category': 'Food', 'mention': 'мясное', 'start': '748', 'end': '754', 'sentiment': 'positive'}, {'category': 'Food', 'mention': 'морковь', 'start': '868', 'end': '875', 'sentiment': 'positive'}, {'category': 'Food', 'mention': 'комплимента-апперетива', 'start': '887', 'end': '909', 'sentiment': 'positive'}, {'category': 'Service', 'mention': 'официантами', 'start': '1030', 'end': '1041', 'sentiment': 'negative'}], '9878': [{'category': 'Whole', 'mention': 'заведение', 'start': '16', 'end': '25', 'sentiment': 'neutral'}, {'category': 'Food', 'mention': 'покушать', 'start': '43', 'end': '51', 'sentiment': 'neutral'}, {'category': 'Food', 'mention': 'шашлык', 'start': '52', 'end': '58', 'sentiment': 'neutral'}, {'category': 'Service', 'mention': 'Заказали', 'start': '62', 'end': '70', 'sentiment': 'neutral'}, {'category': 'Food', 'mention': 'говядины', 'start': '74', 'end': '82', 'sentiment': 'neutral'}, {'category': 'Food', 'mention': 'свинины', 'start': '85', 'end': '92', 'sentiment': 'neutral'}, {'category': 'Service', 'mention': 'ждали', 'start': '101', 'end': '106', 'sentiment': 'negative'}, {'category': 'Service', 'mention': 'человек', 'start': '143', 'end': '150', 'sentiment': 'negative'}, {'category': 'Service', 'mention': 'принесли', 'start': '247', 'end': '255', 'sentiment': 'negative'}, {'category': 'Food', 'mention': 'мясо', 'start': '265', 'end': '269', 'sentiment': 'negative'}, {'category': 'Food', 'mention': 'шашлык', 'start': '326', 'end': '332', 'sentiment': 'negative'}, {'category': 'Service', 'mention': 'мужчина', 'start': '380', 'end': '387', 'sentiment': 'negative'}, {'category': 'Food', 'mention': 'вкус', 'start': '420', 'end': '424', 'sentiment': 'negative'}, {'category': 'Whole', 'mention': 'заведение', 'start': '542', 'end': '551', 'sentiment': 'negative'}, {'category': 'Food', 'mention': 'еду', 'start': '625', 'end': '628', 'sentiment': 'negative'}, {'category': 'Whole', 'mention': 'заведения', 'start': '640', 'end': '649', 'sentiment': 'negative'}, {'category': 'Service', 'mention': 'счет нам принесли', 'start': '656', 'end': '673', 'sentiment': 'positive'}], '16630': [{'category': 'Interior', 'mention': 'обстановка', 'start': '25', 'end': '35', 'sentiment': 'positive'}, {'category': 'Service', 'mention': 'персонал', 'start': '56', 'end': '64', 'sentiment': 'positive'}, {'category': 'Service', 'mention': 'обслуживание', 'start': '85', 'end': '97', 'sentiment': 'positive'}, {'category': 'Food', 'mention': 'Еда', 'start': '99', 'end': '102', 'sentiment': 'positive'}, {'category': 'Service', 'mention': 'персоналу', 'start': '244', 'end': '253', 'sentiment': 'positive'}, {'category': 'Whole', 'mention': 'ресторан', 'start': '294', 'end': '302', 'sentiment': 'positive'}, {'category': 'Whole', 'mention': 'место', 'start': '315', 'end': '320', 'sentiment': 'positive'}]})\n"
          ]
        }
      ]
    },
    {
      "cell_type": "code",
      "source": [
        "def get_chunk(reviews, aspects, chunk_length=6):\n",
        "  chunks= []\n",
        "  ids = []\n",
        "  for i, text in enumerate(reviews.items()):\n",
        "    processed = nlp(text[1])\n",
        "    tokens = []\n",
        "    for t in processed.iter_tokens():\n",
        "      tokens.append(t.text)\n",
        "    for mention in aspects[text[0]]:\n",
        "      chunk=[]\n",
        "      start_chunk = []\n",
        "      end_chunk = []\n",
        "      start = mention['start']\n",
        "      end = mention['end']\n",
        "      for j, token in enumerate(processed.iter_tokens()):\n",
        "        if int(token.start_char) == int(start):\n",
        "          if j - chunk_length >= 0:\n",
        "            start_chunk = [tokens[j-item] for item in range(chunk_length, 0, -1)]\n",
        "            start_chunk.append(mention['mention'])\n",
        "            chunk = start_chunk \n",
        "          else:\n",
        "            start_chunk = [tokens[j-item] for item in range(j, 0, -1)]\n",
        "            start_chunk.append(mention['mention'])\n",
        "            chunk = start_chunk\n",
        "        if int(token.end_char) == int(end):\n",
        "          if j + chunk_length <= len(tokens)-1:\n",
        "            end_chunk = [tokens[j+item] for item in range(1, chunk_length+1)]\n",
        "            chunk.extend(end_chunk)\n",
        "          else:\n",
        "            end_chunk = [tokens[j+item] for item in range(1, len(tokens)-j)]\n",
        "            chunk.extend(end_chunk)\n",
        "      chunks.append(' '.join(chunk))\n",
        "      ids.append(text[0])\n",
        "  return ids, chunks"
      ],
      "metadata": {
        "id": "k_Zg0vJI2f-N"
      },
      "execution_count": 222,
      "outputs": []
    },
    {
      "cell_type": "code",
      "source": [
        "predicted = defaultdict(list)\n",
        "with open('dev_pred_asp_no_sent.txt') as f:\n",
        "  for line in f:\n",
        "    line = line.rstrip('\\r\\n').split('\\t')\n",
        "    keys = ('category', 'mention', 'start', 'end')\n",
        "    predicted[line[0]].append(dict(zip(keys, line[1:])))"
      ],
      "metadata": {
        "id": "QfsbM8IfHvv2"
      },
      "execution_count": 340,
      "outputs": []
    },
    {
      "cell_type": "code",
      "source": [
        "tokenizer = RegexTokenizer()\n",
        "model = FastTextSocialNetworkModel(tokenizer=tokenizer)\n",
        "\n",
        "ids, messages = get_chunk(dev_reviews, predicted)\n",
        "\n",
        "results = model.predict(messages, k = 5)\n",
        "\n",
        "sents = []\n",
        "for ids, sentiment in zip(ids, results):\n",
        "    del sentiment['skip']\n",
        "    del sentiment['speech']\n",
        "    #print(ids, max(sentiment, key=sentiment.get))\n",
        "    sents.append(max(sentiment, key=sentiment.get))"
      ],
      "metadata": {
        "colab": {
          "base_uri": "https://localhost:8080/"
        },
        "id": "fIUh6UqqatnF",
        "outputId": "db9494bc-29fc-4141-aae4-f879ab42a4c3"
      },
      "execution_count": 245,
      "outputs": [
        {
          "output_type": "stream",
          "name": "stderr",
          "text": [
            "Warning : `load_model` does not return WordVectorModel or SupervisedModel any more, but a `FastText` object which is very similar.\n"
          ]
        }
      ]
    },
    {
      "cell_type": "code",
      "source": [
        "len(sents)"
      ],
      "metadata": {
        "colab": {
          "base_uri": "https://localhost:8080/"
        },
        "id": "EB4ZDeRaHJa6",
        "outputId": "928fae73-e02b-4eaf-a122-ad1ec9947fb1"
      },
      "execution_count": 246,
      "outputs": [
        {
          "output_type": "execute_result",
          "data": {
            "text/plain": [
              "972"
            ]
          },
          "metadata": {},
          "execution_count": 246
        }
      ]
    },
    {
      "cell_type": "code",
      "source": [
        "pred['sentiment'] = sents"
      ],
      "metadata": {
        "id": "m0b6n62FGSyc"
      },
      "execution_count": 247,
      "outputs": []
    },
    {
      "cell_type": "code",
      "source": [
        "pred.head()"
      ],
      "metadata": {
        "colab": {
          "base_uri": "https://localhost:8080/",
          "height": 206
        },
        "id": "zBnkYF7fJlP7",
        "outputId": "bafc0914-a2f4-44a0-b707-8620f5885c8d"
      },
      "execution_count": 249,
      "outputs": [
        {
          "output_type": "execute_result",
          "data": {
            "text/plain": [
              "  text_id      tag               text  start  end sentiment\n",
              "0   13823    Whole        \" аппетит \"      7   16  negative\n",
              "1   13823  Service           встретил    138  146   neutral\n",
              "2   13823  Service           менеджер    147  155  positive\n",
              "3   13823  Service            девушка    179  186  negative\n",
              "4   13823  Service  проводила к столу    188  205  negative"
            ],
            "text/html": [
              "\n",
              "  <div id=\"df-1adf889d-b026-418f-bca3-55be16e8f301\">\n",
              "    <div class=\"colab-df-container\">\n",
              "      <div>\n",
              "<style scoped>\n",
              "    .dataframe tbody tr th:only-of-type {\n",
              "        vertical-align: middle;\n",
              "    }\n",
              "\n",
              "    .dataframe tbody tr th {\n",
              "        vertical-align: top;\n",
              "    }\n",
              "\n",
              "    .dataframe thead th {\n",
              "        text-align: right;\n",
              "    }\n",
              "</style>\n",
              "<table border=\"1\" class=\"dataframe\">\n",
              "  <thead>\n",
              "    <tr style=\"text-align: right;\">\n",
              "      <th></th>\n",
              "      <th>text_id</th>\n",
              "      <th>tag</th>\n",
              "      <th>text</th>\n",
              "      <th>start</th>\n",
              "      <th>end</th>\n",
              "      <th>sentiment</th>\n",
              "    </tr>\n",
              "  </thead>\n",
              "  <tbody>\n",
              "    <tr>\n",
              "      <th>0</th>\n",
              "      <td>13823</td>\n",
              "      <td>Whole</td>\n",
              "      <td>\" аппетит \"</td>\n",
              "      <td>7</td>\n",
              "      <td>16</td>\n",
              "      <td>negative</td>\n",
              "    </tr>\n",
              "    <tr>\n",
              "      <th>1</th>\n",
              "      <td>13823</td>\n",
              "      <td>Service</td>\n",
              "      <td>встретил</td>\n",
              "      <td>138</td>\n",
              "      <td>146</td>\n",
              "      <td>neutral</td>\n",
              "    </tr>\n",
              "    <tr>\n",
              "      <th>2</th>\n",
              "      <td>13823</td>\n",
              "      <td>Service</td>\n",
              "      <td>менеджер</td>\n",
              "      <td>147</td>\n",
              "      <td>155</td>\n",
              "      <td>positive</td>\n",
              "    </tr>\n",
              "    <tr>\n",
              "      <th>3</th>\n",
              "      <td>13823</td>\n",
              "      <td>Service</td>\n",
              "      <td>девушка</td>\n",
              "      <td>179</td>\n",
              "      <td>186</td>\n",
              "      <td>negative</td>\n",
              "    </tr>\n",
              "    <tr>\n",
              "      <th>4</th>\n",
              "      <td>13823</td>\n",
              "      <td>Service</td>\n",
              "      <td>проводила к столу</td>\n",
              "      <td>188</td>\n",
              "      <td>205</td>\n",
              "      <td>negative</td>\n",
              "    </tr>\n",
              "  </tbody>\n",
              "</table>\n",
              "</div>\n",
              "      <button class=\"colab-df-convert\" onclick=\"convertToInteractive('df-1adf889d-b026-418f-bca3-55be16e8f301')\"\n",
              "              title=\"Convert this dataframe to an interactive table.\"\n",
              "              style=\"display:none;\">\n",
              "        \n",
              "  <svg xmlns=\"http://www.w3.org/2000/svg\" height=\"24px\"viewBox=\"0 0 24 24\"\n",
              "       width=\"24px\">\n",
              "    <path d=\"M0 0h24v24H0V0z\" fill=\"none\"/>\n",
              "    <path d=\"M18.56 5.44l.94 2.06.94-2.06 2.06-.94-2.06-.94-.94-2.06-.94 2.06-2.06.94zm-11 1L8.5 8.5l.94-2.06 2.06-.94-2.06-.94L8.5 2.5l-.94 2.06-2.06.94zm10 10l.94 2.06.94-2.06 2.06-.94-2.06-.94-.94-2.06-.94 2.06-2.06.94z\"/><path d=\"M17.41 7.96l-1.37-1.37c-.4-.4-.92-.59-1.43-.59-.52 0-1.04.2-1.43.59L10.3 9.45l-7.72 7.72c-.78.78-.78 2.05 0 2.83L4 21.41c.39.39.9.59 1.41.59.51 0 1.02-.2 1.41-.59l7.78-7.78 2.81-2.81c.8-.78.8-2.07 0-2.86zM5.41 20L4 18.59l7.72-7.72 1.47 1.35L5.41 20z\"/>\n",
              "  </svg>\n",
              "      </button>\n",
              "      \n",
              "  <style>\n",
              "    .colab-df-container {\n",
              "      display:flex;\n",
              "      flex-wrap:wrap;\n",
              "      gap: 12px;\n",
              "    }\n",
              "\n",
              "    .colab-df-convert {\n",
              "      background-color: #E8F0FE;\n",
              "      border: none;\n",
              "      border-radius: 50%;\n",
              "      cursor: pointer;\n",
              "      display: none;\n",
              "      fill: #1967D2;\n",
              "      height: 32px;\n",
              "      padding: 0 0 0 0;\n",
              "      width: 32px;\n",
              "    }\n",
              "\n",
              "    .colab-df-convert:hover {\n",
              "      background-color: #E2EBFA;\n",
              "      box-shadow: 0px 1px 2px rgba(60, 64, 67, 0.3), 0px 1px 3px 1px rgba(60, 64, 67, 0.15);\n",
              "      fill: #174EA6;\n",
              "    }\n",
              "\n",
              "    [theme=dark] .colab-df-convert {\n",
              "      background-color: #3B4455;\n",
              "      fill: #D2E3FC;\n",
              "    }\n",
              "\n",
              "    [theme=dark] .colab-df-convert:hover {\n",
              "      background-color: #434B5C;\n",
              "      box-shadow: 0px 1px 3px 1px rgba(0, 0, 0, 0.15);\n",
              "      filter: drop-shadow(0px 1px 2px rgba(0, 0, 0, 0.3));\n",
              "      fill: #FFFFFF;\n",
              "    }\n",
              "  </style>\n",
              "\n",
              "      <script>\n",
              "        const buttonEl =\n",
              "          document.querySelector('#df-1adf889d-b026-418f-bca3-55be16e8f301 button.colab-df-convert');\n",
              "        buttonEl.style.display =\n",
              "          google.colab.kernel.accessAllowed ? 'block' : 'none';\n",
              "\n",
              "        async function convertToInteractive(key) {\n",
              "          const element = document.querySelector('#df-1adf889d-b026-418f-bca3-55be16e8f301');\n",
              "          const dataTable =\n",
              "            await google.colab.kernel.invokeFunction('convertToInteractive',\n",
              "                                                     [key], {});\n",
              "          if (!dataTable) return;\n",
              "\n",
              "          const docLinkHtml = 'Like what you see? Visit the ' +\n",
              "            '<a target=\"_blank\" href=https://colab.research.google.com/notebooks/data_table.ipynb>data table notebook</a>'\n",
              "            + ' to learn more about interactive tables.';\n",
              "          element.innerHTML = '';\n",
              "          dataTable['output_type'] = 'display_data';\n",
              "          await google.colab.output.renderOutput(dataTable, element);\n",
              "          const docLink = document.createElement('div');\n",
              "          docLink.innerHTML = docLinkHtml;\n",
              "          element.appendChild(docLink);\n",
              "        }\n",
              "      </script>\n",
              "    </div>\n",
              "  </div>\n",
              "  "
            ]
          },
          "metadata": {},
          "execution_count": 249
        }
      ]
    },
    {
      "cell_type": "code",
      "source": [
        "with open('dev_pred_aspects.txt', 'w') as f:\n",
        "  for text_id, tag, text, start, end, sentiment in zip(pred['text_id'], pred['tag'], pred['text'], pred['start'], pred['end'], pred['sentiment']):\n",
        "      print(text_id, tag, text, start, end, sentiment, sep=\"\\t\", file=f)"
      ],
      "metadata": {
        "id": "Q_S8z5bMJwCI"
      },
      "execution_count": 252,
      "outputs": []
    },
    {
      "cell_type": "markdown",
      "source": [
        "#3 Общая оценка"
      ],
      "metadata": {
        "id": "y7sQ9COmQm13"
      }
    },
    {
      "cell_type": "code",
      "source": [
        "pred.loc[pred['sentiment'] == 'negative', 'sentiment'] = -1\n",
        "pred.loc[pred['sentiment'] == 'neutral', 'sentiment'] = 0\n",
        "pred.loc[pred['sentiment'] == 'positive', 'sentiment'] = 1"
      ],
      "metadata": {
        "id": "F7kIee8_KVyd"
      },
      "execution_count": 270,
      "outputs": []
    },
    {
      "cell_type": "code",
      "source": [
        "def cats_total(pred):\n",
        "  cats_total = []\n",
        "  text_ids = pred['text_id'].unique()\n",
        "  total_ids = []\n",
        "  for i in text_ids:\n",
        "    cats = {'Whole':0, 'Service':0, 'Food':0, 'Interior':0, 'Price':0}\n",
        "    for key in cats.keys():\n",
        "      total_ids.append(i)\n",
        "      if len(pred.loc[(pred['text_id'] == i)&(pred['tag'] == key)]) > 0:\n",
        "        upd_sum = pred.loc[(pred['text_id'] == i)&(pred['tag'] == key)]['sentiment'].sum()\n",
        "        cats[key] = upd_sum\n",
        "      else:\n",
        "        cats[key] = 'absence'\n",
        "    for k, v in cats.items():\n",
        "      if type(v) != str:\n",
        "        if v > 0:\n",
        "          cats[k] = 'positive'\n",
        "        elif v == 0:\n",
        "          cats[k] = 'neutral'\n",
        "        elif v <0:\n",
        "          cats[k] = 'negative'\n",
        "    cats_total.append(cats)\n",
        "  return total_ids, cats_total"
      ],
      "metadata": {
        "id": "n4_3kPm-Mtn8"
      },
      "execution_count": 333,
      "outputs": []
    },
    {
      "cell_type": "code",
      "source": [
        "text_ids, pred_cats = cats_total(pred)\n",
        "df = pd.DataFrame([(i, j) for a in pred_cats for i, j in a.items()],columns=['category', 'sentiment'])\n",
        "df.insert(loc=0, column='text_id', value=text_ids)"
      ],
      "metadata": {
        "id": "UDCgVnbyTCxf"
      },
      "execution_count": 334,
      "outputs": []
    },
    {
      "cell_type": "code",
      "source": [
        "df.to_csv('dev_pred_cats', sep='\\t', header=False, index=False)"
      ],
      "metadata": {
        "id": "MYcUrtT9Y_I_"
      },
      "execution_count": 337,
      "outputs": []
    }
  ]
}